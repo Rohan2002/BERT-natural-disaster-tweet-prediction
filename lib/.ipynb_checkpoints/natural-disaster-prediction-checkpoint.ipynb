{
 "cells": [
  {
   "cell_type": "code",
   "execution_count": 246,
   "metadata": {},
   "outputs": [
    {
     "data": {
      "application/javascript": [
       "\n",
       "            setTimeout(function() {\n",
       "                var nbb_cell_id = 246;\n",
       "                var nbb_unformatted_code = \"import pandas as pd\\nimport numpy as np\\nimport seaborn as sns\\nimport nltk\\nimport os\\nimport matplotlib.pyplot as plt\\nfrom matplotlib import pylab\\nimport emoji\";\n",
       "                var nbb_formatted_code = \"import pandas as pd\\nimport numpy as np\\nimport seaborn as sns\\nimport nltk\\nimport os\\nimport matplotlib.pyplot as plt\\nfrom matplotlib import pylab\\nimport emoji\";\n",
       "                var nbb_cells = Jupyter.notebook.get_cells();\n",
       "                for (var i = 0; i < nbb_cells.length; ++i) {\n",
       "                    if (nbb_cells[i].input_prompt_number == nbb_cell_id) {\n",
       "                        if (nbb_cells[i].get_text() == nbb_unformatted_code) {\n",
       "                             nbb_cells[i].set_text(nbb_formatted_code);\n",
       "                        }\n",
       "                        break;\n",
       "                    }\n",
       "                }\n",
       "            }, 500);\n",
       "            "
      ],
      "text/plain": [
       "<IPython.core.display.Javascript object>"
      ]
     },
     "metadata": {},
     "output_type": "display_data"
    }
   ],
   "source": [
    "import pandas as pd\n",
    "import numpy as np\n",
    "import seaborn as sns\n",
    "import nltk\n",
    "import os\n",
    "import matplotlib.pyplot as plt\n",
    "from matplotlib import pylab\n",
    "import emoji"
   ]
  },
  {
   "cell_type": "code",
   "execution_count": 228,
   "metadata": {},
   "outputs": [
    {
     "name": "stdout",
     "output_type": "stream",
     "text": [
      "The nb_black extension is already loaded. To reload it, use:\n",
      "  %reload_ext nb_black\n"
     ]
    },
    {
     "data": {
      "application/javascript": [
       "\n",
       "            setTimeout(function() {\n",
       "                var nbb_cell_id = 228;\n",
       "                var nbb_unformatted_code = \"%config IPCompleter.greedy=True\\n%matplotlib inline\\n%load_ext nb_black\";\n",
       "                var nbb_formatted_code = \"%config IPCompleter.greedy=True\\n%matplotlib inline\\n%load_ext nb_black\";\n",
       "                var nbb_cells = Jupyter.notebook.get_cells();\n",
       "                for (var i = 0; i < nbb_cells.length; ++i) {\n",
       "                    if (nbb_cells[i].input_prompt_number == nbb_cell_id) {\n",
       "                        if (nbb_cells[i].get_text() == nbb_unformatted_code) {\n",
       "                             nbb_cells[i].set_text(nbb_formatted_code);\n",
       "                        }\n",
       "                        break;\n",
       "                    }\n",
       "                }\n",
       "            }, 500);\n",
       "            "
      ],
      "text/plain": [
       "<IPython.core.display.Javascript object>"
      ]
     },
     "metadata": {},
     "output_type": "display_data"
    }
   ],
   "source": [
    "%config IPCompleter.greedy=True\n",
    "%matplotlib inline\n",
    "%load_ext nb_black"
   ]
  },
  {
   "cell_type": "code",
   "execution_count": 229,
   "metadata": {},
   "outputs": [
    {
     "data": {
      "application/javascript": [
       "\n",
       "            setTimeout(function() {\n",
       "                var nbb_cell_id = 229;\n",
       "                var nbb_unformatted_code = \"# Constants\\ncurr_dir = \\\"..\\\"\\ntrain_file = os.path.join(curr_dir, \\\"dataset\\\", \\\"train.csv\\\")\\ntest_file = os.path.join(curr_dir, \\\"dataset\\\", \\\"test.csv\\\")\";\n",
       "                var nbb_formatted_code = \"# Constants\\ncurr_dir = \\\"..\\\"\\ntrain_file = os.path.join(curr_dir, \\\"dataset\\\", \\\"train.csv\\\")\\ntest_file = os.path.join(curr_dir, \\\"dataset\\\", \\\"test.csv\\\")\";\n",
       "                var nbb_cells = Jupyter.notebook.get_cells();\n",
       "                for (var i = 0; i < nbb_cells.length; ++i) {\n",
       "                    if (nbb_cells[i].input_prompt_number == nbb_cell_id) {\n",
       "                        if (nbb_cells[i].get_text() == nbb_unformatted_code) {\n",
       "                             nbb_cells[i].set_text(nbb_formatted_code);\n",
       "                        }\n",
       "                        break;\n",
       "                    }\n",
       "                }\n",
       "            }, 500);\n",
       "            "
      ],
      "text/plain": [
       "<IPython.core.display.Javascript object>"
      ]
     },
     "metadata": {},
     "output_type": "display_data"
    }
   ],
   "source": [
    "# Constants\n",
    "curr_dir = \"..\"\n",
    "train_file = os.path.join(curr_dir, \"dataset\", \"train.csv\")\n",
    "test_file = os.path.join(curr_dir, \"dataset\", \"test.csv\")"
   ]
  },
  {
   "cell_type": "code",
   "execution_count": 230,
   "metadata": {},
   "outputs": [
    {
     "data": {
      "application/javascript": [
       "\n",
       "            setTimeout(function() {\n",
       "                var nbb_cell_id = 230;\n",
       "                var nbb_unformatted_code = \"params = {\\n    \\\"legend.fontsize\\\": \\\"x-large\\\",\\n    \\\"figure.figsize\\\": (16, 5),\\n    \\\"axes.labelsize\\\": \\\"x-large\\\",\\n    \\\"axes.titlesize\\\": \\\"x-large\\\",\\n    \\\"xtick.labelsize\\\": \\\"x-large\\\",\\n    \\\"ytick.labelsize\\\": \\\"x-large\\\",\\n}\\npylab.rcParams.update(params)\\nsns.set_theme(style=\\\"darkgrid\\\")\";\n",
       "                var nbb_formatted_code = \"params = {\\n    \\\"legend.fontsize\\\": \\\"x-large\\\",\\n    \\\"figure.figsize\\\": (16, 5),\\n    \\\"axes.labelsize\\\": \\\"x-large\\\",\\n    \\\"axes.titlesize\\\": \\\"x-large\\\",\\n    \\\"xtick.labelsize\\\": \\\"x-large\\\",\\n    \\\"ytick.labelsize\\\": \\\"x-large\\\",\\n}\\npylab.rcParams.update(params)\\nsns.set_theme(style=\\\"darkgrid\\\")\";\n",
       "                var nbb_cells = Jupyter.notebook.get_cells();\n",
       "                for (var i = 0; i < nbb_cells.length; ++i) {\n",
       "                    if (nbb_cells[i].input_prompt_number == nbb_cell_id) {\n",
       "                        if (nbb_cells[i].get_text() == nbb_unformatted_code) {\n",
       "                             nbb_cells[i].set_text(nbb_formatted_code);\n",
       "                        }\n",
       "                        break;\n",
       "                    }\n",
       "                }\n",
       "            }, 500);\n",
       "            "
      ],
      "text/plain": [
       "<IPython.core.display.Javascript object>"
      ]
     },
     "metadata": {},
     "output_type": "display_data"
    }
   ],
   "source": [
    "params = {\n",
    "    \"legend.fontsize\": \"x-large\",\n",
    "    \"figure.figsize\": (16, 5),\n",
    "    \"axes.labelsize\": \"x-large\",\n",
    "    \"axes.titlesize\": \"x-large\",\n",
    "    \"xtick.labelsize\": \"x-large\",\n",
    "    \"ytick.labelsize\": \"x-large\",\n",
    "}\n",
    "pylab.rcParams.update(params)\n",
    "sns.set_theme(style=\"darkgrid\")"
   ]
  },
  {
   "cell_type": "code",
   "execution_count": 231,
   "metadata": {},
   "outputs": [
    {
     "data": {
      "text/html": [
       "<div>\n",
       "<style scoped>\n",
       "    .dataframe tbody tr th:only-of-type {\n",
       "        vertical-align: middle;\n",
       "    }\n",
       "\n",
       "    .dataframe tbody tr th {\n",
       "        vertical-align: top;\n",
       "    }\n",
       "\n",
       "    .dataframe thead th {\n",
       "        text-align: right;\n",
       "    }\n",
       "</style>\n",
       "<table border=\"1\" class=\"dataframe\">\n",
       "  <thead>\n",
       "    <tr style=\"text-align: right;\">\n",
       "      <th></th>\n",
       "      <th>id</th>\n",
       "      <th>keyword</th>\n",
       "      <th>location</th>\n",
       "      <th>text</th>\n",
       "      <th>target</th>\n",
       "    </tr>\n",
       "  </thead>\n",
       "  <tbody>\n",
       "    <tr>\n",
       "      <th>0</th>\n",
       "      <td>1</td>\n",
       "      <td>NaN</td>\n",
       "      <td>NaN</td>\n",
       "      <td>Our Deeds are the Reason of this #earthquake M...</td>\n",
       "      <td>1</td>\n",
       "    </tr>\n",
       "    <tr>\n",
       "      <th>1</th>\n",
       "      <td>4</td>\n",
       "      <td>NaN</td>\n",
       "      <td>NaN</td>\n",
       "      <td>Forest fire near La Ronge Sask. Canada</td>\n",
       "      <td>1</td>\n",
       "    </tr>\n",
       "    <tr>\n",
       "      <th>2</th>\n",
       "      <td>5</td>\n",
       "      <td>NaN</td>\n",
       "      <td>NaN</td>\n",
       "      <td>All residents asked to 'shelter in place' are ...</td>\n",
       "      <td>1</td>\n",
       "    </tr>\n",
       "    <tr>\n",
       "      <th>3</th>\n",
       "      <td>6</td>\n",
       "      <td>NaN</td>\n",
       "      <td>NaN</td>\n",
       "      <td>13,000 people receive #wildfires evacuation or...</td>\n",
       "      <td>1</td>\n",
       "    </tr>\n",
       "    <tr>\n",
       "      <th>4</th>\n",
       "      <td>7</td>\n",
       "      <td>NaN</td>\n",
       "      <td>NaN</td>\n",
       "      <td>Just got sent this photo from Ruby #Alaska as ...</td>\n",
       "      <td>1</td>\n",
       "    </tr>\n",
       "  </tbody>\n",
       "</table>\n",
       "</div>"
      ],
      "text/plain": [
       "   id keyword location                                               text  \\\n",
       "0   1     NaN      NaN  Our Deeds are the Reason of this #earthquake M...   \n",
       "1   4     NaN      NaN             Forest fire near La Ronge Sask. Canada   \n",
       "2   5     NaN      NaN  All residents asked to 'shelter in place' are ...   \n",
       "3   6     NaN      NaN  13,000 people receive #wildfires evacuation or...   \n",
       "4   7     NaN      NaN  Just got sent this photo from Ruby #Alaska as ...   \n",
       "\n",
       "   target  \n",
       "0       1  \n",
       "1       1  \n",
       "2       1  \n",
       "3       1  \n",
       "4       1  "
      ]
     },
     "execution_count": 231,
     "metadata": {},
     "output_type": "execute_result"
    },
    {
     "data": {
      "application/javascript": [
       "\n",
       "            setTimeout(function() {\n",
       "                var nbb_cell_id = 231;\n",
       "                var nbb_unformatted_code = \"df = pd.read_csv(train_file)\\ndf.head()\";\n",
       "                var nbb_formatted_code = \"df = pd.read_csv(train_file)\\ndf.head()\";\n",
       "                var nbb_cells = Jupyter.notebook.get_cells();\n",
       "                for (var i = 0; i < nbb_cells.length; ++i) {\n",
       "                    if (nbb_cells[i].input_prompt_number == nbb_cell_id) {\n",
       "                        if (nbb_cells[i].get_text() == nbb_unformatted_code) {\n",
       "                             nbb_cells[i].set_text(nbb_formatted_code);\n",
       "                        }\n",
       "                        break;\n",
       "                    }\n",
       "                }\n",
       "            }, 500);\n",
       "            "
      ],
      "text/plain": [
       "<IPython.core.display.Javascript object>"
      ]
     },
     "metadata": {},
     "output_type": "display_data"
    }
   ],
   "source": [
    "df = pd.read_csv(train_file)\n",
    "df.head()"
   ]
  },
  {
   "cell_type": "code",
   "execution_count": 232,
   "metadata": {},
   "outputs": [
    {
     "name": "stdout",
     "output_type": "stream",
     "text": [
      "<class 'pandas.core.frame.DataFrame'>\n",
      "RangeIndex: 7613 entries, 0 to 7612\n",
      "Data columns (total 5 columns):\n",
      " #   Column    Non-Null Count  Dtype \n",
      "---  ------    --------------  ----- \n",
      " 0   id        7613 non-null   int64 \n",
      " 1   keyword   7552 non-null   object\n",
      " 2   location  5080 non-null   object\n",
      " 3   text      7613 non-null   object\n",
      " 4   target    7613 non-null   int64 \n",
      "dtypes: int64(2), object(3)\n",
      "memory usage: 297.5+ KB\n"
     ]
    },
    {
     "data": {
      "application/javascript": [
       "\n",
       "            setTimeout(function() {\n",
       "                var nbb_cell_id = 232;\n",
       "                var nbb_unformatted_code = \"df.info()\";\n",
       "                var nbb_formatted_code = \"df.info()\";\n",
       "                var nbb_cells = Jupyter.notebook.get_cells();\n",
       "                for (var i = 0; i < nbb_cells.length; ++i) {\n",
       "                    if (nbb_cells[i].input_prompt_number == nbb_cell_id) {\n",
       "                        if (nbb_cells[i].get_text() == nbb_unformatted_code) {\n",
       "                             nbb_cells[i].set_text(nbb_formatted_code);\n",
       "                        }\n",
       "                        break;\n",
       "                    }\n",
       "                }\n",
       "            }, 500);\n",
       "            "
      ],
      "text/plain": [
       "<IPython.core.display.Javascript object>"
      ]
     },
     "metadata": {},
     "output_type": "display_data"
    }
   ],
   "source": [
    "df.info()"
   ]
  },
  {
   "cell_type": "code",
   "execution_count": 233,
   "metadata": {},
   "outputs": [
    {
     "data": {
      "text/plain": [
       "id             0\n",
       "keyword       61\n",
       "location    2533\n",
       "text           0\n",
       "target         0\n",
       "dtype: int64"
      ]
     },
     "execution_count": 233,
     "metadata": {},
     "output_type": "execute_result"
    },
    {
     "data": {
      "application/javascript": [
       "\n",
       "            setTimeout(function() {\n",
       "                var nbb_cell_id = 233;\n",
       "                var nbb_unformatted_code = \"df.isnull().sum()\";\n",
       "                var nbb_formatted_code = \"df.isnull().sum()\";\n",
       "                var nbb_cells = Jupyter.notebook.get_cells();\n",
       "                for (var i = 0; i < nbb_cells.length; ++i) {\n",
       "                    if (nbb_cells[i].input_prompt_number == nbb_cell_id) {\n",
       "                        if (nbb_cells[i].get_text() == nbb_unformatted_code) {\n",
       "                             nbb_cells[i].set_text(nbb_formatted_code);\n",
       "                        }\n",
       "                        break;\n",
       "                    }\n",
       "                }\n",
       "            }, 500);\n",
       "            "
      ],
      "text/plain": [
       "<IPython.core.display.Javascript object>"
      ]
     },
     "metadata": {},
     "output_type": "display_data"
    }
   ],
   "source": [
    "df.isnull().sum()"
   ]
  },
  {
   "cell_type": "code",
   "execution_count": 234,
   "metadata": {},
   "outputs": [
    {
     "data": {
      "application/javascript": [
       "\n",
       "            setTimeout(function() {\n",
       "                var nbb_cell_id = 234;\n",
       "                var nbb_unformatted_code = \"def plotBarGraph(data, labelx, labely, title, switch_axis=False):\\n    y = data.index.tolist()\\n    x = data.tolist()\\n    if switch_axis:\\n        x = data.index.tolist()\\n        y = data.tolist()\\n    sns.barplot(y=y, x=x)\\n    plt.title(title)\\n    plt.xlabel(labelx)\\n    plt.ylabel(labely)\\n    plt.show()\";\n",
       "                var nbb_formatted_code = \"def plotBarGraph(data, labelx, labely, title, switch_axis=False):\\n    y = data.index.tolist()\\n    x = data.tolist()\\n    if switch_axis:\\n        x = data.index.tolist()\\n        y = data.tolist()\\n    sns.barplot(y=y, x=x)\\n    plt.title(title)\\n    plt.xlabel(labelx)\\n    plt.ylabel(labely)\\n    plt.show()\";\n",
       "                var nbb_cells = Jupyter.notebook.get_cells();\n",
       "                for (var i = 0; i < nbb_cells.length; ++i) {\n",
       "                    if (nbb_cells[i].input_prompt_number == nbb_cell_id) {\n",
       "                        if (nbb_cells[i].get_text() == nbb_unformatted_code) {\n",
       "                             nbb_cells[i].set_text(nbb_formatted_code);\n",
       "                        }\n",
       "                        break;\n",
       "                    }\n",
       "                }\n",
       "            }, 500);\n",
       "            "
      ],
      "text/plain": [
       "<IPython.core.display.Javascript object>"
      ]
     },
     "metadata": {},
     "output_type": "display_data"
    }
   ],
   "source": [
    "def plotBarGraph(data, labelx, labely, title, switch_axis=False):\n",
    "    y = data.index.tolist()\n",
    "    x = data.tolist()\n",
    "    if switch_axis:\n",
    "        x = data.index.tolist()\n",
    "        y = data.tolist()\n",
    "    sns.barplot(y=y, x=x)\n",
    "    plt.title(title)\n",
    "    plt.xlabel(labelx)\n",
    "    plt.ylabel(labely)\n",
    "    plt.show()"
   ]
  },
  {
   "cell_type": "code",
   "execution_count": 235,
   "metadata": {},
   "outputs": [
    {
     "data": {
      "image/png": "[encoded data removed]",
      "text/plain": [
       "<Figure size 1152x360 with 1 Axes>"
      ]
     },
     "metadata": {},
     "output_type": "display_data"
    },
    {
     "data": {
      "application/javascript": [
       "\n",
       "            setTimeout(function() {\n",
       "                var nbb_cell_id = 235;\n",
       "                var nbb_unformatted_code = \"locations_map = df.location.value_counts().sort_values(ascending=False)[:10]\\nplotBarGraph(locations_map, \\\"Frequency\\\", \\\"Countries\\\", \\\"Tweet locations\\\")\";\n",
       "                var nbb_formatted_code = \"locations_map = df.location.value_counts().sort_values(ascending=False)[:10]\\nplotBarGraph(locations_map, \\\"Frequency\\\", \\\"Countries\\\", \\\"Tweet locations\\\")\";\n",
       "                var nbb_cells = Jupyter.notebook.get_cells();\n",
       "                for (var i = 0; i < nbb_cells.length; ++i) {\n",
       "                    if (nbb_cells[i].input_prompt_number == nbb_cell_id) {\n",
       "                        if (nbb_cells[i].get_text() == nbb_unformatted_code) {\n",
       "                             nbb_cells[i].set_text(nbb_formatted_code);\n",
       "                        }\n",
       "                        break;\n",
       "                    }\n",
       "                }\n",
       "            }, 500);\n",
       "            "
      ],
      "text/plain": [
       "<IPython.core.display.Javascript object>"
      ]
     },
     "metadata": {},
     "output_type": "display_data"
    }
   ],
   "source": [
    "locations_map = df.location.value_counts().sort_values(ascending=False)[:10]\n",
    "plotBarGraph(locations_map, \"Frequency\", \"Countries\", \"Tweet locations\")"
   ]
  },
  {
   "cell_type": "code",
   "execution_count": 236,
   "metadata": {},
   "outputs": [
    {
     "data": {
      "image/png": "[encoded data removed]",
      "text/plain": [
       "<Figure size 1152x360 with 1 Axes>"
      ]
     },
     "metadata": {},
     "output_type": "display_data"
    },
    {
     "data": {
      "application/javascript": [
       "\n",
       "            setTimeout(function() {\n",
       "                var nbb_cell_id = 236;\n",
       "                var nbb_unformatted_code = \"# Top 20 Disaster related Keywords\\nkeywords_map = (\\n    df.keyword.loc[df.target == 1].value_counts().sort_values(ascending=False)[:20]\\n)\\nplotBarGraph(keywords_map, \\\"Frequency\\\", \\\"Keywords\\\", \\\"Top 20 disaster related keywords\\\")\";\n",
       "                var nbb_formatted_code = \"# Top 20 Disaster related Keywords\\nkeywords_map = (\\n    df.keyword.loc[df.target == 1].value_counts().sort_values(ascending=False)[:20]\\n)\\nplotBarGraph(keywords_map, \\\"Frequency\\\", \\\"Keywords\\\", \\\"Top 20 disaster related keywords\\\")\";\n",
       "                var nbb_cells = Jupyter.notebook.get_cells();\n",
       "                for (var i = 0; i < nbb_cells.length; ++i) {\n",
       "                    if (nbb_cells[i].input_prompt_number == nbb_cell_id) {\n",
       "                        if (nbb_cells[i].get_text() == nbb_unformatted_code) {\n",
       "                             nbb_cells[i].set_text(nbb_formatted_code);\n",
       "                        }\n",
       "                        break;\n",
       "                    }\n",
       "                }\n",
       "            }, 500);\n",
       "            "
      ],
      "text/plain": [
       "<IPython.core.display.Javascript object>"
      ]
     },
     "metadata": {},
     "output_type": "display_data"
    }
   ],
   "source": [
    "# Top 20 Disaster related Keywords\n",
    "keywords_map = (\n",
    "    df.keyword.loc[df.target == 1].value_counts().sort_values(ascending=False)[:20]\n",
    ")\n",
    "plotBarGraph(keywords_map, \"Frequency\", \"Keywords\", \"Top 20 disaster related keywords\")"
   ]
  },
  {
   "cell_type": "code",
   "execution_count": 237,
   "metadata": {},
   "outputs": [
    {
     "data": {
      "image/png": "[encoded data removed]",
      "text/plain": [
       "<Figure size 1152x360 with 1 Axes>"
      ]
     },
     "metadata": {},
     "output_type": "display_data"
    },
    {
     "data": {
      "application/javascript": [
       "\n",
       "            setTimeout(function() {\n",
       "                var nbb_cell_id = 237;\n",
       "                var nbb_unformatted_code = \"# Top 20 Non-Disaster related Keywords\\nkeywords_non_disaster_map = df.keyword.loc[df.target == 0].value_counts(\\n    ascending=False\\n)[:20]\\nplotBarGraph(\\n    keywords_non_disaster_map,\\n    \\\"Frequency\\\",\\n    \\\"Keywords\\\",\\n    \\\"Top 20 non-disaster related keywords\\\",\\n)\";\n",
       "                var nbb_formatted_code = \"# Top 20 Non-Disaster related Keywords\\nkeywords_non_disaster_map = df.keyword.loc[df.target == 0].value_counts(\\n    ascending=False\\n)[:20]\\nplotBarGraph(\\n    keywords_non_disaster_map,\\n    \\\"Frequency\\\",\\n    \\\"Keywords\\\",\\n    \\\"Top 20 non-disaster related keywords\\\",\\n)\";\n",
       "                var nbb_cells = Jupyter.notebook.get_cells();\n",
       "                for (var i = 0; i < nbb_cells.length; ++i) {\n",
       "                    if (nbb_cells[i].input_prompt_number == nbb_cell_id) {\n",
       "                        if (nbb_cells[i].get_text() == nbb_unformatted_code) {\n",
       "                             nbb_cells[i].set_text(nbb_formatted_code);\n",
       "                        }\n",
       "                        break;\n",
       "                    }\n",
       "                }\n",
       "            }, 500);\n",
       "            "
      ],
      "text/plain": [
       "<IPython.core.display.Javascript object>"
      ]
     },
     "metadata": {},
     "output_type": "display_data"
    }
   ],
   "source": [
    "# Top 20 Non-Disaster related Keywords\n",
    "keywords_non_disaster_map = df.keyword.loc[df.target == 0].value_counts(\n",
    "    ascending=False\n",
    ")[:20]\n",
    "plotBarGraph(\n",
    "    keywords_non_disaster_map,\n",
    "    \"Frequency\",\n",
    "    \"Keywords\",\n",
    "    \"Top 20 non-disaster related keywords\",\n",
    ")"
   ]
  },
  {
   "cell_type": "code",
   "execution_count": 238,
   "metadata": {},
   "outputs": [
    {
     "name": "stdout",
     "output_type": "stream",
     "text": [
      "In the graphs(Top 20 disaster keywords and non-disaster keywords) above\n",
      " we see that disaster keywords are natural or artificial calamilites.\n",
      "While non-disaster keywords are too generalized keywords and not sufficient to describe a disaster.\n"
     ]
    },
    {
     "data": {
      "application/javascript": [
       "\n",
       "            setTimeout(function() {\n",
       "                var nbb_cell_id = 238;\n",
       "                var nbb_unformatted_code = \"print(\\n    \\\"In the graphs(Top 20 disaster keywords and non-disaster keywords) above\\\\n we see that disaster keywords are natural or artificial calamilites.\\\\nWhile non-disaster keywords are too generalized keywords and not sufficient to describe a disaster.\\\"\\n)\";\n",
       "                var nbb_formatted_code = \"print(\\n    \\\"In the graphs(Top 20 disaster keywords and non-disaster keywords) above\\\\n we see that disaster keywords are natural or artificial calamilites.\\\\nWhile non-disaster keywords are too generalized keywords and not sufficient to describe a disaster.\\\"\\n)\";\n",
       "                var nbb_cells = Jupyter.notebook.get_cells();\n",
       "                for (var i = 0; i < nbb_cells.length; ++i) {\n",
       "                    if (nbb_cells[i].input_prompt_number == nbb_cell_id) {\n",
       "                        if (nbb_cells[i].get_text() == nbb_unformatted_code) {\n",
       "                             nbb_cells[i].set_text(nbb_formatted_code);\n",
       "                        }\n",
       "                        break;\n",
       "                    }\n",
       "                }\n",
       "            }, 500);\n",
       "            "
      ],
      "text/plain": [
       "<IPython.core.display.Javascript object>"
      ]
     },
     "metadata": {},
     "output_type": "display_data"
    }
   ],
   "source": [
    "print(\n",
    "    \"In the graphs(Top 20 disaster keywords and non-disaster keywords) above\\n we see that disaster keywords are natural or artificial calamilites.\\nWhile non-disaster keywords are too generalized keywords and not sufficient to describe a disaster.\"\n",
    ")"
   ]
  },
  {
   "cell_type": "code",
   "execution_count": 239,
   "metadata": {},
   "outputs": [
    {
     "data": {
      "image/png": "[encoded data removed]",
      "text/plain": [
       "<Figure size 1152x360 with 1 Axes>"
      ]
     },
     "metadata": {},
     "output_type": "display_data"
    },
    {
     "data": {
      "application/javascript": [
       "\n",
       "            setTimeout(function() {\n",
       "                var nbb_cell_id = 239;\n",
       "                var nbb_unformatted_code = \"sns.countplot(x=\\\"target\\\", data=df)\\nplt.show()\";\n",
       "                var nbb_formatted_code = \"sns.countplot(x=\\\"target\\\", data=df)\\nplt.show()\";\n",
       "                var nbb_cells = Jupyter.notebook.get_cells();\n",
       "                for (var i = 0; i < nbb_cells.length; ++i) {\n",
       "                    if (nbb_cells[i].input_prompt_number == nbb_cell_id) {\n",
       "                        if (nbb_cells[i].get_text() == nbb_unformatted_code) {\n",
       "                             nbb_cells[i].set_text(nbb_formatted_code);\n",
       "                        }\n",
       "                        break;\n",
       "                    }\n",
       "                }\n",
       "            }, 500);\n",
       "            "
      ],
      "text/plain": [
       "<IPython.core.display.Javascript object>"
      ]
     },
     "metadata": {},
     "output_type": "display_data"
    }
   ],
   "source": [
    "sns.countplot(x=\"target\", data=df)\n",
    "plt.show()"
   ]
  },
  {
   "cell_type": "code",
   "execution_count": 240,
   "metadata": {},
   "outputs": [
    {
     "name": "stdout",
     "output_type": "stream",
     "text": [
      "False    7503\n",
      "True      110\n",
      "Name: text, dtype: int64\n"
     ]
    },
    {
     "data": {
      "image/png": "[encoded data removed]",
      "text/plain": [
       "<Figure size 1152x360 with 1 Axes>"
      ]
     },
     "metadata": {},
     "output_type": "display_data"
    },
    {
     "data": {
      "application/javascript": [
       "\n",
       "            setTimeout(function() {\n",
       "                var nbb_cell_id = 240;\n",
       "                var nbb_unformatted_code = \"# Cleaning Text data\\ntext_data_duplicate_map = df.text.duplicated().value_counts()\\nprint(text_data_duplicate_map)\\nplotBarGraph(\\n    text_data_duplicate_map,\\n    \\\"Duplicate\\\",\\n    \\\"Frequency\\\",\\n    \\\"Text Data Duplicate or Not\\\",\\n    switch_axis=True,\\n)\";\n",
       "                var nbb_formatted_code = \"# Cleaning Text data\\ntext_data_duplicate_map = df.text.duplicated().value_counts()\\nprint(text_data_duplicate_map)\\nplotBarGraph(\\n    text_data_duplicate_map,\\n    \\\"Duplicate\\\",\\n    \\\"Frequency\\\",\\n    \\\"Text Data Duplicate or Not\\\",\\n    switch_axis=True,\\n)\";\n",
       "                var nbb_cells = Jupyter.notebook.get_cells();\n",
       "                for (var i = 0; i < nbb_cells.length; ++i) {\n",
       "                    if (nbb_cells[i].input_prompt_number == nbb_cell_id) {\n",
       "                        if (nbb_cells[i].get_text() == nbb_unformatted_code) {\n",
       "                             nbb_cells[i].set_text(nbb_formatted_code);\n",
       "                        }\n",
       "                        break;\n",
       "                    }\n",
       "                }\n",
       "            }, 500);\n",
       "            "
      ],
      "text/plain": [
       "<IPython.core.display.Javascript object>"
      ]
     },
     "metadata": {},
     "output_type": "display_data"
    }
   ],
   "source": [
    "# Removing Duplicate Text Data\n",
    "text_data_duplicate_map = df.text.duplicated().value_counts()\n",
    "print(text_data_duplicate_map)\n",
    "plotBarGraph(\n",
    "    text_data_duplicate_map,\n",
    "    \"Duplicate\",\n",
    "    \"Frequency\",\n",
    "    \"Text Data Duplicate or Not\",\n",
    "    switch_axis=True,\n",
    ")"
   ]
  },
  {
   "cell_type": "code",
   "execution_count": 241,
   "metadata": {},
   "outputs": [
    {
     "name": "stdout",
     "output_type": "stream",
     "text": [
      "Original dataframe shape:  (7613, 5)\n",
      "Dropping duplicate rows and keeping original shape:  (7503, 5)\n"
     ]
    },
    {
     "data": {
      "text/plain": [
       "False    7503\n",
       "Name: text, dtype: int64"
      ]
     },
     "execution_count": 241,
     "metadata": {},
     "output_type": "execute_result"
    },
    {
     "data": {
      "application/javascript": [
       "\n",
       "            setTimeout(function() {\n",
       "                var nbb_cell_id = 241;\n",
       "                var nbb_unformatted_code = \"print(\\\"Original dataframe shape: \\\", df.shape)\\ndf.drop_duplicates(subset=\\\"text\\\", keep=\\\"first\\\", inplace=True)\\nprint(\\\"Dropping duplicate rows and keeping original shape: \\\", df.shape)\\ndf.text.duplicated().value_counts()\";\n",
       "                var nbb_formatted_code = \"print(\\\"Original dataframe shape: \\\", df.shape)\\ndf.drop_duplicates(subset=\\\"text\\\", keep=\\\"first\\\", inplace=True)\\nprint(\\\"Dropping duplicate rows and keeping original shape: \\\", df.shape)\\ndf.text.duplicated().value_counts()\";\n",
       "                var nbb_cells = Jupyter.notebook.get_cells();\n",
       "                for (var i = 0; i < nbb_cells.length; ++i) {\n",
       "                    if (nbb_cells[i].input_prompt_number == nbb_cell_id) {\n",
       "                        if (nbb_cells[i].get_text() == nbb_unformatted_code) {\n",
       "                             nbb_cells[i].set_text(nbb_formatted_code);\n",
       "                        }\n",
       "                        break;\n",
       "                    }\n",
       "                }\n",
       "            }, 500);\n",
       "            "
      ],
      "text/plain": [
       "<IPython.core.display.Javascript object>"
      ]
     },
     "metadata": {},
     "output_type": "display_data"
    }
   ],
   "source": [
    "print(\"Original dataframe shape: \", df.shape)\n",
    "df.drop_duplicates(subset=\"text\", keep=\"first\", inplace=True)\n",
    "print(\"Dropping duplicate rows and keeping original value shape: \", df.shape)\n",
    "df.text.duplicated().value_counts()"
   ]
  },
  {
   "cell_type": "code",
   "execution_count": 242,
   "metadata": {},
   "outputs": [
    {
     "name": "stdout",
     "output_type": "stream",
     "text": [
      "1368    @POTUS Would you please explain what you are g...\n",
      "3041    #SCSeEstaPreparando Light mag. 4.4 earthquake ...\n",
      "4714    The sunset looked like an erupting volcano ......\n",
      "6771    Maybe that's what happens when a tornado meets...\n",
      "7126    Jetstar and Virgin forced to cancel Bali fligh...\n",
      "Name: text, dtype: object\n"
     ]
    },
    {
     "data": {
      "application/javascript": [
       "\n",
       "            setTimeout(function() {\n",
       "                var nbb_cell_id = 242;\n",
       "                var nbb_unformatted_code = \"def search_text_data(query):\\n    return df.text[df.text.str.contains(query)]\\n\\n\\nprint(search_text_data(\\\"volcano\\\")[:5])\";\n",
       "                var nbb_formatted_code = \"def search_text_data(query):\\n    return df.text[df.text.str.contains(query)]\\n\\n\\nprint(search_text_data(\\\"volcano\\\")[:5])\";\n",
       "                var nbb_cells = Jupyter.notebook.get_cells();\n",
       "                for (var i = 0; i < nbb_cells.length; ++i) {\n",
       "                    if (nbb_cells[i].input_prompt_number == nbb_cell_id) {\n",
       "                        if (nbb_cells[i].get_text() == nbb_unformatted_code) {\n",
       "                             nbb_cells[i].set_text(nbb_formatted_code);\n",
       "                        }\n",
       "                        break;\n",
       "                    }\n",
       "                }\n",
       "            }, 500);\n",
       "            "
      ],
      "text/plain": [
       "<IPython.core.display.Javascript object>"
      ]
     },
     "metadata": {},
     "output_type": "display_data"
    }
   ],
   "source": [
    "def search_text_data(query):\n",
    "    return df.text[df.text.str.contains(query)]\n",
    "\n",
    "\n",
    "print(search_text_data(\"volcano\")[:5])"
   ]
  },
  {
   "cell_type": "code",
   "execution_count": 243,
   "metadata": {},
   "outputs": [
    {
     "data": {
      "text/plain": [
       "0       our deeds are the reason of this #earthquake m...\n",
       "1                  forest fire near la ronge sask. canada\n",
       "2       all residents asked to 'shelter in place' are ...\n",
       "3       13,000 people receive #wildfires evacuation or...\n",
       "4       just got sent this photo from ruby #alaska as ...\n",
       "                              ...                        \n",
       "7604    #worldnews fallen powerlines on g:link tram: u...\n",
       "7605    on the flip side i'm at walmart and there is a...\n",
       "7606    suicide bomber kills 15 in saudi security site...\n",
       "7608    two giant cranes holding a bridge collapse int...\n",
       "7612    the latest: more homes razed by northern calif...\n",
       "Name: clean_text, Length: 7503, dtype: object"
      ]
     },
     "execution_count": 243,
     "metadata": {},
     "output_type": "execute_result"
    },
    {
     "data": {
      "application/javascript": [
       "\n",
       "            setTimeout(function() {\n",
       "                var nbb_cell_id = 243;\n",
       "                var nbb_unformatted_code = \"def lower_case_data(data=\\\"\\\"):\\n    data = data.lower()\\n    return data\\n\\n\\ndf[\\\"clean_text\\\"] = df[\\\"text\\\"].apply(lower_case_data)\\ndf[\\\"clean_text\\\"]\";\n",
       "                var nbb_formatted_code = \"def lower_case_data(data=\\\"\\\"):\\n    data = data.lower()\\n    return data\\n\\n\\ndf[\\\"clean_text\\\"] = df[\\\"text\\\"].apply(lower_case_data)\\ndf[\\\"clean_text\\\"]\";\n",
       "                var nbb_cells = Jupyter.notebook.get_cells();\n",
       "                for (var i = 0; i < nbb_cells.length; ++i) {\n",
       "                    if (nbb_cells[i].input_prompt_number == nbb_cell_id) {\n",
       "                        if (nbb_cells[i].get_text() == nbb_unformatted_code) {\n",
       "                             nbb_cells[i].set_text(nbb_formatted_code);\n",
       "                        }\n",
       "                        break;\n",
       "                    }\n",
       "                }\n",
       "            }, 500);\n",
       "            "
      ],
      "text/plain": [
       "<IPython.core.display.Javascript object>"
      ]
     },
     "metadata": {},
     "output_type": "display_data"
    }
   ],
   "source": [
    "# Cleaning Text Data\n",
    "def lower_case_data(data=\"\"):\n",
    "    data = data.lower()\n",
    "    return data\n",
    "\n",
    "\n",
    "df[\"clean_text\"] = df[\"text\"].apply(lower_case_data)\n",
    "df[\"clean_text\"]"
   ]
  },
  {
   "cell_type": "code",
   "execution_count": 247,
   "metadata": {},
   "outputs": [
    {
     "name": "stdout",
     "output_type": "stream",
     "text": [
      "How Missing JetÛªs Debris Could Have Floated to RÌ©union - The New York Times http://t.co/pNnUnrnqjA\n",
      "RÌ©union Debris Is Almost Surely From Flight 370 Officials Say - New York Times http://t.co/gyQLAOz3l2\n",
      "RÌ©union Debris Is Almost Surely From Flight 370 Officials Say - New York Times http://t.co/VFbW3NyO9L\n",
      "#love #food #fun Malaysian Prime Minister Najib Razak confirmed that the aircraft debris found on RÌ©union Isla...  http://t.co/FK1L4noziG\n",
      "Exploring New Worlds: Three Moments of an Explosion by China MiÌ©ville http://t.co/OTrwZ1t9sp http://t.co/xVlkFCvfX5\n",
      "@ladyfleur The example I used is even worse in that it's a cafÌ© trying to market itself w/hashtag hijacking.\n",
      "nside a Dragon's belly. Or an ice cave under\n",
      "a volcano in Kamchatka | Photography by\n",
      "å©Daniel Korzhonov\n",
      "http://t.co/8T36HWgoqd\n",
      "#science Now that a piece of wreckage from flight MH370 has been confirmed on RÌ©union Island is it possible t...  http://t.co/uqva3dfbCA\n",
      "#science Now that a piece of wreckage from flight MH370 has been confirmed on RÌ©union Island is it possible t...  http://t.co/qNVXJ2pAlJ\n",
      "#science Now that a piece of wreckage from flight MH370 has been confirmed on RÌ©union Island is it possible t...  http://t.co/Z2vDGIyOwf\n"
     ]
    },
    {
     "data": {
      "application/javascript": [
       "\n",
       "            setTimeout(function() {\n",
       "                var nbb_cell_id = 247;\n",
       "                var nbb_unformatted_code = \"def sentences_with_emojis(texts):\\n    for sentence in texts:\\n        has_emoji = bool(emoji.get_emoji_regexp().search(sentence))\\n        if has_emoji:\\n            print(sentence)\\n\\n\\nsentences_with_emojis(df.text)\";\n",
       "                var nbb_formatted_code = \"def sentences_with_emojis(texts):\\n    for sentence in texts:\\n        has_emoji = bool(emoji.get_emoji_regexp().search(sentence))\\n        if has_emoji:\\n            print(sentence)\\n\\n\\nsentences_with_emojis(df.text)\";\n",
       "                var nbb_cells = Jupyter.notebook.get_cells();\n",
       "                for (var i = 0; i < nbb_cells.length; ++i) {\n",
       "                    if (nbb_cells[i].input_prompt_number == nbb_cell_id) {\n",
       "                        if (nbb_cells[i].get_text() == nbb_unformatted_code) {\n",
       "                             nbb_cells[i].set_text(nbb_formatted_code);\n",
       "                        }\n",
       "                        break;\n",
       "                    }\n",
       "                }\n",
       "            }, 500);\n",
       "            "
      ],
      "text/plain": [
       "<IPython.core.display.Javascript object>"
      ]
     },
     "metadata": {},
     "output_type": "display_data"
    }
   ],
   "source": [
    "# Handle Emojis\n",
    "def print_sentences_with_emojis(texts):\n",
    "    for sentence in texts:\n",
    "        has_emoji = bool(emoji.get_emoji_regexp().search(sentence))\n",
    "        if has_emoji:\n",
    "            print(sentence)\n",
    "\n",
    "def\n",
    "print_sentences_with_emojis(df.text)"
   ]
  },
  {
   "cell_type": "code",
   "execution_count": null,
   "metadata": {},
   "outputs": [],
   "source": []
  }
 ],
 "metadata": {
  "kernelspec": {
   "display_name": "Python nlp",
   "language": "python",
   "name": "nlp"
  },
  "language_info": {
   "codemirror_mode": {
    "name": "ipython",
    "version": 3
   },
   "file_extension": ".py",
   "mimetype": "text/x-python",
   "name": "python",
   "nbconvert_exporter": "python",
   "pygments_lexer": "ipython3",
   "version": "3.9.1"
  }
 },
 "nbformat": 4,
 "nbformat_minor": 4
}
