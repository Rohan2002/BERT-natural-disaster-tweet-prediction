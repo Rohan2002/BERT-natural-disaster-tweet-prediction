{
 "cells": [
  {
   "cell_type": "markdown",
   "metadata": {
    "papermill": {
     "duration": 0.042912,
     "end_time": "2021-01-10T08:43:37.888217",
     "exception": false,
     "start_time": "2021-01-10T08:43:37.845305",
     "status": "completed"
    },
    "tags": []
   },
   "source": [
    "# Dependency File"
   ]
  },
  {
   "cell_type": "code",
   "execution_count": 1,
   "metadata": {
    "execution": {
     "iopub.execute_input": "2021-01-10T08:43:37.980345Z",
     "iopub.status.busy": "2021-01-10T08:43:37.979613Z",
     "iopub.status.idle": "2021-01-10T08:43:39.241401Z",
     "shell.execute_reply": "2021-01-10T08:43:39.240527Z"
    },
    "papermill": {
     "duration": 1.311184,
     "end_time": "2021-01-10T08:43:39.241515",
     "exception": false,
     "start_time": "2021-01-10T08:43:37.930331",
     "status": "completed"
    },
    "tags": []
   },
   "outputs": [],
   "source": [
    "# !wget --quiet https://raw.githubusercontent.com/tensorflow/models/master/official/nlp/bert/tokenization.py"
   ]
  },
  {
   "cell_type": "markdown",
   "metadata": {
    "papermill": {
     "duration": 0.040126,
     "end_time": "2021-01-10T08:43:39.355950",
     "exception": false,
     "start_time": "2021-01-10T08:43:39.315824",
     "status": "completed"
    },
    "tags": []
   },
   "source": [
    "# Dependency Packages"
   ]
  },
  {
   "cell_type": "code",
   "execution_count": 2,
   "metadata": {
    "execution": {
     "iopub.execute_input": "2021-01-10T08:43:39.446950Z",
     "iopub.status.busy": "2021-01-10T08:43:39.443089Z",
     "iopub.status.idle": "2021-01-10T08:44:07.420801Z",
     "shell.execute_reply": "2021-01-10T08:44:07.419615Z"
    },
    "papermill": {
     "duration": 28.024446,
     "end_time": "2021-01-10T08:44:07.420940",
     "exception": false,
     "start_time": "2021-01-10T08:43:39.396494",
     "status": "completed"
    },
    "tags": []
   },
   "outputs": [
    {
     "name": "stdout",
     "output_type": "stream",
     "text": [
      "\u001b[33mWARNING: You are using pip version 20.3.1; however, version 20.3.3 is available.\r\n",
      "You should consider upgrading via the '/opt/conda/bin/python3.7 -m pip install --upgrade pip' command.\u001b[0m\r\n",
      "\u001b[33mWARNING: You are using pip version 20.3.1; however, version 20.3.3 is available.\r\n",
      "You should consider upgrading via the '/opt/conda/bin/python3.7 -m pip install --upgrade pip' command.\u001b[0m\r\n",
      "\u001b[33mWARNING: You are using pip version 20.3.1; however, version 20.3.3 is available.\r\n",
      "You should consider upgrading via the '/opt/conda/bin/python3.7 -m pip install --upgrade pip' command.\u001b[0m\r\n"
     ]
    }
   ],
   "source": [
    "# !pip3 -q install contractions\n",
    "# !pip3 -q install nb_black\n",
    "# !pip -q install beautifulsoup4"
   ]
  },
  {
   "cell_type": "markdown",
   "metadata": {
    "papermill": {
     "duration": 0.07764,
     "end_time": "2021-01-10T08:44:07.576037",
     "exception": false,
     "start_time": "2021-01-10T08:44:07.498397",
     "status": "completed"
    },
    "tags": []
   },
   "source": [
    "# **Imports**"
   ]
  },
  {
   "cell_type": "code",
   "execution_count": 3,
   "metadata": {
    "execution": {
     "iopub.execute_input": "2021-01-10T08:44:07.690589Z",
     "iopub.status.busy": "2021-01-10T08:44:07.689832Z",
     "iopub.status.idle": "2021-01-10T08:44:13.534316Z",
     "shell.execute_reply": "2021-01-10T08:44:13.533636Z"
    },
    "papermill": {
     "duration": 5.904171,
     "end_time": "2021-01-10T08:44:13.534437",
     "exception": false,
     "start_time": "2021-01-10T08:44:07.630266",
     "status": "completed"
    },
    "tags": []
   },
   "outputs": [],
   "source": [
    "import warnings\n",
    "\n",
    "warnings.filterwarnings(\"ignore\", category=FutureWarning)\n",
    "\n",
    "import pandas as pd\n",
    "import numpy as np\n",
    "import seaborn as sns\n",
    "import nltk\n",
    "from nltk.corpus import stopwords\n",
    "import os\n",
    "import matplotlib.pyplot as plt\n",
    "from matplotlib import pylab\n",
    "import emoji\n",
    "import re\n",
    "import contractions\n",
    "from bs4 import BeautifulSoup\n",
    "import unicodedata\n",
    "from nltk.stem import WordNetLemmatizer\n",
    "import tensorflow as tf\n",
    "import tensorflow_hub as hub\n",
    "import tokenization\n",
    "from tensorflow import keras\n",
    "from kerastuner.tuners import Hyperband\n",
    "from sklearn.model_selection import train_test_split\n",
    "import time"
   ]
  },
  {
   "cell_type": "markdown",
   "metadata": {
    "papermill": {
     "duration": 0.042088,
     "end_time": "2021-01-10T08:44:13.619477",
     "exception": false,
     "start_time": "2021-01-10T08:44:13.577389",
     "status": "completed"
    },
    "tags": []
   },
   "source": [
    "# Vocablury for NLTK"
   ]
  },
  {
   "cell_type": "code",
   "execution_count": 4,
   "metadata": {
    "execution": {
     "iopub.execute_input": "2021-01-10T08:44:13.712221Z",
     "iopub.status.busy": "2021-01-10T08:44:13.711461Z",
     "iopub.status.idle": "2021-01-10T08:44:14.337398Z",
     "shell.execute_reply": "2021-01-10T08:44:14.337852Z"
    },
    "papermill": {
     "duration": 0.677053,
     "end_time": "2021-01-10T08:44:14.337988",
     "exception": false,
     "start_time": "2021-01-10T08:44:13.660935",
     "status": "completed"
    },
    "tags": []
   },
   "outputs": [
    {
     "name": "stdout",
     "output_type": "stream",
     "text": [
      "[nltk_data] Downloading package wordnet to /usr/share/nltk_data...\n",
      "[nltk_data]   Package wordnet is already up-to-date!\n"
     ]
    },
    {
     "data": {
      "text/plain": [
       "True"
      ]
     },
     "execution_count": 4,
     "metadata": {},
     "output_type": "execute_result"
    }
   ],
   "source": [
    "nltk.download(\"wordnet\")"
   ]
  },
  {
   "cell_type": "markdown",
   "metadata": {
    "papermill": {
     "duration": 0.043993,
     "end_time": "2021-01-10T08:44:14.424884",
     "exception": false,
     "start_time": "2021-01-10T08:44:14.380891",
     "status": "completed"
    },
    "tags": []
   },
   "source": [
    "# Jupyter Configurations for autocomplete, formatter"
   ]
  },
  {
   "cell_type": "code",
   "execution_count": 5,
   "metadata": {
    "execution": {
     "iopub.execute_input": "2021-01-10T08:44:14.525623Z",
     "iopub.status.busy": "2021-01-10T08:44:14.524811Z",
     "iopub.status.idle": "2021-01-10T08:44:14.659005Z",
     "shell.execute_reply": "2021-01-10T08:44:14.659424Z"
    },
    "papermill": {
     "duration": 0.192503,
     "end_time": "2021-01-10T08:44:14.659537",
     "exception": false,
     "start_time": "2021-01-10T08:44:14.467034",
     "status": "completed"
    },
    "tags": []
   },
   "outputs": [
    {
     "data": {
      "application/javascript": [
       "\n",
       "            setTimeout(function() {\n",
       "                var nbb_cell_id = 5;\n",
       "                var nbb_unformatted_code = \"%config IPCompleter.greedy=True\\n%matplotlib inline\\n%reload_ext nb_black\";\n",
       "                var nbb_formatted_code = \"%config IPCompleter.greedy=True\\n%matplotlib inline\\n%reload_ext nb_black\";\n",
       "                var nbb_cells = Jupyter.notebook.get_cells();\n",
       "                for (var i = 0; i < nbb_cells.length; ++i) {\n",
       "                    if (nbb_cells[i].input_prompt_number == nbb_cell_id) {\n",
       "                        if (nbb_cells[i].get_text() == nbb_unformatted_code) {\n",
       "                             nbb_cells[i].set_text(nbb_formatted_code);\n",
       "                        }\n",
       "                        break;\n",
       "                    }\n",
       "                }\n",
       "            }, 500);\n",
       "            "
      ],
      "text/plain": [
       "<IPython.core.display.Javascript object>"
      ]
     },
     "metadata": {},
     "output_type": "display_data"
    }
   ],
   "source": [
    "%config IPCompleter.greedy=True\n",
    "%matplotlib inline\n",
    "%reload_ext nb_black"
   ]
  },
  {
   "cell_type": "markdown",
   "metadata": {
    "papermill": {
     "duration": 0.043736,
     "end_time": "2021-01-10T08:44:14.746796",
     "exception": false,
     "start_time": "2021-01-10T08:44:14.703060",
     "status": "completed"
    },
    "tags": []
   },
   "source": [
    "# Path to Train and Test Files"
   ]
  },
  {
   "cell_type": "code",
   "execution_count": 6,
   "metadata": {
    "execution": {
     "iopub.execute_input": "2021-01-10T08:44:14.840891Z",
     "iopub.status.busy": "2021-01-10T08:44:14.840086Z",
     "iopub.status.idle": "2021-01-10T08:44:14.850369Z",
     "shell.execute_reply": "2021-01-10T08:44:14.849931Z"
    },
    "papermill": {
     "duration": 0.060361,
     "end_time": "2021-01-10T08:44:14.850463",
     "exception": false,
     "start_time": "2021-01-10T08:44:14.790102",
     "status": "completed"
    },
    "tags": []
   },
   "outputs": [
    {
     "data": {
      "application/javascript": [
       "\n",
       "            setTimeout(function() {\n",
       "                var nbb_cell_id = 6;\n",
       "                var nbb_unformatted_code = \"# Constants\\ncurr_dir = \\\"../input\\\"\\nalready_trained = False  # set this to false to retrain.\\ntrain_file = os.path.join(curr_dir, \\\"nlp-getting-started\\\", \\\"train.csv\\\")\\ntest_file = os.path.join(curr_dir, \\\"nlp-getting-started\\\", \\\"test.csv\\\")\\nsample_submission_file = os.path.join(\\n    curr_dir, \\\"nlp-getting-started\\\", \\\"sample_submission.csv\\\"\\n)\";\n",
       "                var nbb_formatted_code = \"# Constants\\ncurr_dir = \\\"../input\\\"\\nalready_trained = False  # set this to false to retrain.\\ntrain_file = os.path.join(curr_dir, \\\"nlp-getting-started\\\", \\\"train.csv\\\")\\ntest_file = os.path.join(curr_dir, \\\"nlp-getting-started\\\", \\\"test.csv\\\")\\nsample_submission_file = os.path.join(\\n    curr_dir, \\\"nlp-getting-started\\\", \\\"sample_submission.csv\\\"\\n)\";\n",
       "                var nbb_cells = Jupyter.notebook.get_cells();\n",
       "                for (var i = 0; i < nbb_cells.length; ++i) {\n",
       "                    if (nbb_cells[i].input_prompt_number == nbb_cell_id) {\n",
       "                        if (nbb_cells[i].get_text() == nbb_unformatted_code) {\n",
       "                             nbb_cells[i].set_text(nbb_formatted_code);\n",
       "                        }\n",
       "                        break;\n",
       "                    }\n",
       "                }\n",
       "            }, 500);\n",
       "            "
      ],
      "text/plain": [
       "<IPython.core.display.Javascript object>"
      ]
     },
     "metadata": {},
     "output_type": "display_data"
    }
   ],
   "source": [
    "# Constants\n",
    "curr_dir = \"../input\"\n",
    "already_trained = True # set this to false to retrain.\n",
    "train_file = os.path.join(curr_dir, \"nlp-getting-started\", \"train.csv\")\n",
    "test_file = os.path.join(curr_dir, \"nlp-getting-started\", \"test.csv\")\n",
    "sample_submission_file = os.path.join(\n",
    "    curr_dir, \"nlp-getting-started\", \"sample_submission.csv\"\n",
    ")"
   ]
  },
  {
   "cell_type": "code",
   "execution_count": 7,
   "metadata": {
    "execution": {
     "iopub.execute_input": "2021-01-10T08:44:14.943637Z",
     "iopub.status.busy": "2021-01-10T08:44:14.942851Z",
     "iopub.status.idle": "2021-01-10T08:44:14.952090Z",
     "shell.execute_reply": "2021-01-10T08:44:14.951609Z"
    },
    "papermill": {
     "duration": 0.058053,
     "end_time": "2021-01-10T08:44:14.952177",
     "exception": false,
     "start_time": "2021-01-10T08:44:14.894124",
     "status": "completed"
    },
    "tags": []
   },
   "outputs": [
    {
     "data": {
      "application/javascript": [
       "\n",
       "            setTimeout(function() {\n",
       "                var nbb_cell_id = 7;\n",
       "                var nbb_unformatted_code = \"params = {\\n    \\\"legend.fontsize\\\": \\\"x-large\\\",\\n    \\\"figure.figsize\\\": (16, 5),\\n    \\\"axes.labelsize\\\": \\\"x-large\\\",\\n    \\\"axes.titlesize\\\": \\\"x-large\\\",\\n    \\\"xtick.labelsize\\\": \\\"x-large\\\",\\n    \\\"ytick.labelsize\\\": \\\"x-large\\\",\\n}\\npylab.rcParams.update(params)\";\n",
       "                var nbb_formatted_code = \"params = {\\n    \\\"legend.fontsize\\\": \\\"x-large\\\",\\n    \\\"figure.figsize\\\": (16, 5),\\n    \\\"axes.labelsize\\\": \\\"x-large\\\",\\n    \\\"axes.titlesize\\\": \\\"x-large\\\",\\n    \\\"xtick.labelsize\\\": \\\"x-large\\\",\\n    \\\"ytick.labelsize\\\": \\\"x-large\\\",\\n}\\npylab.rcParams.update(params)\";\n",
       "                var nbb_cells = Jupyter.notebook.get_cells();\n",
       "                for (var i = 0; i < nbb_cells.length; ++i) {\n",
       "                    if (nbb_cells[i].input_prompt_number == nbb_cell_id) {\n",
       "                        if (nbb_cells[i].get_text() == nbb_unformatted_code) {\n",
       "                             nbb_cells[i].set_text(nbb_formatted_code);\n",
       "                        }\n",
       "                        break;\n",
       "                    }\n",
       "                }\n",
       "            }, 500);\n",
       "            "
      ],
      "text/plain": [
       "<IPython.core.display.Javascript object>"
      ]
     },
     "metadata": {},
     "output_type": "display_data"
    }
   ],
   "source": [
    "params = {\n",
    "    \"legend.fontsize\": \"x-large\",\n",
    "    \"figure.figsize\": (16, 5),\n",
    "    \"axes.labelsize\": \"x-large\",\n",
    "    \"axes.titlesize\": \"x-large\",\n",
    "    \"xtick.labelsize\": \"x-large\",\n",
    "    \"ytick.labelsize\": \"x-large\",\n",
    "}\n",
    "pylab.rcParams.update(params)"
   ]
  },
  {
   "cell_type": "code",
   "execution_count": 8,
   "metadata": {
    "execution": {
     "iopub.execute_input": "2021-01-10T08:44:15.047412Z",
     "iopub.status.busy": "2021-01-10T08:44:15.046817Z",
     "iopub.status.idle": "2021-01-10T08:44:15.104123Z",
     "shell.execute_reply": "2021-01-10T08:44:15.104536Z"
    },
    "papermill": {
     "duration": 0.108362,
     "end_time": "2021-01-10T08:44:15.104640",
     "exception": false,
     "start_time": "2021-01-10T08:44:14.996278",
     "status": "completed"
    },
    "tags": []
   },
   "outputs": [
    {
     "data": {
      "text/html": [
       "<div>\n",
       "<style scoped>\n",
       "    .dataframe tbody tr th:only-of-type {\n",
       "        vertical-align: middle;\n",
       "    }\n",
       "\n",
       "    .dataframe tbody tr th {\n",
       "        vertical-align: top;\n",
       "    }\n",
       "\n",
       "    .dataframe thead th {\n",
       "        text-align: right;\n",
       "    }\n",
       "</style>\n",
       "<table border=\"1\" class=\"dataframe\">\n",
       "  <thead>\n",
       "    <tr style=\"text-align: right;\">\n",
       "      <th></th>\n",
       "      <th>id</th>\n",
       "      <th>keyword</th>\n",
       "      <th>location</th>\n",
       "      <th>text</th>\n",
       "      <th>target</th>\n",
       "    </tr>\n",
       "  </thead>\n",
       "  <tbody>\n",
       "    <tr>\n",
       "      <th>0</th>\n",
       "      <td>1</td>\n",
       "      <td>NaN</td>\n",
       "      <td>NaN</td>\n",
       "      <td>Our Deeds are the Reason of this #earthquake M...</td>\n",
       "      <td>1</td>\n",
       "    </tr>\n",
       "    <tr>\n",
       "      <th>1</th>\n",
       "      <td>4</td>\n",
       "      <td>NaN</td>\n",
       "      <td>NaN</td>\n",
       "      <td>Forest fire near La Ronge Sask. Canada</td>\n",
       "      <td>1</td>\n",
       "    </tr>\n",
       "    <tr>\n",
       "      <th>2</th>\n",
       "      <td>5</td>\n",
       "      <td>NaN</td>\n",
       "      <td>NaN</td>\n",
       "      <td>All residents asked to 'shelter in place' are ...</td>\n",
       "      <td>1</td>\n",
       "    </tr>\n",
       "    <tr>\n",
       "      <th>3</th>\n",
       "      <td>6</td>\n",
       "      <td>NaN</td>\n",
       "      <td>NaN</td>\n",
       "      <td>13,000 people receive #wildfires evacuation or...</td>\n",
       "      <td>1</td>\n",
       "    </tr>\n",
       "    <tr>\n",
       "      <th>4</th>\n",
       "      <td>7</td>\n",
       "      <td>NaN</td>\n",
       "      <td>NaN</td>\n",
       "      <td>Just got sent this photo from Ruby #Alaska as ...</td>\n",
       "      <td>1</td>\n",
       "    </tr>\n",
       "  </tbody>\n",
       "</table>\n",
       "</div>"
      ],
      "text/plain": [
       "   id keyword location                                               text  \\\n",
       "0   1     NaN      NaN  Our Deeds are the Reason of this #earthquake M...   \n",
       "1   4     NaN      NaN             Forest fire near La Ronge Sask. Canada   \n",
       "2   5     NaN      NaN  All residents asked to 'shelter in place' are ...   \n",
       "3   6     NaN      NaN  13,000 people receive #wildfires evacuation or...   \n",
       "4   7     NaN      NaN  Just got sent this photo from Ruby #Alaska as ...   \n",
       "\n",
       "   target  \n",
       "0       1  \n",
       "1       1  \n",
       "2       1  \n",
       "3       1  \n",
       "4       1  "
      ]
     },
     "execution_count": 8,
     "metadata": {},
     "output_type": "execute_result"
    },
    {
     "data": {
      "application/javascript": [
       "\n",
       "            setTimeout(function() {\n",
       "                var nbb_cell_id = 8;\n",
       "                var nbb_unformatted_code = \"df = pd.read_csv(train_file)\\ndf.head()\";\n",
       "                var nbb_formatted_code = \"df = pd.read_csv(train_file)\\ndf.head()\";\n",
       "                var nbb_cells = Jupyter.notebook.get_cells();\n",
       "                for (var i = 0; i < nbb_cells.length; ++i) {\n",
       "                    if (nbb_cells[i].input_prompt_number == nbb_cell_id) {\n",
       "                        if (nbb_cells[i].get_text() == nbb_unformatted_code) {\n",
       "                             nbb_cells[i].set_text(nbb_formatted_code);\n",
       "                        }\n",
       "                        break;\n",
       "                    }\n",
       "                }\n",
       "            }, 500);\n",
       "            "
      ],
      "text/plain": [
       "<IPython.core.display.Javascript object>"
      ]
     },
     "metadata": {},
     "output_type": "display_data"
    }
   ],
   "source": [
    "df = pd.read_csv(train_file)\n",
    "df.head()"
   ]
  },
  {
   "cell_type": "code",
   "execution_count": 9,
   "metadata": {
    "execution": {
     "iopub.execute_input": "2021-01-10T08:44:15.202184Z",
     "iopub.status.busy": "2021-01-10T08:44:15.201376Z",
     "iopub.status.idle": "2021-01-10T08:44:15.219369Z",
     "shell.execute_reply": "2021-01-10T08:44:15.219963Z"
    },
    "papermill": {
     "duration": 0.069986,
     "end_time": "2021-01-10T08:44:15.220074",
     "exception": false,
     "start_time": "2021-01-10T08:44:15.150088",
     "status": "completed"
    },
    "tags": []
   },
   "outputs": [
    {
     "name": "stdout",
     "output_type": "stream",
     "text": [
      "<class 'pandas.core.frame.DataFrame'>\n",
      "RangeIndex: 7613 entries, 0 to 7612\n",
      "Data columns (total 5 columns):\n",
      " #   Column    Non-Null Count  Dtype \n",
      "---  ------    --------------  ----- \n",
      " 0   id        7613 non-null   int64 \n",
      " 1   keyword   7552 non-null   object\n",
      " 2   location  5080 non-null   object\n",
      " 3   text      7613 non-null   object\n",
      " 4   target    7613 non-null   int64 \n",
      "dtypes: int64(2), object(3)\n",
      "memory usage: 297.5+ KB\n"
     ]
    },
    {
     "data": {
      "application/javascript": [
       "\n",
       "            setTimeout(function() {\n",
       "                var nbb_cell_id = 9;\n",
       "                var nbb_unformatted_code = \"df.info()\";\n",
       "                var nbb_formatted_code = \"df.info()\";\n",
       "                var nbb_cells = Jupyter.notebook.get_cells();\n",
       "                for (var i = 0; i < nbb_cells.length; ++i) {\n",
       "                    if (nbb_cells[i].input_prompt_number == nbb_cell_id) {\n",
       "                        if (nbb_cells[i].get_text() == nbb_unformatted_code) {\n",
       "                             nbb_cells[i].set_text(nbb_formatted_code);\n",
       "                        }\n",
       "                        break;\n",
       "                    }\n",
       "                }\n",
       "            }, 500);\n",
       "            "
      ],
      "text/plain": [
       "<IPython.core.display.Javascript object>"
      ]
     },
     "metadata": {},
     "output_type": "display_data"
    }
   ],
   "source": [
    "df.info()"
   ]
  },
  {
   "cell_type": "code",
   "execution_count": 10,
   "metadata": {
    "execution": {
     "iopub.execute_input": "2021-01-10T08:44:15.319612Z",
     "iopub.status.busy": "2021-01-10T08:44:15.318821Z",
     "iopub.status.idle": "2021-01-10T08:44:15.327584Z",
     "shell.execute_reply": "2021-01-10T08:44:15.327063Z"
    },
    "papermill": {
     "duration": 0.061405,
     "end_time": "2021-01-10T08:44:15.327668",
     "exception": false,
     "start_time": "2021-01-10T08:44:15.266263",
     "status": "completed"
    },
    "tags": []
   },
   "outputs": [
    {
     "data": {
      "text/plain": [
       "id             0\n",
       "keyword       61\n",
       "location    2533\n",
       "text           0\n",
       "target         0\n",
       "dtype: int64"
      ]
     },
     "execution_count": 10,
     "metadata": {},
     "output_type": "execute_result"
    },
    {
     "data": {
      "application/javascript": [
       "\n",
       "            setTimeout(function() {\n",
       "                var nbb_cell_id = 10;\n",
       "                var nbb_unformatted_code = \"df.isnull().sum()\";\n",
       "                var nbb_formatted_code = \"df.isnull().sum()\";\n",
       "                var nbb_cells = Jupyter.notebook.get_cells();\n",
       "                for (var i = 0; i < nbb_cells.length; ++i) {\n",
       "                    if (nbb_cells[i].input_prompt_number == nbb_cell_id) {\n",
       "                        if (nbb_cells[i].get_text() == nbb_unformatted_code) {\n",
       "                             nbb_cells[i].set_text(nbb_formatted_code);\n",
       "                        }\n",
       "                        break;\n",
       "                    }\n",
       "                }\n",
       "            }, 500);\n",
       "            "
      ],
      "text/plain": [
       "<IPython.core.display.Javascript object>"
      ]
     },
     "metadata": {},
     "output_type": "display_data"
    }
   ],
   "source": [
    "df.isnull().sum()"
   ]
  },
  {
   "cell_type": "markdown",
   "metadata": {
    "papermill": {
     "duration": 0.047346,
     "end_time": "2021-01-10T08:44:15.421829",
     "exception": false,
     "start_time": "2021-01-10T08:44:15.374483",
     "status": "completed"
    },
    "tags": []
   },
   "source": [
    "# Data Analysis Start"
   ]
  },
  {
   "cell_type": "code",
   "execution_count": 11,
   "metadata": {
    "execution": {
     "iopub.execute_input": "2021-01-10T08:44:15.523354Z",
     "iopub.status.busy": "2021-01-10T08:44:15.522569Z",
     "iopub.status.idle": "2021-01-10T08:44:15.533614Z",
     "shell.execute_reply": "2021-01-10T08:44:15.533195Z"
    },
    "papermill": {
     "duration": 0.065325,
     "end_time": "2021-01-10T08:44:15.533732",
     "exception": false,
     "start_time": "2021-01-10T08:44:15.468407",
     "status": "completed"
    },
    "tags": []
   },
   "outputs": [
    {
     "data": {
      "application/javascript": [
       "\n",
       "            setTimeout(function() {\n",
       "                var nbb_cell_id = 11;\n",
       "                var nbb_unformatted_code = \"def plotBarGraph(data, labelx, labely, title, switch_axis=False):\\n    y = data.index.tolist()\\n    x = data.tolist()\\n    if switch_axis:\\n        x = data.index.tolist()\\n        y = data.tolist()\\n    sns.barplot(y=y, x=x)\\n    plt.title(title)\\n    plt.xlabel(labelx)\\n    plt.ylabel(labely)\\n    plt.show()\";\n",
       "                var nbb_formatted_code = \"def plotBarGraph(data, labelx, labely, title, switch_axis=False):\\n    y = data.index.tolist()\\n    x = data.tolist()\\n    if switch_axis:\\n        x = data.index.tolist()\\n        y = data.tolist()\\n    sns.barplot(y=y, x=x)\\n    plt.title(title)\\n    plt.xlabel(labelx)\\n    plt.ylabel(labely)\\n    plt.show()\";\n",
       "                var nbb_cells = Jupyter.notebook.get_cells();\n",
       "                for (var i = 0; i < nbb_cells.length; ++i) {\n",
       "                    if (nbb_cells[i].input_prompt_number == nbb_cell_id) {\n",
       "                        if (nbb_cells[i].get_text() == nbb_unformatted_code) {\n",
       "                             nbb_cells[i].set_text(nbb_formatted_code);\n",
       "                        }\n",
       "                        break;\n",
       "                    }\n",
       "                }\n",
       "            }, 500);\n",
       "            "
      ],
      "text/plain": [
       "<IPython.core.display.Javascript object>"
      ]
     },
     "metadata": {},
     "output_type": "display_data"
    }
   ],
   "source": [
    "def plotBarGraph(data, labelx, labely, title, switch_axis=False):\n",
    "    y = data.index.tolist()\n",
    "    x = data.tolist()\n",
    "    if switch_axis:\n",
    "        x = data.index.tolist()\n",
    "        y = data.tolist()\n",
    "    sns.barplot(y=y, x=x)\n",
    "    plt.title(title)\n",
    "    plt.xlabel(labelx)\n",
    "    plt.ylabel(labely)\n",
    "    plt.show()"
   ]
  },
  {
   "cell_type": "markdown",
   "metadata": {
    "papermill": {
     "duration": 0.047219,
     "end_time": "2021-01-10T08:44:15.629934",
     "exception": false,
     "start_time": "2021-01-10T08:44:15.582715",
     "status": "completed"
    },
    "tags": []
   },
   "source": [
    "# Tweet Locations Graph"
   ]
  },
  {
   "cell_type": "code",
   "execution_count": 12,
   "metadata": {
    "execution": {
     "iopub.execute_input": "2021-01-10T08:44:15.733445Z",
     "iopub.status.busy": "2021-01-10T08:44:15.732620Z",
     "iopub.status.idle": "2021-01-10T08:44:15.939461Z",
     "shell.execute_reply": "2021-01-10T08:44:15.939010Z"
    },
    "papermill": {
     "duration": 0.261891,
     "end_time": "2021-01-10T08:44:15.939552",
     "exception": false,
     "start_time": "2021-01-10T08:44:15.677661",
     "status": "completed"
    },
    "tags": []
   },
   "outputs": [
    {
     "data": {
      "image/png": "[encoded data removed]",
      "text/plain": [
       "<Figure size 1152x360 with 1 Axes>"
      ]
     },
     "metadata": {
      "needs_background": "light"
     },
     "output_type": "display_data"
    },
    {
     "data": {
      "application/javascript": [
       "\n",
       "            setTimeout(function() {\n",
       "                var nbb_cell_id = 12;\n",
       "                var nbb_unformatted_code = \"locations_map = df.location.value_counts().sort_values(ascending=False)[:10]\\nplotBarGraph(locations_map, \\\"Frequency\\\", \\\"Countries\\\", \\\"Tweet locations\\\")\";\n",
       "                var nbb_formatted_code = \"locations_map = df.location.value_counts().sort_values(ascending=False)[:10]\\nplotBarGraph(locations_map, \\\"Frequency\\\", \\\"Countries\\\", \\\"Tweet locations\\\")\";\n",
       "                var nbb_cells = Jupyter.notebook.get_cells();\n",
       "                for (var i = 0; i < nbb_cells.length; ++i) {\n",
       "                    if (nbb_cells[i].input_prompt_number == nbb_cell_id) {\n",
       "                        if (nbb_cells[i].get_text() == nbb_unformatted_code) {\n",
       "                             nbb_cells[i].set_text(nbb_formatted_code);\n",
       "                        }\n",
       "                        break;\n",
       "                    }\n",
       "                }\n",
       "            }, 500);\n",
       "            "
      ],
      "text/plain": [
       "<IPython.core.display.Javascript object>"
      ]
     },
     "metadata": {},
     "output_type": "display_data"
    }
   ],
   "source": [
    "locations_map = df.location.value_counts().sort_values(ascending=False)[:10]\n",
    "plotBarGraph(locations_map, \"Frequency\", \"Countries\", \"Tweet locations\")"
   ]
  },
  {
   "cell_type": "markdown",
   "metadata": {
    "papermill": {
     "duration": 0.080189,
     "end_time": "2021-01-10T08:44:16.071221",
     "exception": false,
     "start_time": "2021-01-10T08:44:15.991032",
     "status": "completed"
    },
    "tags": []
   },
   "source": [
    "# Top 20 Disaster-Related Keywords"
   ]
  },
  {
   "cell_type": "code",
   "execution_count": 13,
   "metadata": {
    "execution": {
     "iopub.execute_input": "2021-01-10T08:44:16.245669Z",
     "iopub.status.busy": "2021-01-10T08:44:16.244750Z",
     "iopub.status.idle": "2021-01-10T08:44:16.835892Z",
     "shell.execute_reply": "2021-01-10T08:44:16.835131Z"
    },
    "papermill": {
     "duration": 0.681373,
     "end_time": "2021-01-10T08:44:16.836027",
     "exception": false,
     "start_time": "2021-01-10T08:44:16.154654",
     "status": "completed"
    },
    "tags": []
   },
   "outputs": [
    {
     "data": {
      "image/png": "[encoded data removed]",
      "text/plain": [
       "<Figure size 1152x360 with 1 Axes>"
      ]
     },
     "metadata": {
      "needs_background": "light"
     },
     "output_type": "display_data"
    },
    {
     "data": {
      "application/javascript": [
       "\n",
       "            setTimeout(function() {\n",
       "                var nbb_cell_id = 13;\n",
       "                var nbb_unformatted_code = \"# Top 20 Disaster related Keywords\\nkeywords_map = (\\n    df.keyword.loc[df.target == 1].value_counts().sort_values(ascending=False)[:20]\\n)\\nplotBarGraph(keywords_map, \\\"Frequency\\\", \\\"Keywords\\\", \\\"Top 20 disaster related keywords\\\")\";\n",
       "                var nbb_formatted_code = \"# Top 20 Disaster related Keywords\\nkeywords_map = (\\n    df.keyword.loc[df.target == 1].value_counts().sort_values(ascending=False)[:20]\\n)\\nplotBarGraph(keywords_map, \\\"Frequency\\\", \\\"Keywords\\\", \\\"Top 20 disaster related keywords\\\")\";\n",
       "                var nbb_cells = Jupyter.notebook.get_cells();\n",
       "                for (var i = 0; i < nbb_cells.length; ++i) {\n",
       "                    if (nbb_cells[i].input_prompt_number == nbb_cell_id) {\n",
       "                        if (nbb_cells[i].get_text() == nbb_unformatted_code) {\n",
       "                             nbb_cells[i].set_text(nbb_formatted_code);\n",
       "                        }\n",
       "                        break;\n",
       "                    }\n",
       "                }\n",
       "            }, 500);\n",
       "            "
      ],
      "text/plain": [
       "<IPython.core.display.Javascript object>"
      ]
     },
     "metadata": {},
     "output_type": "display_data"
    }
   ],
   "source": [
    "# Top 20 Disaster related Keywords\n",
    "keywords_map = (\n",
    "    df.keyword.loc[df.target == 1].value_counts().sort_values(ascending=False)[:20]\n",
    ")\n",
    "plotBarGraph(keywords_map, \"Frequency\", \"Keywords\", \"Top 20 disaster related keywords\")"
   ]
  },
  {
   "cell_type": "markdown",
   "metadata": {
    "papermill": {
     "duration": 0.092434,
     "end_time": "2021-01-10T08:44:17.022591",
     "exception": false,
     "start_time": "2021-01-10T08:44:16.930157",
     "status": "completed"
    },
    "tags": []
   },
   "source": [
    "# Top 20 Non-Disaster-Related Keywords\n",
    "* Notice non-disaster keywords are not actual disasters but rather general keywords that could describe a disaster. These keywords can be used in our daily lives, for instance \"I started panicing when I got into MIT\", which clearly isn't a natural disaster lol :)"
   ]
  },
  {
   "cell_type": "code",
   "execution_count": 14,
   "metadata": {
    "execution": {
     "iopub.execute_input": "2021-01-10T08:44:17.201350Z",
     "iopub.status.busy": "2021-01-10T08:44:17.199775Z",
     "iopub.status.idle": "2021-01-10T08:44:17.431520Z",
     "shell.execute_reply": "2021-01-10T08:44:17.431103Z"
    },
    "papermill": {
     "duration": 0.313904,
     "end_time": "2021-01-10T08:44:17.431613",
     "exception": false,
     "start_time": "2021-01-10T08:44:17.117709",
     "status": "completed"
    },
    "tags": []
   },
   "outputs": [
    {
     "data": {
      "image/png": "[encoded data removed]",
      "text/plain": [
       "<Figure size 1152x360 with 1 Axes>"
      ]
     },
     "metadata": {
      "needs_background": "light"
     },
     "output_type": "display_data"
    },
    {
     "data": {
      "application/javascript": [
       "\n",
       "            setTimeout(function() {\n",
       "                var nbb_cell_id = 14;\n",
       "                var nbb_unformatted_code = \"# Top 20 Non-Disaster related Keywords\\nkeywords_non_disaster_map = df.keyword.loc[df.target == 0].value_counts(\\n    ascending=False\\n)[:20]\\nplotBarGraph(\\n    keywords_non_disaster_map,\\n    \\\"Frequency\\\",\\n    \\\"Keywords\\\",\\n    \\\"Top 20 non-disaster related keywords\\\",\\n)\";\n",
       "                var nbb_formatted_code = \"# Top 20 Non-Disaster related Keywords\\nkeywords_non_disaster_map = df.keyword.loc[df.target == 0].value_counts(\\n    ascending=False\\n)[:20]\\nplotBarGraph(\\n    keywords_non_disaster_map,\\n    \\\"Frequency\\\",\\n    \\\"Keywords\\\",\\n    \\\"Top 20 non-disaster related keywords\\\",\\n)\";\n",
       "                var nbb_cells = Jupyter.notebook.get_cells();\n",
       "                for (var i = 0; i < nbb_cells.length; ++i) {\n",
       "                    if (nbb_cells[i].input_prompt_number == nbb_cell_id) {\n",
       "                        if (nbb_cells[i].get_text() == nbb_unformatted_code) {\n",
       "                             nbb_cells[i].set_text(nbb_formatted_code);\n",
       "                        }\n",
       "                        break;\n",
       "                    }\n",
       "                }\n",
       "            }, 500);\n",
       "            "
      ],
      "text/plain": [
       "<IPython.core.display.Javascript object>"
      ]
     },
     "metadata": {},
     "output_type": "display_data"
    }
   ],
   "source": [
    "# Top 20 Non-Disaster related Keywords\n",
    "keywords_non_disaster_map = df.keyword.loc[df.target == 0].value_counts(\n",
    "    ascending=False\n",
    ")[:20]\n",
    "plotBarGraph(\n",
    "    keywords_non_disaster_map,\n",
    "    \"Frequency\",\n",
    "    \"Keywords\",\n",
    "    \"Top 20 non-disaster related keywords\",\n",
    ")"
   ]
  },
  {
   "cell_type": "markdown",
   "metadata": {
    "papermill": {
     "duration": 0.054634,
     "end_time": "2021-01-10T08:44:17.543378",
     "exception": false,
     "start_time": "2021-01-10T08:44:17.488744",
     "status": "completed"
    },
    "tags": []
   },
   "source": [
    "# Target Distrubution"
   ]
  },
  {
   "cell_type": "code",
   "execution_count": 15,
   "metadata": {
    "execution": {
     "iopub.execute_input": "2021-01-10T08:44:17.658270Z",
     "iopub.status.busy": "2021-01-10T08:44:17.657746Z",
     "iopub.status.idle": "2021-01-10T08:44:17.765754Z",
     "shell.execute_reply": "2021-01-10T08:44:17.765174Z"
    },
    "papermill": {
     "duration": 0.167003,
     "end_time": "2021-01-10T08:44:17.765857",
     "exception": false,
     "start_time": "2021-01-10T08:44:17.598854",
     "status": "completed"
    },
    "tags": []
   },
   "outputs": [
    {
     "data": {
      "image/png": "[encoded data removed]",
      "text/plain": [
       "<Figure size 1152x360 with 1 Axes>"
      ]
     },
     "metadata": {
      "needs_background": "light"
     },
     "output_type": "display_data"
    },
    {
     "data": {
      "application/javascript": [
       "\n",
       "            setTimeout(function() {\n",
       "                var nbb_cell_id = 15;\n",
       "                var nbb_unformatted_code = \"sns.countplot(x=\\\"target\\\", data=df)\\nplt.show()\";\n",
       "                var nbb_formatted_code = \"sns.countplot(x=\\\"target\\\", data=df)\\nplt.show()\";\n",
       "                var nbb_cells = Jupyter.notebook.get_cells();\n",
       "                for (var i = 0; i < nbb_cells.length; ++i) {\n",
       "                    if (nbb_cells[i].input_prompt_number == nbb_cell_id) {\n",
       "                        if (nbb_cells[i].get_text() == nbb_unformatted_code) {\n",
       "                             nbb_cells[i].set_text(nbb_formatted_code);\n",
       "                        }\n",
       "                        break;\n",
       "                    }\n",
       "                }\n",
       "            }, 500);\n",
       "            "
      ],
      "text/plain": [
       "<IPython.core.display.Javascript object>"
      ]
     },
     "metadata": {},
     "output_type": "display_data"
    }
   ],
   "source": [
    "sns.countplot(x=\"target\", data=df)\n",
    "plt.show()"
   ]
  },
  {
   "cell_type": "markdown",
   "metadata": {
    "papermill": {
     "duration": 0.109131,
     "end_time": "2021-01-10T08:44:17.954641",
     "exception": false,
     "start_time": "2021-01-10T08:44:17.845510",
     "status": "completed"
    },
    "tags": []
   },
   "source": [
    "# Duplicates in Input Text Data"
   ]
  },
  {
   "cell_type": "code",
   "execution_count": 16,
   "metadata": {
    "execution": {
     "iopub.execute_input": "2021-01-10T08:44:18.137100Z",
     "iopub.status.busy": "2021-01-10T08:44:18.136139Z",
     "iopub.status.idle": "2021-01-10T08:44:18.352190Z",
     "shell.execute_reply": "2021-01-10T08:44:18.351360Z"
    },
    "papermill": {
     "duration": 0.312,
     "end_time": "2021-01-10T08:44:18.352322",
     "exception": false,
     "start_time": "2021-01-10T08:44:18.040322",
     "status": "completed"
    },
    "tags": []
   },
   "outputs": [
    {
     "name": "stdout",
     "output_type": "stream",
     "text": [
      "False    7503\n",
      "True      110\n",
      "Name: text, dtype: int64\n"
     ]
    },
    {
     "data": {
      "image/png": "[encoded data removed]",
      "text/plain": [
       "<Figure size 1152x360 with 1 Axes>"
      ]
     },
     "metadata": {
      "needs_background": "light"
     },
     "output_type": "display_data"
    },
    {
     "data": {
      "application/javascript": [
       "\n",
       "            setTimeout(function() {\n",
       "                var nbb_cell_id = 16;\n",
       "                var nbb_unformatted_code = \"# Removing Duplicate Text Data\\ntext_data_duplicate_map = df.text.duplicated().value_counts()\\nprint(text_data_duplicate_map)\\nplotBarGraph(\\n    text_data_duplicate_map,\\n    \\\"Duplicate\\\",\\n    \\\"Frequency\\\",\\n    \\\"Text Data Duplicate or Not\\\",\\n    switch_axis=True,\\n)\";\n",
       "                var nbb_formatted_code = \"# Removing Duplicate Text Data\\ntext_data_duplicate_map = df.text.duplicated().value_counts()\\nprint(text_data_duplicate_map)\\nplotBarGraph(\\n    text_data_duplicate_map,\\n    \\\"Duplicate\\\",\\n    \\\"Frequency\\\",\\n    \\\"Text Data Duplicate or Not\\\",\\n    switch_axis=True,\\n)\";\n",
       "                var nbb_cells = Jupyter.notebook.get_cells();\n",
       "                for (var i = 0; i < nbb_cells.length; ++i) {\n",
       "                    if (nbb_cells[i].input_prompt_number == nbb_cell_id) {\n",
       "                        if (nbb_cells[i].get_text() == nbb_unformatted_code) {\n",
       "                             nbb_cells[i].set_text(nbb_formatted_code);\n",
       "                        }\n",
       "                        break;\n",
       "                    }\n",
       "                }\n",
       "            }, 500);\n",
       "            "
      ],
      "text/plain": [
       "<IPython.core.display.Javascript object>"
      ]
     },
     "metadata": {},
     "output_type": "display_data"
    }
   ],
   "source": [
    "# Removing Duplicate Text Data\n",
    "text_data_duplicate_map = df.text.duplicated().value_counts()\n",
    "print(text_data_duplicate_map)\n",
    "plotBarGraph(\n",
    "    text_data_duplicate_map,\n",
    "    \"Duplicate\",\n",
    "    \"Frequency\",\n",
    "    \"Text Data Duplicate or Not\",\n",
    "    switch_axis=True,\n",
    ")"
   ]
  },
  {
   "cell_type": "markdown",
   "metadata": {
    "papermill": {
     "duration": 0.102791,
     "end_time": "2021-01-10T08:44:18.589583",
     "exception": false,
     "start_time": "2021-01-10T08:44:18.486792",
     "status": "completed"
    },
    "tags": []
   },
   "source": [
    "# Remove Duplicates and only Keeping Original Text"
   ]
  },
  {
   "cell_type": "code",
   "execution_count": 17,
   "metadata": {
    "execution": {
     "iopub.execute_input": "2021-01-10T08:44:18.759097Z",
     "iopub.status.busy": "2021-01-10T08:44:18.758070Z",
     "iopub.status.idle": "2021-01-10T08:44:18.780273Z",
     "shell.execute_reply": "2021-01-10T08:44:18.781235Z"
    },
    "papermill": {
     "duration": 0.100674,
     "end_time": "2021-01-10T08:44:18.781383",
     "exception": false,
     "start_time": "2021-01-10T08:44:18.680709",
     "status": "completed"
    },
    "tags": []
   },
   "outputs": [
    {
     "name": "stdout",
     "output_type": "stream",
     "text": [
      "Original dataframe shape:  (7613, 5)\n",
      "Dropping duplicate rows and keeping original value shape:  (7503, 5)\n"
     ]
    },
    {
     "data": {
      "text/plain": [
       "False    7503\n",
       "Name: text, dtype: int64"
      ]
     },
     "execution_count": 17,
     "metadata": {},
     "output_type": "execute_result"
    },
    {
     "data": {
      "application/javascript": [
       "\n",
       "            setTimeout(function() {\n",
       "                var nbb_cell_id = 17;\n",
       "                var nbb_unformatted_code = \"print(\\\"Original dataframe shape: \\\", df.shape)\\ndf.drop_duplicates(subset=\\\"text\\\", keep=\\\"first\\\", inplace=True)\\nprint(\\\"Dropping duplicate rows and keeping original value shape: \\\", df.shape)\\ndf.text.duplicated().value_counts()\";\n",
       "                var nbb_formatted_code = \"print(\\\"Original dataframe shape: \\\", df.shape)\\ndf.drop_duplicates(subset=\\\"text\\\", keep=\\\"first\\\", inplace=True)\\nprint(\\\"Dropping duplicate rows and keeping original value shape: \\\", df.shape)\\ndf.text.duplicated().value_counts()\";\n",
       "                var nbb_cells = Jupyter.notebook.get_cells();\n",
       "                for (var i = 0; i < nbb_cells.length; ++i) {\n",
       "                    if (nbb_cells[i].input_prompt_number == nbb_cell_id) {\n",
       "                        if (nbb_cells[i].get_text() == nbb_unformatted_code) {\n",
       "                             nbb_cells[i].set_text(nbb_formatted_code);\n",
       "                        }\n",
       "                        break;\n",
       "                    }\n",
       "                }\n",
       "            }, 500);\n",
       "            "
      ],
      "text/plain": [
       "<IPython.core.display.Javascript object>"
      ]
     },
     "metadata": {},
     "output_type": "display_data"
    }
   ],
   "source": [
    "print(\"Original dataframe shape: \", df.shape)\n",
    "df.drop_duplicates(subset=\"text\", keep=\"first\", inplace=True)\n",
    "print(\"Dropping duplicate rows and keeping original value shape: \", df.shape)\n",
    "df.text.duplicated().value_counts()"
   ]
  },
  {
   "cell_type": "markdown",
   "metadata": {
    "papermill": {
     "duration": 0.093765,
     "end_time": "2021-01-10T08:44:18.967235",
     "exception": false,
     "start_time": "2021-01-10T08:44:18.873470",
     "status": "completed"
    },
    "tags": []
   },
   "source": []
  },
  {
   "cell_type": "markdown",
   "metadata": {
    "papermill": {
     "duration": 0.057424,
     "end_time": "2021-01-10T08:44:19.121800",
     "exception": false,
     "start_time": "2021-01-10T08:44:19.064376",
     "status": "completed"
    },
    "tags": []
   },
   "source": [
    "# Search Keywords in Text Column for Debugging Purposes"
   ]
  },
  {
   "cell_type": "code",
   "execution_count": 18,
   "metadata": {
    "execution": {
     "iopub.execute_input": "2021-01-10T08:44:19.250736Z",
     "iopub.status.busy": "2021-01-10T08:44:19.249929Z",
     "iopub.status.idle": "2021-01-10T08:44:19.261554Z",
     "shell.execute_reply": "2021-01-10T08:44:19.261080Z"
    },
    "papermill": {
     "duration": 0.082183,
     "end_time": "2021-01-10T08:44:19.261655",
     "exception": false,
     "start_time": "2021-01-10T08:44:19.179472",
     "status": "completed"
    },
    "tags": []
   },
   "outputs": [
    {
     "name": "stdout",
     "output_type": "stream",
     "text": [
      "1368    @POTUS Would you please explain what you are g...\n",
      "3041    #SCSeEstaPreparando Light mag. 4.4 earthquake ...\n",
      "4714    The sunset looked like an erupting volcano ......\n",
      "6771    Maybe that's what happens when a tornado meets...\n",
      "7126    Jetstar and Virgin forced to cancel Bali fligh...\n",
      "Name: text, dtype: object\n"
     ]
    },
    {
     "data": {
      "application/javascript": [
       "\n",
       "            setTimeout(function() {\n",
       "                var nbb_cell_id = 18;\n",
       "                var nbb_unformatted_code = \"def search_text_data(query, column=\\\"text\\\"):\\n    return df[df[column].str.contains(query)][column]\\n\\n\\nprint(search_text_data(\\\"volcano\\\")[:5])\";\n",
       "                var nbb_formatted_code = \"def search_text_data(query, column=\\\"text\\\"):\\n    return df[df[column].str.contains(query)][column]\\n\\n\\nprint(search_text_data(\\\"volcano\\\")[:5])\";\n",
       "                var nbb_cells = Jupyter.notebook.get_cells();\n",
       "                for (var i = 0; i < nbb_cells.length; ++i) {\n",
       "                    if (nbb_cells[i].input_prompt_number == nbb_cell_id) {\n",
       "                        if (nbb_cells[i].get_text() == nbb_unformatted_code) {\n",
       "                             nbb_cells[i].set_text(nbb_formatted_code);\n",
       "                        }\n",
       "                        break;\n",
       "                    }\n",
       "                }\n",
       "            }, 500);\n",
       "            "
      ],
      "text/plain": [
       "<IPython.core.display.Javascript object>"
      ]
     },
     "metadata": {},
     "output_type": "display_data"
    }
   ],
   "source": [
    "def search_text_data(query, column=\"text\"):\n",
    "    return df[df[column].str.contains(query)][column]\n",
    "\n",
    "\n",
    "print(search_text_data(\"volcano\")[:5])"
   ]
  },
  {
   "cell_type": "markdown",
   "metadata": {
    "papermill": {
     "duration": 0.059507,
     "end_time": "2021-01-10T08:44:19.380548",
     "exception": false,
     "start_time": "2021-01-10T08:44:19.321041",
     "status": "completed"
    },
    "tags": []
   },
   "source": [
    "# Lowercase Data"
   ]
  },
  {
   "cell_type": "code",
   "execution_count": 19,
   "metadata": {
    "execution": {
     "iopub.execute_input": "2021-01-10T08:44:19.506370Z",
     "iopub.status.busy": "2021-01-10T08:44:19.505525Z",
     "iopub.status.idle": "2021-01-10T08:44:19.512431Z",
     "shell.execute_reply": "2021-01-10T08:44:19.511996Z"
    },
    "papermill": {
     "duration": 0.071522,
     "end_time": "2021-01-10T08:44:19.512573",
     "exception": false,
     "start_time": "2021-01-10T08:44:19.441051",
     "status": "completed"
    },
    "tags": []
   },
   "outputs": [
    {
     "data": {
      "application/javascript": [
       "\n",
       "            setTimeout(function() {\n",
       "                var nbb_cell_id = 19;\n",
       "                var nbb_unformatted_code = \"# Lower case text data\\ndef lower_case_data(data=\\\"\\\"):\\n    data = data.lower()\\n    return data\";\n",
       "                var nbb_formatted_code = \"# Lower case text data\\ndef lower_case_data(data=\\\"\\\"):\\n    data = data.lower()\\n    return data\";\n",
       "                var nbb_cells = Jupyter.notebook.get_cells();\n",
       "                for (var i = 0; i < nbb_cells.length; ++i) {\n",
       "                    if (nbb_cells[i].input_prompt_number == nbb_cell_id) {\n",
       "                        if (nbb_cells[i].get_text() == nbb_unformatted_code) {\n",
       "                             nbb_cells[i].set_text(nbb_formatted_code);\n",
       "                        }\n",
       "                        break;\n",
       "                    }\n",
       "                }\n",
       "            }, 500);\n",
       "            "
      ],
      "text/plain": [
       "<IPython.core.display.Javascript object>"
      ]
     },
     "metadata": {},
     "output_type": "display_data"
    }
   ],
   "source": [
    "# Lower case text data\n",
    "def lower_case_data(data=\"\"):\n",
    "    data = data.lower()\n",
    "    return data"
   ]
  },
  {
   "cell_type": "markdown",
   "metadata": {
    "papermill": {
     "duration": 0.058372,
     "end_time": "2021-01-10T08:44:19.629832",
     "exception": false,
     "start_time": "2021-01-10T08:44:19.571460",
     "status": "completed"
    },
    "tags": []
   },
   "source": [
    "# Handle Emojis"
   ]
  },
  {
   "cell_type": "code",
   "execution_count": 20,
   "metadata": {
    "execution": {
     "iopub.execute_input": "2021-01-10T08:44:19.759952Z",
     "iopub.status.busy": "2021-01-10T08:44:19.759139Z",
     "iopub.status.idle": "2021-01-10T08:44:19.777012Z",
     "shell.execute_reply": "2021-01-10T08:44:19.776474Z"
    },
    "papermill": {
     "duration": 0.088213,
     "end_time": "2021-01-10T08:44:19.777106",
     "exception": false,
     "start_time": "2021-01-10T08:44:19.688893",
     "status": "completed"
    },
    "tags": []
   },
   "outputs": [
    {
     "data": {
      "application/javascript": [
       "\n",
       "            setTimeout(function() {\n",
       "                var nbb_cell_id = 20;\n",
       "                var nbb_unformatted_code = \"# Handle Emojis\\ndef sentences_with_emojis(id_texts):\\n    sentences = []\\n    indeces = id_texts[0]\\n    texts = id_texts[1]\\n    for index, sentence in zip(indeces, texts):\\n        has_emoji = bool(emoji.get_emoji_regexp().search(sentence))\\n        if has_emoji:\\n            sentences.append((index, sentence))\\n    if len(sentences) == 0:\\n        return \\\"Sentences are clean and don't have emojis!\\\"\\n    else:\\n        return sentences\\n\\n\\n# Source: https://stackoverflow.com/questions/33404752/removing-emojis-from-a-string-in-python\\ndef clean_emojis(text):\\n    allchars = [str for str in text]\\n    emoji_list = [c for c in allchars if c in emoji.UNICODE_EMOJI]\\n    clean_text = \\\" \\\".join(\\n        [str for str in text.split() if not any(i in str for i in emoji_list)]\\n    )\\n    return clean_text\";\n",
       "                var nbb_formatted_code = \"# Handle Emojis\\ndef sentences_with_emojis(id_texts):\\n    sentences = []\\n    indeces = id_texts[0]\\n    texts = id_texts[1]\\n    for index, sentence in zip(indeces, texts):\\n        has_emoji = bool(emoji.get_emoji_regexp().search(sentence))\\n        if has_emoji:\\n            sentences.append((index, sentence))\\n    if len(sentences) == 0:\\n        return \\\"Sentences are clean and don't have emojis!\\\"\\n    else:\\n        return sentences\\n\\n\\n# Source: https://stackoverflow.com/questions/33404752/removing-emojis-from-a-string-in-python\\ndef clean_emojis(text):\\n    allchars = [str for str in text]\\n    emoji_list = [c for c in allchars if c in emoji.UNICODE_EMOJI]\\n    clean_text = \\\" \\\".join(\\n        [str for str in text.split() if not any(i in str for i in emoji_list)]\\n    )\\n    return clean_text\";\n",
       "                var nbb_cells = Jupyter.notebook.get_cells();\n",
       "                for (var i = 0; i < nbb_cells.length; ++i) {\n",
       "                    if (nbb_cells[i].input_prompt_number == nbb_cell_id) {\n",
       "                        if (nbb_cells[i].get_text() == nbb_unformatted_code) {\n",
       "                             nbb_cells[i].set_text(nbb_formatted_code);\n",
       "                        }\n",
       "                        break;\n",
       "                    }\n",
       "                }\n",
       "            }, 500);\n",
       "            "
      ],
      "text/plain": [
       "<IPython.core.display.Javascript object>"
      ]
     },
     "metadata": {},
     "output_type": "display_data"
    }
   ],
   "source": [
    "# Handle Emojis\n",
    "def sentences_with_emojis(id_texts):\n",
    "    sentences = []\n",
    "    indeces = id_texts[0]\n",
    "    texts = id_texts[1]\n",
    "    for index, sentence in zip(indeces, texts):\n",
    "        has_emoji = bool(emoji.get_emoji_regexp().search(sentence))\n",
    "        if has_emoji:\n",
    "            sentences.append((index, sentence))\n",
    "    if len(sentences) == 0:\n",
    "        return \"Sentences are clean and don't have emojis!\"\n",
    "    else:\n",
    "        return sentences\n",
    "\n",
    "\n",
    "# Source: https://stackoverflow.com/questions/33404752/removing-emojis-from-a-string-in-python\n",
    "def clean_emojis(text):\n",
    "    allchars = [str for str in text]\n",
    "    emoji_list = [c for c in allchars if c in emoji.UNICODE_EMOJI]\n",
    "    clean_text = \" \".join(\n",
    "        [str for str in text.split() if not any(i in str for i in emoji_list)]\n",
    "    )\n",
    "    return clean_text"
   ]
  },
  {
   "cell_type": "markdown",
   "metadata": {
    "papermill": {
     "duration": 0.05964,
     "end_time": "2021-01-10T08:44:19.896501",
     "exception": false,
     "start_time": "2021-01-10T08:44:19.836861",
     "status": "completed"
    },
    "tags": []
   },
   "source": [
    "# Clean Urls"
   ]
  },
  {
   "cell_type": "code",
   "execution_count": 21,
   "metadata": {
    "execution": {
     "iopub.execute_input": "2021-01-10T08:44:20.021894Z",
     "iopub.status.busy": "2021-01-10T08:44:20.021315Z",
     "iopub.status.idle": "2021-01-10T08:44:20.030307Z",
     "shell.execute_reply": "2021-01-10T08:44:20.029892Z"
    },
    "papermill": {
     "duration": 0.073842,
     "end_time": "2021-01-10T08:44:20.030405",
     "exception": false,
     "start_time": "2021-01-10T08:44:19.956563",
     "status": "completed"
    },
    "tags": []
   },
   "outputs": [
    {
     "data": {
      "application/javascript": [
       "\n",
       "            setTimeout(function() {\n",
       "                var nbb_cell_id = 21;\n",
       "                var nbb_unformatted_code = \"# Clean urls\\ndef clean_urls(text):\\n    text = re.sub(r\\\"https?://\\\\S+\\\", \\\"\\\", text)\\n    return text\";\n",
       "                var nbb_formatted_code = \"# Clean urls\\ndef clean_urls(text):\\n    text = re.sub(r\\\"https?://\\\\S+\\\", \\\"\\\", text)\\n    return text\";\n",
       "                var nbb_cells = Jupyter.notebook.get_cells();\n",
       "                for (var i = 0; i < nbb_cells.length; ++i) {\n",
       "                    if (nbb_cells[i].input_prompt_number == nbb_cell_id) {\n",
       "                        if (nbb_cells[i].get_text() == nbb_unformatted_code) {\n",
       "                             nbb_cells[i].set_text(nbb_formatted_code);\n",
       "                        }\n",
       "                        break;\n",
       "                    }\n",
       "                }\n",
       "            }, 500);\n",
       "            "
      ],
      "text/plain": [
       "<IPython.core.display.Javascript object>"
      ]
     },
     "metadata": {},
     "output_type": "display_data"
    }
   ],
   "source": [
    "# Clean urls\n",
    "def clean_urls(text):\n",
    "    text = re.sub(r\"https?://\\S+\", \"\", text)\n",
    "    return text"
   ]
  },
  {
   "cell_type": "markdown",
   "metadata": {
    "papermill": {
     "duration": 0.06006,
     "end_time": "2021-01-10T08:44:20.150987",
     "exception": false,
     "start_time": "2021-01-10T08:44:20.090927",
     "status": "completed"
    },
    "tags": []
   },
   "source": [
    "# Remove Special Characters"
   ]
  },
  {
   "cell_type": "code",
   "execution_count": 22,
   "metadata": {
    "execution": {
     "iopub.execute_input": "2021-01-10T08:44:20.278833Z",
     "iopub.status.busy": "2021-01-10T08:44:20.277902Z",
     "iopub.status.idle": "2021-01-10T08:44:20.287217Z",
     "shell.execute_reply": "2021-01-10T08:44:20.287647Z"
    },
    "papermill": {
     "duration": 0.076545,
     "end_time": "2021-01-10T08:44:20.287810",
     "exception": false,
     "start_time": "2021-01-10T08:44:20.211265",
     "status": "completed"
    },
    "tags": []
   },
   "outputs": [
    {
     "data": {
      "application/javascript": [
       "\n",
       "            setTimeout(function() {\n",
       "                var nbb_cell_id = 22;\n",
       "                var nbb_unformatted_code = \"# Remove all sorts of special characters and punctuations.\\ndef removeSpecialChar(text):\\n    sentence = []\\n    for s in text:\\n        if s == \\\" \\\":\\n            sentence.append(s)\\n        if s.isalnum():\\n            sentence.append(s)\\n    return \\\"\\\".join(sentence)\";\n",
       "                var nbb_formatted_code = \"# Remove all sorts of special characters and punctuations.\\ndef removeSpecialChar(text):\\n    sentence = []\\n    for s in text:\\n        if s == \\\" \\\":\\n            sentence.append(s)\\n        if s.isalnum():\\n            sentence.append(s)\\n    return \\\"\\\".join(sentence)\";\n",
       "                var nbb_cells = Jupyter.notebook.get_cells();\n",
       "                for (var i = 0; i < nbb_cells.length; ++i) {\n",
       "                    if (nbb_cells[i].input_prompt_number == nbb_cell_id) {\n",
       "                        if (nbb_cells[i].get_text() == nbb_unformatted_code) {\n",
       "                             nbb_cells[i].set_text(nbb_formatted_code);\n",
       "                        }\n",
       "                        break;\n",
       "                    }\n",
       "                }\n",
       "            }, 500);\n",
       "            "
      ],
      "text/plain": [
       "<IPython.core.display.Javascript object>"
      ]
     },
     "metadata": {},
     "output_type": "display_data"
    }
   ],
   "source": [
    "# Remove all sorts of special characters and punctuations.\n",
    "def removeSpecialChar(text):\n",
    "    sentence = []\n",
    "    for s in text:\n",
    "        if s == \" \":\n",
    "            sentence.append(s)\n",
    "        if s.isalnum():\n",
    "            sentence.append(s)\n",
    "    return \"\".join(sentence)"
   ]
  },
  {
   "cell_type": "markdown",
   "metadata": {
    "papermill": {
     "duration": 0.061733,
     "end_time": "2021-01-10T08:44:20.410118",
     "exception": false,
     "start_time": "2021-01-10T08:44:20.348385",
     "status": "completed"
    },
    "tags": []
   },
   "source": [
    "# Check HTML"
   ]
  },
  {
   "cell_type": "code",
   "execution_count": 23,
   "metadata": {
    "execution": {
     "iopub.execute_input": "2021-01-10T08:44:20.539013Z",
     "iopub.status.busy": "2021-01-10T08:44:20.538076Z",
     "iopub.status.idle": "2021-01-10T08:44:21.033062Z",
     "shell.execute_reply": "2021-01-10T08:44:21.033783Z"
    },
    "papermill": {
     "duration": 0.563209,
     "end_time": "2021-01-10T08:44:21.033958",
     "exception": false,
     "start_time": "2021-01-10T08:44:20.470749",
     "status": "completed"
    },
    "tags": []
   },
   "outputs": [
    {
     "name": "stdout",
     "output_type": "stream",
     "text": [
      "No text containing html found!\n"
     ]
    },
    {
     "data": {
      "application/javascript": [
       "\n",
       "            setTimeout(function() {\n",
       "                var nbb_cell_id = 23;\n",
       "                var nbb_unformatted_code = \"# Check any html text in df.text (not cleaned yet) column\\ndef checkHtml(text):\\n    return bool(BeautifulSoup(text, \\\"html.parser\\\").find())\\n\\n\\nhtml_sentence_map = df[\\\"text\\\"].apply(checkHtml).tolist()\\nif not any(html_sentence_map):\\n    print(\\\"No text containing html found!\\\")\\nelse:\\n    print(\\\"There is some html text!\\\")\";\n",
       "                var nbb_formatted_code = \"# Check any html text in df.text (not cleaned yet) column\\ndef checkHtml(text):\\n    return bool(BeautifulSoup(text, \\\"html.parser\\\").find())\\n\\n\\nhtml_sentence_map = df[\\\"text\\\"].apply(checkHtml).tolist()\\nif not any(html_sentence_map):\\n    print(\\\"No text containing html found!\\\")\\nelse:\\n    print(\\\"There is some html text!\\\")\";\n",
       "                var nbb_cells = Jupyter.notebook.get_cells();\n",
       "                for (var i = 0; i < nbb_cells.length; ++i) {\n",
       "                    if (nbb_cells[i].input_prompt_number == nbb_cell_id) {\n",
       "                        if (nbb_cells[i].get_text() == nbb_unformatted_code) {\n",
       "                             nbb_cells[i].set_text(nbb_formatted_code);\n",
       "                        }\n",
       "                        break;\n",
       "                    }\n",
       "                }\n",
       "            }, 500);\n",
       "            "
      ],
      "text/plain": [
       "<IPython.core.display.Javascript object>"
      ]
     },
     "metadata": {},
     "output_type": "display_data"
    }
   ],
   "source": [
    "# Check any html text in df.text (not cleaned yet) column\n",
    "def checkHtml(text):\n",
    "    return bool(BeautifulSoup(text, \"html.parser\").find())\n",
    "\n",
    "\n",
    "html_sentence_map = df[\"text\"].apply(checkHtml).tolist()\n",
    "if not any(html_sentence_map):\n",
    "    print(\"No text containing html found!\")\n",
    "else:\n",
    "    print(\"There is some html text!\")"
   ]
  },
  {
   "cell_type": "markdown",
   "metadata": {
    "papermill": {
     "duration": 0.063469,
     "end_time": "2021-01-10T08:44:21.168022",
     "exception": false,
     "start_time": "2021-01-10T08:44:21.104553",
     "status": "completed"
    },
    "tags": []
   },
   "source": [
    "# Remove Accented Characters"
   ]
  },
  {
   "cell_type": "code",
   "execution_count": 24,
   "metadata": {
    "execution": {
     "iopub.execute_input": "2021-01-10T08:44:21.302312Z",
     "iopub.status.busy": "2021-01-10T08:44:21.301464Z",
     "iopub.status.idle": "2021-01-10T08:44:21.309255Z",
     "shell.execute_reply": "2021-01-10T08:44:21.309640Z"
    },
    "papermill": {
     "duration": 0.07765,
     "end_time": "2021-01-10T08:44:21.309772",
     "exception": false,
     "start_time": "2021-01-10T08:44:21.232122",
     "status": "completed"
    },
    "tags": []
   },
   "outputs": [
    {
     "data": {
      "application/javascript": [
       "\n",
       "            setTimeout(function() {\n",
       "                var nbb_cell_id = 24;\n",
       "                var nbb_unformatted_code = \"# Remove accented text\\ndef remove_accented_chars(text):\\n    new_text = (\\n        unicodedata.normalize(\\\"NFKD\\\", text)\\n        .encode(\\\"ascii\\\", \\\"ignore\\\")\\n        .decode(\\\"utf-8\\\", \\\"ignore\\\")\\n    )\\n    return new_text\";\n",
       "                var nbb_formatted_code = \"# Remove accented text\\ndef remove_accented_chars(text):\\n    new_text = (\\n        unicodedata.normalize(\\\"NFKD\\\", text)\\n        .encode(\\\"ascii\\\", \\\"ignore\\\")\\n        .decode(\\\"utf-8\\\", \\\"ignore\\\")\\n    )\\n    return new_text\";\n",
       "                var nbb_cells = Jupyter.notebook.get_cells();\n",
       "                for (var i = 0; i < nbb_cells.length; ++i) {\n",
       "                    if (nbb_cells[i].input_prompt_number == nbb_cell_id) {\n",
       "                        if (nbb_cells[i].get_text() == nbb_unformatted_code) {\n",
       "                             nbb_cells[i].set_text(nbb_formatted_code);\n",
       "                        }\n",
       "                        break;\n",
       "                    }\n",
       "                }\n",
       "            }, 500);\n",
       "            "
      ],
      "text/plain": [
       "<IPython.core.display.Javascript object>"
      ]
     },
     "metadata": {},
     "output_type": "display_data"
    }
   ],
   "source": [
    "# Remove accented text\n",
    "def remove_accented_chars(text):\n",
    "    new_text = (\n",
    "        unicodedata.normalize(\"NFKD\", text)\n",
    "        .encode(\"ascii\", \"ignore\")\n",
    "        .decode(\"utf-8\", \"ignore\")\n",
    "    )\n",
    "    return new_text"
   ]
  },
  {
   "cell_type": "markdown",
   "metadata": {
    "papermill": {
     "duration": 0.062791,
     "end_time": "2021-01-10T08:44:21.439786",
     "exception": false,
     "start_time": "2021-01-10T08:44:21.376995",
     "status": "completed"
    },
    "tags": []
   },
   "source": [
    "# Preprocesses Nltk Stopwords"
   ]
  },
  {
   "cell_type": "code",
   "execution_count": 25,
   "metadata": {
    "execution": {
     "iopub.execute_input": "2021-01-10T08:44:21.571079Z",
     "iopub.status.busy": "2021-01-10T08:44:21.570431Z",
     "iopub.status.idle": "2021-01-10T08:44:21.595591Z",
     "shell.execute_reply": "2021-01-10T08:44:21.595065Z"
    },
    "papermill": {
     "duration": 0.093661,
     "end_time": "2021-01-10T08:44:21.595700",
     "exception": false,
     "start_time": "2021-01-10T08:44:21.502039",
     "status": "completed"
    },
    "tags": []
   },
   "outputs": [
    {
     "name": "stdout",
     "output_type": "stream",
     "text": [
      "['i', 'me', 'my', 'myself', 'we', 'our', 'ours', 'ourselves', 'you', \"you're\", \"you've\", \"you'll\", \"you'd\", 'your', 'yours', 'yourself', 'yourselves', 'he', 'him', 'his', 'himself', 'she', \"she's\", 'her', 'hers', 'herself', 'it', \"it's\", 'its', 'itself', 'they', 'them', 'their', 'theirs', 'themselves', 'what', 'which', 'who', 'whom', 'this', 'that', \"that'll\", 'these', 'those', 'am', 'is', 'are', 'was', 'were', 'be', 'been', 'being', 'have', 'has', 'had', 'having', 'do', 'does', 'did', 'doing', 'a', 'an', 'the', 'and', 'but', 'if', 'or', 'because', 'as', 'until', 'while', 'of', 'at', 'by', 'for', 'with', 'about', 'against', 'between', 'into', 'through', 'during', 'before', 'after', 'above', 'below', 'to', 'from', 'up', 'down', 'in', 'out', 'on', 'off', 'over', 'under', 'again', 'further', 'then', 'once', 'here', 'there', 'when', 'where', 'why', 'how', 'all', 'any', 'both', 'each', 'few', 'more', 'most', 'other', 'some', 'such', 'no', 'nor', 'not', 'only', 'own', 'same', 'so', 'than', 'too', 'very', 's', 't', 'can', 'will', 'just', 'don', \"don't\", 'should', \"should've\", 'now', 'd', 'll', 'm', 'o', 're', 've', 'y', 'ain', 'aren', \"aren't\", 'couldn', \"couldn't\", 'didn', \"didn't\", 'doesn', \"doesn't\", 'hadn', \"hadn't\", 'hasn', \"hasn't\", 'haven', \"haven't\", 'isn', \"isn't\", 'ma', 'mightn', \"mightn't\", 'mustn', \"mustn't\", 'needn', \"needn't\", 'shan', \"shan't\", 'shouldn', \"shouldn't\", 'wasn', \"wasn't\", 'weren', \"weren't\", 'won', \"won't\", 'wouldn', \"wouldn't\"]\n",
      "\n",
      "---------------Stopwords after preprocessing---------------\n",
      "\n",
      "['i', 'me', 'my', 'myself', 'we', 'our', 'ours', 'ourselves', 'you', 'you are', 'you have', 'you will', 'you would', 'your', 'yours', 'yourself', 'yourselves', 'he', 'him', 'his', 'himself', 'she', 'she is', 'her', 'hers', 'herself', 'it', 'it is', 'its', 'itself', 'they', 'them', 'their', 'theirs', 'themselves', 'what', 'which', 'who', 'whom', 'this', 'that', 'that will', 'these', 'those', 'am', 'is', 'are', 'was', 'were', 'be', 'been', 'being', 'have', 'has', 'had', 'having', 'do', 'does', 'did', 'doing', 'a', 'an', 'the', 'and', 'but', 'if', 'or', 'because', 'as', 'until', 'while', 'of', 'at', 'by', 'for', 'with', 'about', 'against', 'between', 'into', 'through', 'during', 'before', 'after', 'above', 'below', 'to', 'from', 'up', 'down', 'in', 'out', 'on', 'off', 'over', 'under', 'again', 'further', 'then', 'once', 'here', 'there', 'when', 'where', 'why', 'how', 'all', 'any', 'both', 'each', 'few', 'more', 'most', 'other', 'some', 'such', 'no', 'nor', 'only', 'own', 'same', 'so', 'than', 'too', 'very', 's', 't', 'can', 'will', 'just', 'don', 'should', 'should have', 'now', 'd', 'll', 'm', 'of', 're', 've', 'y', 'ain', 'aren', 'couldn', 'didn', 'doesn', 'hadn', 'hasn', 'haven', 'isn', 'ma', 'mightn', 'mustn', 'needn', 'shan', 'shouldn', 'wasn', 'weren', 'won', 'wouldn']\n"
     ]
    },
    {
     "data": {
      "application/javascript": [
       "\n",
       "            setTimeout(function() {\n",
       "                var nbb_cell_id = 25;\n",
       "                var nbb_unformatted_code = \"# Explore Stopwords list from nltk\\ndef remove_words_having_not(words=[\\\"\\\"]):\\n    for word in words:\\n        if \\\"not\\\" in word:\\n            words.remove(word)\\n    return words\\n\\n\\nstopwords_list = stopwords.words(\\\"english\\\")\\nprint(stopwords_list)\\nstopwords_list = remove_words_having_not(\\n    [removeSpecialChar(contractions.fix(word)) for word in stopwords_list]\\n)\\nprint(\\\"\\\\n---------------Stopwords after preprocessing---------------\\\\n\\\")\\nprint(stopwords_list)\";\n",
       "                var nbb_formatted_code = \"# Explore Stopwords list from nltk\\ndef remove_words_having_not(words=[\\\"\\\"]):\\n    for word in words:\\n        if \\\"not\\\" in word:\\n            words.remove(word)\\n    return words\\n\\n\\nstopwords_list = stopwords.words(\\\"english\\\")\\nprint(stopwords_list)\\nstopwords_list = remove_words_having_not(\\n    [removeSpecialChar(contractions.fix(word)) for word in stopwords_list]\\n)\\nprint(\\\"\\\\n---------------Stopwords after preprocessing---------------\\\\n\\\")\\nprint(stopwords_list)\";\n",
       "                var nbb_cells = Jupyter.notebook.get_cells();\n",
       "                for (var i = 0; i < nbb_cells.length; ++i) {\n",
       "                    if (nbb_cells[i].input_prompt_number == nbb_cell_id) {\n",
       "                        if (nbb_cells[i].get_text() == nbb_unformatted_code) {\n",
       "                             nbb_cells[i].set_text(nbb_formatted_code);\n",
       "                        }\n",
       "                        break;\n",
       "                    }\n",
       "                }\n",
       "            }, 500);\n",
       "            "
      ],
      "text/plain": [
       "<IPython.core.display.Javascript object>"
      ]
     },
     "metadata": {},
     "output_type": "display_data"
    }
   ],
   "source": [
    "# Explore Stopwords list from nltk\n",
    "def remove_words_having_not(words=[\"\"]):\n",
    "    for word in words:\n",
    "        if \"not\" in word:\n",
    "            words.remove(word)\n",
    "    return words\n",
    "\n",
    "\n",
    "stopwords_list = stopwords.words(\"english\")\n",
    "print(stopwords_list)\n",
    "stopwords_list = remove_words_having_not(\n",
    "    [removeSpecialChar(contractions.fix(word)) for word in stopwords_list]\n",
    ")\n",
    "print(\"\\n---------------Stopwords after preprocessing---------------\\n\")\n",
    "print(stopwords_list)"
   ]
  },
  {
   "cell_type": "markdown",
   "metadata": {
    "papermill": {
     "duration": 0.064322,
     "end_time": "2021-01-10T08:44:21.724435",
     "exception": false,
     "start_time": "2021-01-10T08:44:21.660113",
     "status": "completed"
    },
    "tags": []
   },
   "source": [
    "# Remove stopwords"
   ]
  },
  {
   "cell_type": "code",
   "execution_count": 26,
   "metadata": {
    "execution": {
     "iopub.execute_input": "2021-01-10T08:44:21.863270Z",
     "iopub.status.busy": "2021-01-10T08:44:21.862235Z",
     "iopub.status.idle": "2021-01-10T08:44:21.871210Z",
     "shell.execute_reply": "2021-01-10T08:44:21.870634Z"
    },
    "papermill": {
     "duration": 0.082219,
     "end_time": "2021-01-10T08:44:21.871309",
     "exception": false,
     "start_time": "2021-01-10T08:44:21.789090",
     "status": "completed"
    },
    "tags": []
   },
   "outputs": [
    {
     "data": {
      "application/javascript": [
       "\n",
       "            setTimeout(function() {\n",
       "                var nbb_cell_id = 26;\n",
       "                var nbb_unformatted_code = \"# Remove stopwords from nltk corpus\\ndef remove_stopwords(text):\\n    new_sentence = \\\"\\\"\\n    for word in text.split():\\n        if word not in stopwords_list:\\n            new_sentence += word + \\\" \\\"\\n    return new_sentence\";\n",
       "                var nbb_formatted_code = \"# Remove stopwords from nltk corpus\\ndef remove_stopwords(text):\\n    new_sentence = \\\"\\\"\\n    for word in text.split():\\n        if word not in stopwords_list:\\n            new_sentence += word + \\\" \\\"\\n    return new_sentence\";\n",
       "                var nbb_cells = Jupyter.notebook.get_cells();\n",
       "                for (var i = 0; i < nbb_cells.length; ++i) {\n",
       "                    if (nbb_cells[i].input_prompt_number == nbb_cell_id) {\n",
       "                        if (nbb_cells[i].get_text() == nbb_unformatted_code) {\n",
       "                             nbb_cells[i].set_text(nbb_formatted_code);\n",
       "                        }\n",
       "                        break;\n",
       "                    }\n",
       "                }\n",
       "            }, 500);\n",
       "            "
      ],
      "text/plain": [
       "<IPython.core.display.Javascript object>"
      ]
     },
     "metadata": {},
     "output_type": "display_data"
    }
   ],
   "source": [
    "# Remove stopwords from nltk corpus\n",
    "def remove_stopwords(text):\n",
    "    new_sentence = \"\"\n",
    "    for word in text.split():\n",
    "        if word not in stopwords_list:\n",
    "            new_sentence += word + \" \"\n",
    "    return new_sentence"
   ]
  },
  {
   "cell_type": "markdown",
   "metadata": {
    "papermill": {
     "duration": 0.063639,
     "end_time": "2021-01-10T08:44:22.000342",
     "exception": false,
     "start_time": "2021-01-10T08:44:21.936703",
     "status": "completed"
    },
    "tags": []
   },
   "source": [
    "# Remove numbers from Text"
   ]
  },
  {
   "cell_type": "code",
   "execution_count": 27,
   "metadata": {
    "execution": {
     "iopub.execute_input": "2021-01-10T08:44:22.139032Z",
     "iopub.status.busy": "2021-01-10T08:44:22.138116Z",
     "iopub.status.idle": "2021-01-10T08:44:22.147589Z",
     "shell.execute_reply": "2021-01-10T08:44:22.147056Z"
    },
    "papermill": {
     "duration": 0.082993,
     "end_time": "2021-01-10T08:44:22.147696",
     "exception": false,
     "start_time": "2021-01-10T08:44:22.064703",
     "status": "completed"
    },
    "tags": []
   },
   "outputs": [
    {
     "data": {
      "application/javascript": [
       "\n",
       "            setTimeout(function() {\n",
       "                var nbb_cell_id = 27;\n",
       "                var nbb_unformatted_code = \"# Remove numbers from text\\ndef remove_numbers(text=\\\"\\\"):\\n    new_sentence = \\\"\\\"\\n    for word in text.split():\\n        num_free_word = \\\"\\\".join([i for i in word if not i.isdigit()])\\n        new_sentence += num_free_word + \\\" \\\"\\n    return new_sentence\";\n",
       "                var nbb_formatted_code = \"# Remove numbers from text\\ndef remove_numbers(text=\\\"\\\"):\\n    new_sentence = \\\"\\\"\\n    for word in text.split():\\n        num_free_word = \\\"\\\".join([i for i in word if not i.isdigit()])\\n        new_sentence += num_free_word + \\\" \\\"\\n    return new_sentence\";\n",
       "                var nbb_cells = Jupyter.notebook.get_cells();\n",
       "                for (var i = 0; i < nbb_cells.length; ++i) {\n",
       "                    if (nbb_cells[i].input_prompt_number == nbb_cell_id) {\n",
       "                        if (nbb_cells[i].get_text() == nbb_unformatted_code) {\n",
       "                             nbb_cells[i].set_text(nbb_formatted_code);\n",
       "                        }\n",
       "                        break;\n",
       "                    }\n",
       "                }\n",
       "            }, 500);\n",
       "            "
      ],
      "text/plain": [
       "<IPython.core.display.Javascript object>"
      ]
     },
     "metadata": {},
     "output_type": "display_data"
    }
   ],
   "source": [
    "# Remove numbers from text\n",
    "def remove_numbers(text=\"\"):\n",
    "    new_sentence = \"\"\n",
    "    for word in text.split():\n",
    "        num_free_word = \"\".join([i for i in word if not i.isdigit()])\n",
    "        new_sentence += num_free_word + \" \"\n",
    "    return new_sentence"
   ]
  },
  {
   "cell_type": "markdown",
   "metadata": {
    "papermill": {
     "duration": 0.065324,
     "end_time": "2021-01-10T08:44:22.286363",
     "exception": false,
     "start_time": "2021-01-10T08:44:22.221039",
     "status": "completed"
    },
    "tags": []
   },
   "source": [
    "# Lemmatize Text\n",
    "* Essentially simplify each word in the sentence to it's basic form. eg. residents->resident"
   ]
  },
  {
   "cell_type": "code",
   "execution_count": 28,
   "metadata": {
    "execution": {
     "iopub.execute_input": "2021-01-10T08:44:22.422186Z",
     "iopub.status.busy": "2021-01-10T08:44:22.421365Z",
     "iopub.status.idle": "2021-01-10T08:44:22.429450Z",
     "shell.execute_reply": "2021-01-10T08:44:22.429855Z"
    },
    "papermill": {
     "duration": 0.079334,
     "end_time": "2021-01-10T08:44:22.429965",
     "exception": false,
     "start_time": "2021-01-10T08:44:22.350631",
     "status": "completed"
    },
    "tags": []
   },
   "outputs": [
    {
     "data": {
      "application/javascript": [
       "\n",
       "            setTimeout(function() {\n",
       "                var nbb_cell_id = 28;\n",
       "                var nbb_unformatted_code = \"# lemmatization\\ndef lemmatize(text):\\n    lemmatizer = WordNetLemmatizer()\\n    new_sentence = \\\"\\\"\\n    for word in text.split():\\n        lematized_word = lemmatizer.lemmatize(word)\\n        new_sentence += lematized_word + \\\" \\\"\\n    return new_sentence\";\n",
       "                var nbb_formatted_code = \"# lemmatization\\ndef lemmatize(text):\\n    lemmatizer = WordNetLemmatizer()\\n    new_sentence = \\\"\\\"\\n    for word in text.split():\\n        lematized_word = lemmatizer.lemmatize(word)\\n        new_sentence += lematized_word + \\\" \\\"\\n    return new_sentence\";\n",
       "                var nbb_cells = Jupyter.notebook.get_cells();\n",
       "                for (var i = 0; i < nbb_cells.length; ++i) {\n",
       "                    if (nbb_cells[i].input_prompt_number == nbb_cell_id) {\n",
       "                        if (nbb_cells[i].get_text() == nbb_unformatted_code) {\n",
       "                             nbb_cells[i].set_text(nbb_formatted_code);\n",
       "                        }\n",
       "                        break;\n",
       "                    }\n",
       "                }\n",
       "            }, 500);\n",
       "            "
      ],
      "text/plain": [
       "<IPython.core.display.Javascript object>"
      ]
     },
     "metadata": {},
     "output_type": "display_data"
    }
   ],
   "source": [
    "# lemmatization\n",
    "def lemmatize(text):\n",
    "    lemmatizer = WordNetLemmatizer()\n",
    "    new_sentence = \"\"\n",
    "    for word in text.split():\n",
    "        lematized_word = lemmatizer.lemmatize(word)\n",
    "        new_sentence += lematized_word + \" \"\n",
    "    return new_sentence"
   ]
  },
  {
   "cell_type": "markdown",
   "metadata": {
    "papermill": {
     "duration": 0.064993,
     "end_time": "2021-01-10T08:44:22.560235",
     "exception": false,
     "start_time": "2021-01-10T08:44:22.495242",
     "status": "completed"
    },
    "tags": []
   },
   "source": [
    "# Remove WhiteSpaces"
   ]
  },
  {
   "cell_type": "code",
   "execution_count": 29,
   "metadata": {
    "execution": {
     "iopub.execute_input": "2021-01-10T08:44:22.696774Z",
     "iopub.status.busy": "2021-01-10T08:44:22.695794Z",
     "iopub.status.idle": "2021-01-10T08:44:22.702117Z",
     "shell.execute_reply": "2021-01-10T08:44:22.702819Z"
    },
    "papermill": {
     "duration": 0.077683,
     "end_time": "2021-01-10T08:44:22.702933",
     "exception": false,
     "start_time": "2021-01-10T08:44:22.625250",
     "status": "completed"
    },
    "tags": []
   },
   "outputs": [
    {
     "data": {
      "application/javascript": [
       "\n",
       "            setTimeout(function() {\n",
       "                var nbb_cell_id = 29;\n",
       "                var nbb_unformatted_code = \"# Final data cleaning step is removing non-essential whitespaces\\ndef remove_white_space(text):\\n    return \\\" \\\".join(text.split())\";\n",
       "                var nbb_formatted_code = \"# Final data cleaning step is removing non-essential whitespaces\\ndef remove_white_space(text):\\n    return \\\" \\\".join(text.split())\";\n",
       "                var nbb_cells = Jupyter.notebook.get_cells();\n",
       "                for (var i = 0; i < nbb_cells.length; ++i) {\n",
       "                    if (nbb_cells[i].input_prompt_number == nbb_cell_id) {\n",
       "                        if (nbb_cells[i].get_text() == nbb_unformatted_code) {\n",
       "                             nbb_cells[i].set_text(nbb_formatted_code);\n",
       "                        }\n",
       "                        break;\n",
       "                    }\n",
       "                }\n",
       "            }, 500);\n",
       "            "
      ],
      "text/plain": [
       "<IPython.core.display.Javascript object>"
      ]
     },
     "metadata": {},
     "output_type": "display_data"
    }
   ],
   "source": [
    "# Final data cleaning step is removing non-essential whitespaces\n",
    "def remove_white_space(text):\n",
    "    return \" \".join(text.split())"
   ]
  },
  {
   "cell_type": "markdown",
   "metadata": {
    "papermill": {
     "duration": 0.071262,
     "end_time": "2021-01-10T08:44:22.842740",
     "exception": false,
     "start_time": "2021-01-10T08:44:22.771478",
     "status": "completed"
    },
    "tags": []
   },
   "source": [
    "# Clean any text column pipeline"
   ]
  },
  {
   "cell_type": "code",
   "execution_count": 30,
   "metadata": {
    "execution": {
     "iopub.execute_input": "2021-01-10T08:44:22.981151Z",
     "iopub.status.busy": "2021-01-10T08:44:22.980598Z",
     "iopub.status.idle": "2021-01-10T08:44:25.883702Z",
     "shell.execute_reply": "2021-01-10T08:44:25.884150Z"
    },
    "papermill": {
     "duration": 2.977244,
     "end_time": "2021-01-10T08:44:25.884273",
     "exception": false,
     "start_time": "2021-01-10T08:44:22.907029",
     "status": "completed"
    },
    "tags": []
   },
   "outputs": [
    {
     "data": {
      "application/javascript": [
       "\n",
       "            setTimeout(function() {\n",
       "                var nbb_cell_id = 30;\n",
       "                var nbb_unformatted_code = \"# Text cleaning pipeline\\ndef clean_sentence_pipeline(text):\\n    text = lower_case_data(text)\\n    text = clean_emojis(text)\\n    text = clean_urls(text)\\n    text = contractions.fix(text)\\n    text = removeSpecialChar(text)\\n    text = remove_accented_chars(text)\\n    text = remove_stopwords(text)\\n    text = remove_numbers(text)\\n    text = lemmatize(text)\\n    return remove_white_space(text)\\n\\n\\ndef clean_text_column(col_name, df=df):\\n    df[\\\"clean_text\\\"] = \\\"\\\"\\n    df[\\\"clean_text\\\"] = df[col_name].apply(clean_sentence_pipeline)\\n\\n\\nclean_text_column(\\\"text\\\")\";\n",
       "                var nbb_formatted_code = \"# Text cleaning pipeline\\ndef clean_sentence_pipeline(text):\\n    text = lower_case_data(text)\\n    text = clean_emojis(text)\\n    text = clean_urls(text)\\n    text = contractions.fix(text)\\n    text = removeSpecialChar(text)\\n    text = remove_accented_chars(text)\\n    text = remove_stopwords(text)\\n    text = remove_numbers(text)\\n    text = lemmatize(text)\\n    return remove_white_space(text)\\n\\n\\ndef clean_text_column(col_name, df=df):\\n    df[\\\"clean_text\\\"] = \\\"\\\"\\n    df[\\\"clean_text\\\"] = df[col_name].apply(clean_sentence_pipeline)\\n\\n\\nclean_text_column(\\\"text\\\")\";\n",
       "                var nbb_cells = Jupyter.notebook.get_cells();\n",
       "                for (var i = 0; i < nbb_cells.length; ++i) {\n",
       "                    if (nbb_cells[i].input_prompt_number == nbb_cell_id) {\n",
       "                        if (nbb_cells[i].get_text() == nbb_unformatted_code) {\n",
       "                             nbb_cells[i].set_text(nbb_formatted_code);\n",
       "                        }\n",
       "                        break;\n",
       "                    }\n",
       "                }\n",
       "            }, 500);\n",
       "            "
      ],
      "text/plain": [
       "<IPython.core.display.Javascript object>"
      ]
     },
     "metadata": {},
     "output_type": "display_data"
    }
   ],
   "source": [
    "# Text cleaning pipeline\n",
    "def clean_sentence_pipeline(text):\n",
    "    text = lower_case_data(text)\n",
    "    text = clean_emojis(text)\n",
    "    text = clean_urls(text)\n",
    "    text = contractions.fix(text)\n",
    "    text = removeSpecialChar(text)\n",
    "    text = remove_accented_chars(text)\n",
    "    text = remove_stopwords(text)\n",
    "    text = remove_numbers(text)\n",
    "    text = lemmatize(text)\n",
    "    return remove_white_space(text)\n",
    "\n",
    "\n",
    "def clean_text_column(col_name, df=df):\n",
    "    df[\"clean_text\"] = \"\"\n",
    "    df[\"clean_text\"] = df[col_name].apply(clean_sentence_pipeline)\n",
    "\n",
    "\n",
    "clean_text_column(\"text\")"
   ]
  },
  {
   "cell_type": "markdown",
   "metadata": {
    "papermill": {
     "duration": 0.064675,
     "end_time": "2021-01-10T08:44:26.014089",
     "exception": false,
     "start_time": "2021-01-10T08:44:25.949414",
     "status": "completed"
    },
    "tags": []
   },
   "source": [
    "# Comparisons of Cleaned Text"
   ]
  },
  {
   "cell_type": "code",
   "execution_count": 31,
   "metadata": {
    "execution": {
     "iopub.execute_input": "2021-01-10T08:44:26.148561Z",
     "iopub.status.busy": "2021-01-10T08:44:26.147826Z",
     "iopub.status.idle": "2021-01-10T08:44:26.164752Z",
     "shell.execute_reply": "2021-01-10T08:44:26.164255Z"
    },
    "papermill": {
     "duration": 0.086154,
     "end_time": "2021-01-10T08:44:26.164850",
     "exception": false,
     "start_time": "2021-01-10T08:44:26.078696",
     "status": "completed"
    },
    "tags": []
   },
   "outputs": [
    {
     "data": {
      "text/html": [
       "<div>\n",
       "<style scoped>\n",
       "    .dataframe tbody tr th:only-of-type {\n",
       "        vertical-align: middle;\n",
       "    }\n",
       "\n",
       "    .dataframe tbody tr th {\n",
       "        vertical-align: top;\n",
       "    }\n",
       "\n",
       "    .dataframe thead th {\n",
       "        text-align: right;\n",
       "    }\n",
       "</style>\n",
       "<table border=\"1\" class=\"dataframe\">\n",
       "  <thead>\n",
       "    <tr style=\"text-align: right;\">\n",
       "      <th></th>\n",
       "      <th>text</th>\n",
       "      <th>clean_text</th>\n",
       "    </tr>\n",
       "  </thead>\n",
       "  <tbody>\n",
       "    <tr>\n",
       "      <th>0</th>\n",
       "      <td>Our Deeds are the Reason of this #earthquake M...</td>\n",
       "      <td>deed reason earthquake may allah forgive u</td>\n",
       "    </tr>\n",
       "    <tr>\n",
       "      <th>1</th>\n",
       "      <td>Forest fire near La Ronge Sask. Canada</td>\n",
       "      <td>forest fire near la ronge sask canada</td>\n",
       "    </tr>\n",
       "    <tr>\n",
       "      <th>2</th>\n",
       "      <td>All residents asked to 'shelter in place' are ...</td>\n",
       "      <td>resident asked shelter place notified officer ...</td>\n",
       "    </tr>\n",
       "    <tr>\n",
       "      <th>3</th>\n",
       "      <td>13,000 people receive #wildfires evacuation or...</td>\n",
       "      <td>people receive wildfire evacuation order calif...</td>\n",
       "    </tr>\n",
       "    <tr>\n",
       "      <th>4</th>\n",
       "      <td>Just got sent this photo from Ruby #Alaska as ...</td>\n",
       "      <td>got sent photo ruby alaska smoke wildfire pour...</td>\n",
       "    </tr>\n",
       "    <tr>\n",
       "      <th>...</th>\n",
       "      <td>...</td>\n",
       "      <td>...</td>\n",
       "    </tr>\n",
       "    <tr>\n",
       "      <th>7604</th>\n",
       "      <td>#WorldNews Fallen powerlines on G:link tram: U...</td>\n",
       "      <td>worldnews fallen powerlines glink tram update ...</td>\n",
       "    </tr>\n",
       "    <tr>\n",
       "      <th>7605</th>\n",
       "      <td>on the flip side I'm at Walmart and there is a...</td>\n",
       "      <td>flip side I walmart bomb everyone evacuate sta...</td>\n",
       "    </tr>\n",
       "    <tr>\n",
       "      <th>7606</th>\n",
       "      <td>Suicide bomber kills 15 in Saudi security site...</td>\n",
       "      <td>suicide bomber kill saudi security site mosque...</td>\n",
       "    </tr>\n",
       "    <tr>\n",
       "      <th>7608</th>\n",
       "      <td>Two giant cranes holding a bridge collapse int...</td>\n",
       "      <td>two giant crane holding bridge collapse nearby...</td>\n",
       "    </tr>\n",
       "    <tr>\n",
       "      <th>7612</th>\n",
       "      <td>The Latest: More Homes Razed by Northern Calif...</td>\n",
       "      <td>latest home razed northern california wildfire...</td>\n",
       "    </tr>\n",
       "  </tbody>\n",
       "</table>\n",
       "<p>7503 rows × 2 columns</p>\n",
       "</div>"
      ],
      "text/plain": [
       "                                                   text  \\\n",
       "0     Our Deeds are the Reason of this #earthquake M...   \n",
       "1                Forest fire near La Ronge Sask. Canada   \n",
       "2     All residents asked to 'shelter in place' are ...   \n",
       "3     13,000 people receive #wildfires evacuation or...   \n",
       "4     Just got sent this photo from Ruby #Alaska as ...   \n",
       "...                                                 ...   \n",
       "7604  #WorldNews Fallen powerlines on G:link tram: U...   \n",
       "7605  on the flip side I'm at Walmart and there is a...   \n",
       "7606  Suicide bomber kills 15 in Saudi security site...   \n",
       "7608  Two giant cranes holding a bridge collapse int...   \n",
       "7612  The Latest: More Homes Razed by Northern Calif...   \n",
       "\n",
       "                                             clean_text  \n",
       "0            deed reason earthquake may allah forgive u  \n",
       "1                 forest fire near la ronge sask canada  \n",
       "2     resident asked shelter place notified officer ...  \n",
       "3     people receive wildfire evacuation order calif...  \n",
       "4     got sent photo ruby alaska smoke wildfire pour...  \n",
       "...                                                 ...  \n",
       "7604  worldnews fallen powerlines glink tram update ...  \n",
       "7605  flip side I walmart bomb everyone evacuate sta...  \n",
       "7606  suicide bomber kill saudi security site mosque...  \n",
       "7608  two giant crane holding bridge collapse nearby...  \n",
       "7612  latest home razed northern california wildfire...  \n",
       "\n",
       "[7503 rows x 2 columns]"
      ]
     },
     "execution_count": 31,
     "metadata": {},
     "output_type": "execute_result"
    },
    {
     "data": {
      "application/javascript": [
       "\n",
       "            setTimeout(function() {\n",
       "                var nbb_cell_id = 31;\n",
       "                var nbb_unformatted_code = \"# Comparison of cleaned texts\\ndf[[\\\"text\\\", \\\"clean_text\\\"]]\";\n",
       "                var nbb_formatted_code = \"# Comparison of cleaned texts\\ndf[[\\\"text\\\", \\\"clean_text\\\"]]\";\n",
       "                var nbb_cells = Jupyter.notebook.get_cells();\n",
       "                for (var i = 0; i < nbb_cells.length; ++i) {\n",
       "                    if (nbb_cells[i].input_prompt_number == nbb_cell_id) {\n",
       "                        if (nbb_cells[i].get_text() == nbb_unformatted_code) {\n",
       "                             nbb_cells[i].set_text(nbb_formatted_code);\n",
       "                        }\n",
       "                        break;\n",
       "                    }\n",
       "                }\n",
       "            }, 500);\n",
       "            "
      ],
      "text/plain": [
       "<IPython.core.display.Javascript object>"
      ]
     },
     "metadata": {},
     "output_type": "display_data"
    }
   ],
   "source": [
    "# Comparison of cleaned texts\n",
    "df[[\"text\", \"clean_text\"]]"
   ]
  },
  {
   "cell_type": "markdown",
   "metadata": {
    "papermill": {
     "duration": 0.065538,
     "end_time": "2021-01-10T08:44:26.296476",
     "exception": false,
     "start_time": "2021-01-10T08:44:26.230938",
     "status": "completed"
    },
    "tags": []
   },
   "source": [
    "# BERT: Bidirectional Encoder Representations from Transformers\n",
    "\n",
    "## Vocab:\n",
    "1. Masked Language Model: Mask random words in a sentence(fill in the blanks) \n",
    "    to understand bidirectional context.\n",
    "2. Next sentence prediction: Two sentences and detect which sentences follows each other.\n",
    "\n",
    "## Process:\n",
    "**Token inputs -> BERT Transformer Encoders -> Output as next sentence prediction and mask language modeling\n",
    "-> Pass to feedforward for classification.**\n",
    "\n",
    "## Token Inputs:\n",
    "To generate token inputs, we need token embeddings(WordPiece Embedding) + Segment Embeddings(distinguish sentences) + Position Embeddings(position of word within a sentence encoded as a vector).\n",
    "\n",
    "1. token embeddings: [CLS] token in the beginning of the sentence and [SEP] token at the end of the sentence\n",
    "2. segment embeddings: distinguish sentences with tokens assigned to each sentence\n",
    "3. position embedding: unique tokens assigned to each word in the sentence."
   ]
  },
  {
   "cell_type": "markdown",
   "metadata": {
    "papermill": {
     "duration": 0.065968,
     "end_time": "2021-01-10T08:44:26.428139",
     "exception": false,
     "start_time": "2021-01-10T08:44:26.362171",
     "status": "completed"
    },
    "tags": []
   },
   "source": [
    "# BERT Layer and Tokenizer from BERT team"
   ]
  },
  {
   "cell_type": "code",
   "execution_count": 32,
   "metadata": {
    "execution": {
     "iopub.execute_input": "2021-01-10T08:44:26.564319Z",
     "iopub.status.busy": "2021-01-10T08:44:26.563761Z",
     "iopub.status.idle": "2021-01-10T08:44:45.496606Z",
     "shell.execute_reply": "2021-01-10T08:44:45.497035Z"
    },
    "papermill": {
     "duration": 19.003856,
     "end_time": "2021-01-10T08:44:45.497167",
     "exception": false,
     "start_time": "2021-01-10T08:44:26.493311",
     "status": "completed"
    },
    "tags": []
   },
   "outputs": [
    {
     "data": {
      "application/javascript": [
       "\n",
       "            setTimeout(function() {\n",
       "                var nbb_cell_id = 32;\n",
       "                var nbb_unformatted_code = \"# Bert config\\nbert_layer = hub.KerasLayer(\\n    \\\"https://tfhub.dev/tensorflow/bert_en_uncased_L-12_H-768_A-12/1\\\", trainable=True\\n)\\nvocab_file = bert_layer.resolved_object.vocab_file.asset_path.numpy()\\ndo_lower_case = bert_layer.resolved_object.do_lower_case.numpy()\\ntokenizer = tokenization.FullTokenizer(vocab_file, do_lower_case)\";\n",
       "                var nbb_formatted_code = \"# Bert config\\nbert_layer = hub.KerasLayer(\\n    \\\"https://tfhub.dev/tensorflow/bert_en_uncased_L-12_H-768_A-12/1\\\", trainable=True\\n)\\nvocab_file = bert_layer.resolved_object.vocab_file.asset_path.numpy()\\ndo_lower_case = bert_layer.resolved_object.do_lower_case.numpy()\\ntokenizer = tokenization.FullTokenizer(vocab_file, do_lower_case)\";\n",
       "                var nbb_cells = Jupyter.notebook.get_cells();\n",
       "                for (var i = 0; i < nbb_cells.length; ++i) {\n",
       "                    if (nbb_cells[i].input_prompt_number == nbb_cell_id) {\n",
       "                        if (nbb_cells[i].get_text() == nbb_unformatted_code) {\n",
       "                             nbb_cells[i].set_text(nbb_formatted_code);\n",
       "                        }\n",
       "                        break;\n",
       "                    }\n",
       "                }\n",
       "            }, 500);\n",
       "            "
      ],
      "text/plain": [
       "<IPython.core.display.Javascript object>"
      ]
     },
     "metadata": {},
     "output_type": "display_data"
    }
   ],
   "source": [
    "# Bert config\n",
    "bert_layer = hub.KerasLayer(\n",
    "    \"https://tfhub.dev/tensorflow/bert_en_uncased_L-12_H-768_A-12/1\", trainable=True\n",
    ")\n",
    "vocab_file = bert_layer.resolved_object.vocab_file.asset_path.numpy()\n",
    "do_lower_case = bert_layer.resolved_object.do_lower_case.numpy()\n",
    "tokenizer = tokenization.FullTokenizer(vocab_file, do_lower_case)"
   ]
  },
  {
   "cell_type": "markdown",
   "metadata": {
    "papermill": {
     "duration": 0.066338,
     "end_time": "2021-01-10T08:44:45.630592",
     "exception": false,
     "start_time": "2021-01-10T08:44:45.564254",
     "status": "completed"
    },
    "tags": []
   },
   "source": [
    "## Experiment with Tokenizer and it's functionalities"
   ]
  },
  {
   "cell_type": "code",
   "execution_count": 33,
   "metadata": {
    "execution": {
     "iopub.execute_input": "2021-01-10T08:44:45.771916Z",
     "iopub.status.busy": "2021-01-10T08:44:45.771089Z",
     "iopub.status.idle": "2021-01-10T08:44:45.781435Z",
     "shell.execute_reply": "2021-01-10T08:44:45.781019Z"
    },
    "papermill": {
     "duration": 0.085061,
     "end_time": "2021-01-10T08:44:45.781523",
     "exception": false,
     "start_time": "2021-01-10T08:44:45.696462",
     "status": "completed"
    },
    "tags": []
   },
   "outputs": [
    {
     "name": "stdout",
     "output_type": "stream",
     "text": [
      "Tokens for BERT:  ['co', '##vid', '-', '19', 'sucks', 'like', 'hell', '!']\n",
      "Token Ids for BERT:  [101, 2522, 17258, 1011, 2539, 19237, 2066, 3109, 999, 102]\n"
     ]
    },
    {
     "data": {
      "application/javascript": [
       "\n",
       "            setTimeout(function() {\n",
       "                var nbb_cell_id = 33;\n",
       "                var nbb_unformatted_code = \"# test tokenizer\\nnormal_sentence = \\\"covid-19 sucks like hell!\\\"\\ntokenize_sentence = tokenizer.tokenize(normal_sentence)\\nprint(\\\"Tokens for BERT: \\\", tokenize_sentence)\\nbert_input_sentence = [\\\"[CLS]\\\"] + tokenize_sentence + [\\\"[SEP]\\\"]\\nprint(\\\"Token Ids for BERT: \\\", tokenizer.convert_tokens_to_ids(bert_input_sentence))\";\n",
       "                var nbb_formatted_code = \"# test tokenizer\\nnormal_sentence = \\\"covid-19 sucks like hell!\\\"\\ntokenize_sentence = tokenizer.tokenize(normal_sentence)\\nprint(\\\"Tokens for BERT: \\\", tokenize_sentence)\\nbert_input_sentence = [\\\"[CLS]\\\"] + tokenize_sentence + [\\\"[SEP]\\\"]\\nprint(\\\"Token Ids for BERT: \\\", tokenizer.convert_tokens_to_ids(bert_input_sentence))\";\n",
       "                var nbb_cells = Jupyter.notebook.get_cells();\n",
       "                for (var i = 0; i < nbb_cells.length; ++i) {\n",
       "                    if (nbb_cells[i].input_prompt_number == nbb_cell_id) {\n",
       "                        if (nbb_cells[i].get_text() == nbb_unformatted_code) {\n",
       "                             nbb_cells[i].set_text(nbb_formatted_code);\n",
       "                        }\n",
       "                        break;\n",
       "                    }\n",
       "                }\n",
       "            }, 500);\n",
       "            "
      ],
      "text/plain": [
       "<IPython.core.display.Javascript object>"
      ]
     },
     "metadata": {},
     "output_type": "display_data"
    }
   ],
   "source": [
    "# test tokenizer\n",
    "normal_sentence = \"covid-19 sucks like hell!\"\n",
    "tokenize_sentence = tokenizer.tokenize(normal_sentence)\n",
    "print(\"Tokens for BERT: \", tokenize_sentence)\n",
    "bert_input_sentence = [\"[CLS]\"] + tokenize_sentence + [\"[SEP]\"]\n",
    "print(\"Token Ids for BERT: \", tokenizer.convert_tokens_to_ids(bert_input_sentence))"
   ]
  },
  {
   "cell_type": "markdown",
   "metadata": {
    "papermill": {
     "duration": 0.06764,
     "end_time": "2021-01-10T08:44:45.917784",
     "exception": false,
     "start_time": "2021-01-10T08:44:45.850144",
     "status": "completed"
    },
    "tags": []
   },
   "source": [
    "# BERT Encoder"
   ]
  },
  {
   "cell_type": "code",
   "execution_count": 34,
   "metadata": {
    "execution": {
     "iopub.execute_input": "2021-01-10T08:44:46.069070Z",
     "iopub.status.busy": "2021-01-10T08:44:46.067295Z",
     "iopub.status.idle": "2021-01-10T08:44:46.097740Z",
     "shell.execute_reply": "2021-01-10T08:44:46.098186Z"
    },
    "papermill": {
     "duration": 0.113556,
     "end_time": "2021-01-10T08:44:46.098299",
     "exception": false,
     "start_time": "2021-01-10T08:44:45.984743",
     "status": "completed"
    },
    "tags": []
   },
   "outputs": [
    {
     "data": {
      "application/javascript": [
       "\n",
       "            setTimeout(function() {\n",
       "                var nbb_cell_id = 34;\n",
       "                var nbb_unformatted_code = \"def bert_encode(texts, max_length=128):\\n    all_token_ids = []\\n    all_input_ids = []\\n    all_segment_ids = []\\n    for sentence in texts:\\n        tokenize_sentence = tokenizer.tokenize(sentence)[\\n            :max_length\\n        ]  # limit sentence to only 128 tokens\\n        bert_input_sentence = [\\\"[CLS]\\\"] + tokenize_sentence + [\\\"[SEP]\\\"]\\n\\n        unused_sentence_length = max_length - len(\\n            bert_input_sentence\\n        )  # Max sentence length is 128, input sentence length is x so unused length is 128-x\\n        unused_length_array = [0] * unused_sentence_length\\n\\n        token_ids = (\\n            tokenizer.convert_tokens_to_ids(bert_input_sentence) + unused_length_array\\n        )\\n        bert_input_ids = ([1] * len(bert_input_sentence)) + unused_length_array\\n        bert_segment_ids = [0] * max_length\\n\\n        all_token_ids.append(token_ids)\\n        all_input_ids.append(bert_input_ids)\\n        all_segment_ids.append(bert_segment_ids)\\n    return (\\n        np.array(all_token_ids),\\n        np.array(all_input_ids),\\n        np.array(all_segment_ids),\\n    )\";\n",
       "                var nbb_formatted_code = \"def bert_encode(texts, max_length=128):\\n    all_token_ids = []\\n    all_input_ids = []\\n    all_segment_ids = []\\n    for sentence in texts:\\n        tokenize_sentence = tokenizer.tokenize(sentence)[\\n            :max_length\\n        ]  # limit sentence to only 128 tokens\\n        bert_input_sentence = [\\\"[CLS]\\\"] + tokenize_sentence + [\\\"[SEP]\\\"]\\n\\n        unused_sentence_length = max_length - len(\\n            bert_input_sentence\\n        )  # Max sentence length is 128, input sentence length is x so unused length is 128-x\\n        unused_length_array = [0] * unused_sentence_length\\n\\n        token_ids = (\\n            tokenizer.convert_tokens_to_ids(bert_input_sentence) + unused_length_array\\n        )\\n        bert_input_ids = ([1] * len(bert_input_sentence)) + unused_length_array\\n        bert_segment_ids = [0] * max_length\\n\\n        all_token_ids.append(token_ids)\\n        all_input_ids.append(bert_input_ids)\\n        all_segment_ids.append(bert_segment_ids)\\n    return (\\n        np.array(all_token_ids),\\n        np.array(all_input_ids),\\n        np.array(all_segment_ids),\\n    )\";\n",
       "                var nbb_cells = Jupyter.notebook.get_cells();\n",
       "                for (var i = 0; i < nbb_cells.length; ++i) {\n",
       "                    if (nbb_cells[i].input_prompt_number == nbb_cell_id) {\n",
       "                        if (nbb_cells[i].get_text() == nbb_unformatted_code) {\n",
       "                             nbb_cells[i].set_text(nbb_formatted_code);\n",
       "                        }\n",
       "                        break;\n",
       "                    }\n",
       "                }\n",
       "            }, 500);\n",
       "            "
      ],
      "text/plain": [
       "<IPython.core.display.Javascript object>"
      ]
     },
     "metadata": {},
     "output_type": "display_data"
    }
   ],
   "source": [
    "def bert_encode(texts, max_length=128):\n",
    "    all_token_ids = []\n",
    "    all_input_ids = []\n",
    "    all_segment_ids = []\n",
    "    for sentence in texts:\n",
    "        tokenize_sentence = tokenizer.tokenize(sentence)[\n",
    "            :max_length\n",
    "        ]  # limit sentence to only 128 tokens\n",
    "        bert_input_sentence = [\"[CLS]\"] + tokenize_sentence + [\"[SEP]\"]\n",
    "\n",
    "        unused_sentence_length = max_length - len(\n",
    "            bert_input_sentence\n",
    "        )  # Max sentence length is 128, input sentence length is x so unused length is 128-x\n",
    "        unused_length_array = [0] * unused_sentence_length\n",
    "\n",
    "        token_ids = (\n",
    "            tokenizer.convert_tokens_to_ids(bert_input_sentence) + unused_length_array\n",
    "        )\n",
    "        bert_input_ids = ([1] * len(bert_input_sentence)) + unused_length_array\n",
    "        bert_segment_ids = [0] * max_length\n",
    "\n",
    "        all_token_ids.append(token_ids)\n",
    "        all_input_ids.append(bert_input_ids)\n",
    "        all_segment_ids.append(bert_segment_ids)\n",
    "    return (\n",
    "        np.array(all_token_ids),\n",
    "        np.array(all_input_ids),\n",
    "        np.array(all_segment_ids),\n",
    "    )"
   ]
  },
  {
   "cell_type": "markdown",
   "metadata": {
    "papermill": {
     "duration": 0.068344,
     "end_time": "2021-01-10T08:44:46.234341",
     "exception": false,
     "start_time": "2021-01-10T08:44:46.165997",
     "status": "completed"
    },
    "tags": []
   },
   "source": [
    "# BERT Pretrained Layer with Custom Feed-Forward Neural Network"
   ]
  },
  {
   "cell_type": "code",
   "execution_count": 35,
   "metadata": {
    "execution": {
     "iopub.execute_input": "2021-01-10T08:44:46.388777Z",
     "iopub.status.busy": "2021-01-10T08:44:46.387934Z",
     "iopub.status.idle": "2021-01-10T08:44:46.425827Z",
     "shell.execute_reply": "2021-01-10T08:44:46.426241Z"
    },
    "papermill": {
     "duration": 0.12397,
     "end_time": "2021-01-10T08:44:46.426347",
     "exception": false,
     "start_time": "2021-01-10T08:44:46.302377",
     "status": "completed"
    },
    "tags": []
   },
   "outputs": [
    {
     "data": {
      "application/javascript": [
       "\n",
       "            setTimeout(function() {\n",
       "                var nbb_cell_id = 35;\n",
       "                var nbb_unformatted_code = \"MAX_SEQUENCE_LENGTH = 128\\n\\n\\ndef build_model(hp):\\n    input_word_ids = keras.Input(\\n        shape=(MAX_SEQUENCE_LENGTH,), dtype=tf.int32, name=\\\"input_word_ids\\\"\\n    )\\n    input_mask = keras.Input(\\n        shape=(MAX_SEQUENCE_LENGTH,), dtype=tf.int32, name=\\\"input_mask\\\"\\n    )\\n    segment_ids = keras.Input(\\n        shape=(MAX_SEQUENCE_LENGTH,), dtype=tf.int32, name=\\\"segment_ids\\\"\\n    )\\n\\n    pooled_output, sequence_output = bert_layer(\\n        [input_word_ids, input_mask, segment_ids]\\n    )\\n    clf_output = sequence_output[:, 0, :]\\n    neural_inputs = keras.layers.Dense(\\n        units=hp.Int(\\n            \\\"units_hidden_1\\\", min_value=32, max_value=256, step=32, default=128\\n        ),\\n        activation=\\\"elu\\\",\\n        kernel_initializer=\\\"he_normal\\\",\\n    )(clf_output)\\n    neural_inputs = keras.layers.Dropout(\\n        rate=hp.Float(\\\"dropout_1\\\", min_value=0.1, max_value=0.9, default=0.2, step=0.1)\\n    )(neural_inputs)\\n    neural_inputs = keras.layers.Dense(\\n        units=hp.Int(\\n            \\\"units_hidden_2\\\", min_value=32, max_value=256, step=32, default=64\\n        ),\\n        activation=\\\"elu\\\",\\n        kernel_initializer=\\\"he_normal\\\",\\n    )(neural_inputs)\\n    neural_inputs = keras.layers.Dropout(\\n        rate=hp.Float(\\\"dropout_2\\\", min_value=0.1, max_value=0.9, default=0.2, step=0.1)\\n    )(neural_inputs)\\n    out = keras.layers.Dense(1, activation=\\\"sigmoid\\\",)(neural_inputs)\\n    model = keras.models.Model(\\n        inputs=[input_word_ids, input_mask, segment_ids], outputs=out\\n    )\\n    model.compile(\\n        keras.optimizers.Adam(hp.Choice(\\\"learning_rate\\\", [5e-5, 3e-5, 1e-5])),\\n        loss=keras.losses.binary_crossentropy,\\n        metrics=[\\\"accuracy\\\"],\\n    )\\n\\n    return model\";\n",
       "                var nbb_formatted_code = \"MAX_SEQUENCE_LENGTH = 128\\n\\n\\ndef build_model(hp):\\n    input_word_ids = keras.Input(\\n        shape=(MAX_SEQUENCE_LENGTH,), dtype=tf.int32, name=\\\"input_word_ids\\\"\\n    )\\n    input_mask = keras.Input(\\n        shape=(MAX_SEQUENCE_LENGTH,), dtype=tf.int32, name=\\\"input_mask\\\"\\n    )\\n    segment_ids = keras.Input(\\n        shape=(MAX_SEQUENCE_LENGTH,), dtype=tf.int32, name=\\\"segment_ids\\\"\\n    )\\n\\n    pooled_output, sequence_output = bert_layer(\\n        [input_word_ids, input_mask, segment_ids]\\n    )\\n    clf_output = sequence_output[:, 0, :]\\n    neural_inputs = keras.layers.Dense(\\n        units=hp.Int(\\n            \\\"units_hidden_1\\\", min_value=32, max_value=256, step=32, default=128\\n        ),\\n        activation=\\\"elu\\\",\\n        kernel_initializer=\\\"he_normal\\\",\\n    )(clf_output)\\n    neural_inputs = keras.layers.Dropout(\\n        rate=hp.Float(\\\"dropout_1\\\", min_value=0.1, max_value=0.9, default=0.2, step=0.1)\\n    )(neural_inputs)\\n    neural_inputs = keras.layers.Dense(\\n        units=hp.Int(\\n            \\\"units_hidden_2\\\", min_value=32, max_value=256, step=32, default=64\\n        ),\\n        activation=\\\"elu\\\",\\n        kernel_initializer=\\\"he_normal\\\",\\n    )(neural_inputs)\\n    neural_inputs = keras.layers.Dropout(\\n        rate=hp.Float(\\\"dropout_2\\\", min_value=0.1, max_value=0.9, default=0.2, step=0.1)\\n    )(neural_inputs)\\n    out = keras.layers.Dense(1, activation=\\\"sigmoid\\\",)(neural_inputs)\\n    model = keras.models.Model(\\n        inputs=[input_word_ids, input_mask, segment_ids], outputs=out\\n    )\\n    model.compile(\\n        keras.optimizers.Adam(hp.Choice(\\\"learning_rate\\\", [5e-5, 3e-5, 1e-5])),\\n        loss=keras.losses.binary_crossentropy,\\n        metrics=[\\\"accuracy\\\"],\\n    )\\n\\n    return model\";\n",
       "                var nbb_cells = Jupyter.notebook.get_cells();\n",
       "                for (var i = 0; i < nbb_cells.length; ++i) {\n",
       "                    if (nbb_cells[i].input_prompt_number == nbb_cell_id) {\n",
       "                        if (nbb_cells[i].get_text() == nbb_unformatted_code) {\n",
       "                             nbb_cells[i].set_text(nbb_formatted_code);\n",
       "                        }\n",
       "                        break;\n",
       "                    }\n",
       "                }\n",
       "            }, 500);\n",
       "            "
      ],
      "text/plain": [
       "<IPython.core.display.Javascript object>"
      ]
     },
     "metadata": {},
     "output_type": "display_data"
    }
   ],
   "source": [
    "MAX_SEQUENCE_LENGTH = 128\n",
    "\n",
    "\n",
    "def build_model(hp):\n",
    "    input_word_ids = keras.Input(\n",
    "        shape=(MAX_SEQUENCE_LENGTH,), dtype=tf.int32, name=\"input_word_ids\"\n",
    "    )\n",
    "    input_mask = keras.Input(\n",
    "        shape=(MAX_SEQUENCE_LENGTH,), dtype=tf.int32, name=\"input_mask\"\n",
    "    )\n",
    "    segment_ids = keras.Input(\n",
    "        shape=(MAX_SEQUENCE_LENGTH,), dtype=tf.int32, name=\"segment_ids\"\n",
    "    )\n",
    "\n",
    "    pooled_output, sequence_output = bert_layer(\n",
    "        [input_word_ids, input_mask, segment_ids]\n",
    "    )\n",
    "    clf_output = sequence_output[:, 0, :]\n",
    "    neural_inputs = keras.layers.Dense(\n",
    "        units=hp.Int(\n",
    "            \"units_hidden_1\", min_value=32, max_value=256, step=32, default=128\n",
    "        ),\n",
    "        activation=\"elu\",\n",
    "        kernel_initializer=\"he_normal\",\n",
    "    )(clf_output)\n",
    "    neural_inputs = keras.layers.Dropout(\n",
    "        rate=hp.Float(\"dropout_1\", min_value=0.1, max_value=0.9, default=0.2, step=0.1)\n",
    "    )(neural_inputs)\n",
    "    neural_inputs = keras.layers.Dense(\n",
    "        units=hp.Int(\n",
    "            \"units_hidden_2\", min_value=32, max_value=256, step=32, default=64\n",
    "        ),\n",
    "        activation=\"elu\",\n",
    "        kernel_initializer=\"he_normal\",\n",
    "    )(neural_inputs)\n",
    "    neural_inputs = keras.layers.Dropout(\n",
    "        rate=hp.Float(\"dropout_2\", min_value=0.1, max_value=0.9, default=0.2, step=0.1)\n",
    "    )(neural_inputs)\n",
    "    out = keras.layers.Dense(1, activation=\"sigmoid\",)(neural_inputs)\n",
    "    model = keras.models.Model(\n",
    "        inputs=[input_word_ids, input_mask, segment_ids], outputs=out\n",
    "    )\n",
    "    model.compile(\n",
    "        keras.optimizers.Adam(hp.Choice(\"learning_rate\", [5e-5, 3e-5, 1e-5])),\n",
    "        loss=keras.losses.binary_crossentropy,\n",
    "        metrics=[\"accuracy\"],\n",
    "    )\n",
    "\n",
    "    return model"
   ]
  },
  {
   "cell_type": "markdown",
   "metadata": {
    "papermill": {
     "duration": 0.068356,
     "end_time": "2021-01-10T08:44:46.563597",
     "exception": false,
     "start_time": "2021-01-10T08:44:46.495241",
     "status": "completed"
    },
    "tags": []
   },
   "source": [
    "# Hyperband Hyperparameter Tuning Mechanism\n",
    "I don't know why kaggle couldn't save the hyperparameter folder."
   ]
  },
  {
   "cell_type": "code",
   "execution_count": 36,
   "metadata": {
    "execution": {
     "iopub.execute_input": "2021-01-10T08:44:46.705200Z",
     "iopub.status.busy": "2021-01-10T08:44:46.704399Z",
     "iopub.status.idle": "2021-01-10T08:44:48.243630Z",
     "shell.execute_reply": "2021-01-10T08:44:48.242646Z"
    },
    "papermill": {
     "duration": 1.612149,
     "end_time": "2021-01-10T08:44:48.243754",
     "exception": false,
     "start_time": "2021-01-10T08:44:46.631605",
     "status": "completed"
    },
    "tags": []
   },
   "outputs": [
    {
     "data": {
      "application/javascript": [
       "\n",
       "            setTimeout(function() {\n",
       "                var nbb_cell_id = 36;\n",
       "                var nbb_unformatted_code = \"tuner = Hyperband(\\n    build_model,\\n    objective=\\\"val_accuracy\\\",\\n    max_epochs=3,\\n    project_name=\\\"../output/kaggle/working/hyperparameter/hyperband\\\",\\n)\";\n",
       "                var nbb_formatted_code = \"tuner = Hyperband(\\n    build_model,\\n    objective=\\\"val_accuracy\\\",\\n    max_epochs=3,\\n    project_name=\\\"../output/kaggle/working/hyperparameter/hyperband\\\",\\n)\";\n",
       "                var nbb_cells = Jupyter.notebook.get_cells();\n",
       "                for (var i = 0; i < nbb_cells.length; ++i) {\n",
       "                    if (nbb_cells[i].input_prompt_number == nbb_cell_id) {\n",
       "                        if (nbb_cells[i].get_text() == nbb_unformatted_code) {\n",
       "                             nbb_cells[i].set_text(nbb_formatted_code);\n",
       "                        }\n",
       "                        break;\n",
       "                    }\n",
       "                }\n",
       "            }, 500);\n",
       "            "
      ],
      "text/plain": [
       "<IPython.core.display.Javascript object>"
      ]
     },
     "metadata": {},
     "output_type": "display_data"
    }
   ],
   "source": [
    "tuner = Hyperband(\n",
    "    build_model,\n",
    "    objective=\"val_accuracy\",\n",
    "    max_epochs=3,\n",
    "    project_name=\"../hyperparameter/hyperband\",\n",
    ")"
   ]
  },
  {
   "cell_type": "markdown",
   "metadata": {
    "papermill": {
     "duration": 0.068897,
     "end_time": "2021-01-10T08:44:48.382421",
     "exception": false,
     "start_time": "2021-01-10T08:44:48.313524",
     "status": "completed"
    },
    "tags": []
   },
   "source": [
    "# Train-Test Split"
   ]
  },
  {
   "cell_type": "code",
   "execution_count": 37,
   "metadata": {
    "execution": {
     "iopub.execute_input": "2021-01-10T08:44:48.527699Z",
     "iopub.status.busy": "2021-01-10T08:44:48.526581Z",
     "iopub.status.idle": "2021-01-10T08:44:48.535027Z",
     "shell.execute_reply": "2021-01-10T08:44:48.535422Z"
    },
    "papermill": {
     "duration": 0.083834,
     "end_time": "2021-01-10T08:44:48.535540",
     "exception": false,
     "start_time": "2021-01-10T08:44:48.451706",
     "status": "completed"
    },
    "tags": []
   },
   "outputs": [
    {
     "data": {
      "application/javascript": [
       "\n",
       "            setTimeout(function() {\n",
       "                var nbb_cell_id = 37;\n",
       "                var nbb_unformatted_code = \"# Prepare final datasplits\\nx_train, x_val, y_train, y_val = train_test_split(\\n    df.clean_text, df.target, train_size=0.85\\n)\";\n",
       "                var nbb_formatted_code = \"# Prepare final datasplits\\nx_train, x_val, y_train, y_val = train_test_split(\\n    df.clean_text, df.target, train_size=0.85\\n)\";\n",
       "                var nbb_cells = Jupyter.notebook.get_cells();\n",
       "                for (var i = 0; i < nbb_cells.length; ++i) {\n",
       "                    if (nbb_cells[i].input_prompt_number == nbb_cell_id) {\n",
       "                        if (nbb_cells[i].get_text() == nbb_unformatted_code) {\n",
       "                             nbb_cells[i].set_text(nbb_formatted_code);\n",
       "                        }\n",
       "                        break;\n",
       "                    }\n",
       "                }\n",
       "            }, 500);\n",
       "            "
      ],
      "text/plain": [
       "<IPython.core.display.Javascript object>"
      ]
     },
     "metadata": {},
     "output_type": "display_data"
    }
   ],
   "source": [
    "# Prepare final datasplits\n",
    "x_train, x_val, y_train, y_val = train_test_split(\n",
    "    df.clean_text, df.target, train_size=0.85\n",
    ")"
   ]
  },
  {
   "cell_type": "markdown",
   "metadata": {
    "papermill": {
     "duration": 0.068896,
     "end_time": "2021-01-10T08:44:48.674459",
     "exception": false,
     "start_time": "2021-01-10T08:44:48.605563",
     "status": "completed"
    },
    "tags": []
   },
   "source": [
    "# BERT Encoding Calls on Train and Validation"
   ]
  },
  {
   "cell_type": "code",
   "execution_count": 38,
   "metadata": {
    "execution": {
     "iopub.execute_input": "2021-01-10T08:44:48.863046Z",
     "iopub.status.busy": "2021-01-10T08:44:48.847646Z",
     "iopub.status.idle": "2021-01-10T08:44:52.139339Z",
     "shell.execute_reply": "2021-01-10T08:44:52.138891Z"
    },
    "papermill": {
     "duration": 3.3949,
     "end_time": "2021-01-10T08:44:52.139438",
     "exception": false,
     "start_time": "2021-01-10T08:44:48.744538",
     "status": "completed"
    },
    "tags": []
   },
   "outputs": [
    {
     "data": {
      "application/javascript": [
       "\n",
       "            setTimeout(function() {\n",
       "                var nbb_cell_id = 38;\n",
       "                var nbb_unformatted_code = \"bert_xtrain = bert_encode(x_train)\\nbert_xval = bert_encode(x_val)\";\n",
       "                var nbb_formatted_code = \"bert_xtrain = bert_encode(x_train)\\nbert_xval = bert_encode(x_val)\";\n",
       "                var nbb_cells = Jupyter.notebook.get_cells();\n",
       "                for (var i = 0; i < nbb_cells.length; ++i) {\n",
       "                    if (nbb_cells[i].input_prompt_number == nbb_cell_id) {\n",
       "                        if (nbb_cells[i].get_text() == nbb_unformatted_code) {\n",
       "                             nbb_cells[i].set_text(nbb_formatted_code);\n",
       "                        }\n",
       "                        break;\n",
       "                    }\n",
       "                }\n",
       "            }, 500);\n",
       "            "
      ],
      "text/plain": [
       "<IPython.core.display.Javascript object>"
      ]
     },
     "metadata": {},
     "output_type": "display_data"
    }
   ],
   "source": [
    "bert_xtrain = bert_encode(x_train)\n",
    "bert_xval = bert_encode(x_val)"
   ]
  },
  {
   "cell_type": "markdown",
   "metadata": {
    "papermill": {
     "duration": 0.159283,
     "end_time": "2021-01-10T08:44:52.426272",
     "exception": false,
     "start_time": "2021-01-10T08:44:52.266989",
     "status": "completed"
    },
    "tags": []
   },
   "source": [
    "# Keras Callbacks"
   ]
  },
  {
   "cell_type": "code",
   "execution_count": 39,
   "metadata": {
    "execution": {
     "iopub.execute_input": "2021-01-10T08:44:52.832654Z",
     "iopub.status.busy": "2021-01-10T08:44:52.831730Z",
     "iopub.status.idle": "2021-01-10T08:44:52.855092Z",
     "shell.execute_reply": "2021-01-10T08:44:52.856162Z"
    },
    "papermill": {
     "duration": 0.308521,
     "end_time": "2021-01-10T08:44:52.856348",
     "exception": false,
     "start_time": "2021-01-10T08:44:52.547827",
     "status": "completed"
    },
    "tags": []
   },
   "outputs": [
    {
     "data": {
      "application/javascript": [
       "\n",
       "            setTimeout(function() {\n",
       "                var nbb_cell_id = 39;\n",
       "                var nbb_unformatted_code = \"# model_path = os.path.join(\\\"..\\\", \\\"models\\\", \\\"keras_hyperband_disaster_prediction.h5\\\") for local development\\ntensorboard_logs_path = os.path.join(\\\"../output/kaggle/working\\\", \\\"tensorboard_logs\\\")\\n# Keras callbacks\\ncheckpoint_cb = keras.callbacks.ModelCheckpoint(\\n    filepath=\\\"keras_hyperband_disaster_prediction.h5\\\", save_best_only=True\\n)\\nearly_stopping_cb = keras.callbacks.EarlyStopping(\\n    patience=10, restore_best_weights=True\\n)\\n# Tensorboard callback\\ntensorboard_cb = keras.callbacks.TensorBoard(\\n    os.path.join(tensorboard_logs_path, time.strftime(\\\"run_%Y_%m_%d_at_%H_%M_%S\\\"))\\n)\";\n",
       "                var nbb_formatted_code = \"# model_path = os.path.join(\\\"..\\\", \\\"models\\\", \\\"keras_hyperband_disaster_prediction.h5\\\") for local development\\ntensorboard_logs_path = os.path.join(\\\"../output/kaggle/working\\\", \\\"tensorboard_logs\\\")\\n# Keras callbacks\\ncheckpoint_cb = keras.callbacks.ModelCheckpoint(\\n    filepath=\\\"keras_hyperband_disaster_prediction.h5\\\", save_best_only=True\\n)\\nearly_stopping_cb = keras.callbacks.EarlyStopping(\\n    patience=10, restore_best_weights=True\\n)\\n# Tensorboard callback\\ntensorboard_cb = keras.callbacks.TensorBoard(\\n    os.path.join(tensorboard_logs_path, time.strftime(\\\"run_%Y_%m_%d_at_%H_%M_%S\\\"))\\n)\";\n",
       "                var nbb_cells = Jupyter.notebook.get_cells();\n",
       "                for (var i = 0; i < nbb_cells.length; ++i) {\n",
       "                    if (nbb_cells[i].input_prompt_number == nbb_cell_id) {\n",
       "                        if (nbb_cells[i].get_text() == nbb_unformatted_code) {\n",
       "                             nbb_cells[i].set_text(nbb_formatted_code);\n",
       "                        }\n",
       "                        break;\n",
       "                    }\n",
       "                }\n",
       "            }, 500);\n",
       "            "
      ],
      "text/plain": [
       "<IPython.core.display.Javascript object>"
      ]
     },
     "metadata": {},
     "output_type": "display_data"
    }
   ],
   "source": [
    "# model_path = os.path.join(\"..\", \"models\", \"keras_hyperband_disaster_prediction.h5\") for local development\n",
    "tensorboard_logs_path = os.path.join(\"..\", \"tensorboard_logs\")\n",
    "# Keras callbacks\n",
    "checkpoint_cb = keras.callbacks.ModelCheckpoint(\n",
    "    filepath=\"../models/keras_hyperband_disaster_prediction.h5\", save_best_only=True\n",
    ")\n",
    "early_stopping_cb = keras.callbacks.EarlyStopping(\n",
    "    patience=10, restore_best_weights=True\n",
    ")\n",
    "# Tensorboard callback\n",
    "tensorboard_cb = keras.callbacks.TensorBoard(\n",
    "    os.path.join(tensorboard_logs_path, time.strftime(\"run_%Y_%m_%d_at_%H_%M_%S\"))\n",
    ")"
   ]
  },
  {
   "cell_type": "markdown",
   "metadata": {
    "papermill": {
     "duration": 0.071319,
     "end_time": "2021-01-10T08:44:53.041286",
     "exception": false,
     "start_time": "2021-01-10T08:44:52.969967",
     "status": "completed"
    },
    "tags": []
   },
   "source": [
    "# Type change for passing it in Tuner\n",
    "* This was a bug where a numpy array couldn't be converted to a tenson before passing it into the model, for more reference check out [link](https://stackoverflow.com/a/60750937/10016132)"
   ]
  },
  {
   "cell_type": "code",
   "execution_count": 40,
   "metadata": {
    "execution": {
     "iopub.execute_input": "2021-01-10T08:44:53.189376Z",
     "iopub.status.busy": "2021-01-10T08:44:53.188142Z",
     "iopub.status.idle": "2021-01-10T08:44:53.205215Z",
     "shell.execute_reply": "2021-01-10T08:44:53.205730Z"
    },
    "papermill": {
     "duration": 0.093218,
     "end_time": "2021-01-10T08:44:53.205860",
     "exception": false,
     "start_time": "2021-01-10T08:44:53.112642",
     "status": "completed"
    },
    "tags": []
   },
   "outputs": [
    {
     "data": {
      "application/javascript": [
       "\n",
       "            setTimeout(function() {\n",
       "                var nbb_cell_id = 40;\n",
       "                var nbb_unformatted_code = \"bert_xtrain = np.asarray(bert_xtrain).astype(np.float32)\\nbert_xval = np.asarray(bert_xval).astype(np.float32)\";\n",
       "                var nbb_formatted_code = \"bert_xtrain = np.asarray(bert_xtrain).astype(np.float32)\\nbert_xval = np.asarray(bert_xval).astype(np.float32)\";\n",
       "                var nbb_cells = Jupyter.notebook.get_cells();\n",
       "                for (var i = 0; i < nbb_cells.length; ++i) {\n",
       "                    if (nbb_cells[i].input_prompt_number == nbb_cell_id) {\n",
       "                        if (nbb_cells[i].get_text() == nbb_unformatted_code) {\n",
       "                             nbb_cells[i].set_text(nbb_formatted_code);\n",
       "                        }\n",
       "                        break;\n",
       "                    }\n",
       "                }\n",
       "            }, 500);\n",
       "            "
      ],
      "text/plain": [
       "<IPython.core.display.Javascript object>"
      ]
     },
     "metadata": {},
     "output_type": "display_data"
    }
   ],
   "source": [
    "bert_xtrain = np.asarray(bert_xtrain).astype(np.float32)\n",
    "bert_xval = np.asarray(bert_xval).astype(np.float32)"
   ]
  },
  {
   "cell_type": "markdown",
   "metadata": {
    "papermill": {
     "duration": 0.072855,
     "end_time": "2021-01-10T08:44:53.380519",
     "exception": false,
     "start_time": "2021-01-10T08:44:53.307664",
     "status": "completed"
    },
    "tags": []
   },
   "source": [
    "# Training! Best Validation Accuracy is 83.46%"
   ]
  },
  {
   "cell_type": "code",
   "execution_count": 41,
   "metadata": {
    "execution": {
     "iopub.execute_input": "2021-01-10T08:44:53.537625Z",
     "iopub.status.busy": "2021-01-10T08:44:53.535969Z",
     "iopub.status.idle": "2021-01-10T09:04:31.012264Z",
     "shell.execute_reply": "2021-01-10T09:04:31.008921Z"
    },
    "papermill": {
     "duration": 1177.558427,
     "end_time": "2021-01-10T09:04:31.012430",
     "exception": false,
     "start_time": "2021-01-10T08:44:53.454003",
     "status": "completed"
    },
    "tags": []
   },
   "outputs": [
    {
     "name": "stdout",
     "output_type": "stream",
     "text": [
      "Trial 6 Complete [00h 05m 04s]\n",
      "val_accuracy: 0.8126109838485718\n",
      "\n",
      "Best val_accuracy So Far: 0.838365912437439\n",
      "Total elapsed time: 00h 19m 37s\n"
     ]
    },
    {
     "data": {
      "application/javascript": [
       "\n",
       "            setTimeout(function() {\n",
       "                var nbb_cell_id = 41;\n",
       "                var nbb_unformatted_code = \"if not already_trained:\\n    tuner.search(\\n        {\\n            \\\"input_word_ids\\\": bert_xtrain[0],\\n            \\\"input_mask\\\": bert_xtrain[1],\\n            \\\"segment_ids\\\": bert_xtrain[2],\\n        },\\n        y_train,\\n        epochs=3,\\n        batch_size=32,\\n        validation_data=(\\n            {\\n                \\\"input_word_ids\\\": bert_xval[0],\\n                \\\"input_mask\\\": bert_xval[1],\\n                \\\"segment_ids\\\": bert_xval[2],\\n            },\\n            y_val,\\n        ),\\n        callbacks=[checkpoint_cb, early_stopping_cb, tensorboard_cb],\\n    )\\nelse:\\n    None\";\n",
       "                var nbb_formatted_code = \"if not already_trained:\\n    tuner.search(\\n        {\\n            \\\"input_word_ids\\\": bert_xtrain[0],\\n            \\\"input_mask\\\": bert_xtrain[1],\\n            \\\"segment_ids\\\": bert_xtrain[2],\\n        },\\n        y_train,\\n        epochs=3,\\n        batch_size=32,\\n        validation_data=(\\n            {\\n                \\\"input_word_ids\\\": bert_xval[0],\\n                \\\"input_mask\\\": bert_xval[1],\\n                \\\"segment_ids\\\": bert_xval[2],\\n            },\\n            y_val,\\n        ),\\n        callbacks=[checkpoint_cb, early_stopping_cb, tensorboard_cb],\\n    )\\nelse:\\n    None\";\n",
       "                var nbb_cells = Jupyter.notebook.get_cells();\n",
       "                for (var i = 0; i < nbb_cells.length; ++i) {\n",
       "                    if (nbb_cells[i].input_prompt_number == nbb_cell_id) {\n",
       "                        if (nbb_cells[i].get_text() == nbb_unformatted_code) {\n",
       "                             nbb_cells[i].set_text(nbb_formatted_code);\n",
       "                        }\n",
       "                        break;\n",
       "                    }\n",
       "                }\n",
       "            }, 500);\n",
       "            "
      ],
      "text/plain": [
       "<IPython.core.display.Javascript object>"
      ]
     },
     "metadata": {},
     "output_type": "display_data"
    }
   ],
   "source": [
    "if not already_trained:\n",
    "    tuner.search(\n",
    "        {\n",
    "            \"input_word_ids\": bert_xtrain[0],\n",
    "            \"input_mask\": bert_xtrain[1],\n",
    "            \"segment_ids\": bert_xtrain[2],\n",
    "        },\n",
    "        y_train,\n",
    "        epochs=3,\n",
    "        batch_size=32,\n",
    "        validation_data=(\n",
    "            {\n",
    "                \"input_word_ids\": bert_xval[0],\n",
    "                \"input_mask\": bert_xval[1],\n",
    "                \"segment_ids\": bert_xval[2],\n",
    "            },\n",
    "            y_val,\n",
    "        ),\n",
    "        callbacks=[checkpoint_cb, early_stopping_cb, tensorboard_cb],\n",
    "    )\n",
    "else:\n",
    "    None"
   ]
  },
  {
   "cell_type": "markdown",
   "metadata": {
    "papermill": {
     "duration": 0.071983,
     "end_time": "2021-01-10T09:04:31.157640",
     "exception": false,
     "start_time": "2021-01-10T09:04:31.085657",
     "status": "completed"
    },
    "tags": []
   },
   "source": [
    "# Load Saved Model"
   ]
  },
  {
   "cell_type": "code",
   "execution_count": 42,
   "metadata": {
    "execution": {
     "iopub.execute_input": "2021-01-10T09:04:31.316409Z",
     "iopub.status.busy": "2021-01-10T09:04:31.311502Z",
     "iopub.status.idle": "2021-01-10T09:04:41.086404Z",
     "shell.execute_reply": "2021-01-10T09:04:41.085783Z"
    },
    "papermill": {
     "duration": 9.856305,
     "end_time": "2021-01-10T09:04:41.086508",
     "exception": false,
     "start_time": "2021-01-10T09:04:31.230203",
     "status": "completed"
    },
    "tags": []
   },
   "outputs": [
    {
     "name": "stdout",
     "output_type": "stream",
     "text": [
      "Model: \"functional_1\"\n",
      "__________________________________________________________________________________________________\n",
      "Layer (type)                    Output Shape         Param #     Connected to                     \n",
      "==================================================================================================\n",
      "input_word_ids (InputLayer)     [(None, 128)]        0                                            \n",
      "__________________________________________________________________________________________________\n",
      "input_mask (InputLayer)         [(None, 128)]        0                                            \n",
      "__________________________________________________________________________________________________\n",
      "segment_ids (InputLayer)        [(None, 128)]        0                                            \n",
      "__________________________________________________________________________________________________\n",
      "keras_layer (KerasLayer)        [(None, 768), (None, 109482241   input_word_ids[0][0]             \n",
      "                                                                 input_mask[0][0]                 \n",
      "                                                                 segment_ids[0][0]                \n",
      "__________________________________________________________________________________________________\n",
      "tf_op_layer_strided_slice (Tens (None, 768)          0           keras_layer[0][1]                \n",
      "__________________________________________________________________________________________________\n",
      "dense (Dense)                   (None, 96)           73824       tf_op_layer_strided_slice[0][0]  \n",
      "__________________________________________________________________________________________________\n",
      "dropout (Dropout)               (None, 96)           0           dense[0][0]                      \n",
      "__________________________________________________________________________________________________\n",
      "dense_1 (Dense)                 (None, 64)           6208        dropout[0][0]                    \n",
      "__________________________________________________________________________________________________\n",
      "dropout_1 (Dropout)             (None, 64)           0           dense_1[0][0]                    \n",
      "__________________________________________________________________________________________________\n",
      "dense_2 (Dense)                 (None, 1)            65          dropout_1[0][0]                  \n",
      "==================================================================================================\n",
      "Total params: 109,562,338\n",
      "Trainable params: 109,562,337\n",
      "Non-trainable params: 1\n",
      "__________________________________________________________________________________________________\n"
     ]
    },
    {
     "data": {
      "application/javascript": [
       "\n",
       "            setTimeout(function() {\n",
       "                var nbb_cell_id = 42;\n",
       "                var nbb_unformatted_code = \"bert_model = keras.models.load_model(\\n    \\\"keras_hyperband_disaster_prediction.h5\\\",\\n    custom_objects={\\\"KerasLayer\\\": hub.KerasLayer},\\n)\\nbert_model.summary()\";\n",
       "                var nbb_formatted_code = \"bert_model = keras.models.load_model(\\n    \\\"keras_hyperband_disaster_prediction.h5\\\",\\n    custom_objects={\\\"KerasLayer\\\": hub.KerasLayer},\\n)\\nbert_model.summary()\";\n",
       "                var nbb_cells = Jupyter.notebook.get_cells();\n",
       "                for (var i = 0; i < nbb_cells.length; ++i) {\n",
       "                    if (nbb_cells[i].input_prompt_number == nbb_cell_id) {\n",
       "                        if (nbb_cells[i].get_text() == nbb_unformatted_code) {\n",
       "                             nbb_cells[i].set_text(nbb_formatted_code);\n",
       "                        }\n",
       "                        break;\n",
       "                    }\n",
       "                }\n",
       "            }, 500);\n",
       "            "
      ],
      "text/plain": [
       "<IPython.core.display.Javascript object>"
      ]
     },
     "metadata": {},
     "output_type": "display_data"
    }
   ],
   "source": [
    "bert_model = keras.models.load_model(\n",
    "    \"keras_hyperband_disaster_prediction.h5\",\n",
    "    custom_objects={\"KerasLayer\": hub.KerasLayer},\n",
    ")\n",
    "bert_model.summary()"
   ]
  },
  {
   "cell_type": "markdown",
   "metadata": {
    "papermill": {
     "duration": 0.073949,
     "end_time": "2021-01-10T09:04:41.233813",
     "exception": false,
     "start_time": "2021-01-10T09:04:41.159864",
     "status": "completed"
    },
    "tags": []
   },
   "source": [
    "# My Custom BERT Model"
   ]
  },
  {
   "cell_type": "code",
   "execution_count": 43,
   "metadata": {
    "execution": {
     "iopub.execute_input": "2021-01-10T09:04:41.386344Z",
     "iopub.status.busy": "2021-01-10T09:04:41.385809Z",
     "iopub.status.idle": "2021-01-10T09:04:42.141541Z",
     "shell.execute_reply": "2021-01-10T09:04:42.141073Z"
    },
    "papermill": {
     "duration": 0.83417,
     "end_time": "2021-01-10T09:04:42.141640",
     "exception": false,
     "start_time": "2021-01-10T09:04:41.307470",
     "status": "completed"
    },
    "tags": []
   },
   "outputs": [
    {
     "data": {
      "image/png": "[encoded data removed]",
      "text/plain": [
       "<IPython.core.display.Image object>"
      ]
     },
     "execution_count": 43,
     "metadata": {},
     "output_type": "execute_result"
    },
    {
     "data": {
      "application/javascript": [
       "\n",
       "            setTimeout(function() {\n",
       "                var nbb_cell_id = 43;\n",
       "                var nbb_unformatted_code = \"tf.keras.utils.plot_model(bert_model, to_file=\\\"bert_model.png\\\", dpi=96)\";\n",
       "                var nbb_formatted_code = \"tf.keras.utils.plot_model(bert_model, to_file=\\\"bert_model.png\\\", dpi=96)\";\n",
       "                var nbb_cells = Jupyter.notebook.get_cells();\n",
       "                for (var i = 0; i < nbb_cells.length; ++i) {\n",
       "                    if (nbb_cells[i].input_prompt_number == nbb_cell_id) {\n",
       "                        if (nbb_cells[i].get_text() == nbb_unformatted_code) {\n",
       "                             nbb_cells[i].set_text(nbb_formatted_code);\n",
       "                        }\n",
       "                        break;\n",
       "                    }\n",
       "                }\n",
       "            }, 500);\n",
       "            "
      ],
      "text/plain": [
       "<IPython.core.display.Javascript object>"
      ]
     },
     "metadata": {},
     "output_type": "display_data"
    }
   ],
   "source": [
    "tf.keras.utils.plot_model(bert_model, to_file=\"bert_model.png\", dpi=96)"
   ]
  },
  {
   "cell_type": "markdown",
   "metadata": {
    "papermill": {
     "duration": 0.074521,
     "end_time": "2021-01-10T09:04:42.292031",
     "exception": false,
     "start_time": "2021-01-10T09:04:42.217510",
     "status": "completed"
    },
    "tags": []
   },
   "source": [
    "# Test set preprocessing"
   ]
  },
  {
   "cell_type": "code",
   "execution_count": 44,
   "metadata": {
    "execution": {
     "iopub.execute_input": "2021-01-10T09:04:42.450690Z",
     "iopub.status.busy": "2021-01-10T09:04:42.450157Z",
     "iopub.status.idle": "2021-01-10T09:04:44.146628Z",
     "shell.execute_reply": "2021-01-10T09:04:44.147078Z"
    },
    "papermill": {
     "duration": 1.779769,
     "end_time": "2021-01-10T09:04:44.147203",
     "exception": false,
     "start_time": "2021-01-10T09:04:42.367434",
     "status": "completed"
    },
    "tags": []
   },
   "outputs": [
    {
     "data": {
      "application/javascript": [
       "\n",
       "            setTimeout(function() {\n",
       "                var nbb_cell_id = 44;\n",
       "                var nbb_unformatted_code = \"# Read Test Set\\ndf_test = pd.read_csv(test_file)\\n# Preprocess Test Set\\nclean_text_column(\\\"text\\\", df_test)\\nbert_test = bert_encode(df_test.clean_text)\";\n",
       "                var nbb_formatted_code = \"# Read Test Set\\ndf_test = pd.read_csv(test_file)\\n# Preprocess Test Set\\nclean_text_column(\\\"text\\\", df_test)\\nbert_test = bert_encode(df_test.clean_text)\";\n",
       "                var nbb_cells = Jupyter.notebook.get_cells();\n",
       "                for (var i = 0; i < nbb_cells.length; ++i) {\n",
       "                    if (nbb_cells[i].input_prompt_number == nbb_cell_id) {\n",
       "                        if (nbb_cells[i].get_text() == nbb_unformatted_code) {\n",
       "                             nbb_cells[i].set_text(nbb_formatted_code);\n",
       "                        }\n",
       "                        break;\n",
       "                    }\n",
       "                }\n",
       "            }, 500);\n",
       "            "
      ],
      "text/plain": [
       "<IPython.core.display.Javascript object>"
      ]
     },
     "metadata": {},
     "output_type": "display_data"
    }
   ],
   "source": [
    "# Read Test Set\n",
    "df_test = pd.read_csv(test_file)\n",
    "# Preprocess Test Set\n",
    "clean_text_column(\"text\", df_test)\n",
    "bert_test = bert_encode(df_test.clean_text)"
   ]
  },
  {
   "cell_type": "markdown",
   "metadata": {
    "papermill": {
     "duration": 0.087233,
     "end_time": "2021-01-10T09:04:44.310341",
     "exception": false,
     "start_time": "2021-01-10T09:04:44.223108",
     "status": "completed"
    },
    "tags": []
   },
   "source": [
    "# Compute Predictions"
   ]
  },
  {
   "cell_type": "code",
   "execution_count": 45,
   "metadata": {
    "_kg_hide-output": false,
    "execution": {
     "iopub.execute_input": "2021-01-10T09:04:44.570528Z",
     "iopub.status.busy": "2021-01-10T09:04:44.569494Z",
     "iopub.status.idle": "2021-01-10T09:05:01.799778Z",
     "shell.execute_reply": "2021-01-10T09:05:01.800668Z"
    },
    "papermill": {
     "duration": 17.363437,
     "end_time": "2021-01-10T09:05:01.800878",
     "exception": false,
     "start_time": "2021-01-10T09:04:44.437441",
     "status": "completed"
    },
    "tags": []
   },
   "outputs": [
    {
     "data": {
      "application/javascript": [
       "\n",
       "            setTimeout(function() {\n",
       "                var nbb_cell_id = 45;\n",
       "                var nbb_unformatted_code = \"pred = bert_model.predict(bert_test)\";\n",
       "                var nbb_formatted_code = \"pred = bert_model.predict(bert_test)\";\n",
       "                var nbb_cells = Jupyter.notebook.get_cells();\n",
       "                for (var i = 0; i < nbb_cells.length; ++i) {\n",
       "                    if (nbb_cells[i].input_prompt_number == nbb_cell_id) {\n",
       "                        if (nbb_cells[i].get_text() == nbb_unformatted_code) {\n",
       "                             nbb_cells[i].set_text(nbb_formatted_code);\n",
       "                        }\n",
       "                        break;\n",
       "                    }\n",
       "                }\n",
       "            }, 500);\n",
       "            "
      ],
      "text/plain": [
       "<IPython.core.display.Javascript object>"
      ]
     },
     "metadata": {},
     "output_type": "display_data"
    }
   ],
   "source": [
    "pred = bert_model.predict(bert_test)"
   ]
  },
  {
   "cell_type": "markdown",
   "metadata": {
    "papermill": {
     "duration": 0.09974,
     "end_time": "2021-01-10T09:05:02.047947",
     "exception": false,
     "start_time": "2021-01-10T09:05:01.948207",
     "status": "completed"
    },
    "tags": []
   },
   "source": [
    "# Submission"
   ]
  },
  {
   "cell_type": "code",
   "execution_count": 46,
   "metadata": {
    "execution": {
     "iopub.execute_input": "2021-01-10T09:05:02.225171Z",
     "iopub.status.busy": "2021-01-10T09:05:02.224533Z",
     "iopub.status.idle": "2021-01-10T09:05:02.614828Z",
     "shell.execute_reply": "2021-01-10T09:05:02.613642Z"
    },
    "papermill": {
     "duration": 0.476564,
     "end_time": "2021-01-10T09:05:02.614956",
     "exception": false,
     "start_time": "2021-01-10T09:05:02.138392",
     "status": "completed"
    },
    "tags": []
   },
   "outputs": [
    {
     "data": {
      "application/javascript": [
       "\n",
       "            setTimeout(function() {\n",
       "                var nbb_cell_id = 46;\n",
       "                var nbb_unformatted_code = \"round_predictions = pred.round().astype(\\\"int\\\")\\ndf_submit = pd.read_csv(sample_submission_file)\\ndf_submit[\\\"target\\\"] = round_predictions\\ndf_submit.to_csv(\\\"submission.csv\\\", index=False, header=True)\";\n",
       "                var nbb_formatted_code = \"round_predictions = pred.round().astype(\\\"int\\\")\\ndf_submit = pd.read_csv(sample_submission_file)\\ndf_submit[\\\"target\\\"] = round_predictions\\ndf_submit.to_csv(\\\"submission.csv\\\", index=False, header=True)\";\n",
       "                var nbb_cells = Jupyter.notebook.get_cells();\n",
       "                for (var i = 0; i < nbb_cells.length; ++i) {\n",
       "                    if (nbb_cells[i].input_prompt_number == nbb_cell_id) {\n",
       "                        if (nbb_cells[i].get_text() == nbb_unformatted_code) {\n",
       "                             nbb_cells[i].set_text(nbb_formatted_code);\n",
       "                        }\n",
       "                        break;\n",
       "                    }\n",
       "                }\n",
       "            }, 500);\n",
       "            "
      ],
      "text/plain": [
       "<IPython.core.display.Javascript object>"
      ]
     },
     "metadata": {},
     "output_type": "display_data"
    }
   ],
   "source": [
    "round_predictions = pred.round().astype(\"int\")\n",
    "df_submit = pd.read_csv(sample_submission_file)\n",
    "df_submit[\"target\"] = round_predictions\n",
    "df_submit.to_csv(\"submission.csv\", index=False, header=True)"
   ]
  },
  {
   "cell_type": "code",
   "execution_count": 47,
   "metadata": {
    "execution": {
     "iopub.execute_input": "2021-01-10T09:05:02.795512Z",
     "iopub.status.busy": "2021-01-10T09:05:02.794665Z",
     "iopub.status.idle": "2021-01-10T09:05:02.820007Z",
     "shell.execute_reply": "2021-01-10T09:05:02.819228Z"
    },
    "papermill": {
     "duration": 0.119933,
     "end_time": "2021-01-10T09:05:02.820111",
     "exception": false,
     "start_time": "2021-01-10T09:05:02.700178",
     "status": "completed"
    },
    "tags": []
   },
   "outputs": [
    {
     "data": {
      "application/javascript": [
       "\n",
       "            setTimeout(function() {\n",
       "                var nbb_cell_id = 47;\n",
       "                var nbb_unformatted_code = \"round_predictions = pred.round().astype(\\\"int\\\")\\ndf_submit = pd.read_csv(sample_submission_file)\\ndf_submit[\\\"target\\\"] = round_predictions\\ndf_submit.to_csv(\\\"submission.csv\\\", index=False, header=True)\";\n",
       "                var nbb_formatted_code = \"round_predictions = pred.round().astype(\\\"int\\\")\\ndf_submit = pd.read_csv(sample_submission_file)\\ndf_submit[\\\"target\\\"] = round_predictions\\ndf_submit.to_csv(\\\"submission.csv\\\", index=False, header=True)\";\n",
       "                var nbb_cells = Jupyter.notebook.get_cells();\n",
       "                for (var i = 0; i < nbb_cells.length; ++i) {\n",
       "                    if (nbb_cells[i].input_prompt_number == nbb_cell_id) {\n",
       "                        if (nbb_cells[i].get_text() == nbb_unformatted_code) {\n",
       "                             nbb_cells[i].set_text(nbb_formatted_code);\n",
       "                        }\n",
       "                        break;\n",
       "                    }\n",
       "                }\n",
       "            }, 500);\n",
       "            "
      ],
      "text/plain": [
       "<IPython.core.display.Javascript object>"
      ]
     },
     "metadata": {},
     "output_type": "display_data"
    }
   ],
   "source": [
    "round_predictions = pred.round().astype(\"int\")\n",
    "df_submit = pd.read_csv(sample_submission_file)\n",
    "df_submit[\"target\"] = round_predictions\n",
    "df_submit.to_csv(\"submission.csv\", index=False, header=True)"
   ]
  },
  {
   "cell_type": "code",
   "execution_count": 48,
   "metadata": {
    "execution": {
     "iopub.execute_input": "2021-01-10T09:05:03.010457Z",
     "iopub.status.busy": "2021-01-10T09:05:03.009519Z",
     "iopub.status.idle": "2021-01-10T09:05:03.026242Z",
     "shell.execute_reply": "2021-01-10T09:05:03.026665Z"
    },
    "papermill": {
     "duration": 0.10336,
     "end_time": "2021-01-10T09:05:03.026788",
     "exception": false,
     "start_time": "2021-01-10T09:05:02.923428",
     "status": "completed"
    },
    "tags": []
   },
   "outputs": [
    {
     "data": {
      "application/javascript": [
       "\n",
       "            setTimeout(function() {\n",
       "                var nbb_cell_id = 48;\n",
       "                var nbb_unformatted_code = \"threshold_predictions = pred.round().astype(\\\"int\\\")\\ndf_submit = pd.read_csv(sample_submission_file)\\ndf_submit[\\\"target\\\"] = round_predictions\\ndf_submit.to_csv(\\\"submission.csv\\\", index=False, header=True)\";\n",
       "                var nbb_formatted_code = \"threshold_predictions = pred.round().astype(\\\"int\\\")\\ndf_submit = pd.read_csv(sample_submission_file)\\ndf_submit[\\\"target\\\"] = round_predictions\\ndf_submit.to_csv(\\\"submission.csv\\\", index=False, header=True)\";\n",
       "                var nbb_cells = Jupyter.notebook.get_cells();\n",
       "                for (var i = 0; i < nbb_cells.length; ++i) {\n",
       "                    if (nbb_cells[i].input_prompt_number == nbb_cell_id) {\n",
       "                        if (nbb_cells[i].get_text() == nbb_unformatted_code) {\n",
       "                             nbb_cells[i].set_text(nbb_formatted_code);\n",
       "                        }\n",
       "                        break;\n",
       "                    }\n",
       "                }\n",
       "            }, 500);\n",
       "            "
      ],
      "text/plain": [
       "<IPython.core.display.Javascript object>"
      ]
     },
     "metadata": {},
     "output_type": "display_data"
    }
   ],
   "source": [
    "threshold_predictions = pred.round().astype(\"int\")\n",
    "df_submit = pd.read_csv(sample_submission_file)\n",
    "df_submit[\"target\"] = round_predictions\n",
    "df_submit.to_csv(\"submission.csv\", index=False, header=True)"
   ]
  }
 ],
 "metadata": {
  "kernelspec": {
   "display_name": "Python 3",
   "language": "python",
   "name": "python3"
  },
  "language_info": {
   "codemirror_mode": {
    "name": "ipython",
    "version": 3
   },
   "file_extension": ".py",
   "mimetype": "text/x-python",
   "name": "python",
   "nbconvert_exporter": "python",
   "pygments_lexer": "ipython3",
   "version": "3.7.9"
  },
  "papermill": {
   "duration": 1290.180973,
   "end_time": "2021-01-10T09:05:04.224548",
   "environment_variables": {},
   "exception": null,
   "input_path": "__notebook__.ipynb",
   "output_path": "__notebook__.ipynb",
   "parameters": {},
   "start_time": "2021-01-10T08:43:34.043575",
   "version": "2.1.0"
  }
 },
 "nbformat": 4,
 "nbformat_minor": 4
}
