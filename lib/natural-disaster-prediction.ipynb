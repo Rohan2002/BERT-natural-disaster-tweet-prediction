{
 "cells": [
  {
   "cell_type": "code",
   "execution_count": 76,
   "metadata": {},
   "outputs": [
    {
     "data": {
      "application/javascript": [
       "\n",
       "            setTimeout(function() {\n",
       "                var nbb_cell_id = 76;\n",
       "                var nbb_unformatted_code = \"import pandas as pd\\nimport numpy as np\\nimport seaborn as sns\\nimport nltk\\nfrom nltk.corpus import stopwords\\nimport os\\nimport matplotlib.pyplot as plt\\nfrom matplotlib import pylab\\nimport emoji\\nimport re\\nimport contractions\\nfrom bs4 import BeautifulSoup\\nimport unicodedata\\nfrom nltk.stem import WordNetLemmatizer\\nimport tensorflow as tf\\nimport tensorflow_hub as hub\\nimport tokenization\\nfrom tensorflow import keras\\nfrom kerastuner.tuners import RandomSearch\";\n",
       "                var nbb_formatted_code = \"import pandas as pd\\nimport numpy as np\\nimport seaborn as sns\\nimport nltk\\nfrom nltk.corpus import stopwords\\nimport os\\nimport matplotlib.pyplot as plt\\nfrom matplotlib import pylab\\nimport emoji\\nimport re\\nimport contractions\\nfrom bs4 import BeautifulSoup\\nimport unicodedata\\nfrom nltk.stem import WordNetLemmatizer\\nimport tensorflow as tf\\nimport tensorflow_hub as hub\\nimport tokenization\\nfrom tensorflow import keras\\nfrom kerastuner.tuners import RandomSearch\";\n",
       "                var nbb_cells = Jupyter.notebook.get_cells();\n",
       "                for (var i = 0; i < nbb_cells.length; ++i) {\n",
       "                    if (nbb_cells[i].input_prompt_number == nbb_cell_id) {\n",
       "                        if (nbb_cells[i].get_text() == nbb_unformatted_code) {\n",
       "                             nbb_cells[i].set_text(nbb_formatted_code);\n",
       "                        }\n",
       "                        break;\n",
       "                    }\n",
       "                }\n",
       "            }, 500);\n",
       "            "
      ],
      "text/plain": [
       "<IPython.core.display.Javascript object>"
      ]
     },
     "metadata": {},
     "output_type": "display_data"
    },
    {
     "data": {
      "application/javascript": [
       "\n",
       "            setTimeout(function() {\n",
       "                var nbb_cell_id = 76;\n",
       "                var nbb_unformatted_code = \"import pandas as pd\\nimport numpy as np\\nimport seaborn as sns\\nimport nltk\\nfrom nltk.corpus import stopwords\\nimport os\\nimport matplotlib.pyplot as plt\\nfrom matplotlib import pylab\\nimport emoji\\nimport re\\nimport contractions\\nfrom bs4 import BeautifulSoup\\nimport unicodedata\\nfrom nltk.stem import WordNetLemmatizer\\nimport tensorflow as tf\\nimport tensorflow_hub as hub\\nimport tokenization\\nfrom tensorflow import keras\\nfrom kerastuner.tuners import RandomSearch\";\n",
       "                var nbb_formatted_code = \"import pandas as pd\\nimport numpy as np\\nimport seaborn as sns\\nimport nltk\\nfrom nltk.corpus import stopwords\\nimport os\\nimport matplotlib.pyplot as plt\\nfrom matplotlib import pylab\\nimport emoji\\nimport re\\nimport contractions\\nfrom bs4 import BeautifulSoup\\nimport unicodedata\\nfrom nltk.stem import WordNetLemmatizer\\nimport tensorflow as tf\\nimport tensorflow_hub as hub\\nimport tokenization\\nfrom tensorflow import keras\\nfrom kerastuner.tuners import RandomSearch\";\n",
       "                var nbb_cells = Jupyter.notebook.get_cells();\n",
       "                for (var i = 0; i < nbb_cells.length; ++i) {\n",
       "                    if (nbb_cells[i].input_prompt_number == nbb_cell_id) {\n",
       "                        if (nbb_cells[i].get_text() == nbb_unformatted_code) {\n",
       "                             nbb_cells[i].set_text(nbb_formatted_code);\n",
       "                        }\n",
       "                        break;\n",
       "                    }\n",
       "                }\n",
       "            }, 500);\n",
       "            "
      ],
      "text/plain": [
       "<IPython.core.display.Javascript object>"
      ]
     },
     "metadata": {},
     "output_type": "display_data"
    }
   ],
   "source": [
    "import pandas as pd\n",
    "import numpy as np\n",
    "import seaborn as sns\n",
    "import nltk\n",
    "from nltk.corpus import stopwords\n",
    "import os\n",
    "import matplotlib.pyplot as plt\n",
    "from matplotlib import pylab\n",
    "import emoji\n",
    "import re\n",
    "import contractions\n",
    "from bs4 import BeautifulSoup\n",
    "import unicodedata\n",
    "from nltk.stem import WordNetLemmatizer\n",
    "import tensorflow as tf\n",
    "import tensorflow_hub as hub\n",
    "import tokenization\n",
    "from tensorflow import keras\n",
    "from kerastuner.tuners import RandomSearch"
   ]
  },
  {
   "cell_type": "code",
   "execution_count": null,
   "metadata": {},
   "outputs": [],
   "source": []
  },
  {
   "cell_type": "code",
   "execution_count": 38,
   "metadata": {},
   "outputs": [
    {
     "name": "stderr",
     "output_type": "stream",
     "text": [
      "[nltk_data] Downloading package wordnet to /Users/user/nltk_data...\n",
      "[nltk_data]   Package wordnet is already up-to-date!\n"
     ]
    },
    {
     "data": {
      "text/plain": [
       "True"
      ]
     },
     "execution_count": 38,
     "metadata": {},
     "output_type": "execute_result"
    },
    {
     "data": {
      "application/javascript": [
       "\n",
       "            setTimeout(function() {\n",
       "                var nbb_cell_id = 38;\n",
       "                var nbb_unformatted_code = \"nltk.download(\\\"wordnet\\\")\";\n",
       "                var nbb_formatted_code = \"nltk.download(\\\"wordnet\\\")\";\n",
       "                var nbb_cells = Jupyter.notebook.get_cells();\n",
       "                for (var i = 0; i < nbb_cells.length; ++i) {\n",
       "                    if (nbb_cells[i].input_prompt_number == nbb_cell_id) {\n",
       "                        if (nbb_cells[i].get_text() == nbb_unformatted_code) {\n",
       "                             nbb_cells[i].set_text(nbb_formatted_code);\n",
       "                        }\n",
       "                        break;\n",
       "                    }\n",
       "                }\n",
       "            }, 500);\n",
       "            "
      ],
      "text/plain": [
       "<IPython.core.display.Javascript object>"
      ]
     },
     "metadata": {},
     "output_type": "display_data"
    }
   ],
   "source": [
    "nltk.download(\"wordnet\")"
   ]
  },
  {
   "cell_type": "code",
   "execution_count": 39,
   "metadata": {},
   "outputs": [
    {
     "data": {
      "application/javascript": [
       "\n",
       "            setTimeout(function() {\n",
       "                var nbb_cell_id = 39;\n",
       "                var nbb_unformatted_code = \"%config IPCompleter.greedy=True\\n%matplotlib inline\\n%reload_ext nb_black\";\n",
       "                var nbb_formatted_code = \"%config IPCompleter.greedy=True\\n%matplotlib inline\\n%reload_ext nb_black\";\n",
       "                var nbb_cells = Jupyter.notebook.get_cells();\n",
       "                for (var i = 0; i < nbb_cells.length; ++i) {\n",
       "                    if (nbb_cells[i].input_prompt_number == nbb_cell_id) {\n",
       "                        if (nbb_cells[i].get_text() == nbb_unformatted_code) {\n",
       "                             nbb_cells[i].set_text(nbb_formatted_code);\n",
       "                        }\n",
       "                        break;\n",
       "                    }\n",
       "                }\n",
       "            }, 500);\n",
       "            "
      ],
      "text/plain": [
       "<IPython.core.display.Javascript object>"
      ]
     },
     "metadata": {},
     "output_type": "display_data"
    },
    {
     "data": {
      "application/javascript": [
       "\n",
       "            setTimeout(function() {\n",
       "                var nbb_cell_id = 39;\n",
       "                var nbb_unformatted_code = \"%config IPCompleter.greedy=True\\n%matplotlib inline\\n%reload_ext nb_black\";\n",
       "                var nbb_formatted_code = \"%config IPCompleter.greedy=True\\n%matplotlib inline\\n%reload_ext nb_black\";\n",
       "                var nbb_cells = Jupyter.notebook.get_cells();\n",
       "                for (var i = 0; i < nbb_cells.length; ++i) {\n",
       "                    if (nbb_cells[i].input_prompt_number == nbb_cell_id) {\n",
       "                        if (nbb_cells[i].get_text() == nbb_unformatted_code) {\n",
       "                             nbb_cells[i].set_text(nbb_formatted_code);\n",
       "                        }\n",
       "                        break;\n",
       "                    }\n",
       "                }\n",
       "            }, 500);\n",
       "            "
      ],
      "text/plain": [
       "<IPython.core.display.Javascript object>"
      ]
     },
     "metadata": {},
     "output_type": "display_data"
    }
   ],
   "source": [
    "%config IPCompleter.greedy=True\n",
    "%matplotlib inline\n",
    "%reload_ext nb_black"
   ]
  },
  {
   "cell_type": "code",
   "execution_count": 40,
   "metadata": {},
   "outputs": [
    {
     "data": {
      "application/javascript": [
       "\n",
       "            setTimeout(function() {\n",
       "                var nbb_cell_id = 40;\n",
       "                var nbb_unformatted_code = \"# Constants\\ncurr_dir = \\\"..\\\"\\ntrain_file = os.path.join(curr_dir, \\\"dataset\\\", \\\"train.csv\\\")\\ntest_file = os.path.join(curr_dir, \\\"dataset\\\", \\\"test.csv\\\")\";\n",
       "                var nbb_formatted_code = \"# Constants\\ncurr_dir = \\\"..\\\"\\ntrain_file = os.path.join(curr_dir, \\\"dataset\\\", \\\"train.csv\\\")\\ntest_file = os.path.join(curr_dir, \\\"dataset\\\", \\\"test.csv\\\")\";\n",
       "                var nbb_cells = Jupyter.notebook.get_cells();\n",
       "                for (var i = 0; i < nbb_cells.length; ++i) {\n",
       "                    if (nbb_cells[i].input_prompt_number == nbb_cell_id) {\n",
       "                        if (nbb_cells[i].get_text() == nbb_unformatted_code) {\n",
       "                             nbb_cells[i].set_text(nbb_formatted_code);\n",
       "                        }\n",
       "                        break;\n",
       "                    }\n",
       "                }\n",
       "            }, 500);\n",
       "            "
      ],
      "text/plain": [
       "<IPython.core.display.Javascript object>"
      ]
     },
     "metadata": {},
     "output_type": "display_data"
    },
    {
     "data": {
      "application/javascript": [
       "\n",
       "            setTimeout(function() {\n",
       "                var nbb_cell_id = 40;\n",
       "                var nbb_unformatted_code = \"# Constants\\ncurr_dir = \\\"..\\\"\\ntrain_file = os.path.join(curr_dir, \\\"dataset\\\", \\\"train.csv\\\")\\ntest_file = os.path.join(curr_dir, \\\"dataset\\\", \\\"test.csv\\\")\";\n",
       "                var nbb_formatted_code = \"# Constants\\ncurr_dir = \\\"..\\\"\\ntrain_file = os.path.join(curr_dir, \\\"dataset\\\", \\\"train.csv\\\")\\ntest_file = os.path.join(curr_dir, \\\"dataset\\\", \\\"test.csv\\\")\";\n",
       "                var nbb_cells = Jupyter.notebook.get_cells();\n",
       "                for (var i = 0; i < nbb_cells.length; ++i) {\n",
       "                    if (nbb_cells[i].input_prompt_number == nbb_cell_id) {\n",
       "                        if (nbb_cells[i].get_text() == nbb_unformatted_code) {\n",
       "                             nbb_cells[i].set_text(nbb_formatted_code);\n",
       "                        }\n",
       "                        break;\n",
       "                    }\n",
       "                }\n",
       "            }, 500);\n",
       "            "
      ],
      "text/plain": [
       "<IPython.core.display.Javascript object>"
      ]
     },
     "metadata": {},
     "output_type": "display_data"
    }
   ],
   "source": [
    "# Constants\n",
    "curr_dir = \"..\"\n",
    "train_file = os.path.join(curr_dir, \"dataset\", \"train.csv\")\n",
    "test_file = os.path.join(curr_dir, \"dataset\", \"test.csv\")"
   ]
  },
  {
   "cell_type": "code",
   "execution_count": 41,
   "metadata": {},
   "outputs": [
    {
     "data": {
      "application/javascript": [
       "\n",
       "            setTimeout(function() {\n",
       "                var nbb_cell_id = 41;\n",
       "                var nbb_unformatted_code = \"params = {\\n    \\\"legend.fontsize\\\": \\\"x-large\\\",\\n    \\\"figure.figsize\\\": (16, 5),\\n    \\\"axes.labelsize\\\": \\\"x-large\\\",\\n    \\\"axes.titlesize\\\": \\\"x-large\\\",\\n    \\\"xtick.labelsize\\\": \\\"x-large\\\",\\n    \\\"ytick.labelsize\\\": \\\"x-large\\\",\\n}\\npylab.rcParams.update(params)\\nsns.set_theme(style=\\\"darkgrid\\\")\";\n",
       "                var nbb_formatted_code = \"params = {\\n    \\\"legend.fontsize\\\": \\\"x-large\\\",\\n    \\\"figure.figsize\\\": (16, 5),\\n    \\\"axes.labelsize\\\": \\\"x-large\\\",\\n    \\\"axes.titlesize\\\": \\\"x-large\\\",\\n    \\\"xtick.labelsize\\\": \\\"x-large\\\",\\n    \\\"ytick.labelsize\\\": \\\"x-large\\\",\\n}\\npylab.rcParams.update(params)\\nsns.set_theme(style=\\\"darkgrid\\\")\";\n",
       "                var nbb_cells = Jupyter.notebook.get_cells();\n",
       "                for (var i = 0; i < nbb_cells.length; ++i) {\n",
       "                    if (nbb_cells[i].input_prompt_number == nbb_cell_id) {\n",
       "                        if (nbb_cells[i].get_text() == nbb_unformatted_code) {\n",
       "                             nbb_cells[i].set_text(nbb_formatted_code);\n",
       "                        }\n",
       "                        break;\n",
       "                    }\n",
       "                }\n",
       "            }, 500);\n",
       "            "
      ],
      "text/plain": [
       "<IPython.core.display.Javascript object>"
      ]
     },
     "metadata": {},
     "output_type": "display_data"
    },
    {
     "data": {
      "application/javascript": [
       "\n",
       "            setTimeout(function() {\n",
       "                var nbb_cell_id = 41;\n",
       "                var nbb_unformatted_code = \"params = {\\n    \\\"legend.fontsize\\\": \\\"x-large\\\",\\n    \\\"figure.figsize\\\": (16, 5),\\n    \\\"axes.labelsize\\\": \\\"x-large\\\",\\n    \\\"axes.titlesize\\\": \\\"x-large\\\",\\n    \\\"xtick.labelsize\\\": \\\"x-large\\\",\\n    \\\"ytick.labelsize\\\": \\\"x-large\\\",\\n}\\npylab.rcParams.update(params)\\nsns.set_theme(style=\\\"darkgrid\\\")\";\n",
       "                var nbb_formatted_code = \"params = {\\n    \\\"legend.fontsize\\\": \\\"x-large\\\",\\n    \\\"figure.figsize\\\": (16, 5),\\n    \\\"axes.labelsize\\\": \\\"x-large\\\",\\n    \\\"axes.titlesize\\\": \\\"x-large\\\",\\n    \\\"xtick.labelsize\\\": \\\"x-large\\\",\\n    \\\"ytick.labelsize\\\": \\\"x-large\\\",\\n}\\npylab.rcParams.update(params)\\nsns.set_theme(style=\\\"darkgrid\\\")\";\n",
       "                var nbb_cells = Jupyter.notebook.get_cells();\n",
       "                for (var i = 0; i < nbb_cells.length; ++i) {\n",
       "                    if (nbb_cells[i].input_prompt_number == nbb_cell_id) {\n",
       "                        if (nbb_cells[i].get_text() == nbb_unformatted_code) {\n",
       "                             nbb_cells[i].set_text(nbb_formatted_code);\n",
       "                        }\n",
       "                        break;\n",
       "                    }\n",
       "                }\n",
       "            }, 500);\n",
       "            "
      ],
      "text/plain": [
       "<IPython.core.display.Javascript object>"
      ]
     },
     "metadata": {},
     "output_type": "display_data"
    }
   ],
   "source": [
    "params = {\n",
    "    \"legend.fontsize\": \"x-large\",\n",
    "    \"figure.figsize\": (16, 5),\n",
    "    \"axes.labelsize\": \"x-large\",\n",
    "    \"axes.titlesize\": \"x-large\",\n",
    "    \"xtick.labelsize\": \"x-large\",\n",
    "    \"ytick.labelsize\": \"x-large\",\n",
    "}\n",
    "pylab.rcParams.update(params)\n",
    "sns.set_theme(style=\"darkgrid\")"
   ]
  },
  {
   "cell_type": "code",
   "execution_count": 42,
   "metadata": {},
   "outputs": [
    {
     "data": {
      "text/html": [
       "<div>\n",
       "<style scoped>\n",
       "    .dataframe tbody tr th:only-of-type {\n",
       "        vertical-align: middle;\n",
       "    }\n",
       "\n",
       "    .dataframe tbody tr th {\n",
       "        vertical-align: top;\n",
       "    }\n",
       "\n",
       "    .dataframe thead th {\n",
       "        text-align: right;\n",
       "    }\n",
       "</style>\n",
       "<table border=\"1\" class=\"dataframe\">\n",
       "  <thead>\n",
       "    <tr style=\"text-align: right;\">\n",
       "      <th></th>\n",
       "      <th>id</th>\n",
       "      <th>keyword</th>\n",
       "      <th>location</th>\n",
       "      <th>text</th>\n",
       "      <th>target</th>\n",
       "    </tr>\n",
       "  </thead>\n",
       "  <tbody>\n",
       "    <tr>\n",
       "      <th>0</th>\n",
       "      <td>1</td>\n",
       "      <td>NaN</td>\n",
       "      <td>NaN</td>\n",
       "      <td>Our Deeds are the Reason of this #earthquake M...</td>\n",
       "      <td>1</td>\n",
       "    </tr>\n",
       "    <tr>\n",
       "      <th>1</th>\n",
       "      <td>4</td>\n",
       "      <td>NaN</td>\n",
       "      <td>NaN</td>\n",
       "      <td>Forest fire near La Ronge Sask. Canada</td>\n",
       "      <td>1</td>\n",
       "    </tr>\n",
       "    <tr>\n",
       "      <th>2</th>\n",
       "      <td>5</td>\n",
       "      <td>NaN</td>\n",
       "      <td>NaN</td>\n",
       "      <td>All residents asked to 'shelter in place' are ...</td>\n",
       "      <td>1</td>\n",
       "    </tr>\n",
       "    <tr>\n",
       "      <th>3</th>\n",
       "      <td>6</td>\n",
       "      <td>NaN</td>\n",
       "      <td>NaN</td>\n",
       "      <td>13,000 people receive #wildfires evacuation or...</td>\n",
       "      <td>1</td>\n",
       "    </tr>\n",
       "    <tr>\n",
       "      <th>4</th>\n",
       "      <td>7</td>\n",
       "      <td>NaN</td>\n",
       "      <td>NaN</td>\n",
       "      <td>Just got sent this photo from Ruby #Alaska as ...</td>\n",
       "      <td>1</td>\n",
       "    </tr>\n",
       "  </tbody>\n",
       "</table>\n",
       "</div>"
      ],
      "text/plain": [
       "   id keyword location                                               text  \\\n",
       "0   1     NaN      NaN  Our Deeds are the Reason of this #earthquake M...   \n",
       "1   4     NaN      NaN             Forest fire near La Ronge Sask. Canada   \n",
       "2   5     NaN      NaN  All residents asked to 'shelter in place' are ...   \n",
       "3   6     NaN      NaN  13,000 people receive #wildfires evacuation or...   \n",
       "4   7     NaN      NaN  Just got sent this photo from Ruby #Alaska as ...   \n",
       "\n",
       "   target  \n",
       "0       1  \n",
       "1       1  \n",
       "2       1  \n",
       "3       1  \n",
       "4       1  "
      ]
     },
     "execution_count": 42,
     "metadata": {},
     "output_type": "execute_result"
    },
    {
     "data": {
      "application/javascript": [
       "\n",
       "            setTimeout(function() {\n",
       "                var nbb_cell_id = 42;\n",
       "                var nbb_unformatted_code = \"df = pd.read_csv(train_file)\\ndf.head()\";\n",
       "                var nbb_formatted_code = \"df = pd.read_csv(train_file)\\ndf.head()\";\n",
       "                var nbb_cells = Jupyter.notebook.get_cells();\n",
       "                for (var i = 0; i < nbb_cells.length; ++i) {\n",
       "                    if (nbb_cells[i].input_prompt_number == nbb_cell_id) {\n",
       "                        if (nbb_cells[i].get_text() == nbb_unformatted_code) {\n",
       "                             nbb_cells[i].set_text(nbb_formatted_code);\n",
       "                        }\n",
       "                        break;\n",
       "                    }\n",
       "                }\n",
       "            }, 500);\n",
       "            "
      ],
      "text/plain": [
       "<IPython.core.display.Javascript object>"
      ]
     },
     "metadata": {},
     "output_type": "display_data"
    },
    {
     "data": {
      "application/javascript": [
       "\n",
       "            setTimeout(function() {\n",
       "                var nbb_cell_id = 42;\n",
       "                var nbb_unformatted_code = \"df = pd.read_csv(train_file)\\ndf.head()\";\n",
       "                var nbb_formatted_code = \"df = pd.read_csv(train_file)\\ndf.head()\";\n",
       "                var nbb_cells = Jupyter.notebook.get_cells();\n",
       "                for (var i = 0; i < nbb_cells.length; ++i) {\n",
       "                    if (nbb_cells[i].input_prompt_number == nbb_cell_id) {\n",
       "                        if (nbb_cells[i].get_text() == nbb_unformatted_code) {\n",
       "                             nbb_cells[i].set_text(nbb_formatted_code);\n",
       "                        }\n",
       "                        break;\n",
       "                    }\n",
       "                }\n",
       "            }, 500);\n",
       "            "
      ],
      "text/plain": [
       "<IPython.core.display.Javascript object>"
      ]
     },
     "metadata": {},
     "output_type": "display_data"
    }
   ],
   "source": [
    "df = pd.read_csv(train_file)\n",
    "df.head()"
   ]
  },
  {
   "cell_type": "code",
   "execution_count": 43,
   "metadata": {},
   "outputs": [
    {
     "name": "stdout",
     "output_type": "stream",
     "text": [
      "<class 'pandas.core.frame.DataFrame'>\n",
      "RangeIndex: 7613 entries, 0 to 7612\n",
      "Data columns (total 5 columns):\n",
      " #   Column    Non-Null Count  Dtype \n",
      "---  ------    --------------  ----- \n",
      " 0   id        7613 non-null   int64 \n",
      " 1   keyword   7552 non-null   object\n",
      " 2   location  5080 non-null   object\n",
      " 3   text      7613 non-null   object\n",
      " 4   target    7613 non-null   int64 \n",
      "dtypes: int64(2), object(3)\n",
      "memory usage: 297.5+ KB\n"
     ]
    },
    {
     "data": {
      "application/javascript": [
       "\n",
       "            setTimeout(function() {\n",
       "                var nbb_cell_id = 43;\n",
       "                var nbb_unformatted_code = \"df.info()\";\n",
       "                var nbb_formatted_code = \"df.info()\";\n",
       "                var nbb_cells = Jupyter.notebook.get_cells();\n",
       "                for (var i = 0; i < nbb_cells.length; ++i) {\n",
       "                    if (nbb_cells[i].input_prompt_number == nbb_cell_id) {\n",
       "                        if (nbb_cells[i].get_text() == nbb_unformatted_code) {\n",
       "                             nbb_cells[i].set_text(nbb_formatted_code);\n",
       "                        }\n",
       "                        break;\n",
       "                    }\n",
       "                }\n",
       "            }, 500);\n",
       "            "
      ],
      "text/plain": [
       "<IPython.core.display.Javascript object>"
      ]
     },
     "metadata": {},
     "output_type": "display_data"
    },
    {
     "data": {
      "application/javascript": [
       "\n",
       "            setTimeout(function() {\n",
       "                var nbb_cell_id = 43;\n",
       "                var nbb_unformatted_code = \"df.info()\";\n",
       "                var nbb_formatted_code = \"df.info()\";\n",
       "                var nbb_cells = Jupyter.notebook.get_cells();\n",
       "                for (var i = 0; i < nbb_cells.length; ++i) {\n",
       "                    if (nbb_cells[i].input_prompt_number == nbb_cell_id) {\n",
       "                        if (nbb_cells[i].get_text() == nbb_unformatted_code) {\n",
       "                             nbb_cells[i].set_text(nbb_formatted_code);\n",
       "                        }\n",
       "                        break;\n",
       "                    }\n",
       "                }\n",
       "            }, 500);\n",
       "            "
      ],
      "text/plain": [
       "<IPython.core.display.Javascript object>"
      ]
     },
     "metadata": {},
     "output_type": "display_data"
    }
   ],
   "source": [
    "df.info()"
   ]
  },
  {
   "cell_type": "code",
   "execution_count": 44,
   "metadata": {},
   "outputs": [
    {
     "data": {
      "text/plain": [
       "id             0\n",
       "keyword       61\n",
       "location    2533\n",
       "text           0\n",
       "target         0\n",
       "dtype: int64"
      ]
     },
     "execution_count": 44,
     "metadata": {},
     "output_type": "execute_result"
    },
    {
     "data": {
      "application/javascript": [
       "\n",
       "            setTimeout(function() {\n",
       "                var nbb_cell_id = 44;\n",
       "                var nbb_unformatted_code = \"df.isnull().sum()\";\n",
       "                var nbb_formatted_code = \"df.isnull().sum()\";\n",
       "                var nbb_cells = Jupyter.notebook.get_cells();\n",
       "                for (var i = 0; i < nbb_cells.length; ++i) {\n",
       "                    if (nbb_cells[i].input_prompt_number == nbb_cell_id) {\n",
       "                        if (nbb_cells[i].get_text() == nbb_unformatted_code) {\n",
       "                             nbb_cells[i].set_text(nbb_formatted_code);\n",
       "                        }\n",
       "                        break;\n",
       "                    }\n",
       "                }\n",
       "            }, 500);\n",
       "            "
      ],
      "text/plain": [
       "<IPython.core.display.Javascript object>"
      ]
     },
     "metadata": {},
     "output_type": "display_data"
    },
    {
     "data": {
      "application/javascript": [
       "\n",
       "            setTimeout(function() {\n",
       "                var nbb_cell_id = 44;\n",
       "                var nbb_unformatted_code = \"df.isnull().sum()\";\n",
       "                var nbb_formatted_code = \"df.isnull().sum()\";\n",
       "                var nbb_cells = Jupyter.notebook.get_cells();\n",
       "                for (var i = 0; i < nbb_cells.length; ++i) {\n",
       "                    if (nbb_cells[i].input_prompt_number == nbb_cell_id) {\n",
       "                        if (nbb_cells[i].get_text() == nbb_unformatted_code) {\n",
       "                             nbb_cells[i].set_text(nbb_formatted_code);\n",
       "                        }\n",
       "                        break;\n",
       "                    }\n",
       "                }\n",
       "            }, 500);\n",
       "            "
      ],
      "text/plain": [
       "<IPython.core.display.Javascript object>"
      ]
     },
     "metadata": {},
     "output_type": "display_data"
    }
   ],
   "source": [
    "df.isnull().sum()"
   ]
  },
  {
   "cell_type": "code",
   "execution_count": 45,
   "metadata": {},
   "outputs": [
    {
     "data": {
      "application/javascript": [
       "\n",
       "            setTimeout(function() {\n",
       "                var nbb_cell_id = 45;\n",
       "                var nbb_unformatted_code = \"def plotBarGraph(data, labelx, labely, title, switch_axis=False):\\n    y = data.index.tolist()\\n    x = data.tolist()\\n    if switch_axis:\\n        x = data.index.tolist()\\n        y = data.tolist()\\n    sns.barplot(y=y, x=x)\\n    plt.title(title)\\n    plt.xlabel(labelx)\\n    plt.ylabel(labely)\\n    plt.show()\";\n",
       "                var nbb_formatted_code = \"def plotBarGraph(data, labelx, labely, title, switch_axis=False):\\n    y = data.index.tolist()\\n    x = data.tolist()\\n    if switch_axis:\\n        x = data.index.tolist()\\n        y = data.tolist()\\n    sns.barplot(y=y, x=x)\\n    plt.title(title)\\n    plt.xlabel(labelx)\\n    plt.ylabel(labely)\\n    plt.show()\";\n",
       "                var nbb_cells = Jupyter.notebook.get_cells();\n",
       "                for (var i = 0; i < nbb_cells.length; ++i) {\n",
       "                    if (nbb_cells[i].input_prompt_number == nbb_cell_id) {\n",
       "                        if (nbb_cells[i].get_text() == nbb_unformatted_code) {\n",
       "                             nbb_cells[i].set_text(nbb_formatted_code);\n",
       "                        }\n",
       "                        break;\n",
       "                    }\n",
       "                }\n",
       "            }, 500);\n",
       "            "
      ],
      "text/plain": [
       "<IPython.core.display.Javascript object>"
      ]
     },
     "metadata": {},
     "output_type": "display_data"
    },
    {
     "data": {
      "application/javascript": [
       "\n",
       "            setTimeout(function() {\n",
       "                var nbb_cell_id = 45;\n",
       "                var nbb_unformatted_code = \"def plotBarGraph(data, labelx, labely, title, switch_axis=False):\\n    y = data.index.tolist()\\n    x = data.tolist()\\n    if switch_axis:\\n        x = data.index.tolist()\\n        y = data.tolist()\\n    sns.barplot(y=y, x=x)\\n    plt.title(title)\\n    plt.xlabel(labelx)\\n    plt.ylabel(labely)\\n    plt.show()\";\n",
       "                var nbb_formatted_code = \"def plotBarGraph(data, labelx, labely, title, switch_axis=False):\\n    y = data.index.tolist()\\n    x = data.tolist()\\n    if switch_axis:\\n        x = data.index.tolist()\\n        y = data.tolist()\\n    sns.barplot(y=y, x=x)\\n    plt.title(title)\\n    plt.xlabel(labelx)\\n    plt.ylabel(labely)\\n    plt.show()\";\n",
       "                var nbb_cells = Jupyter.notebook.get_cells();\n",
       "                for (var i = 0; i < nbb_cells.length; ++i) {\n",
       "                    if (nbb_cells[i].input_prompt_number == nbb_cell_id) {\n",
       "                        if (nbb_cells[i].get_text() == nbb_unformatted_code) {\n",
       "                             nbb_cells[i].set_text(nbb_formatted_code);\n",
       "                        }\n",
       "                        break;\n",
       "                    }\n",
       "                }\n",
       "            }, 500);\n",
       "            "
      ],
      "text/plain": [
       "<IPython.core.display.Javascript object>"
      ]
     },
     "metadata": {},
     "output_type": "display_data"
    }
   ],
   "source": [
    "def plotBarGraph(data, labelx, labely, title, switch_axis=False):\n",
    "    y = data.index.tolist()\n",
    "    x = data.tolist()\n",
    "    if switch_axis:\n",
    "        x = data.index.tolist()\n",
    "        y = data.tolist()\n",
    "    sns.barplot(y=y, x=x)\n",
    "    plt.title(title)\n",
    "    plt.xlabel(labelx)\n",
    "    plt.ylabel(labely)\n",
    "    plt.show()"
   ]
  },
  {
   "cell_type": "code",
   "execution_count": 46,
   "metadata": {},
   "outputs": [
    {
     "data": {
      "image/png": "[encoded data removed]",
      "text/plain": [
       "<Figure size 1152x360 with 1 Axes>"
      ]
     },
     "metadata": {},
     "output_type": "display_data"
    },
    {
     "data": {
      "application/javascript": [
       "\n",
       "            setTimeout(function() {\n",
       "                var nbb_cell_id = 46;\n",
       "                var nbb_unformatted_code = \"locations_map = df.location.value_counts().sort_values(ascending=False)[:10]\\nplotBarGraph(locations_map, \\\"Frequency\\\", \\\"Countries\\\", \\\"Tweet locations\\\")\";\n",
       "                var nbb_formatted_code = \"locations_map = df.location.value_counts().sort_values(ascending=False)[:10]\\nplotBarGraph(locations_map, \\\"Frequency\\\", \\\"Countries\\\", \\\"Tweet locations\\\")\";\n",
       "                var nbb_cells = Jupyter.notebook.get_cells();\n",
       "                for (var i = 0; i < nbb_cells.length; ++i) {\n",
       "                    if (nbb_cells[i].input_prompt_number == nbb_cell_id) {\n",
       "                        if (nbb_cells[i].get_text() == nbb_unformatted_code) {\n",
       "                             nbb_cells[i].set_text(nbb_formatted_code);\n",
       "                        }\n",
       "                        break;\n",
       "                    }\n",
       "                }\n",
       "            }, 500);\n",
       "            "
      ],
      "text/plain": [
       "<IPython.core.display.Javascript object>"
      ]
     },
     "metadata": {},
     "output_type": "display_data"
    },
    {
     "data": {
      "application/javascript": [
       "\n",
       "            setTimeout(function() {\n",
       "                var nbb_cell_id = 46;\n",
       "                var nbb_unformatted_code = \"locations_map = df.location.value_counts().sort_values(ascending=False)[:10]\\nplotBarGraph(locations_map, \\\"Frequency\\\", \\\"Countries\\\", \\\"Tweet locations\\\")\";\n",
       "                var nbb_formatted_code = \"locations_map = df.location.value_counts().sort_values(ascending=False)[:10]\\nplotBarGraph(locations_map, \\\"Frequency\\\", \\\"Countries\\\", \\\"Tweet locations\\\")\";\n",
       "                var nbb_cells = Jupyter.notebook.get_cells();\n",
       "                for (var i = 0; i < nbb_cells.length; ++i) {\n",
       "                    if (nbb_cells[i].input_prompt_number == nbb_cell_id) {\n",
       "                        if (nbb_cells[i].get_text() == nbb_unformatted_code) {\n",
       "                             nbb_cells[i].set_text(nbb_formatted_code);\n",
       "                        }\n",
       "                        break;\n",
       "                    }\n",
       "                }\n",
       "            }, 500);\n",
       "            "
      ],
      "text/plain": [
       "<IPython.core.display.Javascript object>"
      ]
     },
     "metadata": {},
     "output_type": "display_data"
    }
   ],
   "source": [
    "locations_map = df.location.value_counts().sort_values(ascending=False)[:10]\n",
    "plotBarGraph(locations_map, \"Frequency\", \"Countries\", \"Tweet locations\")"
   ]
  },
  {
   "cell_type": "code",
   "execution_count": 47,
   "metadata": {},
   "outputs": [
    {
     "data": {
      "image/png": "[encoded data removed]",
      "text/plain": [
       "<Figure size 1152x360 with 1 Axes>"
      ]
     },
     "metadata": {},
     "output_type": "display_data"
    },
    {
     "data": {
      "application/javascript": [
       "\n",
       "            setTimeout(function() {\n",
       "                var nbb_cell_id = 47;\n",
       "                var nbb_unformatted_code = \"# Top 20 Disaster related Keywords\\nkeywords_map = (\\n    df.keyword.loc[df.target == 1].value_counts().sort_values(ascending=False)[:20]\\n)\\nplotBarGraph(keywords_map, \\\"Frequency\\\", \\\"Keywords\\\", \\\"Top 20 disaster related keywords\\\")\";\n",
       "                var nbb_formatted_code = \"# Top 20 Disaster related Keywords\\nkeywords_map = (\\n    df.keyword.loc[df.target == 1].value_counts().sort_values(ascending=False)[:20]\\n)\\nplotBarGraph(keywords_map, \\\"Frequency\\\", \\\"Keywords\\\", \\\"Top 20 disaster related keywords\\\")\";\n",
       "                var nbb_cells = Jupyter.notebook.get_cells();\n",
       "                for (var i = 0; i < nbb_cells.length; ++i) {\n",
       "                    if (nbb_cells[i].input_prompt_number == nbb_cell_id) {\n",
       "                        if (nbb_cells[i].get_text() == nbb_unformatted_code) {\n",
       "                             nbb_cells[i].set_text(nbb_formatted_code);\n",
       "                        }\n",
       "                        break;\n",
       "                    }\n",
       "                }\n",
       "            }, 500);\n",
       "            "
      ],
      "text/plain": [
       "<IPython.core.display.Javascript object>"
      ]
     },
     "metadata": {},
     "output_type": "display_data"
    },
    {
     "data": {
      "application/javascript": [
       "\n",
       "            setTimeout(function() {\n",
       "                var nbb_cell_id = 47;\n",
       "                var nbb_unformatted_code = \"# Top 20 Disaster related Keywords\\nkeywords_map = (\\n    df.keyword.loc[df.target == 1].value_counts().sort_values(ascending=False)[:20]\\n)\\nplotBarGraph(keywords_map, \\\"Frequency\\\", \\\"Keywords\\\", \\\"Top 20 disaster related keywords\\\")\";\n",
       "                var nbb_formatted_code = \"# Top 20 Disaster related Keywords\\nkeywords_map = (\\n    df.keyword.loc[df.target == 1].value_counts().sort_values(ascending=False)[:20]\\n)\\nplotBarGraph(keywords_map, \\\"Frequency\\\", \\\"Keywords\\\", \\\"Top 20 disaster related keywords\\\")\";\n",
       "                var nbb_cells = Jupyter.notebook.get_cells();\n",
       "                for (var i = 0; i < nbb_cells.length; ++i) {\n",
       "                    if (nbb_cells[i].input_prompt_number == nbb_cell_id) {\n",
       "                        if (nbb_cells[i].get_text() == nbb_unformatted_code) {\n",
       "                             nbb_cells[i].set_text(nbb_formatted_code);\n",
       "                        }\n",
       "                        break;\n",
       "                    }\n",
       "                }\n",
       "            }, 500);\n",
       "            "
      ],
      "text/plain": [
       "<IPython.core.display.Javascript object>"
      ]
     },
     "metadata": {},
     "output_type": "display_data"
    }
   ],
   "source": [
    "# Top 20 Disaster related Keywords\n",
    "keywords_map = (\n",
    "    df.keyword.loc[df.target == 1].value_counts().sort_values(ascending=False)[:20]\n",
    ")\n",
    "plotBarGraph(keywords_map, \"Frequency\", \"Keywords\", \"Top 20 disaster related keywords\")"
   ]
  },
  {
   "cell_type": "code",
   "execution_count": 48,
   "metadata": {},
   "outputs": [
    {
     "data": {
      "image/png": "[encoded data removed]",
      "text/plain": [
       "<Figure size 1152x360 with 1 Axes>"
      ]
     },
     "metadata": {},
     "output_type": "display_data"
    },
    {
     "data": {
      "application/javascript": [
       "\n",
       "            setTimeout(function() {\n",
       "                var nbb_cell_id = 48;\n",
       "                var nbb_unformatted_code = \"# Top 20 Non-Disaster related Keywords\\nkeywords_non_disaster_map = df.keyword.loc[df.target == 0].value_counts(\\n    ascending=False\\n)[:20]\\nplotBarGraph(\\n    keywords_non_disaster_map,\\n    \\\"Frequency\\\",\\n    \\\"Keywords\\\",\\n    \\\"Top 20 non-disaster related keywords\\\",\\n)\";\n",
       "                var nbb_formatted_code = \"# Top 20 Non-Disaster related Keywords\\nkeywords_non_disaster_map = df.keyword.loc[df.target == 0].value_counts(\\n    ascending=False\\n)[:20]\\nplotBarGraph(\\n    keywords_non_disaster_map,\\n    \\\"Frequency\\\",\\n    \\\"Keywords\\\",\\n    \\\"Top 20 non-disaster related keywords\\\",\\n)\";\n",
       "                var nbb_cells = Jupyter.notebook.get_cells();\n",
       "                for (var i = 0; i < nbb_cells.length; ++i) {\n",
       "                    if (nbb_cells[i].input_prompt_number == nbb_cell_id) {\n",
       "                        if (nbb_cells[i].get_text() == nbb_unformatted_code) {\n",
       "                             nbb_cells[i].set_text(nbb_formatted_code);\n",
       "                        }\n",
       "                        break;\n",
       "                    }\n",
       "                }\n",
       "            }, 500);\n",
       "            "
      ],
      "text/plain": [
       "<IPython.core.display.Javascript object>"
      ]
     },
     "metadata": {},
     "output_type": "display_data"
    },
    {
     "data": {
      "application/javascript": [
       "\n",
       "            setTimeout(function() {\n",
       "                var nbb_cell_id = 48;\n",
       "                var nbb_unformatted_code = \"# Top 20 Non-Disaster related Keywords\\nkeywords_non_disaster_map = df.keyword.loc[df.target == 0].value_counts(\\n    ascending=False\\n)[:20]\\nplotBarGraph(\\n    keywords_non_disaster_map,\\n    \\\"Frequency\\\",\\n    \\\"Keywords\\\",\\n    \\\"Top 20 non-disaster related keywords\\\",\\n)\";\n",
       "                var nbb_formatted_code = \"# Top 20 Non-Disaster related Keywords\\nkeywords_non_disaster_map = df.keyword.loc[df.target == 0].value_counts(\\n    ascending=False\\n)[:20]\\nplotBarGraph(\\n    keywords_non_disaster_map,\\n    \\\"Frequency\\\",\\n    \\\"Keywords\\\",\\n    \\\"Top 20 non-disaster related keywords\\\",\\n)\";\n",
       "                var nbb_cells = Jupyter.notebook.get_cells();\n",
       "                for (var i = 0; i < nbb_cells.length; ++i) {\n",
       "                    if (nbb_cells[i].input_prompt_number == nbb_cell_id) {\n",
       "                        if (nbb_cells[i].get_text() == nbb_unformatted_code) {\n",
       "                             nbb_cells[i].set_text(nbb_formatted_code);\n",
       "                        }\n",
       "                        break;\n",
       "                    }\n",
       "                }\n",
       "            }, 500);\n",
       "            "
      ],
      "text/plain": [
       "<IPython.core.display.Javascript object>"
      ]
     },
     "metadata": {},
     "output_type": "display_data"
    }
   ],
   "source": [
    "# Top 20 Non-Disaster related Keywords\n",
    "keywords_non_disaster_map = df.keyword.loc[df.target == 0].value_counts(\n",
    "    ascending=False\n",
    ")[:20]\n",
    "plotBarGraph(\n",
    "    keywords_non_disaster_map,\n",
    "    \"Frequency\",\n",
    "    \"Keywords\",\n",
    "    \"Top 20 non-disaster related keywords\",\n",
    ")"
   ]
  },
  {
   "cell_type": "code",
   "execution_count": 49,
   "metadata": {},
   "outputs": [
    {
     "name": "stdout",
     "output_type": "stream",
     "text": [
      "In the graphs(Top 20 disaster keywords and non-disaster keywords) above\n",
      " we see that disaster keywords are natural or artificial calamilites.\n",
      "While non-disaster keywords are too generalized keywords and not sufficient to describe a disaster.\n"
     ]
    },
    {
     "data": {
      "application/javascript": [
       "\n",
       "            setTimeout(function() {\n",
       "                var nbb_cell_id = 49;\n",
       "                var nbb_unformatted_code = \"print(\\n    \\\"In the graphs(Top 20 disaster keywords and non-disaster keywords) above\\\\n we see that disaster keywords are natural or artificial calamilites.\\\\nWhile non-disaster keywords are too generalized keywords and not sufficient to describe a disaster.\\\"\\n)\";\n",
       "                var nbb_formatted_code = \"print(\\n    \\\"In the graphs(Top 20 disaster keywords and non-disaster keywords) above\\\\n we see that disaster keywords are natural or artificial calamilites.\\\\nWhile non-disaster keywords are too generalized keywords and not sufficient to describe a disaster.\\\"\\n)\";\n",
       "                var nbb_cells = Jupyter.notebook.get_cells();\n",
       "                for (var i = 0; i < nbb_cells.length; ++i) {\n",
       "                    if (nbb_cells[i].input_prompt_number == nbb_cell_id) {\n",
       "                        if (nbb_cells[i].get_text() == nbb_unformatted_code) {\n",
       "                             nbb_cells[i].set_text(nbb_formatted_code);\n",
       "                        }\n",
       "                        break;\n",
       "                    }\n",
       "                }\n",
       "            }, 500);\n",
       "            "
      ],
      "text/plain": [
       "<IPython.core.display.Javascript object>"
      ]
     },
     "metadata": {},
     "output_type": "display_data"
    },
    {
     "data": {
      "application/javascript": [
       "\n",
       "            setTimeout(function() {\n",
       "                var nbb_cell_id = 49;\n",
       "                var nbb_unformatted_code = \"print(\\n    \\\"In the graphs(Top 20 disaster keywords and non-disaster keywords) above\\\\n we see that disaster keywords are natural or artificial calamilites.\\\\nWhile non-disaster keywords are too generalized keywords and not sufficient to describe a disaster.\\\"\\n)\";\n",
       "                var nbb_formatted_code = \"print(\\n    \\\"In the graphs(Top 20 disaster keywords and non-disaster keywords) above\\\\n we see that disaster keywords are natural or artificial calamilites.\\\\nWhile non-disaster keywords are too generalized keywords and not sufficient to describe a disaster.\\\"\\n)\";\n",
       "                var nbb_cells = Jupyter.notebook.get_cells();\n",
       "                for (var i = 0; i < nbb_cells.length; ++i) {\n",
       "                    if (nbb_cells[i].input_prompt_number == nbb_cell_id) {\n",
       "                        if (nbb_cells[i].get_text() == nbb_unformatted_code) {\n",
       "                             nbb_cells[i].set_text(nbb_formatted_code);\n",
       "                        }\n",
       "                        break;\n",
       "                    }\n",
       "                }\n",
       "            }, 500);\n",
       "            "
      ],
      "text/plain": [
       "<IPython.core.display.Javascript object>"
      ]
     },
     "metadata": {},
     "output_type": "display_data"
    }
   ],
   "source": [
    "print(\n",
    "    \"In the graphs(Top 20 disaster keywords and non-disaster keywords) above\\n we see that disaster keywords are natural or artificial calamilites.\\nWhile non-disaster keywords are too generalized keywords and not sufficient to describe a disaster.\"\n",
    ")"
   ]
  },
  {
   "cell_type": "code",
   "execution_count": 50,
   "metadata": {},
   "outputs": [
    {
     "data": {
      "image/png": "[encoded data removed]",
      "text/plain": [
       "<Figure size 1152x360 with 1 Axes>"
      ]
     },
     "metadata": {},
     "output_type": "display_data"
    },
    {
     "data": {
      "application/javascript": [
       "\n",
       "            setTimeout(function() {\n",
       "                var nbb_cell_id = 50;\n",
       "                var nbb_unformatted_code = \"sns.countplot(x=\\\"target\\\", data=df)\\nplt.show()\";\n",
       "                var nbb_formatted_code = \"sns.countplot(x=\\\"target\\\", data=df)\\nplt.show()\";\n",
       "                var nbb_cells = Jupyter.notebook.get_cells();\n",
       "                for (var i = 0; i < nbb_cells.length; ++i) {\n",
       "                    if (nbb_cells[i].input_prompt_number == nbb_cell_id) {\n",
       "                        if (nbb_cells[i].get_text() == nbb_unformatted_code) {\n",
       "                             nbb_cells[i].set_text(nbb_formatted_code);\n",
       "                        }\n",
       "                        break;\n",
       "                    }\n",
       "                }\n",
       "            }, 500);\n",
       "            "
      ],
      "text/plain": [
       "<IPython.core.display.Javascript object>"
      ]
     },
     "metadata": {},
     "output_type": "display_data"
    },
    {
     "data": {
      "application/javascript": [
       "\n",
       "            setTimeout(function() {\n",
       "                var nbb_cell_id = 50;\n",
       "                var nbb_unformatted_code = \"sns.countplot(x=\\\"target\\\", data=df)\\nplt.show()\";\n",
       "                var nbb_formatted_code = \"sns.countplot(x=\\\"target\\\", data=df)\\nplt.show()\";\n",
       "                var nbb_cells = Jupyter.notebook.get_cells();\n",
       "                for (var i = 0; i < nbb_cells.length; ++i) {\n",
       "                    if (nbb_cells[i].input_prompt_number == nbb_cell_id) {\n",
       "                        if (nbb_cells[i].get_text() == nbb_unformatted_code) {\n",
       "                             nbb_cells[i].set_text(nbb_formatted_code);\n",
       "                        }\n",
       "                        break;\n",
       "                    }\n",
       "                }\n",
       "            }, 500);\n",
       "            "
      ],
      "text/plain": [
       "<IPython.core.display.Javascript object>"
      ]
     },
     "metadata": {},
     "output_type": "display_data"
    }
   ],
   "source": [
    "sns.countplot(x=\"target\", data=df)\n",
    "plt.show()"
   ]
  },
  {
   "cell_type": "code",
   "execution_count": 51,
   "metadata": {},
   "outputs": [
    {
     "name": "stdout",
     "output_type": "stream",
     "text": [
      "False    7503\n",
      "True      110\n",
      "Name: text, dtype: int64\n"
     ]
    },
    {
     "data": {
      "image/png": "[encoded data removed]",
      "text/plain": [
       "<Figure size 1152x360 with 1 Axes>"
      ]
     },
     "metadata": {},
     "output_type": "display_data"
    },
    {
     "data": {
      "application/javascript": [
       "\n",
       "            setTimeout(function() {\n",
       "                var nbb_cell_id = 51;\n",
       "                var nbb_unformatted_code = \"# Removing Duplicate Text Data\\ntext_data_duplicate_map = df.text.duplicated().value_counts()\\nprint(text_data_duplicate_map)\\nplotBarGraph(\\n    text_data_duplicate_map,\\n    \\\"Duplicate\\\",\\n    \\\"Frequency\\\",\\n    \\\"Text Data Duplicate or Not\\\",\\n    switch_axis=True,\\n)\";\n",
       "                var nbb_formatted_code = \"# Removing Duplicate Text Data\\ntext_data_duplicate_map = df.text.duplicated().value_counts()\\nprint(text_data_duplicate_map)\\nplotBarGraph(\\n    text_data_duplicate_map,\\n    \\\"Duplicate\\\",\\n    \\\"Frequency\\\",\\n    \\\"Text Data Duplicate or Not\\\",\\n    switch_axis=True,\\n)\";\n",
       "                var nbb_cells = Jupyter.notebook.get_cells();\n",
       "                for (var i = 0; i < nbb_cells.length; ++i) {\n",
       "                    if (nbb_cells[i].input_prompt_number == nbb_cell_id) {\n",
       "                        if (nbb_cells[i].get_text() == nbb_unformatted_code) {\n",
       "                             nbb_cells[i].set_text(nbb_formatted_code);\n",
       "                        }\n",
       "                        break;\n",
       "                    }\n",
       "                }\n",
       "            }, 500);\n",
       "            "
      ],
      "text/plain": [
       "<IPython.core.display.Javascript object>"
      ]
     },
     "metadata": {},
     "output_type": "display_data"
    },
    {
     "data": {
      "application/javascript": [
       "\n",
       "            setTimeout(function() {\n",
       "                var nbb_cell_id = 51;\n",
       "                var nbb_unformatted_code = \"# Removing Duplicate Text Data\\ntext_data_duplicate_map = df.text.duplicated().value_counts()\\nprint(text_data_duplicate_map)\\nplotBarGraph(\\n    text_data_duplicate_map,\\n    \\\"Duplicate\\\",\\n    \\\"Frequency\\\",\\n    \\\"Text Data Duplicate or Not\\\",\\n    switch_axis=True,\\n)\";\n",
       "                var nbb_formatted_code = \"# Removing Duplicate Text Data\\ntext_data_duplicate_map = df.text.duplicated().value_counts()\\nprint(text_data_duplicate_map)\\nplotBarGraph(\\n    text_data_duplicate_map,\\n    \\\"Duplicate\\\",\\n    \\\"Frequency\\\",\\n    \\\"Text Data Duplicate or Not\\\",\\n    switch_axis=True,\\n)\";\n",
       "                var nbb_cells = Jupyter.notebook.get_cells();\n",
       "                for (var i = 0; i < nbb_cells.length; ++i) {\n",
       "                    if (nbb_cells[i].input_prompt_number == nbb_cell_id) {\n",
       "                        if (nbb_cells[i].get_text() == nbb_unformatted_code) {\n",
       "                             nbb_cells[i].set_text(nbb_formatted_code);\n",
       "                        }\n",
       "                        break;\n",
       "                    }\n",
       "                }\n",
       "            }, 500);\n",
       "            "
      ],
      "text/plain": [
       "<IPython.core.display.Javascript object>"
      ]
     },
     "metadata": {},
     "output_type": "display_data"
    }
   ],
   "source": [
    "# Removing Duplicate Text Data\n",
    "text_data_duplicate_map = df.text.duplicated().value_counts()\n",
    "print(text_data_duplicate_map)\n",
    "plotBarGraph(\n",
    "    text_data_duplicate_map,\n",
    "    \"Duplicate\",\n",
    "    \"Frequency\",\n",
    "    \"Text Data Duplicate or Not\",\n",
    "    switch_axis=True,\n",
    ")"
   ]
  },
  {
   "cell_type": "code",
   "execution_count": 52,
   "metadata": {},
   "outputs": [
    {
     "name": "stdout",
     "output_type": "stream",
     "text": [
      "Original dataframe shape:  (7613, 5)\n",
      "Dropping duplicate rows and keeping original value shape:  (7503, 5)\n"
     ]
    },
    {
     "data": {
      "text/plain": [
       "False    7503\n",
       "Name: text, dtype: int64"
      ]
     },
     "execution_count": 52,
     "metadata": {},
     "output_type": "execute_result"
    },
    {
     "data": {
      "application/javascript": [
       "\n",
       "            setTimeout(function() {\n",
       "                var nbb_cell_id = 52;\n",
       "                var nbb_unformatted_code = \"print(\\\"Original dataframe shape: \\\", df.shape)\\ndf.drop_duplicates(subset=\\\"text\\\", keep=\\\"first\\\", inplace=True)\\nprint(\\\"Dropping duplicate rows and keeping original value shape: \\\", df.shape)\\ndf.text.duplicated().value_counts()\";\n",
       "                var nbb_formatted_code = \"print(\\\"Original dataframe shape: \\\", df.shape)\\ndf.drop_duplicates(subset=\\\"text\\\", keep=\\\"first\\\", inplace=True)\\nprint(\\\"Dropping duplicate rows and keeping original value shape: \\\", df.shape)\\ndf.text.duplicated().value_counts()\";\n",
       "                var nbb_cells = Jupyter.notebook.get_cells();\n",
       "                for (var i = 0; i < nbb_cells.length; ++i) {\n",
       "                    if (nbb_cells[i].input_prompt_number == nbb_cell_id) {\n",
       "                        if (nbb_cells[i].get_text() == nbb_unformatted_code) {\n",
       "                             nbb_cells[i].set_text(nbb_formatted_code);\n",
       "                        }\n",
       "                        break;\n",
       "                    }\n",
       "                }\n",
       "            }, 500);\n",
       "            "
      ],
      "text/plain": [
       "<IPython.core.display.Javascript object>"
      ]
     },
     "metadata": {},
     "output_type": "display_data"
    },
    {
     "data": {
      "application/javascript": [
       "\n",
       "            setTimeout(function() {\n",
       "                var nbb_cell_id = 52;\n",
       "                var nbb_unformatted_code = \"print(\\\"Original dataframe shape: \\\", df.shape)\\ndf.drop_duplicates(subset=\\\"text\\\", keep=\\\"first\\\", inplace=True)\\nprint(\\\"Dropping duplicate rows and keeping original value shape: \\\", df.shape)\\ndf.text.duplicated().value_counts()\";\n",
       "                var nbb_formatted_code = \"print(\\\"Original dataframe shape: \\\", df.shape)\\ndf.drop_duplicates(subset=\\\"text\\\", keep=\\\"first\\\", inplace=True)\\nprint(\\\"Dropping duplicate rows and keeping original value shape: \\\", df.shape)\\ndf.text.duplicated().value_counts()\";\n",
       "                var nbb_cells = Jupyter.notebook.get_cells();\n",
       "                for (var i = 0; i < nbb_cells.length; ++i) {\n",
       "                    if (nbb_cells[i].input_prompt_number == nbb_cell_id) {\n",
       "                        if (nbb_cells[i].get_text() == nbb_unformatted_code) {\n",
       "                             nbb_cells[i].set_text(nbb_formatted_code);\n",
       "                        }\n",
       "                        break;\n",
       "                    }\n",
       "                }\n",
       "            }, 500);\n",
       "            "
      ],
      "text/plain": [
       "<IPython.core.display.Javascript object>"
      ]
     },
     "metadata": {},
     "output_type": "display_data"
    }
   ],
   "source": [
    "print(\"Original dataframe shape: \", df.shape)\n",
    "df.drop_duplicates(subset=\"text\", keep=\"first\", inplace=True)\n",
    "print(\"Dropping duplicate rows and keeping original value shape: \", df.shape)\n",
    "df.text.duplicated().value_counts()"
   ]
  },
  {
   "cell_type": "code",
   "execution_count": 53,
   "metadata": {},
   "outputs": [
    {
     "name": "stdout",
     "output_type": "stream",
     "text": [
      "1368    @POTUS Would you please explain what you are g...\n",
      "3041    #SCSeEstaPreparando Light mag. 4.4 earthquake ...\n",
      "4714    The sunset looked like an erupting volcano ......\n",
      "6771    Maybe that's what happens when a tornado meets...\n",
      "7126    Jetstar and Virgin forced to cancel Bali fligh...\n",
      "Name: text, dtype: object\n"
     ]
    },
    {
     "data": {
      "application/javascript": [
       "\n",
       "            setTimeout(function() {\n",
       "                var nbb_cell_id = 53;\n",
       "                var nbb_unformatted_code = \"def search_text_data(query, column=\\\"text\\\"):\\n    return df[df[column].str.contains(query)][column]\\n\\n\\nprint(search_text_data(\\\"volcano\\\")[:5])\";\n",
       "                var nbb_formatted_code = \"def search_text_data(query, column=\\\"text\\\"):\\n    return df[df[column].str.contains(query)][column]\\n\\n\\nprint(search_text_data(\\\"volcano\\\")[:5])\";\n",
       "                var nbb_cells = Jupyter.notebook.get_cells();\n",
       "                for (var i = 0; i < nbb_cells.length; ++i) {\n",
       "                    if (nbb_cells[i].input_prompt_number == nbb_cell_id) {\n",
       "                        if (nbb_cells[i].get_text() == nbb_unformatted_code) {\n",
       "                             nbb_cells[i].set_text(nbb_formatted_code);\n",
       "                        }\n",
       "                        break;\n",
       "                    }\n",
       "                }\n",
       "            }, 500);\n",
       "            "
      ],
      "text/plain": [
       "<IPython.core.display.Javascript object>"
      ]
     },
     "metadata": {},
     "output_type": "display_data"
    },
    {
     "data": {
      "application/javascript": [
       "\n",
       "            setTimeout(function() {\n",
       "                var nbb_cell_id = 53;\n",
       "                var nbb_unformatted_code = \"def search_text_data(query, column=\\\"text\\\"):\\n    return df[df[column].str.contains(query)][column]\\n\\n\\nprint(search_text_data(\\\"volcano\\\")[:5])\";\n",
       "                var nbb_formatted_code = \"def search_text_data(query, column=\\\"text\\\"):\\n    return df[df[column].str.contains(query)][column]\\n\\n\\nprint(search_text_data(\\\"volcano\\\")[:5])\";\n",
       "                var nbb_cells = Jupyter.notebook.get_cells();\n",
       "                for (var i = 0; i < nbb_cells.length; ++i) {\n",
       "                    if (nbb_cells[i].input_prompt_number == nbb_cell_id) {\n",
       "                        if (nbb_cells[i].get_text() == nbb_unformatted_code) {\n",
       "                             nbb_cells[i].set_text(nbb_formatted_code);\n",
       "                        }\n",
       "                        break;\n",
       "                    }\n",
       "                }\n",
       "            }, 500);\n",
       "            "
      ],
      "text/plain": [
       "<IPython.core.display.Javascript object>"
      ]
     },
     "metadata": {},
     "output_type": "display_data"
    }
   ],
   "source": [
    "def search_text_data(query, column=\"text\"):\n",
    "    return df[df[column].str.contains(query)][column]\n",
    "\n",
    "\n",
    "print(search_text_data(\"volcano\")[:5])"
   ]
  },
  {
   "cell_type": "code",
   "execution_count": 54,
   "metadata": {},
   "outputs": [
    {
     "data": {
      "application/javascript": [
       "\n",
       "            setTimeout(function() {\n",
       "                var nbb_cell_id = 54;\n",
       "                var nbb_unformatted_code = \"# Lower case text data\\ndef lower_case_data(data=\\\"\\\"):\\n    data = data.lower()\\n    return data\";\n",
       "                var nbb_formatted_code = \"# Lower case text data\\ndef lower_case_data(data=\\\"\\\"):\\n    data = data.lower()\\n    return data\";\n",
       "                var nbb_cells = Jupyter.notebook.get_cells();\n",
       "                for (var i = 0; i < nbb_cells.length; ++i) {\n",
       "                    if (nbb_cells[i].input_prompt_number == nbb_cell_id) {\n",
       "                        if (nbb_cells[i].get_text() == nbb_unformatted_code) {\n",
       "                             nbb_cells[i].set_text(nbb_formatted_code);\n",
       "                        }\n",
       "                        break;\n",
       "                    }\n",
       "                }\n",
       "            }, 500);\n",
       "            "
      ],
      "text/plain": [
       "<IPython.core.display.Javascript object>"
      ]
     },
     "metadata": {},
     "output_type": "display_data"
    },
    {
     "data": {
      "application/javascript": [
       "\n",
       "            setTimeout(function() {\n",
       "                var nbb_cell_id = 54;\n",
       "                var nbb_unformatted_code = \"# Lower case text data\\ndef lower_case_data(data=\\\"\\\"):\\n    data = data.lower()\\n    return data\";\n",
       "                var nbb_formatted_code = \"# Lower case text data\\ndef lower_case_data(data=\\\"\\\"):\\n    data = data.lower()\\n    return data\";\n",
       "                var nbb_cells = Jupyter.notebook.get_cells();\n",
       "                for (var i = 0; i < nbb_cells.length; ++i) {\n",
       "                    if (nbb_cells[i].input_prompt_number == nbb_cell_id) {\n",
       "                        if (nbb_cells[i].get_text() == nbb_unformatted_code) {\n",
       "                             nbb_cells[i].set_text(nbb_formatted_code);\n",
       "                        }\n",
       "                        break;\n",
       "                    }\n",
       "                }\n",
       "            }, 500);\n",
       "            "
      ],
      "text/plain": [
       "<IPython.core.display.Javascript object>"
      ]
     },
     "metadata": {},
     "output_type": "display_data"
    }
   ],
   "source": [
    "# Lower case text data\n",
    "def lower_case_data(data=\"\"):\n",
    "    data = data.lower()\n",
    "    return data"
   ]
  },
  {
   "cell_type": "code",
   "execution_count": 55,
   "metadata": {},
   "outputs": [
    {
     "data": {
      "application/javascript": [
       "\n",
       "            setTimeout(function() {\n",
       "                var nbb_cell_id = 55;\n",
       "                var nbb_unformatted_code = \"# Handle Emojis\\ndef sentences_with_emojis(id_texts):\\n    sentences = []\\n    indeces = id_texts[0]\\n    texts = id_texts[1]\\n    for index, sentence in zip(indeces, texts):\\n        has_emoji = bool(emoji.get_emoji_regexp().search(sentence))\\n        if has_emoji:\\n            sentences.append((index, sentence))\\n    if len(sentences) == 0:\\n        return \\\"Sentences are clean and don't have emojis!\\\"\\n    else:\\n        return sentences\\n\\n\\n# Source: https://stackoverflow.com/questions/33404752/removing-emojis-from-a-string-in-python\\ndef clean_emojis(text):\\n    allchars = [str for str in text]\\n    emoji_list = [c for c in allchars if c in emoji.UNICODE_EMOJI]\\n    clean_text = \\\" \\\".join(\\n        [str for str in text.split() if not any(i in str for i in emoji_list)]\\n    )\\n    return clean_text\";\n",
       "                var nbb_formatted_code = \"# Handle Emojis\\ndef sentences_with_emojis(id_texts):\\n    sentences = []\\n    indeces = id_texts[0]\\n    texts = id_texts[1]\\n    for index, sentence in zip(indeces, texts):\\n        has_emoji = bool(emoji.get_emoji_regexp().search(sentence))\\n        if has_emoji:\\n            sentences.append((index, sentence))\\n    if len(sentences) == 0:\\n        return \\\"Sentences are clean and don't have emojis!\\\"\\n    else:\\n        return sentences\\n\\n\\n# Source: https://stackoverflow.com/questions/33404752/removing-emojis-from-a-string-in-python\\ndef clean_emojis(text):\\n    allchars = [str for str in text]\\n    emoji_list = [c for c in allchars if c in emoji.UNICODE_EMOJI]\\n    clean_text = \\\" \\\".join(\\n        [str for str in text.split() if not any(i in str for i in emoji_list)]\\n    )\\n    return clean_text\";\n",
       "                var nbb_cells = Jupyter.notebook.get_cells();\n",
       "                for (var i = 0; i < nbb_cells.length; ++i) {\n",
       "                    if (nbb_cells[i].input_prompt_number == nbb_cell_id) {\n",
       "                        if (nbb_cells[i].get_text() == nbb_unformatted_code) {\n",
       "                             nbb_cells[i].set_text(nbb_formatted_code);\n",
       "                        }\n",
       "                        break;\n",
       "                    }\n",
       "                }\n",
       "            }, 500);\n",
       "            "
      ],
      "text/plain": [
       "<IPython.core.display.Javascript object>"
      ]
     },
     "metadata": {},
     "output_type": "display_data"
    },
    {
     "data": {
      "application/javascript": [
       "\n",
       "            setTimeout(function() {\n",
       "                var nbb_cell_id = 55;\n",
       "                var nbb_unformatted_code = \"# Handle Emojis\\ndef sentences_with_emojis(id_texts):\\n    sentences = []\\n    indeces = id_texts[0]\\n    texts = id_texts[1]\\n    for index, sentence in zip(indeces, texts):\\n        has_emoji = bool(emoji.get_emoji_regexp().search(sentence))\\n        if has_emoji:\\n            sentences.append((index, sentence))\\n    if len(sentences) == 0:\\n        return \\\"Sentences are clean and don't have emojis!\\\"\\n    else:\\n        return sentences\\n\\n\\n# Source: https://stackoverflow.com/questions/33404752/removing-emojis-from-a-string-in-python\\ndef clean_emojis(text):\\n    allchars = [str for str in text]\\n    emoji_list = [c for c in allchars if c in emoji.UNICODE_EMOJI]\\n    clean_text = \\\" \\\".join(\\n        [str for str in text.split() if not any(i in str for i in emoji_list)]\\n    )\\n    return clean_text\";\n",
       "                var nbb_formatted_code = \"# Handle Emojis\\ndef sentences_with_emojis(id_texts):\\n    sentences = []\\n    indeces = id_texts[0]\\n    texts = id_texts[1]\\n    for index, sentence in zip(indeces, texts):\\n        has_emoji = bool(emoji.get_emoji_regexp().search(sentence))\\n        if has_emoji:\\n            sentences.append((index, sentence))\\n    if len(sentences) == 0:\\n        return \\\"Sentences are clean and don't have emojis!\\\"\\n    else:\\n        return sentences\\n\\n\\n# Source: https://stackoverflow.com/questions/33404752/removing-emojis-from-a-string-in-python\\ndef clean_emojis(text):\\n    allchars = [str for str in text]\\n    emoji_list = [c for c in allchars if c in emoji.UNICODE_EMOJI]\\n    clean_text = \\\" \\\".join(\\n        [str for str in text.split() if not any(i in str for i in emoji_list)]\\n    )\\n    return clean_text\";\n",
       "                var nbb_cells = Jupyter.notebook.get_cells();\n",
       "                for (var i = 0; i < nbb_cells.length; ++i) {\n",
       "                    if (nbb_cells[i].input_prompt_number == nbb_cell_id) {\n",
       "                        if (nbb_cells[i].get_text() == nbb_unformatted_code) {\n",
       "                             nbb_cells[i].set_text(nbb_formatted_code);\n",
       "                        }\n",
       "                        break;\n",
       "                    }\n",
       "                }\n",
       "            }, 500);\n",
       "            "
      ],
      "text/plain": [
       "<IPython.core.display.Javascript object>"
      ]
     },
     "metadata": {},
     "output_type": "display_data"
    }
   ],
   "source": [
    "# Handle Emojis\n",
    "def sentences_with_emojis(id_texts):\n",
    "    sentences = []\n",
    "    indeces = id_texts[0]\n",
    "    texts = id_texts[1]\n",
    "    for index, sentence in zip(indeces, texts):\n",
    "        has_emoji = bool(emoji.get_emoji_regexp().search(sentence))\n",
    "        if has_emoji:\n",
    "            sentences.append((index, sentence))\n",
    "    if len(sentences) == 0:\n",
    "        return \"Sentences are clean and don't have emojis!\"\n",
    "    else:\n",
    "        return sentences\n",
    "\n",
    "\n",
    "# Source: https://stackoverflow.com/questions/33404752/removing-emojis-from-a-string-in-python\n",
    "def clean_emojis(text):\n",
    "    allchars = [str for str in text]\n",
    "    emoji_list = [c for c in allchars if c in emoji.UNICODE_EMOJI]\n",
    "    clean_text = \" \".join(\n",
    "        [str for str in text.split() if not any(i in str for i in emoji_list)]\n",
    "    )\n",
    "    return clean_text"
   ]
  },
  {
   "cell_type": "code",
   "execution_count": 56,
   "metadata": {},
   "outputs": [
    {
     "data": {
      "application/javascript": [
       "\n",
       "            setTimeout(function() {\n",
       "                var nbb_cell_id = 56;\n",
       "                var nbb_unformatted_code = \"# Clean urls\\ndef clean_urls(text):\\n    text = re.sub(r\\\"https?://\\\\S+\\\", \\\"\\\", text)\\n    return text\";\n",
       "                var nbb_formatted_code = \"# Clean urls\\ndef clean_urls(text):\\n    text = re.sub(r\\\"https?://\\\\S+\\\", \\\"\\\", text)\\n    return text\";\n",
       "                var nbb_cells = Jupyter.notebook.get_cells();\n",
       "                for (var i = 0; i < nbb_cells.length; ++i) {\n",
       "                    if (nbb_cells[i].input_prompt_number == nbb_cell_id) {\n",
       "                        if (nbb_cells[i].get_text() == nbb_unformatted_code) {\n",
       "                             nbb_cells[i].set_text(nbb_formatted_code);\n",
       "                        }\n",
       "                        break;\n",
       "                    }\n",
       "                }\n",
       "            }, 500);\n",
       "            "
      ],
      "text/plain": [
       "<IPython.core.display.Javascript object>"
      ]
     },
     "metadata": {},
     "output_type": "display_data"
    },
    {
     "data": {
      "application/javascript": [
       "\n",
       "            setTimeout(function() {\n",
       "                var nbb_cell_id = 56;\n",
       "                var nbb_unformatted_code = \"# Clean urls\\ndef clean_urls(text):\\n    text = re.sub(r\\\"https?://\\\\S+\\\", \\\"\\\", text)\\n    return text\";\n",
       "                var nbb_formatted_code = \"# Clean urls\\ndef clean_urls(text):\\n    text = re.sub(r\\\"https?://\\\\S+\\\", \\\"\\\", text)\\n    return text\";\n",
       "                var nbb_cells = Jupyter.notebook.get_cells();\n",
       "                for (var i = 0; i < nbb_cells.length; ++i) {\n",
       "                    if (nbb_cells[i].input_prompt_number == nbb_cell_id) {\n",
       "                        if (nbb_cells[i].get_text() == nbb_unformatted_code) {\n",
       "                             nbb_cells[i].set_text(nbb_formatted_code);\n",
       "                        }\n",
       "                        break;\n",
       "                    }\n",
       "                }\n",
       "            }, 500);\n",
       "            "
      ],
      "text/plain": [
       "<IPython.core.display.Javascript object>"
      ]
     },
     "metadata": {},
     "output_type": "display_data"
    }
   ],
   "source": [
    "# Clean urls\n",
    "def clean_urls(text):\n",
    "    text = re.sub(r\"https?://\\S+\", \"\", text)\n",
    "    return text"
   ]
  },
  {
   "cell_type": "code",
   "execution_count": null,
   "metadata": {},
   "outputs": [],
   "source": []
  },
  {
   "cell_type": "code",
   "execution_count": 57,
   "metadata": {},
   "outputs": [
    {
     "data": {
      "application/javascript": [
       "\n",
       "            setTimeout(function() {\n",
       "                var nbb_cell_id = 57;\n",
       "                var nbb_unformatted_code = \"# Remove all sorts of special characters and punctuations.\\ndef removeSpecialChar(text):\\n    sentence = []\\n    for s in text:\\n        if s == \\\" \\\":\\n            sentence.append(s)\\n        if s.isalnum():\\n            sentence.append(s)\\n    return \\\"\\\".join(sentence)\";\n",
       "                var nbb_formatted_code = \"# Remove all sorts of special characters and punctuations.\\ndef removeSpecialChar(text):\\n    sentence = []\\n    for s in text:\\n        if s == \\\" \\\":\\n            sentence.append(s)\\n        if s.isalnum():\\n            sentence.append(s)\\n    return \\\"\\\".join(sentence)\";\n",
       "                var nbb_cells = Jupyter.notebook.get_cells();\n",
       "                for (var i = 0; i < nbb_cells.length; ++i) {\n",
       "                    if (nbb_cells[i].input_prompt_number == nbb_cell_id) {\n",
       "                        if (nbb_cells[i].get_text() == nbb_unformatted_code) {\n",
       "                             nbb_cells[i].set_text(nbb_formatted_code);\n",
       "                        }\n",
       "                        break;\n",
       "                    }\n",
       "                }\n",
       "            }, 500);\n",
       "            "
      ],
      "text/plain": [
       "<IPython.core.display.Javascript object>"
      ]
     },
     "metadata": {},
     "output_type": "display_data"
    },
    {
     "data": {
      "application/javascript": [
       "\n",
       "            setTimeout(function() {\n",
       "                var nbb_cell_id = 57;\n",
       "                var nbb_unformatted_code = \"# Remove all sorts of special characters and punctuations.\\ndef removeSpecialChar(text):\\n    sentence = []\\n    for s in text:\\n        if s == \\\" \\\":\\n            sentence.append(s)\\n        if s.isalnum():\\n            sentence.append(s)\\n    return \\\"\\\".join(sentence)\";\n",
       "                var nbb_formatted_code = \"# Remove all sorts of special characters and punctuations.\\ndef removeSpecialChar(text):\\n    sentence = []\\n    for s in text:\\n        if s == \\\" \\\":\\n            sentence.append(s)\\n        if s.isalnum():\\n            sentence.append(s)\\n    return \\\"\\\".join(sentence)\";\n",
       "                var nbb_cells = Jupyter.notebook.get_cells();\n",
       "                for (var i = 0; i < nbb_cells.length; ++i) {\n",
       "                    if (nbb_cells[i].input_prompt_number == nbb_cell_id) {\n",
       "                        if (nbb_cells[i].get_text() == nbb_unformatted_code) {\n",
       "                             nbb_cells[i].set_text(nbb_formatted_code);\n",
       "                        }\n",
       "                        break;\n",
       "                    }\n",
       "                }\n",
       "            }, 500);\n",
       "            "
      ],
      "text/plain": [
       "<IPython.core.display.Javascript object>"
      ]
     },
     "metadata": {},
     "output_type": "display_data"
    }
   ],
   "source": [
    "# Remove all sorts of special characters and punctuations.\n",
    "def removeSpecialChar(text):\n",
    "    sentence = []\n",
    "    for s in text:\n",
    "        if s == \" \":\n",
    "            sentence.append(s)\n",
    "        if s.isalnum():\n",
    "            sentence.append(s)\n",
    "    return \"\".join(sentence)"
   ]
  },
  {
   "cell_type": "code",
   "execution_count": 58,
   "metadata": {},
   "outputs": [
    {
     "name": "stdout",
     "output_type": "stream",
     "text": [
      "No text containing html found!\n"
     ]
    },
    {
     "data": {
      "application/javascript": [
       "\n",
       "            setTimeout(function() {\n",
       "                var nbb_cell_id = 58;\n",
       "                var nbb_unformatted_code = \"# Check any html text in df.text (not cleaned yet) column\\ndef checkHtml(text):\\n    return bool(BeautifulSoup(text, \\\"html.parser\\\").find())\\n\\n\\nhtml_sentence_map = df[\\\"text\\\"].apply(checkHtml).tolist()\\nif not any(html_sentence_map):\\n    print(\\\"No text containing html found!\\\")\\nelse:\\n    print(\\\"There is some html text!\\\")\";\n",
       "                var nbb_formatted_code = \"# Check any html text in df.text (not cleaned yet) column\\ndef checkHtml(text):\\n    return bool(BeautifulSoup(text, \\\"html.parser\\\").find())\\n\\n\\nhtml_sentence_map = df[\\\"text\\\"].apply(checkHtml).tolist()\\nif not any(html_sentence_map):\\n    print(\\\"No text containing html found!\\\")\\nelse:\\n    print(\\\"There is some html text!\\\")\";\n",
       "                var nbb_cells = Jupyter.notebook.get_cells();\n",
       "                for (var i = 0; i < nbb_cells.length; ++i) {\n",
       "                    if (nbb_cells[i].input_prompt_number == nbb_cell_id) {\n",
       "                        if (nbb_cells[i].get_text() == nbb_unformatted_code) {\n",
       "                             nbb_cells[i].set_text(nbb_formatted_code);\n",
       "                        }\n",
       "                        break;\n",
       "                    }\n",
       "                }\n",
       "            }, 500);\n",
       "            "
      ],
      "text/plain": [
       "<IPython.core.display.Javascript object>"
      ]
     },
     "metadata": {},
     "output_type": "display_data"
    },
    {
     "data": {
      "application/javascript": [
       "\n",
       "            setTimeout(function() {\n",
       "                var nbb_cell_id = 58;\n",
       "                var nbb_unformatted_code = \"# Check any html text in df.text (not cleaned yet) column\\ndef checkHtml(text):\\n    return bool(BeautifulSoup(text, \\\"html.parser\\\").find())\\n\\n\\nhtml_sentence_map = df[\\\"text\\\"].apply(checkHtml).tolist()\\nif not any(html_sentence_map):\\n    print(\\\"No text containing html found!\\\")\\nelse:\\n    print(\\\"There is some html text!\\\")\";\n",
       "                var nbb_formatted_code = \"# Check any html text in df.text (not cleaned yet) column\\ndef checkHtml(text):\\n    return bool(BeautifulSoup(text, \\\"html.parser\\\").find())\\n\\n\\nhtml_sentence_map = df[\\\"text\\\"].apply(checkHtml).tolist()\\nif not any(html_sentence_map):\\n    print(\\\"No text containing html found!\\\")\\nelse:\\n    print(\\\"There is some html text!\\\")\";\n",
       "                var nbb_cells = Jupyter.notebook.get_cells();\n",
       "                for (var i = 0; i < nbb_cells.length; ++i) {\n",
       "                    if (nbb_cells[i].input_prompt_number == nbb_cell_id) {\n",
       "                        if (nbb_cells[i].get_text() == nbb_unformatted_code) {\n",
       "                             nbb_cells[i].set_text(nbb_formatted_code);\n",
       "                        }\n",
       "                        break;\n",
       "                    }\n",
       "                }\n",
       "            }, 500);\n",
       "            "
      ],
      "text/plain": [
       "<IPython.core.display.Javascript object>"
      ]
     },
     "metadata": {},
     "output_type": "display_data"
    }
   ],
   "source": [
    "# Check any html text in df.text (not cleaned yet) column\n",
    "def checkHtml(text):\n",
    "    return bool(BeautifulSoup(text, \"html.parser\").find())\n",
    "\n",
    "\n",
    "html_sentence_map = df[\"text\"].apply(checkHtml).tolist()\n",
    "if not any(html_sentence_map):\n",
    "    print(\"No text containing html found!\")\n",
    "else:\n",
    "    print(\"There is some html text!\")"
   ]
  },
  {
   "cell_type": "code",
   "execution_count": 59,
   "metadata": {},
   "outputs": [
    {
     "data": {
      "application/javascript": [
       "\n",
       "            setTimeout(function() {\n",
       "                var nbb_cell_id = 59;\n",
       "                var nbb_unformatted_code = \"# Remove accented text\\ndef remove_accented_chars(text):\\n    new_text = (\\n        unicodedata.normalize(\\\"NFKD\\\", text)\\n        .encode(\\\"ascii\\\", \\\"ignore\\\")\\n        .decode(\\\"utf-8\\\", \\\"ignore\\\")\\n    )\\n    return new_text\";\n",
       "                var nbb_formatted_code = \"# Remove accented text\\ndef remove_accented_chars(text):\\n    new_text = (\\n        unicodedata.normalize(\\\"NFKD\\\", text)\\n        .encode(\\\"ascii\\\", \\\"ignore\\\")\\n        .decode(\\\"utf-8\\\", \\\"ignore\\\")\\n    )\\n    return new_text\";\n",
       "                var nbb_cells = Jupyter.notebook.get_cells();\n",
       "                for (var i = 0; i < nbb_cells.length; ++i) {\n",
       "                    if (nbb_cells[i].input_prompt_number == nbb_cell_id) {\n",
       "                        if (nbb_cells[i].get_text() == nbb_unformatted_code) {\n",
       "                             nbb_cells[i].set_text(nbb_formatted_code);\n",
       "                        }\n",
       "                        break;\n",
       "                    }\n",
       "                }\n",
       "            }, 500);\n",
       "            "
      ],
      "text/plain": [
       "<IPython.core.display.Javascript object>"
      ]
     },
     "metadata": {},
     "output_type": "display_data"
    },
    {
     "data": {
      "application/javascript": [
       "\n",
       "            setTimeout(function() {\n",
       "                var nbb_cell_id = 59;\n",
       "                var nbb_unformatted_code = \"# Remove accented text\\ndef remove_accented_chars(text):\\n    new_text = (\\n        unicodedata.normalize(\\\"NFKD\\\", text)\\n        .encode(\\\"ascii\\\", \\\"ignore\\\")\\n        .decode(\\\"utf-8\\\", \\\"ignore\\\")\\n    )\\n    return new_text\";\n",
       "                var nbb_formatted_code = \"# Remove accented text\\ndef remove_accented_chars(text):\\n    new_text = (\\n        unicodedata.normalize(\\\"NFKD\\\", text)\\n        .encode(\\\"ascii\\\", \\\"ignore\\\")\\n        .decode(\\\"utf-8\\\", \\\"ignore\\\")\\n    )\\n    return new_text\";\n",
       "                var nbb_cells = Jupyter.notebook.get_cells();\n",
       "                for (var i = 0; i < nbb_cells.length; ++i) {\n",
       "                    if (nbb_cells[i].input_prompt_number == nbb_cell_id) {\n",
       "                        if (nbb_cells[i].get_text() == nbb_unformatted_code) {\n",
       "                             nbb_cells[i].set_text(nbb_formatted_code);\n",
       "                        }\n",
       "                        break;\n",
       "                    }\n",
       "                }\n",
       "            }, 500);\n",
       "            "
      ],
      "text/plain": [
       "<IPython.core.display.Javascript object>"
      ]
     },
     "metadata": {},
     "output_type": "display_data"
    }
   ],
   "source": [
    "# Remove accented text\n",
    "def remove_accented_chars(text):\n",
    "    new_text = (\n",
    "        unicodedata.normalize(\"NFKD\", text)\n",
    "        .encode(\"ascii\", \"ignore\")\n",
    "        .decode(\"utf-8\", \"ignore\")\n",
    "    )\n",
    "    return new_text"
   ]
  },
  {
   "cell_type": "code",
   "execution_count": 60,
   "metadata": {},
   "outputs": [
    {
     "name": "stdout",
     "output_type": "stream",
     "text": [
      "['i', 'me', 'my', 'myself', 'we', 'our', 'ours', 'ourselves', 'you', \"you're\", \"you've\", \"you'll\", \"you'd\", 'your', 'yours', 'yourself', 'yourselves', 'he', 'him', 'his', 'himself', 'she', \"she's\", 'her', 'hers', 'herself', 'it', \"it's\", 'its', 'itself', 'they', 'them', 'their', 'theirs', 'themselves', 'what', 'which', 'who', 'whom', 'this', 'that', \"that'll\", 'these', 'those', 'am', 'is', 'are', 'was', 'were', 'be', 'been', 'being', 'have', 'has', 'had', 'having', 'do', 'does', 'did', 'doing', 'a', 'an', 'the', 'and', 'but', 'if', 'or', 'because', 'as', 'until', 'while', 'of', 'at', 'by', 'for', 'with', 'about', 'against', 'between', 'into', 'through', 'during', 'before', 'after', 'above', 'below', 'to', 'from', 'up', 'down', 'in', 'out', 'on', 'off', 'over', 'under', 'again', 'further', 'then', 'once', 'here', 'there', 'when', 'where', 'why', 'how', 'all', 'any', 'both', 'each', 'few', 'more', 'most', 'other', 'some', 'such', 'no', 'nor', 'not', 'only', 'own', 'same', 'so', 'than', 'too', 'very', 's', 't', 'can', 'will', 'just', 'don', \"don't\", 'should', \"should've\", 'now', 'd', 'll', 'm', 'o', 're', 've', 'y', 'ain', 'aren', \"aren't\", 'couldn', \"couldn't\", 'didn', \"didn't\", 'doesn', \"doesn't\", 'hadn', \"hadn't\", 'hasn', \"hasn't\", 'haven', \"haven't\", 'isn', \"isn't\", 'ma', 'mightn', \"mightn't\", 'mustn', \"mustn't\", 'needn', \"needn't\", 'shan', \"shan't\", 'shouldn', \"shouldn't\", 'wasn', \"wasn't\", 'weren', \"weren't\", 'won', \"won't\", 'wouldn', \"wouldn't\"]\n",
      "\n",
      "---------------Stopwords after preprocessing---------------\n",
      "\n",
      "['i', 'me', 'my', 'myself', 'we', 'our', 'ours', 'ourselves', 'you', 'you are', 'you have', 'you will', 'you would', 'your', 'yours', 'yourself', 'yourselves', 'he', 'him', 'his', 'himself', 'she', 'she is', 'her', 'hers', 'herself', 'it', 'it is', 'its', 'itself', 'they', 'them', 'their', 'theirs', 'themselves', 'what', 'which', 'who', 'whom', 'this', 'that', 'that will', 'these', 'those', 'am', 'is', 'are', 'was', 'were', 'be', 'been', 'being', 'have', 'has', 'had', 'having', 'do', 'does', 'did', 'doing', 'a', 'an', 'the', 'and', 'but', 'if', 'or', 'because', 'as', 'until', 'while', 'of', 'at', 'by', 'for', 'with', 'about', 'against', 'between', 'into', 'through', 'during', 'before', 'after', 'above', 'below', 'to', 'from', 'up', 'down', 'in', 'out', 'on', 'off', 'over', 'under', 'again', 'further', 'then', 'once', 'here', 'there', 'when', 'where', 'why', 'how', 'all', 'any', 'both', 'each', 'few', 'more', 'most', 'other', 'some', 'such', 'no', 'nor', 'only', 'own', 'same', 'so', 'than', 'too', 'very', 's', 't', 'can', 'will', 'just', 'don', 'should', 'should have', 'now', 'd', 'll', 'm', 'of', 're', 've', 'y', 'ain', 'aren', 'couldn', 'didn', 'doesn', 'hadn', 'hasn', 'haven', 'isn', 'ma', 'mightn', 'mustn', 'needn', 'shan', 'shouldn', 'wasn', 'weren', 'won', 'wouldn']\n"
     ]
    },
    {
     "data": {
      "application/javascript": [
       "\n",
       "            setTimeout(function() {\n",
       "                var nbb_cell_id = 60;\n",
       "                var nbb_unformatted_code = \"# Explore Stopwords list from nltk\\ndef remove_words_having_not(words=[\\\"\\\"]):\\n    for word in words:\\n        if \\\"not\\\" in word:\\n            words.remove(word)\\n    return words\\n\\n\\nstopwords_list = stopwords.words(\\\"english\\\")\\nprint(stopwords_list)\\nstopwords_list = remove_words_having_not(\\n    [removeSpecialChar(contractions.fix(word)) for word in stopwords_list]\\n)\\nprint(\\\"\\\\n---------------Stopwords after preprocessing---------------\\\\n\\\")\\nprint(stopwords_list)\";\n",
       "                var nbb_formatted_code = \"# Explore Stopwords list from nltk\\ndef remove_words_having_not(words=[\\\"\\\"]):\\n    for word in words:\\n        if \\\"not\\\" in word:\\n            words.remove(word)\\n    return words\\n\\n\\nstopwords_list = stopwords.words(\\\"english\\\")\\nprint(stopwords_list)\\nstopwords_list = remove_words_having_not(\\n    [removeSpecialChar(contractions.fix(word)) for word in stopwords_list]\\n)\\nprint(\\\"\\\\n---------------Stopwords after preprocessing---------------\\\\n\\\")\\nprint(stopwords_list)\";\n",
       "                var nbb_cells = Jupyter.notebook.get_cells();\n",
       "                for (var i = 0; i < nbb_cells.length; ++i) {\n",
       "                    if (nbb_cells[i].input_prompt_number == nbb_cell_id) {\n",
       "                        if (nbb_cells[i].get_text() == nbb_unformatted_code) {\n",
       "                             nbb_cells[i].set_text(nbb_formatted_code);\n",
       "                        }\n",
       "                        break;\n",
       "                    }\n",
       "                }\n",
       "            }, 500);\n",
       "            "
      ],
      "text/plain": [
       "<IPython.core.display.Javascript object>"
      ]
     },
     "metadata": {},
     "output_type": "display_data"
    },
    {
     "data": {
      "application/javascript": [
       "\n",
       "            setTimeout(function() {\n",
       "                var nbb_cell_id = 60;\n",
       "                var nbb_unformatted_code = \"# Explore Stopwords list from nltk\\ndef remove_words_having_not(words=[\\\"\\\"]):\\n    for word in words:\\n        if \\\"not\\\" in word:\\n            words.remove(word)\\n    return words\\n\\n\\nstopwords_list = stopwords.words(\\\"english\\\")\\nprint(stopwords_list)\\nstopwords_list = remove_words_having_not(\\n    [removeSpecialChar(contractions.fix(word)) for word in stopwords_list]\\n)\\nprint(\\\"\\\\n---------------Stopwords after preprocessing---------------\\\\n\\\")\\nprint(stopwords_list)\";\n",
       "                var nbb_formatted_code = \"# Explore Stopwords list from nltk\\ndef remove_words_having_not(words=[\\\"\\\"]):\\n    for word in words:\\n        if \\\"not\\\" in word:\\n            words.remove(word)\\n    return words\\n\\n\\nstopwords_list = stopwords.words(\\\"english\\\")\\nprint(stopwords_list)\\nstopwords_list = remove_words_having_not(\\n    [removeSpecialChar(contractions.fix(word)) for word in stopwords_list]\\n)\\nprint(\\\"\\\\n---------------Stopwords after preprocessing---------------\\\\n\\\")\\nprint(stopwords_list)\";\n",
       "                var nbb_cells = Jupyter.notebook.get_cells();\n",
       "                for (var i = 0; i < nbb_cells.length; ++i) {\n",
       "                    if (nbb_cells[i].input_prompt_number == nbb_cell_id) {\n",
       "                        if (nbb_cells[i].get_text() == nbb_unformatted_code) {\n",
       "                             nbb_cells[i].set_text(nbb_formatted_code);\n",
       "                        }\n",
       "                        break;\n",
       "                    }\n",
       "                }\n",
       "            }, 500);\n",
       "            "
      ],
      "text/plain": [
       "<IPython.core.display.Javascript object>"
      ]
     },
     "metadata": {},
     "output_type": "display_data"
    }
   ],
   "source": [
    "# Explore Stopwords list from nltk\n",
    "def remove_words_having_not(words=[\"\"]):\n",
    "    for word in words:\n",
    "        if \"not\" in word:\n",
    "            words.remove(word)\n",
    "    return words\n",
    "\n",
    "\n",
    "stopwords_list = stopwords.words(\"english\")\n",
    "print(stopwords_list)\n",
    "stopwords_list = remove_words_having_not(\n",
    "    [removeSpecialChar(contractions.fix(word)) for word in stopwords_list]\n",
    ")\n",
    "print(\"\\n---------------Stopwords after preprocessing---------------\\n\")\n",
    "print(stopwords_list)"
   ]
  },
  {
   "cell_type": "code",
   "execution_count": 61,
   "metadata": {},
   "outputs": [
    {
     "data": {
      "application/javascript": [
       "\n",
       "            setTimeout(function() {\n",
       "                var nbb_cell_id = 61;\n",
       "                var nbb_unformatted_code = \"# Remove stopwords from nltk corpus\\ndef remove_stopwords(text):\\n    new_sentence = \\\"\\\"\\n    for word in text.split():\\n        if word not in stopwords_list:\\n            new_sentence += word + \\\" \\\"\\n    return new_sentence\";\n",
       "                var nbb_formatted_code = \"# Remove stopwords from nltk corpus\\ndef remove_stopwords(text):\\n    new_sentence = \\\"\\\"\\n    for word in text.split():\\n        if word not in stopwords_list:\\n            new_sentence += word + \\\" \\\"\\n    return new_sentence\";\n",
       "                var nbb_cells = Jupyter.notebook.get_cells();\n",
       "                for (var i = 0; i < nbb_cells.length; ++i) {\n",
       "                    if (nbb_cells[i].input_prompt_number == nbb_cell_id) {\n",
       "                        if (nbb_cells[i].get_text() == nbb_unformatted_code) {\n",
       "                             nbb_cells[i].set_text(nbb_formatted_code);\n",
       "                        }\n",
       "                        break;\n",
       "                    }\n",
       "                }\n",
       "            }, 500);\n",
       "            "
      ],
      "text/plain": [
       "<IPython.core.display.Javascript object>"
      ]
     },
     "metadata": {},
     "output_type": "display_data"
    },
    {
     "data": {
      "application/javascript": [
       "\n",
       "            setTimeout(function() {\n",
       "                var nbb_cell_id = 61;\n",
       "                var nbb_unformatted_code = \"# Remove stopwords from nltk corpus\\ndef remove_stopwords(text):\\n    new_sentence = \\\"\\\"\\n    for word in text.split():\\n        if word not in stopwords_list:\\n            new_sentence += word + \\\" \\\"\\n    return new_sentence\";\n",
       "                var nbb_formatted_code = \"# Remove stopwords from nltk corpus\\ndef remove_stopwords(text):\\n    new_sentence = \\\"\\\"\\n    for word in text.split():\\n        if word not in stopwords_list:\\n            new_sentence += word + \\\" \\\"\\n    return new_sentence\";\n",
       "                var nbb_cells = Jupyter.notebook.get_cells();\n",
       "                for (var i = 0; i < nbb_cells.length; ++i) {\n",
       "                    if (nbb_cells[i].input_prompt_number == nbb_cell_id) {\n",
       "                        if (nbb_cells[i].get_text() == nbb_unformatted_code) {\n",
       "                             nbb_cells[i].set_text(nbb_formatted_code);\n",
       "                        }\n",
       "                        break;\n",
       "                    }\n",
       "                }\n",
       "            }, 500);\n",
       "            "
      ],
      "text/plain": [
       "<IPython.core.display.Javascript object>"
      ]
     },
     "metadata": {},
     "output_type": "display_data"
    }
   ],
   "source": [
    "# Remove stopwords from nltk corpus\n",
    "def remove_stopwords(text):\n",
    "    new_sentence = \"\"\n",
    "    for word in text.split():\n",
    "        if word not in stopwords_list:\n",
    "            new_sentence += word + \" \"\n",
    "    return new_sentence"
   ]
  },
  {
   "cell_type": "code",
   "execution_count": 62,
   "metadata": {},
   "outputs": [
    {
     "data": {
      "application/javascript": [
       "\n",
       "            setTimeout(function() {\n",
       "                var nbb_cell_id = 62;\n",
       "                var nbb_unformatted_code = \"# Remove numbers from text\\ndef remove_numbers(text=\\\"\\\"):\\n    new_sentence = \\\"\\\"\\n    for word in text.split():\\n        num_free_word = \\\"\\\".join([i for i in word if not i.isdigit()])\\n        new_sentence += num_free_word + \\\" \\\"\\n    return new_sentence\";\n",
       "                var nbb_formatted_code = \"# Remove numbers from text\\ndef remove_numbers(text=\\\"\\\"):\\n    new_sentence = \\\"\\\"\\n    for word in text.split():\\n        num_free_word = \\\"\\\".join([i for i in word if not i.isdigit()])\\n        new_sentence += num_free_word + \\\" \\\"\\n    return new_sentence\";\n",
       "                var nbb_cells = Jupyter.notebook.get_cells();\n",
       "                for (var i = 0; i < nbb_cells.length; ++i) {\n",
       "                    if (nbb_cells[i].input_prompt_number == nbb_cell_id) {\n",
       "                        if (nbb_cells[i].get_text() == nbb_unformatted_code) {\n",
       "                             nbb_cells[i].set_text(nbb_formatted_code);\n",
       "                        }\n",
       "                        break;\n",
       "                    }\n",
       "                }\n",
       "            }, 500);\n",
       "            "
      ],
      "text/plain": [
       "<IPython.core.display.Javascript object>"
      ]
     },
     "metadata": {},
     "output_type": "display_data"
    },
    {
     "data": {
      "application/javascript": [
       "\n",
       "            setTimeout(function() {\n",
       "                var nbb_cell_id = 62;\n",
       "                var nbb_unformatted_code = \"# Remove numbers from text\\ndef remove_numbers(text=\\\"\\\"):\\n    new_sentence = \\\"\\\"\\n    for word in text.split():\\n        num_free_word = \\\"\\\".join([i for i in word if not i.isdigit()])\\n        new_sentence += num_free_word + \\\" \\\"\\n    return new_sentence\";\n",
       "                var nbb_formatted_code = \"# Remove numbers from text\\ndef remove_numbers(text=\\\"\\\"):\\n    new_sentence = \\\"\\\"\\n    for word in text.split():\\n        num_free_word = \\\"\\\".join([i for i in word if not i.isdigit()])\\n        new_sentence += num_free_word + \\\" \\\"\\n    return new_sentence\";\n",
       "                var nbb_cells = Jupyter.notebook.get_cells();\n",
       "                for (var i = 0; i < nbb_cells.length; ++i) {\n",
       "                    if (nbb_cells[i].input_prompt_number == nbb_cell_id) {\n",
       "                        if (nbb_cells[i].get_text() == nbb_unformatted_code) {\n",
       "                             nbb_cells[i].set_text(nbb_formatted_code);\n",
       "                        }\n",
       "                        break;\n",
       "                    }\n",
       "                }\n",
       "            }, 500);\n",
       "            "
      ],
      "text/plain": [
       "<IPython.core.display.Javascript object>"
      ]
     },
     "metadata": {},
     "output_type": "display_data"
    }
   ],
   "source": [
    "# Remove numbers from text\n",
    "def remove_numbers(text=\"\"):\n",
    "    new_sentence = \"\"\n",
    "    for word in text.split():\n",
    "        num_free_word = \"\".join([i for i in word if not i.isdigit()])\n",
    "        new_sentence += num_free_word + \" \"\n",
    "    return new_sentence"
   ]
  },
  {
   "cell_type": "code",
   "execution_count": 63,
   "metadata": {},
   "outputs": [
    {
     "data": {
      "application/javascript": [
       "\n",
       "            setTimeout(function() {\n",
       "                var nbb_cell_id = 63;\n",
       "                var nbb_unformatted_code = \"# lemmatization\\ndef lemmatize(text):\\n    lemmatizer = WordNetLemmatizer()\\n    new_sentence = \\\"\\\"\\n    for word in text.split():\\n        lematized_word = lemmatizer.lemmatize(word)\\n        new_sentence += lematized_word + \\\" \\\"\\n    return new_sentence\";\n",
       "                var nbb_formatted_code = \"# lemmatization\\ndef lemmatize(text):\\n    lemmatizer = WordNetLemmatizer()\\n    new_sentence = \\\"\\\"\\n    for word in text.split():\\n        lematized_word = lemmatizer.lemmatize(word)\\n        new_sentence += lematized_word + \\\" \\\"\\n    return new_sentence\";\n",
       "                var nbb_cells = Jupyter.notebook.get_cells();\n",
       "                for (var i = 0; i < nbb_cells.length; ++i) {\n",
       "                    if (nbb_cells[i].input_prompt_number == nbb_cell_id) {\n",
       "                        if (nbb_cells[i].get_text() == nbb_unformatted_code) {\n",
       "                             nbb_cells[i].set_text(nbb_formatted_code);\n",
       "                        }\n",
       "                        break;\n",
       "                    }\n",
       "                }\n",
       "            }, 500);\n",
       "            "
      ],
      "text/plain": [
       "<IPython.core.display.Javascript object>"
      ]
     },
     "metadata": {},
     "output_type": "display_data"
    },
    {
     "data": {
      "application/javascript": [
       "\n",
       "            setTimeout(function() {\n",
       "                var nbb_cell_id = 63;\n",
       "                var nbb_unformatted_code = \"# lemmatization\\ndef lemmatize(text):\\n    lemmatizer = WordNetLemmatizer()\\n    new_sentence = \\\"\\\"\\n    for word in text.split():\\n        lematized_word = lemmatizer.lemmatize(word)\\n        new_sentence += lematized_word + \\\" \\\"\\n    return new_sentence\";\n",
       "                var nbb_formatted_code = \"# lemmatization\\ndef lemmatize(text):\\n    lemmatizer = WordNetLemmatizer()\\n    new_sentence = \\\"\\\"\\n    for word in text.split():\\n        lematized_word = lemmatizer.lemmatize(word)\\n        new_sentence += lematized_word + \\\" \\\"\\n    return new_sentence\";\n",
       "                var nbb_cells = Jupyter.notebook.get_cells();\n",
       "                for (var i = 0; i < nbb_cells.length; ++i) {\n",
       "                    if (nbb_cells[i].input_prompt_number == nbb_cell_id) {\n",
       "                        if (nbb_cells[i].get_text() == nbb_unformatted_code) {\n",
       "                             nbb_cells[i].set_text(nbb_formatted_code);\n",
       "                        }\n",
       "                        break;\n",
       "                    }\n",
       "                }\n",
       "            }, 500);\n",
       "            "
      ],
      "text/plain": [
       "<IPython.core.display.Javascript object>"
      ]
     },
     "metadata": {},
     "output_type": "display_data"
    }
   ],
   "source": [
    "# lemmatization\n",
    "def lemmatize(text):\n",
    "    lemmatizer = WordNetLemmatizer()\n",
    "    new_sentence = \"\"\n",
    "    for word in text.split():\n",
    "        lematized_word = lemmatizer.lemmatize(word)\n",
    "        new_sentence += lematized_word + \" \"\n",
    "    return new_sentence"
   ]
  },
  {
   "cell_type": "code",
   "execution_count": 64,
   "metadata": {},
   "outputs": [
    {
     "data": {
      "application/javascript": [
       "\n",
       "            setTimeout(function() {\n",
       "                var nbb_cell_id = 64;\n",
       "                var nbb_unformatted_code = \"# Final data cleaning step is removing non-essential whitespaces\\ndef remove_white_space(text):\\n    return \\\" \\\".join(text.split())\";\n",
       "                var nbb_formatted_code = \"# Final data cleaning step is removing non-essential whitespaces\\ndef remove_white_space(text):\\n    return \\\" \\\".join(text.split())\";\n",
       "                var nbb_cells = Jupyter.notebook.get_cells();\n",
       "                for (var i = 0; i < nbb_cells.length; ++i) {\n",
       "                    if (nbb_cells[i].input_prompt_number == nbb_cell_id) {\n",
       "                        if (nbb_cells[i].get_text() == nbb_unformatted_code) {\n",
       "                             nbb_cells[i].set_text(nbb_formatted_code);\n",
       "                        }\n",
       "                        break;\n",
       "                    }\n",
       "                }\n",
       "            }, 500);\n",
       "            "
      ],
      "text/plain": [
       "<IPython.core.display.Javascript object>"
      ]
     },
     "metadata": {},
     "output_type": "display_data"
    },
    {
     "data": {
      "application/javascript": [
       "\n",
       "            setTimeout(function() {\n",
       "                var nbb_cell_id = 64;\n",
       "                var nbb_unformatted_code = \"# Final data cleaning step is removing non-essential whitespaces\\ndef remove_white_space(text):\\n    return \\\" \\\".join(text.split())\";\n",
       "                var nbb_formatted_code = \"# Final data cleaning step is removing non-essential whitespaces\\ndef remove_white_space(text):\\n    return \\\" \\\".join(text.split())\";\n",
       "                var nbb_cells = Jupyter.notebook.get_cells();\n",
       "                for (var i = 0; i < nbb_cells.length; ++i) {\n",
       "                    if (nbb_cells[i].input_prompt_number == nbb_cell_id) {\n",
       "                        if (nbb_cells[i].get_text() == nbb_unformatted_code) {\n",
       "                             nbb_cells[i].set_text(nbb_formatted_code);\n",
       "                        }\n",
       "                        break;\n",
       "                    }\n",
       "                }\n",
       "            }, 500);\n",
       "            "
      ],
      "text/plain": [
       "<IPython.core.display.Javascript object>"
      ]
     },
     "metadata": {},
     "output_type": "display_data"
    }
   ],
   "source": [
    "# Final data cleaning step is removing non-essential whitespaces\n",
    "def remove_white_space(text):\n",
    "    return \" \".join(text.split())"
   ]
  },
  {
   "cell_type": "code",
   "execution_count": 65,
   "metadata": {},
   "outputs": [
    {
     "data": {
      "application/javascript": [
       "\n",
       "            setTimeout(function() {\n",
       "                var nbb_cell_id = 65;\n",
       "                var nbb_unformatted_code = \"# Text cleaning pipeline\\ndef clean_sentence_pipeline(text):\\n    text = lower_case_data(text)\\n    text = clean_emojis(text)\\n    text = clean_urls(text)\\n    text = contractions.fix(text)\\n    text = removeSpecialChar(text)\\n    text = remove_accented_chars(text)\\n    text = remove_stopwords(text)\\n    text = remove_numbers(text)\\n    text = lemmatize(text)\\n    return remove_white_space(text)\\n\\n\\ndef clean_text_column(col_name):\\n    df[\\\"clean_text\\\"] = \\\"\\\"\\n    df[\\\"clean_text\\\"] = df[col_name].apply(clean_sentence_pipeline)\\n\\n\\nclean_text_column(\\\"text\\\")\";\n",
       "                var nbb_formatted_code = \"# Text cleaning pipeline\\ndef clean_sentence_pipeline(text):\\n    text = lower_case_data(text)\\n    text = clean_emojis(text)\\n    text = clean_urls(text)\\n    text = contractions.fix(text)\\n    text = removeSpecialChar(text)\\n    text = remove_accented_chars(text)\\n    text = remove_stopwords(text)\\n    text = remove_numbers(text)\\n    text = lemmatize(text)\\n    return remove_white_space(text)\\n\\n\\ndef clean_text_column(col_name):\\n    df[\\\"clean_text\\\"] = \\\"\\\"\\n    df[\\\"clean_text\\\"] = df[col_name].apply(clean_sentence_pipeline)\\n\\n\\nclean_text_column(\\\"text\\\")\";\n",
       "                var nbb_cells = Jupyter.notebook.get_cells();\n",
       "                for (var i = 0; i < nbb_cells.length; ++i) {\n",
       "                    if (nbb_cells[i].input_prompt_number == nbb_cell_id) {\n",
       "                        if (nbb_cells[i].get_text() == nbb_unformatted_code) {\n",
       "                             nbb_cells[i].set_text(nbb_formatted_code);\n",
       "                        }\n",
       "                        break;\n",
       "                    }\n",
       "                }\n",
       "            }, 500);\n",
       "            "
      ],
      "text/plain": [
       "<IPython.core.display.Javascript object>"
      ]
     },
     "metadata": {},
     "output_type": "display_data"
    },
    {
     "data": {
      "application/javascript": [
       "\n",
       "            setTimeout(function() {\n",
       "                var nbb_cell_id = 65;\n",
       "                var nbb_unformatted_code = \"# Text cleaning pipeline\\ndef clean_sentence_pipeline(text):\\n    text = lower_case_data(text)\\n    text = clean_emojis(text)\\n    text = clean_urls(text)\\n    text = contractions.fix(text)\\n    text = removeSpecialChar(text)\\n    text = remove_accented_chars(text)\\n    text = remove_stopwords(text)\\n    text = remove_numbers(text)\\n    text = lemmatize(text)\\n    return remove_white_space(text)\\n\\n\\ndef clean_text_column(col_name):\\n    df[\\\"clean_text\\\"] = \\\"\\\"\\n    df[\\\"clean_text\\\"] = df[col_name].apply(clean_sentence_pipeline)\\n\\n\\nclean_text_column(\\\"text\\\")\";\n",
       "                var nbb_formatted_code = \"# Text cleaning pipeline\\ndef clean_sentence_pipeline(text):\\n    text = lower_case_data(text)\\n    text = clean_emojis(text)\\n    text = clean_urls(text)\\n    text = contractions.fix(text)\\n    text = removeSpecialChar(text)\\n    text = remove_accented_chars(text)\\n    text = remove_stopwords(text)\\n    text = remove_numbers(text)\\n    text = lemmatize(text)\\n    return remove_white_space(text)\\n\\n\\ndef clean_text_column(col_name):\\n    df[\\\"clean_text\\\"] = \\\"\\\"\\n    df[\\\"clean_text\\\"] = df[col_name].apply(clean_sentence_pipeline)\\n\\n\\nclean_text_column(\\\"text\\\")\";\n",
       "                var nbb_cells = Jupyter.notebook.get_cells();\n",
       "                for (var i = 0; i < nbb_cells.length; ++i) {\n",
       "                    if (nbb_cells[i].input_prompt_number == nbb_cell_id) {\n",
       "                        if (nbb_cells[i].get_text() == nbb_unformatted_code) {\n",
       "                             nbb_cells[i].set_text(nbb_formatted_code);\n",
       "                        }\n",
       "                        break;\n",
       "                    }\n",
       "                }\n",
       "            }, 500);\n",
       "            "
      ],
      "text/plain": [
       "<IPython.core.display.Javascript object>"
      ]
     },
     "metadata": {},
     "output_type": "display_data"
    }
   ],
   "source": [
    "# Text cleaning pipeline\n",
    "def clean_sentence_pipeline(text):\n",
    "    text = lower_case_data(text)\n",
    "    text = clean_emojis(text)\n",
    "    text = clean_urls(text)\n",
    "    text = contractions.fix(text)\n",
    "    text = removeSpecialChar(text)\n",
    "    text = remove_accented_chars(text)\n",
    "    text = remove_stopwords(text)\n",
    "    text = remove_numbers(text)\n",
    "    text = lemmatize(text)\n",
    "    return remove_white_space(text)\n",
    "\n",
    "\n",
    "def clean_text_column(col_name):\n",
    "    df[\"clean_text\"] = \"\"\n",
    "    df[\"clean_text\"] = df[col_name].apply(clean_sentence_pipeline)\n",
    "\n",
    "\n",
    "clean_text_column(\"text\")"
   ]
  },
  {
   "cell_type": "code",
   "execution_count": 66,
   "metadata": {},
   "outputs": [
    {
     "data": {
      "text/html": [
       "<div>\n",
       "<style scoped>\n",
       "    .dataframe tbody tr th:only-of-type {\n",
       "        vertical-align: middle;\n",
       "    }\n",
       "\n",
       "    .dataframe tbody tr th {\n",
       "        vertical-align: top;\n",
       "    }\n",
       "\n",
       "    .dataframe thead th {\n",
       "        text-align: right;\n",
       "    }\n",
       "</style>\n",
       "<table border=\"1\" class=\"dataframe\">\n",
       "  <thead>\n",
       "    <tr style=\"text-align: right;\">\n",
       "      <th></th>\n",
       "      <th>text</th>\n",
       "      <th>clean_text</th>\n",
       "    </tr>\n",
       "  </thead>\n",
       "  <tbody>\n",
       "    <tr>\n",
       "      <th>0</th>\n",
       "      <td>Our Deeds are the Reason of this #earthquake M...</td>\n",
       "      <td>deed reason earthquake may allah forgive u</td>\n",
       "    </tr>\n",
       "    <tr>\n",
       "      <th>1</th>\n",
       "      <td>Forest fire near La Ronge Sask. Canada</td>\n",
       "      <td>forest fire near la ronge sask canada</td>\n",
       "    </tr>\n",
       "    <tr>\n",
       "      <th>2</th>\n",
       "      <td>All residents asked to 'shelter in place' are ...</td>\n",
       "      <td>resident asked shelter place notified officer ...</td>\n",
       "    </tr>\n",
       "    <tr>\n",
       "      <th>3</th>\n",
       "      <td>13,000 people receive #wildfires evacuation or...</td>\n",
       "      <td>people receive wildfire evacuation order calif...</td>\n",
       "    </tr>\n",
       "    <tr>\n",
       "      <th>4</th>\n",
       "      <td>Just got sent this photo from Ruby #Alaska as ...</td>\n",
       "      <td>got sent photo ruby alaska smoke wildfire pour...</td>\n",
       "    </tr>\n",
       "    <tr>\n",
       "      <th>...</th>\n",
       "      <td>...</td>\n",
       "      <td>...</td>\n",
       "    </tr>\n",
       "    <tr>\n",
       "      <th>7604</th>\n",
       "      <td>#WorldNews Fallen powerlines on G:link tram: U...</td>\n",
       "      <td>worldnews fallen powerlines glink tram update ...</td>\n",
       "    </tr>\n",
       "    <tr>\n",
       "      <th>7605</th>\n",
       "      <td>on the flip side I'm at Walmart and there is a...</td>\n",
       "      <td>flip side I walmart bomb everyone evacuate sta...</td>\n",
       "    </tr>\n",
       "    <tr>\n",
       "      <th>7606</th>\n",
       "      <td>Suicide bomber kills 15 in Saudi security site...</td>\n",
       "      <td>suicide bomber kill saudi security site mosque...</td>\n",
       "    </tr>\n",
       "    <tr>\n",
       "      <th>7608</th>\n",
       "      <td>Two giant cranes holding a bridge collapse int...</td>\n",
       "      <td>two giant crane holding bridge collapse nearby...</td>\n",
       "    </tr>\n",
       "    <tr>\n",
       "      <th>7612</th>\n",
       "      <td>The Latest: More Homes Razed by Northern Calif...</td>\n",
       "      <td>latest home razed northern california wildfire...</td>\n",
       "    </tr>\n",
       "  </tbody>\n",
       "</table>\n",
       "<p>7503 rows × 2 columns</p>\n",
       "</div>"
      ],
      "text/plain": [
       "                                                   text  \\\n",
       "0     Our Deeds are the Reason of this #earthquake M...   \n",
       "1                Forest fire near La Ronge Sask. Canada   \n",
       "2     All residents asked to 'shelter in place' are ...   \n",
       "3     13,000 people receive #wildfires evacuation or...   \n",
       "4     Just got sent this photo from Ruby #Alaska as ...   \n",
       "...                                                 ...   \n",
       "7604  #WorldNews Fallen powerlines on G:link tram: U...   \n",
       "7605  on the flip side I'm at Walmart and there is a...   \n",
       "7606  Suicide bomber kills 15 in Saudi security site...   \n",
       "7608  Two giant cranes holding a bridge collapse int...   \n",
       "7612  The Latest: More Homes Razed by Northern Calif...   \n",
       "\n",
       "                                             clean_text  \n",
       "0            deed reason earthquake may allah forgive u  \n",
       "1                 forest fire near la ronge sask canada  \n",
       "2     resident asked shelter place notified officer ...  \n",
       "3     people receive wildfire evacuation order calif...  \n",
       "4     got sent photo ruby alaska smoke wildfire pour...  \n",
       "...                                                 ...  \n",
       "7604  worldnews fallen powerlines glink tram update ...  \n",
       "7605  flip side I walmart bomb everyone evacuate sta...  \n",
       "7606  suicide bomber kill saudi security site mosque...  \n",
       "7608  two giant crane holding bridge collapse nearby...  \n",
       "7612  latest home razed northern california wildfire...  \n",
       "\n",
       "[7503 rows x 2 columns]"
      ]
     },
     "execution_count": 66,
     "metadata": {},
     "output_type": "execute_result"
    },
    {
     "data": {
      "application/javascript": [
       "\n",
       "            setTimeout(function() {\n",
       "                var nbb_cell_id = 66;\n",
       "                var nbb_unformatted_code = \"# Comparison of cleaned texts\\ndf[[\\\"text\\\", \\\"clean_text\\\"]]\";\n",
       "                var nbb_formatted_code = \"# Comparison of cleaned texts\\ndf[[\\\"text\\\", \\\"clean_text\\\"]]\";\n",
       "                var nbb_cells = Jupyter.notebook.get_cells();\n",
       "                for (var i = 0; i < nbb_cells.length; ++i) {\n",
       "                    if (nbb_cells[i].input_prompt_number == nbb_cell_id) {\n",
       "                        if (nbb_cells[i].get_text() == nbb_unformatted_code) {\n",
       "                             nbb_cells[i].set_text(nbb_formatted_code);\n",
       "                        }\n",
       "                        break;\n",
       "                    }\n",
       "                }\n",
       "            }, 500);\n",
       "            "
      ],
      "text/plain": [
       "<IPython.core.display.Javascript object>"
      ]
     },
     "metadata": {},
     "output_type": "display_data"
    },
    {
     "data": {
      "application/javascript": [
       "\n",
       "            setTimeout(function() {\n",
       "                var nbb_cell_id = 66;\n",
       "                var nbb_unformatted_code = \"# Comparison of cleaned texts\\ndf[[\\\"text\\\", \\\"clean_text\\\"]]\";\n",
       "                var nbb_formatted_code = \"# Comparison of cleaned texts\\ndf[[\\\"text\\\", \\\"clean_text\\\"]]\";\n",
       "                var nbb_cells = Jupyter.notebook.get_cells();\n",
       "                for (var i = 0; i < nbb_cells.length; ++i) {\n",
       "                    if (nbb_cells[i].input_prompt_number == nbb_cell_id) {\n",
       "                        if (nbb_cells[i].get_text() == nbb_unformatted_code) {\n",
       "                             nbb_cells[i].set_text(nbb_formatted_code);\n",
       "                        }\n",
       "                        break;\n",
       "                    }\n",
       "                }\n",
       "            }, 500);\n",
       "            "
      ],
      "text/plain": [
       "<IPython.core.display.Javascript object>"
      ]
     },
     "metadata": {},
     "output_type": "display_data"
    }
   ],
   "source": [
    "# Comparison of cleaned texts\n",
    "df[[\"text\", \"clean_text\"]]"
   ]
  },
  {
   "cell_type": "code",
   "execution_count": 67,
   "metadata": {},
   "outputs": [
    {
     "data": {
      "text/plain": [
       "'\\nEmbedding space=> Map words in sentence to a word cluster(embedding space)(Glove) to generate a vector for the word\\nPositional Encoder=> Context of the word with respect to the sentence vector\\nEmbedding space + Positional encoding = encoding of word with context= EC\\n\\nEncoder Block:feed input (\"The red dog\")\\nEC -> Multi-headed attention layer -> Feed forward layer\\n\\nAttention layer: How relavent is the ith word  with respect to the other words in the same sentence\\nFeed forward nets: pass attention vectors into a simple neural net\\n\\nDecoder Block: feed output (\"le red chein\")\\nTake the EC of output\\nEC -> multi-headed attention -> multi headed attention(encoded-decoded attention mapping(English to french translation happens here)\\n-> Feed foward layer -> linear -> softmax \\n\\n'"
      ]
     },
     "execution_count": 67,
     "metadata": {},
     "output_type": "execute_result"
    },
    {
     "data": {
      "application/javascript": [
       "\n",
       "            setTimeout(function() {\n",
       "                var nbb_cell_id = 67;\n",
       "                var nbb_unformatted_code = \"# Bert Model Implementation\\n\\\"\\\"\\\"\\nBERT: Bidirectional Encoder Representations from Transformers\\n\\nVocab:\\na. Masked Language Model: Mask random words in a sentence(fill in the blanks) \\n    to understand bidirectional context.\\nb. Next sentence prediction: Two sentences and detect which sentences follows each other.\\n\\nProcess:\\nToken inputs -> BERT Transformer Encoders -> Output as next sentence prediction and mask language modeling\\n-> Pass to feedforward for classification.\\n\\n1. Token Inputs\\nTo generate token inputs, we need token embeddings(WordPiece Embedding) + Segment Embeddings(distinguish sentences)\\n+ Position Embeddings(position of word within a sentence encoded as a vector).\\n\\ntoken embeddings: [CLS] token in the beginning of the sentence and [SEP] token at the end of the sentence\\nsegment embeddings: distinguish sentences with tokens assigned to each sentence\\nposition embedding: unique tokens assigned to each word in the sentence.\\n \\n\\\"\\\"\\\"\\n\\n\\n\\\"\\\"\\\"\\nEmbedding space=> Map words in sentence to a word cluster(embedding space)(Glove) to generate a vector for the word\\nPositional Encoder=> Context of the word with respect to the sentence vector\\nEmbedding space + Positional encoding = encoding of word with context= EC\\n\\nEncoder Block:feed input (\\\"The red dog\\\")\\nEC -> Multi-headed attention layer -> Feed forward layer\\n\\nAttention layer: How relavent is the ith word  with respect to the other words in the same sentence\\nFeed forward nets: pass attention vectors into a simple neural net\\n\\nDecoder Block: feed output (\\\"le red chein\\\")\\nTake the EC of output\\nEC -> multi-headed attention -> multi headed attention(encoded-decoded attention mapping(English to french translation happens here)\\n-> Feed foward layer -> linear -> softmax \\n\\n\\\"\\\"\\\"\";\n",
       "                var nbb_formatted_code = \"# Bert Model Implementation\\n\\\"\\\"\\\"\\nBERT: Bidirectional Encoder Representations from Transformers\\n\\nVocab:\\na. Masked Language Model: Mask random words in a sentence(fill in the blanks) \\n    to understand bidirectional context.\\nb. Next sentence prediction: Two sentences and detect which sentences follows each other.\\n\\nProcess:\\nToken inputs -> BERT Transformer Encoders -> Output as next sentence prediction and mask language modeling\\n-> Pass to feedforward for classification.\\n\\n1. Token Inputs\\nTo generate token inputs, we need token embeddings(WordPiece Embedding) + Segment Embeddings(distinguish sentences)\\n+ Position Embeddings(position of word within a sentence encoded as a vector).\\n\\ntoken embeddings: [CLS] token in the beginning of the sentence and [SEP] token at the end of the sentence\\nsegment embeddings: distinguish sentences with tokens assigned to each sentence\\nposition embedding: unique tokens assigned to each word in the sentence.\\n \\n\\\"\\\"\\\"\\n\\n\\n\\\"\\\"\\\"\\nEmbedding space=> Map words in sentence to a word cluster(embedding space)(Glove) to generate a vector for the word\\nPositional Encoder=> Context of the word with respect to the sentence vector\\nEmbedding space + Positional encoding = encoding of word with context= EC\\n\\nEncoder Block:feed input (\\\"The red dog\\\")\\nEC -> Multi-headed attention layer -> Feed forward layer\\n\\nAttention layer: How relavent is the ith word  with respect to the other words in the same sentence\\nFeed forward nets: pass attention vectors into a simple neural net\\n\\nDecoder Block: feed output (\\\"le red chein\\\")\\nTake the EC of output\\nEC -> multi-headed attention -> multi headed attention(encoded-decoded attention mapping(English to french translation happens here)\\n-> Feed foward layer -> linear -> softmax \\n\\n\\\"\\\"\\\"\";\n",
       "                var nbb_cells = Jupyter.notebook.get_cells();\n",
       "                for (var i = 0; i < nbb_cells.length; ++i) {\n",
       "                    if (nbb_cells[i].input_prompt_number == nbb_cell_id) {\n",
       "                        if (nbb_cells[i].get_text() == nbb_unformatted_code) {\n",
       "                             nbb_cells[i].set_text(nbb_formatted_code);\n",
       "                        }\n",
       "                        break;\n",
       "                    }\n",
       "                }\n",
       "            }, 500);\n",
       "            "
      ],
      "text/plain": [
       "<IPython.core.display.Javascript object>"
      ]
     },
     "metadata": {},
     "output_type": "display_data"
    },
    {
     "data": {
      "application/javascript": [
       "\n",
       "            setTimeout(function() {\n",
       "                var nbb_cell_id = 67;\n",
       "                var nbb_unformatted_code = \"# Bert Model Implementation\\n\\\"\\\"\\\"\\nBERT: Bidirectional Encoder Representations from Transformers\\n\\nVocab:\\na. Masked Language Model: Mask random words in a sentence(fill in the blanks) \\n    to understand bidirectional context.\\nb. Next sentence prediction: Two sentences and detect which sentences follows each other.\\n\\nProcess:\\nToken inputs -> BERT Transformer Encoders -> Output as next sentence prediction and mask language modeling\\n-> Pass to feedforward for classification.\\n\\n1. Token Inputs\\nTo generate token inputs, we need token embeddings(WordPiece Embedding) + Segment Embeddings(distinguish sentences)\\n+ Position Embeddings(position of word within a sentence encoded as a vector).\\n\\ntoken embeddings: [CLS] token in the beginning of the sentence and [SEP] token at the end of the sentence\\nsegment embeddings: distinguish sentences with tokens assigned to each sentence\\nposition embedding: unique tokens assigned to each word in the sentence.\\n \\n\\\"\\\"\\\"\\n\\n\\n\\\"\\\"\\\"\\nEmbedding space=> Map words in sentence to a word cluster(embedding space)(Glove) to generate a vector for the word\\nPositional Encoder=> Context of the word with respect to the sentence vector\\nEmbedding space + Positional encoding = encoding of word with context= EC\\n\\nEncoder Block:feed input (\\\"The red dog\\\")\\nEC -> Multi-headed attention layer -> Feed forward layer\\n\\nAttention layer: How relavent is the ith word  with respect to the other words in the same sentence\\nFeed forward nets: pass attention vectors into a simple neural net\\n\\nDecoder Block: feed output (\\\"le red chein\\\")\\nTake the EC of output\\nEC -> multi-headed attention -> multi headed attention(encoded-decoded attention mapping(English to french translation happens here)\\n-> Feed foward layer -> linear -> softmax \\n\\n\\\"\\\"\\\"\";\n",
       "                var nbb_formatted_code = \"# Bert Model Implementation\\n\\\"\\\"\\\"\\nBERT: Bidirectional Encoder Representations from Transformers\\n\\nVocab:\\na. Masked Language Model: Mask random words in a sentence(fill in the blanks) \\n    to understand bidirectional context.\\nb. Next sentence prediction: Two sentences and detect which sentences follows each other.\\n\\nProcess:\\nToken inputs -> BERT Transformer Encoders -> Output as next sentence prediction and mask language modeling\\n-> Pass to feedforward for classification.\\n\\n1. Token Inputs\\nTo generate token inputs, we need token embeddings(WordPiece Embedding) + Segment Embeddings(distinguish sentences)\\n+ Position Embeddings(position of word within a sentence encoded as a vector).\\n\\ntoken embeddings: [CLS] token in the beginning of the sentence and [SEP] token at the end of the sentence\\nsegment embeddings: distinguish sentences with tokens assigned to each sentence\\nposition embedding: unique tokens assigned to each word in the sentence.\\n \\n\\\"\\\"\\\"\\n\\n\\n\\\"\\\"\\\"\\nEmbedding space=> Map words in sentence to a word cluster(embedding space)(Glove) to generate a vector for the word\\nPositional Encoder=> Context of the word with respect to the sentence vector\\nEmbedding space + Positional encoding = encoding of word with context= EC\\n\\nEncoder Block:feed input (\\\"The red dog\\\")\\nEC -> Multi-headed attention layer -> Feed forward layer\\n\\nAttention layer: How relavent is the ith word  with respect to the other words in the same sentence\\nFeed forward nets: pass attention vectors into a simple neural net\\n\\nDecoder Block: feed output (\\\"le red chein\\\")\\nTake the EC of output\\nEC -> multi-headed attention -> multi headed attention(encoded-decoded attention mapping(English to french translation happens here)\\n-> Feed foward layer -> linear -> softmax \\n\\n\\\"\\\"\\\"\";\n",
       "                var nbb_cells = Jupyter.notebook.get_cells();\n",
       "                for (var i = 0; i < nbb_cells.length; ++i) {\n",
       "                    if (nbb_cells[i].input_prompt_number == nbb_cell_id) {\n",
       "                        if (nbb_cells[i].get_text() == nbb_unformatted_code) {\n",
       "                             nbb_cells[i].set_text(nbb_formatted_code);\n",
       "                        }\n",
       "                        break;\n",
       "                    }\n",
       "                }\n",
       "            }, 500);\n",
       "            "
      ],
      "text/plain": [
       "<IPython.core.display.Javascript object>"
      ]
     },
     "metadata": {},
     "output_type": "display_data"
    }
   ],
   "source": [
    "# Bert Model Implementation\n",
    "\"\"\"\n",
    "BERT: Bidirectional Encoder Representations from Transformers\n",
    "\n",
    "Vocab:\n",
    "a. Masked Language Model: Mask random words in a sentence(fill in the blanks) \n",
    "    to understand bidirectional context.\n",
    "b. Next sentence prediction: Two sentences and detect which sentences follows each other.\n",
    "\n",
    "Process:\n",
    "Token inputs -> BERT Transformer Encoders -> Output as next sentence prediction and mask language modeling\n",
    "-> Pass to feedforward for classification.\n",
    "\n",
    "1. Token Inputs\n",
    "To generate token inputs, we need token embeddings(WordPiece Embedding) + Segment Embeddings(distinguish sentences)\n",
    "+ Position Embeddings(position of word within a sentence encoded as a vector).\n",
    "\n",
    "token embeddings: [CLS] token in the beginning of the sentence and [SEP] token at the end of the sentence\n",
    "segment embeddings: distinguish sentences with tokens assigned to each sentence\n",
    "position embedding: unique tokens assigned to each word in the sentence.\n",
    " \n",
    "\"\"\"\n",
    "\n",
    "\n",
    "\"\"\"\n",
    "Embedding space=> Map words in sentence to a word cluster(embedding space)(Glove) to generate a vector for the word\n",
    "Positional Encoder=> Context of the word with respect to the sentence vector\n",
    "Embedding space + Positional encoding = encoding of word with context= EC\n",
    "\n",
    "Encoder Block:feed input (\"The red dog\")\n",
    "EC -> Multi-headed attention layer -> Feed forward layer\n",
    "\n",
    "Attention layer: How relavent is the ith word  with respect to the other words in the same sentence\n",
    "Feed forward nets: pass attention vectors into a simple neural net\n",
    "\n",
    "Decoder Block: feed output (\"le red chein\")\n",
    "Take the EC of output\n",
    "EC -> multi-headed attention -> multi headed attention(encoded-decoded attention mapping(English to french translation happens here)\n",
    "-> Feed foward layer -> linear -> softmax \n",
    "\n",
    "\"\"\""
   ]
  },
  {
   "cell_type": "code",
   "execution_count": 68,
   "metadata": {},
   "outputs": [
    {
     "data": {
      "application/javascript": [
       "\n",
       "            setTimeout(function() {\n",
       "                var nbb_cell_id = 68;\n",
       "                var nbb_unformatted_code = \"# !wget --quiet https://raw.githubusercontent.com/tensorflow/models/master/official/nlp/bert/tokenization.py\";\n",
       "                var nbb_formatted_code = \"# !wget --quiet https://raw.githubusercontent.com/tensorflow/models/master/official/nlp/bert/tokenization.py\";\n",
       "                var nbb_cells = Jupyter.notebook.get_cells();\n",
       "                for (var i = 0; i < nbb_cells.length; ++i) {\n",
       "                    if (nbb_cells[i].input_prompt_number == nbb_cell_id) {\n",
       "                        if (nbb_cells[i].get_text() == nbb_unformatted_code) {\n",
       "                             nbb_cells[i].set_text(nbb_formatted_code);\n",
       "                        }\n",
       "                        break;\n",
       "                    }\n",
       "                }\n",
       "            }, 500);\n",
       "            "
      ],
      "text/plain": [
       "<IPython.core.display.Javascript object>"
      ]
     },
     "metadata": {},
     "output_type": "display_data"
    },
    {
     "data": {
      "application/javascript": [
       "\n",
       "            setTimeout(function() {\n",
       "                var nbb_cell_id = 68;\n",
       "                var nbb_unformatted_code = \"# !wget --quiet https://raw.githubusercontent.com/tensorflow/models/master/official/nlp/bert/tokenization.py\";\n",
       "                var nbb_formatted_code = \"# !wget --quiet https://raw.githubusercontent.com/tensorflow/models/master/official/nlp/bert/tokenization.py\";\n",
       "                var nbb_cells = Jupyter.notebook.get_cells();\n",
       "                for (var i = 0; i < nbb_cells.length; ++i) {\n",
       "                    if (nbb_cells[i].input_prompt_number == nbb_cell_id) {\n",
       "                        if (nbb_cells[i].get_text() == nbb_unformatted_code) {\n",
       "                             nbb_cells[i].set_text(nbb_formatted_code);\n",
       "                        }\n",
       "                        break;\n",
       "                    }\n",
       "                }\n",
       "            }, 500);\n",
       "            "
      ],
      "text/plain": [
       "<IPython.core.display.Javascript object>"
      ]
     },
     "metadata": {},
     "output_type": "display_data"
    }
   ],
   "source": [
    "# !wget --quiet https://raw.githubusercontent.com/tensorflow/models/master/official/nlp/bert/tokenization.py"
   ]
  },
  {
   "cell_type": "code",
   "execution_count": 69,
   "metadata": {},
   "outputs": [
    {
     "data": {
      "application/javascript": [
       "\n",
       "            setTimeout(function() {\n",
       "                var nbb_cell_id = 69;\n",
       "                var nbb_unformatted_code = \"# Bert config\\nbert_layer = hub.KerasLayer(\\n    \\\"https://tfhub.dev/tensorflow/bert_en_uncased_L-12_H-768_A-12/1\\\", trainable=True\\n)\\nvocab_file = bert_layer.resolved_object.vocab_file.asset_path.numpy()\\ndo_lower_case = bert_layer.resolved_object.do_lower_case.numpy()\\ntokenizer = tokenization.FullTokenizer(vocab_file, do_lower_case)\";\n",
       "                var nbb_formatted_code = \"# Bert config\\nbert_layer = hub.KerasLayer(\\n    \\\"https://tfhub.dev/tensorflow/bert_en_uncased_L-12_H-768_A-12/1\\\", trainable=True\\n)\\nvocab_file = bert_layer.resolved_object.vocab_file.asset_path.numpy()\\ndo_lower_case = bert_layer.resolved_object.do_lower_case.numpy()\\ntokenizer = tokenization.FullTokenizer(vocab_file, do_lower_case)\";\n",
       "                var nbb_cells = Jupyter.notebook.get_cells();\n",
       "                for (var i = 0; i < nbb_cells.length; ++i) {\n",
       "                    if (nbb_cells[i].input_prompt_number == nbb_cell_id) {\n",
       "                        if (nbb_cells[i].get_text() == nbb_unformatted_code) {\n",
       "                             nbb_cells[i].set_text(nbb_formatted_code);\n",
       "                        }\n",
       "                        break;\n",
       "                    }\n",
       "                }\n",
       "            }, 500);\n",
       "            "
      ],
      "text/plain": [
       "<IPython.core.display.Javascript object>"
      ]
     },
     "metadata": {},
     "output_type": "display_data"
    },
    {
     "data": {
      "application/javascript": [
       "\n",
       "            setTimeout(function() {\n",
       "                var nbb_cell_id = 69;\n",
       "                var nbb_unformatted_code = \"# Bert config\\nbert_layer = hub.KerasLayer(\\n    \\\"https://tfhub.dev/tensorflow/bert_en_uncased_L-12_H-768_A-12/1\\\", trainable=True\\n)\\nvocab_file = bert_layer.resolved_object.vocab_file.asset_path.numpy()\\ndo_lower_case = bert_layer.resolved_object.do_lower_case.numpy()\\ntokenizer = tokenization.FullTokenizer(vocab_file, do_lower_case)\";\n",
       "                var nbb_formatted_code = \"# Bert config\\nbert_layer = hub.KerasLayer(\\n    \\\"https://tfhub.dev/tensorflow/bert_en_uncased_L-12_H-768_A-12/1\\\", trainable=True\\n)\\nvocab_file = bert_layer.resolved_object.vocab_file.asset_path.numpy()\\ndo_lower_case = bert_layer.resolved_object.do_lower_case.numpy()\\ntokenizer = tokenization.FullTokenizer(vocab_file, do_lower_case)\";\n",
       "                var nbb_cells = Jupyter.notebook.get_cells();\n",
       "                for (var i = 0; i < nbb_cells.length; ++i) {\n",
       "                    if (nbb_cells[i].input_prompt_number == nbb_cell_id) {\n",
       "                        if (nbb_cells[i].get_text() == nbb_unformatted_code) {\n",
       "                             nbb_cells[i].set_text(nbb_formatted_code);\n",
       "                        }\n",
       "                        break;\n",
       "                    }\n",
       "                }\n",
       "            }, 500);\n",
       "            "
      ],
      "text/plain": [
       "<IPython.core.display.Javascript object>"
      ]
     },
     "metadata": {},
     "output_type": "display_data"
    }
   ],
   "source": [
    "# Bert config\n",
    "bert_layer = hub.KerasLayer(\n",
    "    \"https://tfhub.dev/tensorflow/bert_en_uncased_L-12_H-768_A-12/1\", trainable=True\n",
    ")\n",
    "vocab_file = bert_layer.resolved_object.vocab_file.asset_path.numpy()\n",
    "do_lower_case = bert_layer.resolved_object.do_lower_case.numpy()\n",
    "tokenizer = tokenization.FullTokenizer(vocab_file, do_lower_case)"
   ]
  },
  {
   "cell_type": "code",
   "execution_count": 70,
   "metadata": {},
   "outputs": [
    {
     "data": {
      "text/plain": [
       "['co', '##vid', '-', '19', 'sucks', 'like', 'hell', '!']"
      ]
     },
     "execution_count": 70,
     "metadata": {},
     "output_type": "execute_result"
    },
    {
     "data": {
      "application/javascript": [
       "\n",
       "            setTimeout(function() {\n",
       "                var nbb_cell_id = 70;\n",
       "                var nbb_unformatted_code = \"# test tokenizer\\ntokenizer.tokenize('covid-19 sucks like hell!')\";\n",
       "                var nbb_formatted_code = \"# test tokenizer\\ntokenizer.tokenize(\\\"covid-19 sucks like hell!\\\")\";\n",
       "                var nbb_cells = Jupyter.notebook.get_cells();\n",
       "                for (var i = 0; i < nbb_cells.length; ++i) {\n",
       "                    if (nbb_cells[i].input_prompt_number == nbb_cell_id) {\n",
       "                        if (nbb_cells[i].get_text() == nbb_unformatted_code) {\n",
       "                             nbb_cells[i].set_text(nbb_formatted_code);\n",
       "                        }\n",
       "                        break;\n",
       "                    }\n",
       "                }\n",
       "            }, 500);\n",
       "            "
      ],
      "text/plain": [
       "<IPython.core.display.Javascript object>"
      ]
     },
     "metadata": {},
     "output_type": "display_data"
    },
    {
     "data": {
      "application/javascript": [
       "\n",
       "            setTimeout(function() {\n",
       "                var nbb_cell_id = 70;\n",
       "                var nbb_unformatted_code = \"# test tokenizer\\ntokenizer.tokenize('covid-19 sucks like hell!')\";\n",
       "                var nbb_formatted_code = \"# test tokenizer\\ntokenizer.tokenize(\\\"covid-19 sucks like hell!\\\")\";\n",
       "                var nbb_cells = Jupyter.notebook.get_cells();\n",
       "                for (var i = 0; i < nbb_cells.length; ++i) {\n",
       "                    if (nbb_cells[i].input_prompt_number == nbb_cell_id) {\n",
       "                        if (nbb_cells[i].get_text() == nbb_unformatted_code) {\n",
       "                             nbb_cells[i].set_text(nbb_formatted_code);\n",
       "                        }\n",
       "                        break;\n",
       "                    }\n",
       "                }\n",
       "            }, 500);\n",
       "            "
      ],
      "text/plain": [
       "<IPython.core.display.Javascript object>"
      ]
     },
     "metadata": {},
     "output_type": "display_data"
    }
   ],
   "source": [
    "# test tokenizer\n",
    "tokenizer.tokenize(\"covid-19 sucks like hell!\")"
   ]
  },
  {
   "cell_type": "code",
   "execution_count": 82,
   "metadata": {},
   "outputs": [
    {
     "data": {
      "application/javascript": [
       "\n",
       "            setTimeout(function() {\n",
       "                var nbb_cell_id = 82;\n",
       "                var nbb_unformatted_code = \"MAX_SEQUENCE_LENGTH = 128\\n\\n\\ndef build_model(hp):\\n    input_word_ids = keras.Input(\\n        shape=(MAX_SEQUENCE_LENGTH,), dtype=tf.int32, name=\\\"input_word_ids\\\"\\n    )\\n    input_mask = keras.Input(\\n        shape=(MAX_SEQUENCE_LENGTH,), dtype=tf.int32, name=\\\"input_mask\\\"\\n    )\\n    segment_ids = keras.Input(\\n        shape=(MAX_SEQUENCE_LENGTH,), dtype=tf.int32, name=\\\"segment_ids\\\"\\n    )\\n\\n    pooled_output, sequence_output = bert_layer(\\n        [input_word_ids, input_mask, segment_ids]\\n    )\\n    clf_output = sequence_output[:, 0, :]\\n    neural_inputs = keras.layers.Dense(\\n        hp.Int(\\\"units\\\", min_value=32, max_value=512, step=32, default=128),\\n        activation=\\\"elu\\\",\\n        kernel_initializer=\\\"he_normal\\\",\\n    )(clf_output)\\n    neural_inputs = tf.keras.layers.Dropout(\\n        hp.Float(\\\"dropout\\\", min_value=0, max_value=0.9, default=0.2, step=0.1)\\n    )(neural_inputs)\\n    neural_inputs = keras.layers.Dense(\\n        hp.Int(\\\"units\\\", min_value=32, max_value=512, step=32, default=64),\\n        activation=\\\"elu\\\",\\n        kernel_initializer=\\\"he_normal\\\",\\n    )(neural_inputs)\\n    neural_inputs = tf.keras.layers.Dropout(\\n        hp.Float(\\\"dropout\\\", min_value=0, max_value=0.9, default=0.2, step=0.1)\\n    )(neural_inputs)\\n    out = tf.keras.layers.Dense(1, activation=\\\"sigmoid\\\")(neural_inputs)\\n    model = tf.keras.models.Model(\\n        inputs=[input_word_ids, input_mask, segment_ids], outputs=out\\n    )\\n    model.compile(\\n        tf.keras.optimizers.Adam(hp.Choice(\\\"learning_rate\\\", [5e-5, 3e-5, 2e-5])),\\n        loss=keras.losses.binary_crossentropy,\\n        metrics=[\\\"accuracy\\\"],\\n    )\\n\\n    return model\";\n",
       "                var nbb_formatted_code = \"MAX_SEQUENCE_LENGTH = 128\\n\\n\\ndef build_model(hp):\\n    input_word_ids = keras.Input(\\n        shape=(MAX_SEQUENCE_LENGTH,), dtype=tf.int32, name=\\\"input_word_ids\\\"\\n    )\\n    input_mask = keras.Input(\\n        shape=(MAX_SEQUENCE_LENGTH,), dtype=tf.int32, name=\\\"input_mask\\\"\\n    )\\n    segment_ids = keras.Input(\\n        shape=(MAX_SEQUENCE_LENGTH,), dtype=tf.int32, name=\\\"segment_ids\\\"\\n    )\\n\\n    pooled_output, sequence_output = bert_layer(\\n        [input_word_ids, input_mask, segment_ids]\\n    )\\n    clf_output = sequence_output[:, 0, :]\\n    neural_inputs = keras.layers.Dense(\\n        hp.Int(\\\"units\\\", min_value=32, max_value=512, step=32, default=128),\\n        activation=\\\"elu\\\",\\n        kernel_initializer=\\\"he_normal\\\",\\n    )(clf_output)\\n    neural_inputs = tf.keras.layers.Dropout(\\n        hp.Float(\\\"dropout\\\", min_value=0, max_value=0.9, default=0.2, step=0.1)\\n    )(neural_inputs)\\n    neural_inputs = keras.layers.Dense(\\n        hp.Int(\\\"units\\\", min_value=32, max_value=512, step=32, default=64),\\n        activation=\\\"elu\\\",\\n        kernel_initializer=\\\"he_normal\\\",\\n    )(neural_inputs)\\n    neural_inputs = tf.keras.layers.Dropout(\\n        hp.Float(\\\"dropout\\\", min_value=0, max_value=0.9, default=0.2, step=0.1)\\n    )(neural_inputs)\\n    out = tf.keras.layers.Dense(1, activation=\\\"sigmoid\\\")(neural_inputs)\\n    model = tf.keras.models.Model(\\n        inputs=[input_word_ids, input_mask, segment_ids], outputs=out\\n    )\\n    model.compile(\\n        tf.keras.optimizers.Adam(hp.Choice(\\\"learning_rate\\\", [5e-5, 3e-5, 2e-5])),\\n        loss=keras.losses.binary_crossentropy,\\n        metrics=[\\\"accuracy\\\"],\\n    )\\n\\n    return model\";\n",
       "                var nbb_cells = Jupyter.notebook.get_cells();\n",
       "                for (var i = 0; i < nbb_cells.length; ++i) {\n",
       "                    if (nbb_cells[i].input_prompt_number == nbb_cell_id) {\n",
       "                        if (nbb_cells[i].get_text() == nbb_unformatted_code) {\n",
       "                             nbb_cells[i].set_text(nbb_formatted_code);\n",
       "                        }\n",
       "                        break;\n",
       "                    }\n",
       "                }\n",
       "            }, 500);\n",
       "            "
      ],
      "text/plain": [
       "<IPython.core.display.Javascript object>"
      ]
     },
     "metadata": {},
     "output_type": "display_data"
    },
    {
     "data": {
      "application/javascript": [
       "\n",
       "            setTimeout(function() {\n",
       "                var nbb_cell_id = 82;\n",
       "                var nbb_unformatted_code = \"MAX_SEQUENCE_LENGTH = 128\\n\\n\\ndef build_model(hp):\\n    input_word_ids = keras.Input(\\n        shape=(MAX_SEQUENCE_LENGTH,), dtype=tf.int32, name=\\\"input_word_ids\\\"\\n    )\\n    input_mask = keras.Input(\\n        shape=(MAX_SEQUENCE_LENGTH,), dtype=tf.int32, name=\\\"input_mask\\\"\\n    )\\n    segment_ids = keras.Input(\\n        shape=(MAX_SEQUENCE_LENGTH,), dtype=tf.int32, name=\\\"segment_ids\\\"\\n    )\\n\\n    pooled_output, sequence_output = bert_layer(\\n        [input_word_ids, input_mask, segment_ids]\\n    )\\n    clf_output = sequence_output[:, 0, :]\\n    neural_inputs = keras.layers.Dense(\\n        hp.Int(\\\"units\\\", min_value=32, max_value=512, step=32, default=128),\\n        activation=\\\"elu\\\",\\n        kernel_initializer=\\\"he_normal\\\",\\n    )(clf_output)\\n    neural_inputs = tf.keras.layers.Dropout(\\n        hp.Float(\\\"dropout\\\", min_value=0, max_value=0.9, default=0.2, step=0.1)\\n    )(neural_inputs)\\n    neural_inputs = keras.layers.Dense(\\n        hp.Int(\\\"units\\\", min_value=32, max_value=512, step=32, default=64),\\n        activation=\\\"elu\\\",\\n        kernel_initializer=\\\"he_normal\\\",\\n    )(neural_inputs)\\n    neural_inputs = tf.keras.layers.Dropout(\\n        hp.Float(\\\"dropout\\\", min_value=0, max_value=0.9, default=0.2, step=0.1)\\n    )(neural_inputs)\\n    out = tf.keras.layers.Dense(1, activation=\\\"sigmoid\\\")(neural_inputs)\\n    model = tf.keras.models.Model(\\n        inputs=[input_word_ids, input_mask, segment_ids], outputs=out\\n    )\\n    model.compile(\\n        tf.keras.optimizers.Adam(hp.Choice(\\\"learning_rate\\\", [5e-5, 3e-5, 2e-5])),\\n        loss=keras.losses.binary_crossentropy,\\n        metrics=[\\\"accuracy\\\"],\\n    )\\n\\n    return model\";\n",
       "                var nbb_formatted_code = \"MAX_SEQUENCE_LENGTH = 128\\n\\n\\ndef build_model(hp):\\n    input_word_ids = keras.Input(\\n        shape=(MAX_SEQUENCE_LENGTH,), dtype=tf.int32, name=\\\"input_word_ids\\\"\\n    )\\n    input_mask = keras.Input(\\n        shape=(MAX_SEQUENCE_LENGTH,), dtype=tf.int32, name=\\\"input_mask\\\"\\n    )\\n    segment_ids = keras.Input(\\n        shape=(MAX_SEQUENCE_LENGTH,), dtype=tf.int32, name=\\\"segment_ids\\\"\\n    )\\n\\n    pooled_output, sequence_output = bert_layer(\\n        [input_word_ids, input_mask, segment_ids]\\n    )\\n    clf_output = sequence_output[:, 0, :]\\n    neural_inputs = keras.layers.Dense(\\n        hp.Int(\\\"units\\\", min_value=32, max_value=512, step=32, default=128),\\n        activation=\\\"elu\\\",\\n        kernel_initializer=\\\"he_normal\\\",\\n    )(clf_output)\\n    neural_inputs = tf.keras.layers.Dropout(\\n        hp.Float(\\\"dropout\\\", min_value=0, max_value=0.9, default=0.2, step=0.1)\\n    )(neural_inputs)\\n    neural_inputs = keras.layers.Dense(\\n        hp.Int(\\\"units\\\", min_value=32, max_value=512, step=32, default=64),\\n        activation=\\\"elu\\\",\\n        kernel_initializer=\\\"he_normal\\\",\\n    )(neural_inputs)\\n    neural_inputs = tf.keras.layers.Dropout(\\n        hp.Float(\\\"dropout\\\", min_value=0, max_value=0.9, default=0.2, step=0.1)\\n    )(neural_inputs)\\n    out = tf.keras.layers.Dense(1, activation=\\\"sigmoid\\\")(neural_inputs)\\n    model = tf.keras.models.Model(\\n        inputs=[input_word_ids, input_mask, segment_ids], outputs=out\\n    )\\n    model.compile(\\n        tf.keras.optimizers.Adam(hp.Choice(\\\"learning_rate\\\", [5e-5, 3e-5, 2e-5])),\\n        loss=keras.losses.binary_crossentropy,\\n        metrics=[\\\"accuracy\\\"],\\n    )\\n\\n    return model\";\n",
       "                var nbb_cells = Jupyter.notebook.get_cells();\n",
       "                for (var i = 0; i < nbb_cells.length; ++i) {\n",
       "                    if (nbb_cells[i].input_prompt_number == nbb_cell_id) {\n",
       "                        if (nbb_cells[i].get_text() == nbb_unformatted_code) {\n",
       "                             nbb_cells[i].set_text(nbb_formatted_code);\n",
       "                        }\n",
       "                        break;\n",
       "                    }\n",
       "                }\n",
       "            }, 500);\n",
       "            "
      ],
      "text/plain": [
       "<IPython.core.display.Javascript object>"
      ]
     },
     "metadata": {},
     "output_type": "display_data"
    }
   ],
   "source": [
    "MAX_SEQUENCE_LENGTH = 128\n",
    "\n",
    "\n",
    "def build_model(hp):\n",
    "    input_word_ids = keras.Input(\n",
    "        shape=(MAX_SEQUENCE_LENGTH,), dtype=tf.int32, name=\"input_word_ids\"\n",
    "    )\n",
    "    input_mask = keras.Input(\n",
    "        shape=(MAX_SEQUENCE_LENGTH,), dtype=tf.int32, name=\"input_mask\"\n",
    "    )\n",
    "    segment_ids = keras.Input(\n",
    "        shape=(MAX_SEQUENCE_LENGTH,), dtype=tf.int32, name=\"segment_ids\"\n",
    "    )\n",
    "\n",
    "    pooled_output, sequence_output = bert_layer(\n",
    "        [input_word_ids, input_mask, segment_ids]\n",
    "    )\n",
    "    clf_output = sequence_output[:, 0, :]\n",
    "    neural_inputs = keras.layers.Dense(\n",
    "        hp.Int(\"units\", min_value=32, max_value=512, step=32, default=128),\n",
    "        activation=\"elu\",\n",
    "        kernel_initializer=\"he_normal\",\n",
    "    )(clf_output)\n",
    "    neural_inputs = tf.keras.layers.Dropout(\n",
    "        hp.Float(\"dropout\", min_value=0, max_value=0.9, default=0.2, step=0.1)\n",
    "    )(neural_inputs)\n",
    "    neural_inputs = keras.layers.Dense(\n",
    "        hp.Int(\"units\", min_value=32, max_value=512, step=32, default=64),\n",
    "        activation=\"elu\",\n",
    "        kernel_initializer=\"he_normal\",\n",
    "    )(neural_inputs)\n",
    "    neural_inputs = tf.keras.layers.Dropout(\n",
    "        hp.Float(\"dropout\", min_value=0, max_value=0.9, default=0.2, step=0.1)\n",
    "    )(neural_inputs)\n",
    "    out = tf.keras.layers.Dense(1, activation=\"sigmoid\")(neural_inputs)\n",
    "    model = tf.keras.models.Model(\n",
    "        inputs=[input_word_ids, input_mask, segment_ids], outputs=out\n",
    "    )\n",
    "    model.compile(\n",
    "        tf.keras.optimizers.Adam(hp.Choice(\"learning_rate\", [5e-5, 3e-5, 2e-5])),\n",
    "        loss=keras.losses.binary_crossentropy,\n",
    "        metrics=[\"accuracy\"],\n",
    "    )\n",
    "\n",
    "    return model"
   ]
  },
  {
   "cell_type": "code",
   "execution_count": 83,
   "metadata": {},
   "outputs": [
    {
     "data": {
      "application/javascript": [
       "\n",
       "            setTimeout(function() {\n",
       "                var nbb_cell_id = 83;\n",
       "                var nbb_unformatted_code = \"tuner = RandomSearch(\\n    build_model,\\n    objective=\\\"val_accuracy\\\",\\n    max_trials=5,\\n    executions_per_trial=3,\\n    project_name=\\\"../hyperparameter/random_search\\\",\\n)\";\n",
       "                var nbb_formatted_code = \"tuner = RandomSearch(\\n    build_model,\\n    objective=\\\"val_accuracy\\\",\\n    max_trials=5,\\n    executions_per_trial=3,\\n    project_name=\\\"../hyperparameter/random_search\\\",\\n)\";\n",
       "                var nbb_cells = Jupyter.notebook.get_cells();\n",
       "                for (var i = 0; i < nbb_cells.length; ++i) {\n",
       "                    if (nbb_cells[i].input_prompt_number == nbb_cell_id) {\n",
       "                        if (nbb_cells[i].get_text() == nbb_unformatted_code) {\n",
       "                             nbb_cells[i].set_text(nbb_formatted_code);\n",
       "                        }\n",
       "                        break;\n",
       "                    }\n",
       "                }\n",
       "            }, 500);\n",
       "            "
      ],
      "text/plain": [
       "<IPython.core.display.Javascript object>"
      ]
     },
     "metadata": {},
     "output_type": "display_data"
    },
    {
     "data": {
      "application/javascript": [
       "\n",
       "            setTimeout(function() {\n",
       "                var nbb_cell_id = 83;\n",
       "                var nbb_unformatted_code = \"tuner = RandomSearch(\\n    build_model,\\n    objective=\\\"val_accuracy\\\",\\n    max_trials=5,\\n    executions_per_trial=3,\\n    project_name=\\\"../hyperparameter/random_search\\\",\\n)\";\n",
       "                var nbb_formatted_code = \"tuner = RandomSearch(\\n    build_model,\\n    objective=\\\"val_accuracy\\\",\\n    max_trials=5,\\n    executions_per_trial=3,\\n    project_name=\\\"../hyperparameter/random_search\\\",\\n)\";\n",
       "                var nbb_cells = Jupyter.notebook.get_cells();\n",
       "                for (var i = 0; i < nbb_cells.length; ++i) {\n",
       "                    if (nbb_cells[i].input_prompt_number == nbb_cell_id) {\n",
       "                        if (nbb_cells[i].get_text() == nbb_unformatted_code) {\n",
       "                             nbb_cells[i].set_text(nbb_formatted_code);\n",
       "                        }\n",
       "                        break;\n",
       "                    }\n",
       "                }\n",
       "            }, 500);\n",
       "            "
      ],
      "text/plain": [
       "<IPython.core.display.Javascript object>"
      ]
     },
     "metadata": {},
     "output_type": "display_data"
    }
   ],
   "source": [
    "tuner = RandomSearch(\n",
    "    build_model,\n",
    "    objective=\"val_accuracy\",\n",
    "    max_trials=5,\n",
    "    executions_per_trial=3,\n",
    "    project_name=\"../hyperparameter/random_search\",\n",
    ")"
   ]
  },
  {
   "cell_type": "code",
   "execution_count": null,
   "metadata": {},
   "outputs": [],
   "source": []
  }
 ],
 "metadata": {
  "kernelspec": {
   "display_name": "Python nlp",
   "language": "python",
   "name": "nlp"
  },
  "language_info": {
   "codemirror_mode": {
    "name": "ipython",
    "version": 3
   },
   "file_extension": ".py",
   "mimetype": "text/x-python",
   "name": "python",
   "nbconvert_exporter": "python",
   "pygments_lexer": "ipython3",
   "version": "3.7.9"
  }
 },
 "nbformat": 4,
 "nbformat_minor": 4
}
