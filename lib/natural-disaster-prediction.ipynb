{
 "cells": [
  {
   "cell_type": "code",
   "execution_count": 275,
   "metadata": {},
   "outputs": [
    {
     "data": {
      "application/javascript": [
       "\n",
       "            setTimeout(function() {\n",
       "                var nbb_cell_id = 275;\n",
       "                var nbb_unformatted_code = \"import pandas as pd\\nimport numpy as np\\nimport seaborn as sns\\nimport nltk\\nimport os\\nimport matplotlib.pyplot as plt\\nfrom matplotlib import pylab\\nimport emoji\\nimport re\\nimport contractions\\nfrom bs4 import BeautifulSoup\\nimport unicodedata\";\n",
       "                var nbb_formatted_code = \"import pandas as pd\\nimport numpy as np\\nimport seaborn as sns\\nimport nltk\\nimport os\\nimport matplotlib.pyplot as plt\\nfrom matplotlib import pylab\\nimport emoji\\nimport re\\nimport contractions\\nfrom bs4 import BeautifulSoup\\nimport unicodedata\";\n",
       "                var nbb_cells = Jupyter.notebook.get_cells();\n",
       "                for (var i = 0; i < nbb_cells.length; ++i) {\n",
       "                    if (nbb_cells[i].input_prompt_number == nbb_cell_id) {\n",
       "                        if (nbb_cells[i].get_text() == nbb_unformatted_code) {\n",
       "                             nbb_cells[i].set_text(nbb_formatted_code);\n",
       "                        }\n",
       "                        break;\n",
       "                    }\n",
       "                }\n",
       "            }, 500);\n",
       "            "
      ],
      "text/plain": [
       "<IPython.core.display.Javascript object>"
      ]
     },
     "metadata": {},
     "output_type": "display_data"
    }
   ],
   "source": [
    "import pandas as pd\n",
    "import numpy as np\n",
    "import seaborn as sns\n",
    "import nltk\n",
    "import os\n",
    "import matplotlib.pyplot as plt\n",
    "from matplotlib import pylab\n",
    "import emoji\n",
    "import re\n",
    "import contractions\n",
    "from bs4 import BeautifulSoup\n",
    "import unicodedata"
   ]
  },
  {
   "cell_type": "code",
   "execution_count": 276,
   "metadata": {},
   "outputs": [
    {
     "name": "stdout",
     "output_type": "stream",
     "text": [
      "The nb_black extension is already loaded. To reload it, use:\n",
      "  %reload_ext nb_black\n"
     ]
    },
    {
     "data": {
      "application/javascript": [
       "\n",
       "            setTimeout(function() {\n",
       "                var nbb_cell_id = 276;\n",
       "                var nbb_unformatted_code = \"%config IPCompleter.greedy=True\\n%matplotlib inline\\n%load_ext nb_black\";\n",
       "                var nbb_formatted_code = \"%config IPCompleter.greedy=True\\n%matplotlib inline\\n%load_ext nb_black\";\n",
       "                var nbb_cells = Jupyter.notebook.get_cells();\n",
       "                for (var i = 0; i < nbb_cells.length; ++i) {\n",
       "                    if (nbb_cells[i].input_prompt_number == nbb_cell_id) {\n",
       "                        if (nbb_cells[i].get_text() == nbb_unformatted_code) {\n",
       "                             nbb_cells[i].set_text(nbb_formatted_code);\n",
       "                        }\n",
       "                        break;\n",
       "                    }\n",
       "                }\n",
       "            }, 500);\n",
       "            "
      ],
      "text/plain": [
       "<IPython.core.display.Javascript object>"
      ]
     },
     "metadata": {},
     "output_type": "display_data"
    }
   ],
   "source": [
    "%config IPCompleter.greedy=True\n",
    "%matplotlib inline\n",
    "%load_ext nb_black"
   ]
  },
  {
   "cell_type": "code",
   "execution_count": 277,
   "metadata": {},
   "outputs": [
    {
     "data": {
      "application/javascript": [
       "\n",
       "            setTimeout(function() {\n",
       "                var nbb_cell_id = 277;\n",
       "                var nbb_unformatted_code = \"# Constants\\ncurr_dir = \\\"..\\\"\\ntrain_file = os.path.join(curr_dir, \\\"dataset\\\", \\\"train.csv\\\")\\ntest_file = os.path.join(curr_dir, \\\"dataset\\\", \\\"test.csv\\\")\";\n",
       "                var nbb_formatted_code = \"# Constants\\ncurr_dir = \\\"..\\\"\\ntrain_file = os.path.join(curr_dir, \\\"dataset\\\", \\\"train.csv\\\")\\ntest_file = os.path.join(curr_dir, \\\"dataset\\\", \\\"test.csv\\\")\";\n",
       "                var nbb_cells = Jupyter.notebook.get_cells();\n",
       "                for (var i = 0; i < nbb_cells.length; ++i) {\n",
       "                    if (nbb_cells[i].input_prompt_number == nbb_cell_id) {\n",
       "                        if (nbb_cells[i].get_text() == nbb_unformatted_code) {\n",
       "                             nbb_cells[i].set_text(nbb_formatted_code);\n",
       "                        }\n",
       "                        break;\n",
       "                    }\n",
       "                }\n",
       "            }, 500);\n",
       "            "
      ],
      "text/plain": [
       "<IPython.core.display.Javascript object>"
      ]
     },
     "metadata": {},
     "output_type": "display_data"
    }
   ],
   "source": [
    "# Constants\n",
    "curr_dir = \"..\"\n",
    "train_file = os.path.join(curr_dir, \"dataset\", \"train.csv\")\n",
    "test_file = os.path.join(curr_dir, \"dataset\", \"test.csv\")"
   ]
  },
  {
   "cell_type": "code",
   "execution_count": 278,
   "metadata": {},
   "outputs": [
    {
     "data": {
      "application/javascript": [
       "\n",
       "            setTimeout(function() {\n",
       "                var nbb_cell_id = 278;\n",
       "                var nbb_unformatted_code = \"params = {\\n    \\\"legend.fontsize\\\": \\\"x-large\\\",\\n    \\\"figure.figsize\\\": (16, 5),\\n    \\\"axes.labelsize\\\": \\\"x-large\\\",\\n    \\\"axes.titlesize\\\": \\\"x-large\\\",\\n    \\\"xtick.labelsize\\\": \\\"x-large\\\",\\n    \\\"ytick.labelsize\\\": \\\"x-large\\\",\\n}\\npylab.rcParams.update(params)\\nsns.set_theme(style=\\\"darkgrid\\\")\";\n",
       "                var nbb_formatted_code = \"params = {\\n    \\\"legend.fontsize\\\": \\\"x-large\\\",\\n    \\\"figure.figsize\\\": (16, 5),\\n    \\\"axes.labelsize\\\": \\\"x-large\\\",\\n    \\\"axes.titlesize\\\": \\\"x-large\\\",\\n    \\\"xtick.labelsize\\\": \\\"x-large\\\",\\n    \\\"ytick.labelsize\\\": \\\"x-large\\\",\\n}\\npylab.rcParams.update(params)\\nsns.set_theme(style=\\\"darkgrid\\\")\";\n",
       "                var nbb_cells = Jupyter.notebook.get_cells();\n",
       "                for (var i = 0; i < nbb_cells.length; ++i) {\n",
       "                    if (nbb_cells[i].input_prompt_number == nbb_cell_id) {\n",
       "                        if (nbb_cells[i].get_text() == nbb_unformatted_code) {\n",
       "                             nbb_cells[i].set_text(nbb_formatted_code);\n",
       "                        }\n",
       "                        break;\n",
       "                    }\n",
       "                }\n",
       "            }, 500);\n",
       "            "
      ],
      "text/plain": [
       "<IPython.core.display.Javascript object>"
      ]
     },
     "metadata": {},
     "output_type": "display_data"
    }
   ],
   "source": [
    "params = {\n",
    "    \"legend.fontsize\": \"x-large\",\n",
    "    \"figure.figsize\": (16, 5),\n",
    "    \"axes.labelsize\": \"x-large\",\n",
    "    \"axes.titlesize\": \"x-large\",\n",
    "    \"xtick.labelsize\": \"x-large\",\n",
    "    \"ytick.labelsize\": \"x-large\",\n",
    "}\n",
    "pylab.rcParams.update(params)\n",
    "sns.set_theme(style=\"darkgrid\")"
   ]
  },
  {
   "cell_type": "code",
   "execution_count": 279,
   "metadata": {},
   "outputs": [
    {
     "data": {
      "text/html": [
       "<div>\n",
       "<style scoped>\n",
       "    .dataframe tbody tr th:only-of-type {\n",
       "        vertical-align: middle;\n",
       "    }\n",
       "\n",
       "    .dataframe tbody tr th {\n",
       "        vertical-align: top;\n",
       "    }\n",
       "\n",
       "    .dataframe thead th {\n",
       "        text-align: right;\n",
       "    }\n",
       "</style>\n",
       "<table border=\"1\" class=\"dataframe\">\n",
       "  <thead>\n",
       "    <tr style=\"text-align: right;\">\n",
       "      <th></th>\n",
       "      <th>id</th>\n",
       "      <th>keyword</th>\n",
       "      <th>location</th>\n",
       "      <th>text</th>\n",
       "      <th>target</th>\n",
       "    </tr>\n",
       "  </thead>\n",
       "  <tbody>\n",
       "    <tr>\n",
       "      <th>0</th>\n",
       "      <td>1</td>\n",
       "      <td>NaN</td>\n",
       "      <td>NaN</td>\n",
       "      <td>Our Deeds are the Reason of this #earthquake M...</td>\n",
       "      <td>1</td>\n",
       "    </tr>\n",
       "    <tr>\n",
       "      <th>1</th>\n",
       "      <td>4</td>\n",
       "      <td>NaN</td>\n",
       "      <td>NaN</td>\n",
       "      <td>Forest fire near La Ronge Sask. Canada</td>\n",
       "      <td>1</td>\n",
       "    </tr>\n",
       "    <tr>\n",
       "      <th>2</th>\n",
       "      <td>5</td>\n",
       "      <td>NaN</td>\n",
       "      <td>NaN</td>\n",
       "      <td>All residents asked to 'shelter in place' are ...</td>\n",
       "      <td>1</td>\n",
       "    </tr>\n",
       "    <tr>\n",
       "      <th>3</th>\n",
       "      <td>6</td>\n",
       "      <td>NaN</td>\n",
       "      <td>NaN</td>\n",
       "      <td>13,000 people receive #wildfires evacuation or...</td>\n",
       "      <td>1</td>\n",
       "    </tr>\n",
       "    <tr>\n",
       "      <th>4</th>\n",
       "      <td>7</td>\n",
       "      <td>NaN</td>\n",
       "      <td>NaN</td>\n",
       "      <td>Just got sent this photo from Ruby #Alaska as ...</td>\n",
       "      <td>1</td>\n",
       "    </tr>\n",
       "  </tbody>\n",
       "</table>\n",
       "</div>"
      ],
      "text/plain": [
       "   id keyword location                                               text  \\\n",
       "0   1     NaN      NaN  Our Deeds are the Reason of this #earthquake M...   \n",
       "1   4     NaN      NaN             Forest fire near La Ronge Sask. Canada   \n",
       "2   5     NaN      NaN  All residents asked to 'shelter in place' are ...   \n",
       "3   6     NaN      NaN  13,000 people receive #wildfires evacuation or...   \n",
       "4   7     NaN      NaN  Just got sent this photo from Ruby #Alaska as ...   \n",
       "\n",
       "   target  \n",
       "0       1  \n",
       "1       1  \n",
       "2       1  \n",
       "3       1  \n",
       "4       1  "
      ]
     },
     "execution_count": 279,
     "metadata": {},
     "output_type": "execute_result"
    },
    {
     "data": {
      "application/javascript": [
       "\n",
       "            setTimeout(function() {\n",
       "                var nbb_cell_id = 279;\n",
       "                var nbb_unformatted_code = \"df = pd.read_csv(train_file)\\ndf.head()\";\n",
       "                var nbb_formatted_code = \"df = pd.read_csv(train_file)\\ndf.head()\";\n",
       "                var nbb_cells = Jupyter.notebook.get_cells();\n",
       "                for (var i = 0; i < nbb_cells.length; ++i) {\n",
       "                    if (nbb_cells[i].input_prompt_number == nbb_cell_id) {\n",
       "                        if (nbb_cells[i].get_text() == nbb_unformatted_code) {\n",
       "                             nbb_cells[i].set_text(nbb_formatted_code);\n",
       "                        }\n",
       "                        break;\n",
       "                    }\n",
       "                }\n",
       "            }, 500);\n",
       "            "
      ],
      "text/plain": [
       "<IPython.core.display.Javascript object>"
      ]
     },
     "metadata": {},
     "output_type": "display_data"
    }
   ],
   "source": [
    "df = pd.read_csv(train_file)\n",
    "df.head()"
   ]
  },
  {
   "cell_type": "code",
   "execution_count": 280,
   "metadata": {},
   "outputs": [
    {
     "name": "stdout",
     "output_type": "stream",
     "text": [
      "<class 'pandas.core.frame.DataFrame'>\n",
      "RangeIndex: 7613 entries, 0 to 7612\n",
      "Data columns (total 5 columns):\n",
      " #   Column    Non-Null Count  Dtype \n",
      "---  ------    --------------  ----- \n",
      " 0   id        7613 non-null   int64 \n",
      " 1   keyword   7552 non-null   object\n",
      " 2   location  5080 non-null   object\n",
      " 3   text      7613 non-null   object\n",
      " 4   target    7613 non-null   int64 \n",
      "dtypes: int64(2), object(3)\n",
      "memory usage: 297.5+ KB\n"
     ]
    },
    {
     "data": {
      "application/javascript": [
       "\n",
       "            setTimeout(function() {\n",
       "                var nbb_cell_id = 280;\n",
       "                var nbb_unformatted_code = \"df.info()\";\n",
       "                var nbb_formatted_code = \"df.info()\";\n",
       "                var nbb_cells = Jupyter.notebook.get_cells();\n",
       "                for (var i = 0; i < nbb_cells.length; ++i) {\n",
       "                    if (nbb_cells[i].input_prompt_number == nbb_cell_id) {\n",
       "                        if (nbb_cells[i].get_text() == nbb_unformatted_code) {\n",
       "                             nbb_cells[i].set_text(nbb_formatted_code);\n",
       "                        }\n",
       "                        break;\n",
       "                    }\n",
       "                }\n",
       "            }, 500);\n",
       "            "
      ],
      "text/plain": [
       "<IPython.core.display.Javascript object>"
      ]
     },
     "metadata": {},
     "output_type": "display_data"
    }
   ],
   "source": [
    "df.info()"
   ]
  },
  {
   "cell_type": "code",
   "execution_count": 281,
   "metadata": {},
   "outputs": [
    {
     "data": {
      "text/plain": [
       "id             0\n",
       "keyword       61\n",
       "location    2533\n",
       "text           0\n",
       "target         0\n",
       "dtype: int64"
      ]
     },
     "execution_count": 281,
     "metadata": {},
     "output_type": "execute_result"
    },
    {
     "data": {
      "application/javascript": [
       "\n",
       "            setTimeout(function() {\n",
       "                var nbb_cell_id = 281;\n",
       "                var nbb_unformatted_code = \"df.isnull().sum()\";\n",
       "                var nbb_formatted_code = \"df.isnull().sum()\";\n",
       "                var nbb_cells = Jupyter.notebook.get_cells();\n",
       "                for (var i = 0; i < nbb_cells.length; ++i) {\n",
       "                    if (nbb_cells[i].input_prompt_number == nbb_cell_id) {\n",
       "                        if (nbb_cells[i].get_text() == nbb_unformatted_code) {\n",
       "                             nbb_cells[i].set_text(nbb_formatted_code);\n",
       "                        }\n",
       "                        break;\n",
       "                    }\n",
       "                }\n",
       "            }, 500);\n",
       "            "
      ],
      "text/plain": [
       "<IPython.core.display.Javascript object>"
      ]
     },
     "metadata": {},
     "output_type": "display_data"
    }
   ],
   "source": [
    "df.isnull().sum()"
   ]
  },
  {
   "cell_type": "code",
   "execution_count": 282,
   "metadata": {},
   "outputs": [
    {
     "data": {
      "application/javascript": [
       "\n",
       "            setTimeout(function() {\n",
       "                var nbb_cell_id = 282;\n",
       "                var nbb_unformatted_code = \"def plotBarGraph(data, labelx, labely, title, switch_axis=False):\\n    y = data.index.tolist()\\n    x = data.tolist()\\n    if switch_axis:\\n        x = data.index.tolist()\\n        y = data.tolist()\\n    sns.barplot(y=y, x=x)\\n    plt.title(title)\\n    plt.xlabel(labelx)\\n    plt.ylabel(labely)\\n    plt.show()\";\n",
       "                var nbb_formatted_code = \"def plotBarGraph(data, labelx, labely, title, switch_axis=False):\\n    y = data.index.tolist()\\n    x = data.tolist()\\n    if switch_axis:\\n        x = data.index.tolist()\\n        y = data.tolist()\\n    sns.barplot(y=y, x=x)\\n    plt.title(title)\\n    plt.xlabel(labelx)\\n    plt.ylabel(labely)\\n    plt.show()\";\n",
       "                var nbb_cells = Jupyter.notebook.get_cells();\n",
       "                for (var i = 0; i < nbb_cells.length; ++i) {\n",
       "                    if (nbb_cells[i].input_prompt_number == nbb_cell_id) {\n",
       "                        if (nbb_cells[i].get_text() == nbb_unformatted_code) {\n",
       "                             nbb_cells[i].set_text(nbb_formatted_code);\n",
       "                        }\n",
       "                        break;\n",
       "                    }\n",
       "                }\n",
       "            }, 500);\n",
       "            "
      ],
      "text/plain": [
       "<IPython.core.display.Javascript object>"
      ]
     },
     "metadata": {},
     "output_type": "display_data"
    }
   ],
   "source": [
    "def plotBarGraph(data, labelx, labely, title, switch_axis=False):\n",
    "    y = data.index.tolist()\n",
    "    x = data.tolist()\n",
    "    if switch_axis:\n",
    "        x = data.index.tolist()\n",
    "        y = data.tolist()\n",
    "    sns.barplot(y=y, x=x)\n",
    "    plt.title(title)\n",
    "    plt.xlabel(labelx)\n",
    "    plt.ylabel(labely)\n",
    "    plt.show()"
   ]
  },
  {
   "cell_type": "code",
   "execution_count": 283,
   "metadata": {},
   "outputs": [
    {
     "data": {
      "image/png": "[encoded data removed]",
      "text/plain": [
       "<Figure size 1152x360 with 1 Axes>"
      ]
     },
     "metadata": {},
     "output_type": "display_data"
    },
    {
     "data": {
      "application/javascript": [
       "\n",
       "            setTimeout(function() {\n",
       "                var nbb_cell_id = 283;\n",
       "                var nbb_unformatted_code = \"locations_map = df.location.value_counts().sort_values(ascending=False)[:10]\\nplotBarGraph(locations_map, \\\"Frequency\\\", \\\"Countries\\\", \\\"Tweet locations\\\")\";\n",
       "                var nbb_formatted_code = \"locations_map = df.location.value_counts().sort_values(ascending=False)[:10]\\nplotBarGraph(locations_map, \\\"Frequency\\\", \\\"Countries\\\", \\\"Tweet locations\\\")\";\n",
       "                var nbb_cells = Jupyter.notebook.get_cells();\n",
       "                for (var i = 0; i < nbb_cells.length; ++i) {\n",
       "                    if (nbb_cells[i].input_prompt_number == nbb_cell_id) {\n",
       "                        if (nbb_cells[i].get_text() == nbb_unformatted_code) {\n",
       "                             nbb_cells[i].set_text(nbb_formatted_code);\n",
       "                        }\n",
       "                        break;\n",
       "                    }\n",
       "                }\n",
       "            }, 500);\n",
       "            "
      ],
      "text/plain": [
       "<IPython.core.display.Javascript object>"
      ]
     },
     "metadata": {},
     "output_type": "display_data"
    }
   ],
   "source": [
    "locations_map = df.location.value_counts().sort_values(ascending=False)[:10]\n",
    "plotBarGraph(locations_map, \"Frequency\", \"Countries\", \"Tweet locations\")"
   ]
  },
  {
   "cell_type": "code",
   "execution_count": 284,
   "metadata": {},
   "outputs": [
    {
     "data": {
      "image/png": "[encoded data removed]",
      "text/plain": [
       "<Figure size 1152x360 with 1 Axes>"
      ]
     },
     "metadata": {},
     "output_type": "display_data"
    },
    {
     "data": {
      "application/javascript": [
       "\n",
       "            setTimeout(function() {\n",
       "                var nbb_cell_id = 284;\n",
       "                var nbb_unformatted_code = \"# Top 20 Disaster related Keywords\\nkeywords_map = (\\n    df.keyword.loc[df.target == 1].value_counts().sort_values(ascending=False)[:20]\\n)\\nplotBarGraph(keywords_map, \\\"Frequency\\\", \\\"Keywords\\\", \\\"Top 20 disaster related keywords\\\")\";\n",
       "                var nbb_formatted_code = \"# Top 20 Disaster related Keywords\\nkeywords_map = (\\n    df.keyword.loc[df.target == 1].value_counts().sort_values(ascending=False)[:20]\\n)\\nplotBarGraph(keywords_map, \\\"Frequency\\\", \\\"Keywords\\\", \\\"Top 20 disaster related keywords\\\")\";\n",
       "                var nbb_cells = Jupyter.notebook.get_cells();\n",
       "                for (var i = 0; i < nbb_cells.length; ++i) {\n",
       "                    if (nbb_cells[i].input_prompt_number == nbb_cell_id) {\n",
       "                        if (nbb_cells[i].get_text() == nbb_unformatted_code) {\n",
       "                             nbb_cells[i].set_text(nbb_formatted_code);\n",
       "                        }\n",
       "                        break;\n",
       "                    }\n",
       "                }\n",
       "            }, 500);\n",
       "            "
      ],
      "text/plain": [
       "<IPython.core.display.Javascript object>"
      ]
     },
     "metadata": {},
     "output_type": "display_data"
    }
   ],
   "source": [
    "# Top 20 Disaster related Keywords\n",
    "keywords_map = (\n",
    "    df.keyword.loc[df.target == 1].value_counts().sort_values(ascending=False)[:20]\n",
    ")\n",
    "plotBarGraph(keywords_map, \"Frequency\", \"Keywords\", \"Top 20 disaster related keywords\")"
   ]
  },
  {
   "cell_type": "code",
   "execution_count": 285,
   "metadata": {},
   "outputs": [
    {
     "data": {
      "image/png": "[encoded data removed]",
      "text/plain": [
       "<Figure size 1152x360 with 1 Axes>"
      ]
     },
     "metadata": {},
     "output_type": "display_data"
    },
    {
     "data": {
      "application/javascript": [
       "\n",
       "            setTimeout(function() {\n",
       "                var nbb_cell_id = 285;\n",
       "                var nbb_unformatted_code = \"# Top 20 Non-Disaster related Keywords\\nkeywords_non_disaster_map = df.keyword.loc[df.target == 0].value_counts(\\n    ascending=False\\n)[:20]\\nplotBarGraph(\\n    keywords_non_disaster_map,\\n    \\\"Frequency\\\",\\n    \\\"Keywords\\\",\\n    \\\"Top 20 non-disaster related keywords\\\",\\n)\";\n",
       "                var nbb_formatted_code = \"# Top 20 Non-Disaster related Keywords\\nkeywords_non_disaster_map = df.keyword.loc[df.target == 0].value_counts(\\n    ascending=False\\n)[:20]\\nplotBarGraph(\\n    keywords_non_disaster_map,\\n    \\\"Frequency\\\",\\n    \\\"Keywords\\\",\\n    \\\"Top 20 non-disaster related keywords\\\",\\n)\";\n",
       "                var nbb_cells = Jupyter.notebook.get_cells();\n",
       "                for (var i = 0; i < nbb_cells.length; ++i) {\n",
       "                    if (nbb_cells[i].input_prompt_number == nbb_cell_id) {\n",
       "                        if (nbb_cells[i].get_text() == nbb_unformatted_code) {\n",
       "                             nbb_cells[i].set_text(nbb_formatted_code);\n",
       "                        }\n",
       "                        break;\n",
       "                    }\n",
       "                }\n",
       "            }, 500);\n",
       "            "
      ],
      "text/plain": [
       "<IPython.core.display.Javascript object>"
      ]
     },
     "metadata": {},
     "output_type": "display_data"
    }
   ],
   "source": [
    "# Top 20 Non-Disaster related Keywords\n",
    "keywords_non_disaster_map = df.keyword.loc[df.target == 0].value_counts(\n",
    "    ascending=False\n",
    ")[:20]\n",
    "plotBarGraph(\n",
    "    keywords_non_disaster_map,\n",
    "    \"Frequency\",\n",
    "    \"Keywords\",\n",
    "    \"Top 20 non-disaster related keywords\",\n",
    ")"
   ]
  },
  {
   "cell_type": "code",
   "execution_count": 286,
   "metadata": {},
   "outputs": [
    {
     "name": "stdout",
     "output_type": "stream",
     "text": [
      "In the graphs(Top 20 disaster keywords and non-disaster keywords) above\n",
      " we see that disaster keywords are natural or artificial calamilites.\n",
      "While non-disaster keywords are too generalized keywords and not sufficient to describe a disaster.\n"
     ]
    },
    {
     "data": {
      "application/javascript": [
       "\n",
       "            setTimeout(function() {\n",
       "                var nbb_cell_id = 286;\n",
       "                var nbb_unformatted_code = \"print(\\n    \\\"In the graphs(Top 20 disaster keywords and non-disaster keywords) above\\\\n we see that disaster keywords are natural or artificial calamilites.\\\\nWhile non-disaster keywords are too generalized keywords and not sufficient to describe a disaster.\\\"\\n)\";\n",
       "                var nbb_formatted_code = \"print(\\n    \\\"In the graphs(Top 20 disaster keywords and non-disaster keywords) above\\\\n we see that disaster keywords are natural or artificial calamilites.\\\\nWhile non-disaster keywords are too generalized keywords and not sufficient to describe a disaster.\\\"\\n)\";\n",
       "                var nbb_cells = Jupyter.notebook.get_cells();\n",
       "                for (var i = 0; i < nbb_cells.length; ++i) {\n",
       "                    if (nbb_cells[i].input_prompt_number == nbb_cell_id) {\n",
       "                        if (nbb_cells[i].get_text() == nbb_unformatted_code) {\n",
       "                             nbb_cells[i].set_text(nbb_formatted_code);\n",
       "                        }\n",
       "                        break;\n",
       "                    }\n",
       "                }\n",
       "            }, 500);\n",
       "            "
      ],
      "text/plain": [
       "<IPython.core.display.Javascript object>"
      ]
     },
     "metadata": {},
     "output_type": "display_data"
    }
   ],
   "source": [
    "print(\n",
    "    \"In the graphs(Top 20 disaster keywords and non-disaster keywords) above\\n we see that disaster keywords are natural or artificial calamilites.\\nWhile non-disaster keywords are too generalized keywords and not sufficient to describe a disaster.\"\n",
    ")"
   ]
  },
  {
   "cell_type": "code",
   "execution_count": 287,
   "metadata": {},
   "outputs": [
    {
     "data": {
      "image/png": "[encoded data removed]",
      "text/plain": [
       "<Figure size 1152x360 with 1 Axes>"
      ]
     },
     "metadata": {},
     "output_type": "display_data"
    },
    {
     "data": {
      "application/javascript": [
       "\n",
       "            setTimeout(function() {\n",
       "                var nbb_cell_id = 287;\n",
       "                var nbb_unformatted_code = \"sns.countplot(x=\\\"target\\\", data=df)\\nplt.show()\";\n",
       "                var nbb_formatted_code = \"sns.countplot(x=\\\"target\\\", data=df)\\nplt.show()\";\n",
       "                var nbb_cells = Jupyter.notebook.get_cells();\n",
       "                for (var i = 0; i < nbb_cells.length; ++i) {\n",
       "                    if (nbb_cells[i].input_prompt_number == nbb_cell_id) {\n",
       "                        if (nbb_cells[i].get_text() == nbb_unformatted_code) {\n",
       "                             nbb_cells[i].set_text(nbb_formatted_code);\n",
       "                        }\n",
       "                        break;\n",
       "                    }\n",
       "                }\n",
       "            }, 500);\n",
       "            "
      ],
      "text/plain": [
       "<IPython.core.display.Javascript object>"
      ]
     },
     "metadata": {},
     "output_type": "display_data"
    }
   ],
   "source": [
    "sns.countplot(x=\"target\", data=df)\n",
    "plt.show()"
   ]
  },
  {
   "cell_type": "code",
   "execution_count": 288,
   "metadata": {},
   "outputs": [
    {
     "name": "stdout",
     "output_type": "stream",
     "text": [
      "False    7503\n",
      "True      110\n",
      "Name: text, dtype: int64\n"
     ]
    },
    {
     "data": {
      "image/png": "[encoded data removed]",
      "text/plain": [
       "<Figure size 1152x360 with 1 Axes>"
      ]
     },
     "metadata": {},
     "output_type": "display_data"
    },
    {
     "data": {
      "application/javascript": [
       "\n",
       "            setTimeout(function() {\n",
       "                var nbb_cell_id = 288;\n",
       "                var nbb_unformatted_code = \"# Removing Duplicate Text Data\\ntext_data_duplicate_map = df.text.duplicated().value_counts()\\nprint(text_data_duplicate_map)\\nplotBarGraph(\\n    text_data_duplicate_map,\\n    \\\"Duplicate\\\",\\n    \\\"Frequency\\\",\\n    \\\"Text Data Duplicate or Not\\\",\\n    switch_axis=True,\\n)\";\n",
       "                var nbb_formatted_code = \"# Removing Duplicate Text Data\\ntext_data_duplicate_map = df.text.duplicated().value_counts()\\nprint(text_data_duplicate_map)\\nplotBarGraph(\\n    text_data_duplicate_map,\\n    \\\"Duplicate\\\",\\n    \\\"Frequency\\\",\\n    \\\"Text Data Duplicate or Not\\\",\\n    switch_axis=True,\\n)\";\n",
       "                var nbb_cells = Jupyter.notebook.get_cells();\n",
       "                for (var i = 0; i < nbb_cells.length; ++i) {\n",
       "                    if (nbb_cells[i].input_prompt_number == nbb_cell_id) {\n",
       "                        if (nbb_cells[i].get_text() == nbb_unformatted_code) {\n",
       "                             nbb_cells[i].set_text(nbb_formatted_code);\n",
       "                        }\n",
       "                        break;\n",
       "                    }\n",
       "                }\n",
       "            }, 500);\n",
       "            "
      ],
      "text/plain": [
       "<IPython.core.display.Javascript object>"
      ]
     },
     "metadata": {},
     "output_type": "display_data"
    }
   ],
   "source": [
    "# Removing Duplicate Text Data\n",
    "text_data_duplicate_map = df.text.duplicated().value_counts()\n",
    "print(text_data_duplicate_map)\n",
    "plotBarGraph(\n",
    "    text_data_duplicate_map,\n",
    "    \"Duplicate\",\n",
    "    \"Frequency\",\n",
    "    \"Text Data Duplicate or Not\",\n",
    "    switch_axis=True,\n",
    ")"
   ]
  },
  {
   "cell_type": "code",
   "execution_count": 289,
   "metadata": {},
   "outputs": [
    {
     "name": "stdout",
     "output_type": "stream",
     "text": [
      "Original dataframe shape:  (7613, 5)\n",
      "Dropping duplicate rows and keeping original value shape:  (7503, 5)\n"
     ]
    },
    {
     "data": {
      "text/plain": [
       "False    7503\n",
       "Name: text, dtype: int64"
      ]
     },
     "execution_count": 289,
     "metadata": {},
     "output_type": "execute_result"
    },
    {
     "data": {
      "application/javascript": [
       "\n",
       "            setTimeout(function() {\n",
       "                var nbb_cell_id = 289;\n",
       "                var nbb_unformatted_code = \"print(\\\"Original dataframe shape: \\\", df.shape)\\ndf.drop_duplicates(subset=\\\"text\\\", keep=\\\"first\\\", inplace=True)\\nprint(\\\"Dropping duplicate rows and keeping original value shape: \\\", df.shape)\\ndf.text.duplicated().value_counts()\";\n",
       "                var nbb_formatted_code = \"print(\\\"Original dataframe shape: \\\", df.shape)\\ndf.drop_duplicates(subset=\\\"text\\\", keep=\\\"first\\\", inplace=True)\\nprint(\\\"Dropping duplicate rows and keeping original value shape: \\\", df.shape)\\ndf.text.duplicated().value_counts()\";\n",
       "                var nbb_cells = Jupyter.notebook.get_cells();\n",
       "                for (var i = 0; i < nbb_cells.length; ++i) {\n",
       "                    if (nbb_cells[i].input_prompt_number == nbb_cell_id) {\n",
       "                        if (nbb_cells[i].get_text() == nbb_unformatted_code) {\n",
       "                             nbb_cells[i].set_text(nbb_formatted_code);\n",
       "                        }\n",
       "                        break;\n",
       "                    }\n",
       "                }\n",
       "            }, 500);\n",
       "            "
      ],
      "text/plain": [
       "<IPython.core.display.Javascript object>"
      ]
     },
     "metadata": {},
     "output_type": "display_data"
    }
   ],
   "source": [
    "print(\"Original dataframe shape: \", df.shape)\n",
    "df.drop_duplicates(subset=\"text\", keep=\"first\", inplace=True)\n",
    "print(\"Dropping duplicate rows and keeping original value shape: \", df.shape)\n",
    "df.text.duplicated().value_counts()"
   ]
  },
  {
   "cell_type": "code",
   "execution_count": 290,
   "metadata": {},
   "outputs": [
    {
     "name": "stdout",
     "output_type": "stream",
     "text": [
      "1368    @POTUS Would you please explain what you are g...\n",
      "3041    #SCSeEstaPreparando Light mag. 4.4 earthquake ...\n",
      "4714    The sunset looked like an erupting volcano ......\n",
      "6771    Maybe that's what happens when a tornado meets...\n",
      "7126    Jetstar and Virgin forced to cancel Bali fligh...\n",
      "Name: text, dtype: object\n"
     ]
    },
    {
     "data": {
      "application/javascript": [
       "\n",
       "            setTimeout(function() {\n",
       "                var nbb_cell_id = 290;\n",
       "                var nbb_unformatted_code = \"def search_text_data(query, column=\\\"text\\\"):\\n    return df[df[column].str.contains(query)][column]\\n\\n\\nprint(search_text_data(\\\"volcano\\\")[:5])\";\n",
       "                var nbb_formatted_code = \"def search_text_data(query, column=\\\"text\\\"):\\n    return df[df[column].str.contains(query)][column]\\n\\n\\nprint(search_text_data(\\\"volcano\\\")[:5])\";\n",
       "                var nbb_cells = Jupyter.notebook.get_cells();\n",
       "                for (var i = 0; i < nbb_cells.length; ++i) {\n",
       "                    if (nbb_cells[i].input_prompt_number == nbb_cell_id) {\n",
       "                        if (nbb_cells[i].get_text() == nbb_unformatted_code) {\n",
       "                             nbb_cells[i].set_text(nbb_formatted_code);\n",
       "                        }\n",
       "                        break;\n",
       "                    }\n",
       "                }\n",
       "            }, 500);\n",
       "            "
      ],
      "text/plain": [
       "<IPython.core.display.Javascript object>"
      ]
     },
     "metadata": {},
     "output_type": "display_data"
    }
   ],
   "source": [
    "def search_text_data(query, column=\"text\"):\n",
    "    return df[df[column].str.contains(query)][column]\n",
    "\n",
    "\n",
    "print(search_text_data(\"volcano\")[:5])"
   ]
  },
  {
   "cell_type": "code",
   "execution_count": 291,
   "metadata": {},
   "outputs": [
    {
     "data": {
      "text/plain": [
       "0       our deeds are the reason of this #earthquake m...\n",
       "1                  forest fire near la ronge sask. canada\n",
       "2       all residents asked to 'shelter in place' are ...\n",
       "3       13,000 people receive #wildfires evacuation or...\n",
       "4       just got sent this photo from ruby #alaska as ...\n",
       "                              ...                        \n",
       "7604    #worldnews fallen powerlines on g:link tram: u...\n",
       "7605    on the flip side i'm at walmart and there is a...\n",
       "7606    suicide bomber kills 15 in saudi security site...\n",
       "7608    two giant cranes holding a bridge collapse int...\n",
       "7612    the latest: more homes razed by northern calif...\n",
       "Name: clean_text, Length: 7503, dtype: object"
      ]
     },
     "execution_count": 291,
     "metadata": {},
     "output_type": "execute_result"
    },
    {
     "data": {
      "application/javascript": [
       "\n",
       "            setTimeout(function() {\n",
       "                var nbb_cell_id = 291;\n",
       "                var nbb_unformatted_code = \"# Cleaning Text Data\\ndef lower_case_data(data=\\\"\\\"):\\n    data = data.lower()\\n    return data\\n\\n\\ndf[\\\"clean_text\\\"] = df[\\\"text\\\"].apply(lower_case_data)\\ndf[\\\"clean_text\\\"]\";\n",
       "                var nbb_formatted_code = \"# Cleaning Text Data\\ndef lower_case_data(data=\\\"\\\"):\\n    data = data.lower()\\n    return data\\n\\n\\ndf[\\\"clean_text\\\"] = df[\\\"text\\\"].apply(lower_case_data)\\ndf[\\\"clean_text\\\"]\";\n",
       "                var nbb_cells = Jupyter.notebook.get_cells();\n",
       "                for (var i = 0; i < nbb_cells.length; ++i) {\n",
       "                    if (nbb_cells[i].input_prompt_number == nbb_cell_id) {\n",
       "                        if (nbb_cells[i].get_text() == nbb_unformatted_code) {\n",
       "                             nbb_cells[i].set_text(nbb_formatted_code);\n",
       "                        }\n",
       "                        break;\n",
       "                    }\n",
       "                }\n",
       "            }, 500);\n",
       "            "
      ],
      "text/plain": [
       "<IPython.core.display.Javascript object>"
      ]
     },
     "metadata": {},
     "output_type": "display_data"
    }
   ],
   "source": [
    "# Cleaning Text Data\n",
    "def lower_case_data(data=\"\"):\n",
    "    data = data.lower()\n",
    "    return data\n",
    "\n",
    "\n",
    "df[\"clean_text\"] = df[\"text\"].apply(lower_case_data)\n",
    "df[\"clean_text\"]"
   ]
  },
  {
   "cell_type": "code",
   "execution_count": 292,
   "metadata": {},
   "outputs": [
    {
     "name": "stdout",
     "output_type": "stream",
     "text": [
      "(2171, 'how missing jet\\x89ûªs debris could have floated to rì©union - the new york times http://t.co/pnnunrnqja')\n",
      "(2172, 'rì©union debris is almost surely from flight 370 officials say - new york times http://t.co/gyqlaoz3l2')\n",
      "(2173, 'rì©union debris is almost surely from flight 370 officials say - new york times http://t.co/vfbw3nyo9l')\n",
      "(2179, '#love #food #fun malaysian prime minister najib razak confirmed that the aircraft debris found on rì©union isla...  http://t.co/fk1l4nozig')\n",
      "(3479, 'exploring new worlds: three moments of an explosion by china miì©ville http://t.co/otrwz1t9sp http://t.co/xvlkfcvfx5')\n",
      "(4390, \"@ladyfleur the example i used is even worse in that it's a cafì© trying to market itself w/hashtag hijacking.\")\n",
      "(7127, \"nside a dragon's belly. or an ice cave under\\na volcano in kamchatka | photography by\\nå©daniel korzhonov\\nhttp://t.co/8t36hwgoqd\")\n",
      "(7514, '#science now that a piece of wreckage from flight mh370 has been confirmed on rì©union island is it possible t...  http://t.co/uqva3dfbca')\n",
      "(7527, '#science now that a piece of wreckage from flight mh370 has been confirmed on rì©union island is it possible t...  http://t.co/qnvxj2palj')\n",
      "(7532, '#science now that a piece of wreckage from flight mh370 has been confirmed on rì©union island is it possible t...  http://t.co/z2vdgiyowf')\n"
     ]
    },
    {
     "data": {
      "application/javascript": [
       "\n",
       "            setTimeout(function() {\n",
       "                var nbb_cell_id = 292;\n",
       "                var nbb_unformatted_code = \"# Handle Emojis\\ndef sentences_with_emojis(id_texts):\\n    sentences = []\\n    indeces = id_texts[0]\\n    texts = id_texts[1]\\n    for index, sentence in zip(indeces, texts):\\n        has_emoji = bool(emoji.get_emoji_regexp().search(sentence))\\n        if has_emoji:\\n            sentences.append((index, sentence))\\n    if len(sentences) == 0:\\n        return \\\"Sentences are clean and don't have emojis!\\\"\\n    else:\\n        return sentences\\n\\n\\nfor emoji_tuple in sentences_with_emojis((df.index, df.clean_text)):\\n    print(emoji_tuple)\\n\\n# Source: https://stackoverflow.com/questions/33404752/removing-emojis-from-a-string-in-python\\ndef clean_emojis(text):\\n    allchars = [str for str in text]\\n    emoji_list = [c for c in allchars if c in emoji.UNICODE_EMOJI]\\n    clean_text = \\\" \\\".join(\\n        [str for str in text.split() if not any(i in str for i in emoji_list)]\\n    )\\n    return clean_text\";\n",
       "                var nbb_formatted_code = \"# Handle Emojis\\ndef sentences_with_emojis(id_texts):\\n    sentences = []\\n    indeces = id_texts[0]\\n    texts = id_texts[1]\\n    for index, sentence in zip(indeces, texts):\\n        has_emoji = bool(emoji.get_emoji_regexp().search(sentence))\\n        if has_emoji:\\n            sentences.append((index, sentence))\\n    if len(sentences) == 0:\\n        return \\\"Sentences are clean and don't have emojis!\\\"\\n    else:\\n        return sentences\\n\\n\\nfor emoji_tuple in sentences_with_emojis((df.index, df.clean_text)):\\n    print(emoji_tuple)\\n\\n# Source: https://stackoverflow.com/questions/33404752/removing-emojis-from-a-string-in-python\\ndef clean_emojis(text):\\n    allchars = [str for str in text]\\n    emoji_list = [c for c in allchars if c in emoji.UNICODE_EMOJI]\\n    clean_text = \\\" \\\".join(\\n        [str for str in text.split() if not any(i in str for i in emoji_list)]\\n    )\\n    return clean_text\";\n",
       "                var nbb_cells = Jupyter.notebook.get_cells();\n",
       "                for (var i = 0; i < nbb_cells.length; ++i) {\n",
       "                    if (nbb_cells[i].input_prompt_number == nbb_cell_id) {\n",
       "                        if (nbb_cells[i].get_text() == nbb_unformatted_code) {\n",
       "                             nbb_cells[i].set_text(nbb_formatted_code);\n",
       "                        }\n",
       "                        break;\n",
       "                    }\n",
       "                }\n",
       "            }, 500);\n",
       "            "
      ],
      "text/plain": [
       "<IPython.core.display.Javascript object>"
      ]
     },
     "metadata": {},
     "output_type": "display_data"
    }
   ],
   "source": [
    "# Handle Emojis\n",
    "def sentences_with_emojis(id_texts):\n",
    "    sentences = []\n",
    "    indeces = id_texts[0]\n",
    "    texts = id_texts[1]\n",
    "    for index, sentence in zip(indeces, texts):\n",
    "        has_emoji = bool(emoji.get_emoji_regexp().search(sentence))\n",
    "        if has_emoji:\n",
    "            sentences.append((index, sentence))\n",
    "    if len(sentences) == 0:\n",
    "        return \"Sentences are clean and don't have emojis!\"\n",
    "    else:\n",
    "        return sentences\n",
    "\n",
    "\n",
    "for emoji_tuple in sentences_with_emojis((df.index, df.clean_text)):\n",
    "    print(emoji_tuple)\n",
    "\n",
    "# Source: https://stackoverflow.com/questions/33404752/removing-emojis-from-a-string-in-python\n",
    "def clean_emojis(text):\n",
    "    allchars = [str for str in text]\n",
    "    emoji_list = [c for c in allchars if c in emoji.UNICODE_EMOJI]\n",
    "    clean_text = \" \".join(\n",
    "        [str for str in text.split() if not any(i in str for i in emoji_list)]\n",
    "    )\n",
    "    return clean_text"
   ]
  },
  {
   "cell_type": "code",
   "execution_count": 293,
   "metadata": {},
   "outputs": [
    {
     "data": {
      "text/plain": [
       "\"Sentences are clean and don't have emojis!\""
      ]
     },
     "execution_count": 293,
     "metadata": {},
     "output_type": "execute_result"
    },
    {
     "data": {
      "application/javascript": [
       "\n",
       "            setTimeout(function() {\n",
       "                var nbb_cell_id = 293;\n",
       "                var nbb_unformatted_code = \"# Clean Emojis\\ndf[\\\"clean_text\\\"] = df[\\\"clean_text\\\"].apply(clean_emojis)\\nsentences_with_emojis((df.index, df.clean_text))\";\n",
       "                var nbb_formatted_code = \"# Clean Emojis\\ndf[\\\"clean_text\\\"] = df[\\\"clean_text\\\"].apply(clean_emojis)\\nsentences_with_emojis((df.index, df.clean_text))\";\n",
       "                var nbb_cells = Jupyter.notebook.get_cells();\n",
       "                for (var i = 0; i < nbb_cells.length; ++i) {\n",
       "                    if (nbb_cells[i].input_prompt_number == nbb_cell_id) {\n",
       "                        if (nbb_cells[i].get_text() == nbb_unformatted_code) {\n",
       "                             nbb_cells[i].set_text(nbb_formatted_code);\n",
       "                        }\n",
       "                        break;\n",
       "                    }\n",
       "                }\n",
       "            }, 500);\n",
       "            "
      ],
      "text/plain": [
       "<IPython.core.display.Javascript object>"
      ]
     },
     "metadata": {},
     "output_type": "display_data"
    }
   ],
   "source": [
    "# Clean Emojis\n",
    "df[\"clean_text\"] = df[\"clean_text\"].apply(clean_emojis)\n",
    "sentences_with_emojis((df.index, df.clean_text))"
   ]
  },
  {
   "cell_type": "code",
   "execution_count": 294,
   "metadata": {},
   "outputs": [
    {
     "name": "stdout",
     "output_type": "stream",
     "text": [
      "There are 404 sentences with urls\n",
      "There are 0 sentences with urls\n"
     ]
    },
    {
     "data": {
      "application/javascript": [
       "\n",
       "            setTimeout(function() {\n",
       "                var nbb_cell_id = 294;\n",
       "                var nbb_unformatted_code = \"# Clean urls\\ndef clean_urls(text):\\n    text = re.sub(r\\\"https?://\\\\S+\\\", \\\"\\\", text)\\n    return text\\n\\n\\nprint(\\n    \\\"There are\\\",\\n    len(search_text_data(\\\"https\\\", \\\"clean_text\\\").tolist()),\\n    \\\"sentences with urls\\\",\\n)\\ndf[\\\"clean_text\\\"] = df[\\\"clean_text\\\"].apply(clean_urls)\\nprint(\\n    \\\"There are\\\",\\n    len(search_text_data(\\\"https\\\", \\\"clean_text\\\").tolist()),\\n    \\\"sentences with urls\\\",\\n)\";\n",
       "                var nbb_formatted_code = \"# Clean urls\\ndef clean_urls(text):\\n    text = re.sub(r\\\"https?://\\\\S+\\\", \\\"\\\", text)\\n    return text\\n\\n\\nprint(\\n    \\\"There are\\\",\\n    len(search_text_data(\\\"https\\\", \\\"clean_text\\\").tolist()),\\n    \\\"sentences with urls\\\",\\n)\\ndf[\\\"clean_text\\\"] = df[\\\"clean_text\\\"].apply(clean_urls)\\nprint(\\n    \\\"There are\\\",\\n    len(search_text_data(\\\"https\\\", \\\"clean_text\\\").tolist()),\\n    \\\"sentences with urls\\\",\\n)\";\n",
       "                var nbb_cells = Jupyter.notebook.get_cells();\n",
       "                for (var i = 0; i < nbb_cells.length; ++i) {\n",
       "                    if (nbb_cells[i].input_prompt_number == nbb_cell_id) {\n",
       "                        if (nbb_cells[i].get_text() == nbb_unformatted_code) {\n",
       "                             nbb_cells[i].set_text(nbb_formatted_code);\n",
       "                        }\n",
       "                        break;\n",
       "                    }\n",
       "                }\n",
       "            }, 500);\n",
       "            "
      ],
      "text/plain": [
       "<IPython.core.display.Javascript object>"
      ]
     },
     "metadata": {},
     "output_type": "display_data"
    }
   ],
   "source": [
    "# Clean urls\n",
    "def clean_urls(text):\n",
    "    text = re.sub(r\"https?://\\S+\", \"\", text)\n",
    "    return text\n",
    "\n",
    "\n",
    "print(\n",
    "    \"There are\",\n",
    "    len(search_text_data(\"https\", \"clean_text\").tolist()),\n",
    "    \"sentences with urls\",\n",
    ")\n",
    "df[\"clean_text\"] = df[\"clean_text\"].apply(clean_urls)\n",
    "print(\n",
    "    \"There are\",\n",
    "    len(search_text_data(\"https\", \"clean_text\").tolist()),\n",
    "    \"sentences with urls\",\n",
    ")"
   ]
  },
  {
   "cell_type": "code",
   "execution_count": 295,
   "metadata": {},
   "outputs": [
    {
     "data": {
      "application/javascript": [
       "\n",
       "            setTimeout(function() {\n",
       "                var nbb_cell_id = 295;\n",
       "                var nbb_unformatted_code = \"# Expand Contractions\\ndf[\\\"clean_text\\\"] = df[\\\"clean_text\\\"].apply(contractions.fix)\";\n",
       "                var nbb_formatted_code = \"# Expand Contractions\\ndf[\\\"clean_text\\\"] = df[\\\"clean_text\\\"].apply(contractions.fix)\";\n",
       "                var nbb_cells = Jupyter.notebook.get_cells();\n",
       "                for (var i = 0; i < nbb_cells.length; ++i) {\n",
       "                    if (nbb_cells[i].input_prompt_number == nbb_cell_id) {\n",
       "                        if (nbb_cells[i].get_text() == nbb_unformatted_code) {\n",
       "                             nbb_cells[i].set_text(nbb_formatted_code);\n",
       "                        }\n",
       "                        break;\n",
       "                    }\n",
       "                }\n",
       "            }, 500);\n",
       "            "
      ],
      "text/plain": [
       "<IPython.core.display.Javascript object>"
      ]
     },
     "metadata": {},
     "output_type": "display_data"
    }
   ],
   "source": [
    "# Expand Contractions\n",
    "df[\"clean_text\"] = df[\"clean_text\"].apply(contractions.fix)"
   ]
  },
  {
   "cell_type": "code",
   "execution_count": 296,
   "metadata": {},
   "outputs": [
    {
     "data": {
      "application/javascript": [
       "\n",
       "            setTimeout(function() {\n",
       "                var nbb_cell_id = 296;\n",
       "                var nbb_unformatted_code = \"# Remove all sorts of special characters and punctuations.\\ndef removePunc(text):\\n    sentence = []\\n    for s in text:\\n        if s == \\\" \\\":\\n            sentence.append(s)\\n        if s.isalnum():\\n            sentence.append(s)\\n    return \\\"\\\".join(sentence)\\n\\n\\ndf[\\\"clean_text\\\"] = df[\\\"clean_text\\\"].apply(removePunc)\";\n",
       "                var nbb_formatted_code = \"# Remove all sorts of special characters and punctuations.\\ndef removePunc(text):\\n    sentence = []\\n    for s in text:\\n        if s == \\\" \\\":\\n            sentence.append(s)\\n        if s.isalnum():\\n            sentence.append(s)\\n    return \\\"\\\".join(sentence)\\n\\n\\ndf[\\\"clean_text\\\"] = df[\\\"clean_text\\\"].apply(removePunc)\";\n",
       "                var nbb_cells = Jupyter.notebook.get_cells();\n",
       "                for (var i = 0; i < nbb_cells.length; ++i) {\n",
       "                    if (nbb_cells[i].input_prompt_number == nbb_cell_id) {\n",
       "                        if (nbb_cells[i].get_text() == nbb_unformatted_code) {\n",
       "                             nbb_cells[i].set_text(nbb_formatted_code);\n",
       "                        }\n",
       "                        break;\n",
       "                    }\n",
       "                }\n",
       "            }, 500);\n",
       "            "
      ],
      "text/plain": [
       "<IPython.core.display.Javascript object>"
      ]
     },
     "metadata": {},
     "output_type": "display_data"
    }
   ],
   "source": [
    "# Remove all sorts of special characters and punctuations.\n",
    "def removePunc(text):\n",
    "    sentence = []\n",
    "    for s in text:\n",
    "        if s == \" \":\n",
    "            sentence.append(s)\n",
    "        if s.isalnum():\n",
    "            sentence.append(s)\n",
    "    return \"\".join(sentence)\n",
    "\n",
    "\n",
    "df[\"clean_text\"] = df[\"clean_text\"].apply(removePunc)"
   ]
  },
  {
   "cell_type": "code",
   "execution_count": 297,
   "metadata": {},
   "outputs": [
    {
     "name": "stdout",
     "output_type": "stream",
     "text": [
      "No text containing html found!\n"
     ]
    },
    {
     "data": {
      "application/javascript": [
       "\n",
       "            setTimeout(function() {\n",
       "                var nbb_cell_id = 297;\n",
       "                var nbb_unformatted_code = \"# Check any html text in df.text (not cleaned yet) column\\ndef checkHtml(text):\\n    return bool(BeautifulSoup(text, \\\"html.parser\\\").find())\\n\\n\\nhtml_sentence_map = df[\\\"text\\\"].apply(checkHtml).tolist()\\nif not any(html_sentence_map):\\n    print(\\\"No text containing html found!\\\")\\nelse:\\n    print(\\\"There is some html text!\\\")\";\n",
       "                var nbb_formatted_code = \"# Check any html text in df.text (not cleaned yet) column\\ndef checkHtml(text):\\n    return bool(BeautifulSoup(text, \\\"html.parser\\\").find())\\n\\n\\nhtml_sentence_map = df[\\\"text\\\"].apply(checkHtml).tolist()\\nif not any(html_sentence_map):\\n    print(\\\"No text containing html found!\\\")\\nelse:\\n    print(\\\"There is some html text!\\\")\";\n",
       "                var nbb_cells = Jupyter.notebook.get_cells();\n",
       "                for (var i = 0; i < nbb_cells.length; ++i) {\n",
       "                    if (nbb_cells[i].input_prompt_number == nbb_cell_id) {\n",
       "                        if (nbb_cells[i].get_text() == nbb_unformatted_code) {\n",
       "                             nbb_cells[i].set_text(nbb_formatted_code);\n",
       "                        }\n",
       "                        break;\n",
       "                    }\n",
       "                }\n",
       "            }, 500);\n",
       "            "
      ],
      "text/plain": [
       "<IPython.core.display.Javascript object>"
      ]
     },
     "metadata": {},
     "output_type": "display_data"
    }
   ],
   "source": [
    "# Check any html text in df.text (not cleaned yet) column\n",
    "def checkHtml(text):\n",
    "    return bool(BeautifulSoup(text, \"html.parser\").find())\n",
    "\n",
    "\n",
    "html_sentence_map = df[\"text\"].apply(checkHtml).tolist()\n",
    "if not any(html_sentence_map):\n",
    "    print(\"No text containing html found!\")\n",
    "else:\n",
    "    print(\"There is some html text!\")"
   ]
  },
  {
   "cell_type": "code",
   "execution_count": 300,
   "metadata": {},
   "outputs": [
    {
     "name": "stdout",
     "output_type": "stream",
     "text": [
      "---------------Texts after removing accented characters---------------\n",
      "\n",
      "Before: how missing jetûªs debris could have floated to  the new york times \n",
      "After: how missing jetuas debris could have floated to  the new york times \n"
     ]
    },
    {
     "data": {
      "application/javascript": [
       "\n",
       "            setTimeout(function() {\n",
       "                var nbb_cell_id = 300;\n",
       "                var nbb_unformatted_code = \"# Remove accented text\\ndef remove_accented_chars(text):\\n    new_text = (\\n        unicodedata.normalize(\\\"NFKD\\\", text)\\n        .encode(\\\"ascii\\\", \\\"ignore\\\")\\n        .decode(\\\"utf-8\\\", \\\"ignore\\\")\\n    )\\n    return new_text\\n\\n\\nprint(\\\"---------------Texts after removing accented characters---------------\\\\n\\\")\\nprint(\\\"Before:\\\", df.clean_text[2171])\\ndf[\\\"clean_text\\\"] = df[\\\"clean_text\\\"].apply(remove_accented_chars)\\nprint(\\\"After:\\\", df.clean_text[2171])\";\n",
       "                var nbb_formatted_code = \"# Remove accented text\\ndef remove_accented_chars(text):\\n    new_text = (\\n        unicodedata.normalize(\\\"NFKD\\\", text)\\n        .encode(\\\"ascii\\\", \\\"ignore\\\")\\n        .decode(\\\"utf-8\\\", \\\"ignore\\\")\\n    )\\n    return new_text\\n\\n\\nprint(\\\"---------------Texts after removing accented characters---------------\\\\n\\\")\\nprint(\\\"Before:\\\", df.clean_text[2171])\\ndf[\\\"clean_text\\\"] = df[\\\"clean_text\\\"].apply(remove_accented_chars)\\nprint(\\\"After:\\\", df.clean_text[2171])\";\n",
       "                var nbb_cells = Jupyter.notebook.get_cells();\n",
       "                for (var i = 0; i < nbb_cells.length; ++i) {\n",
       "                    if (nbb_cells[i].input_prompt_number == nbb_cell_id) {\n",
       "                        if (nbb_cells[i].get_text() == nbb_unformatted_code) {\n",
       "                             nbb_cells[i].set_text(nbb_formatted_code);\n",
       "                        }\n",
       "                        break;\n",
       "                    }\n",
       "                }\n",
       "            }, 500);\n",
       "            "
      ],
      "text/plain": [
       "<IPython.core.display.Javascript object>"
      ]
     },
     "metadata": {},
     "output_type": "display_data"
    }
   ],
   "source": [
    "# Remove accented text\n",
    "def remove_accented_chars(text):\n",
    "    new_text = (\n",
    "        unicodedata.normalize(\"NFKD\", text)\n",
    "        .encode(\"ascii\", \"ignore\")\n",
    "        .decode(\"utf-8\", \"ignore\")\n",
    "    )\n",
    "    return new_text\n",
    "\n",
    "\n",
    "print(\"---------------Texts after removing accented characters---------------\\n\")\n",
    "print(\"Before:\", df.clean_text[2171])\n",
    "df[\"clean_text\"] = df[\"clean_text\"].apply(remove_accented_chars)\n",
    "print(\"After:\", df.clean_text[2171])"
   ]
  },
  {
   "cell_type": "code",
   "execution_count": null,
   "metadata": {},
   "outputs": [],
   "source": []
  }
 ],
 "metadata": {
  "kernelspec": {
   "display_name": "Python nlp",
   "language": "python",
   "name": "nlp"
  },
  "language_info": {
   "codemirror_mode": {
    "name": "ipython",
    "version": 3
   },
   "file_extension": ".py",
   "mimetype": "text/x-python",
   "name": "python",
   "nbconvert_exporter": "python",
   "pygments_lexer": "ipython3",
   "version": "3.9.1"
  }
 },
 "nbformat": 4,
 "nbformat_minor": 4
}
